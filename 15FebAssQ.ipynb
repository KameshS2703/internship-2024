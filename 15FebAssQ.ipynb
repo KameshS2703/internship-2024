{
 "cells": [
  {
   "cell_type": "markdown",
   "id": "2e80dcc1-a810-4b23-ac6c-0839ecddcb1d",
   "metadata": {},
   "source": [
    "### ANSWER TO QUESTION 1:"
   ]
  },
  {
   "cell_type": "markdown",
   "id": "72d07717-054d-4992-841f-24619ca2725f",
   "metadata": {},
   "source": [
    "#### What is multiprocessing in python? Why is it useful? "
   ]
  },
  {
   "cell_type": "markdown",
   "id": "54786cc3-96d0-4ced-afad-2c410aa183ba",
   "metadata": {},
   "source": [
    "#### Multiprocessing in Python refers to the ability to run multiple processes concurrently, leveraging multiple CPU cores or processors to improve overall performance and efficiency.\n",
    "\n",
    "#### Python's multiprocessing module allows you to:\n",
    "\n",
    "#### - Run multiple functions or tasks simultaneously\n",
    "#### - Utilize multiple CPU cores or processors\n",
    "#### - Improve performance and speed up computationally intensive tasks\n",
    "#### - Enhance responsiveness and throughput in applications\n",
    "\n",
    "#### Multiprocessing is useful when:\n",
    "\n",
    "#### - Dealing with CPU-bound tasks (e.g., scientific computing, data processing)\n",
    "#### - Needing to perform multiple tasks concurrently (e.g., web scraping, data fetching)\n",
    "#### - Wanting to improve application responsiveness and throughput\n",
    "#### - Working with large datasets or complex calculations\n"
   ]
  },
  {
   "cell_type": "markdown",
   "id": "7c8476a2-0abb-41af-9486-1ee7279c30b7",
   "metadata": {},
   "source": [
    "### ANSWER TO QUESTION 2:"
   ]
  },
  {
   "cell_type": "markdown",
   "id": "d7bb18eb-5763-434f-8e4c-e455da671b47",
   "metadata": {},
   "source": [
    "#### What are the differences between multiprocessing and multithreading"
   ]
  },
  {
   "cell_type": "markdown",
   "id": "94691668-b975-4336-88f2-15f89d841e82",
   "metadata": {},
   "source": [
    "#### Multiprocessing:\n",
    "\n",
    "#### - Utilizes multiple processes, each with its own memory space and resources\n",
    "#### - Each process runs on a separate CPU core or processor\n",
    "#### - Communication between processes is typically done using inter-process communication (IPC) mechanisms\n",
    "#### - Advantages: better performance, scalability, and fault tolerance\n",
    "#### - Disadvantages: higher overhead, more complex synchronization\n",
    "\n",
    "#### Multithreading:\n",
    "\n",
    "#### - Utilizes multiple threads within a single process\n",
    "#### - Threads share the same memory space and resources\n",
    "#### - Threads are lightweight and fast to create and switch between\n",
    "#### - Communication between threads is typically done using shared memory or synchronization primitives\n",
    "#### - Advantages: lower overhead, easier synchronization, and improved responsiveness\n",
    "#### - Disadvantages: limited scalability, potential performance bottlenecks\n",
    "\n"
   ]
  },
  {
   "cell_type": "markdown",
   "id": "c54f3c65-0c5a-4e95-9e56-39a485bcfc02",
   "metadata": {},
   "source": [
    "### ANSWER TO QUESTION 3:"
   ]
  },
  {
   "cell_type": "markdown",
   "id": "5ac89341-8536-4c98-b8be-b2e8c71301d8",
   "metadata": {},
   "source": [
    "#### Write a python code to create a process using the multiprocessing module."
   ]
  },
  {
   "cell_type": "code",
   "execution_count": 7,
   "id": "eaca5197-025d-4bdc-b91d-09efeb6f54b9",
   "metadata": {},
   "outputs": [
    {
     "name": "stdout",
     "output_type": "stream",
     "text": [
      "this is a parent class\n"
     ]
    }
   ],
   "source": [
    "import multiprocessing\n",
    "def child():\n",
    "    return \"this is a child class\"\n",
    "if __name__== \"__main__\":\n",
    "    m=multiprocessing.Process(target=child)\n",
    "    print(\"this is a parent class\")\n",
    "    m.start()\n",
    "    m.join()\n"
   ]
  },
  {
   "cell_type": "markdown",
   "id": "0d4597a7-ca03-4587-8d49-d0be42c2f392",
   "metadata": {},
   "source": [
    "### ANSWER TO QUESTION 4:"
   ]
  },
  {
   "cell_type": "markdown",
   "id": "d65e3ad0-cfca-4131-8106-c87b3fa07866",
   "metadata": {},
   "source": [
    "#### What is a multiprocessing pool in python? Why is it used?"
   ]
  },
  {
   "cell_type": "markdown",
   "id": "3004bc01-615c-4217-a9bb-7dc5b470580e",
   "metadata": {},
   "source": [
    "#### A Pool in multiprocessing is a way to create multiple simultaneous processes that operate on various tasks and serve different purposes, enabling parallel computation, concurrency, and efficient utilization of CPU cores, making it a powerful tool in Python for improving performance, speeding up tasks, and enhancing overall productivity."
   ]
  },
  {
   "cell_type": "markdown",
   "id": "8c69bce1-d17d-452a-b8ef-9cbb56f506b9",
   "metadata": {},
   "source": [
    "### ANSWER TO QUESTION 5:"
   ]
  },
  {
   "cell_type": "markdown",
   "id": "451bf616-83df-4b77-aafa-0cabeb486f28",
   "metadata": {},
   "source": [
    "####  How can we create a pool of worker processes in python using the multiprocessing module?"
   ]
  },
  {
   "cell_type": "code",
   "execution_count": null,
   "id": "a8068fd8-01f4-445f-99a4-c078ebc5d914",
   "metadata": {},
   "outputs": [],
   "source": [
    "import multiprocessing\n",
    "#worker1\n",
    "def squareroot(l):\n",
    "    return (l**(1/2))\n",
    "#worker2\n",
    "def cuberoot(l):\n",
    "    return (l**(1/3))\n",
    "\n",
    "if __name__=='__main__':\n",
    "    with multiprocessing.Pool(processes=5) as pool:\n",
    "\n",
    "        map1=pool.map(squareroot,[2,3,4,5,6])\n",
    "        map2=pool.map(cuberoot,[2,4,5,6,7,8])\n",
    "        print(map1)\n",
    "        print(map2)"
   ]
  },
  {
   "cell_type": "markdown",
   "id": "41ecf067-7c05-441b-bca5-6b994dcebc0a",
   "metadata": {},
   "source": [
    "### ANSWER TO QUESTION 6:"
   ]
  },
  {
   "cell_type": "markdown",
   "id": "b8784fda-bffe-4410-8a47-0901168be505",
   "metadata": {},
   "source": [
    "####  Write a python program to create 4 processes, each process should print a different number using the \n",
    "#### multiprocessing module in python"
   ]
  },
  {
   "cell_type": "code",
   "execution_count": null,
   "id": "fd511d6d-77da-485f-a3b3-94d25a8eca02",
   "metadata": {},
   "outputs": [],
   "source": [
    "import multiprocessing\n",
    "import os\n",
    "\n",
    "def print_number(number):\n",
    "    print(f\"Process {os.getpid()} is printing: {number}\")\n",
    "\n",
    "if __name__ == \"__main__\":\n",
    "    numbers = [1, 2, 3, 4]\n",
    "    processes = []\n",
    "\n",
    "    for number in numbers:\n",
    "        process = multiprocessing.Process(target=print_number, args=(number,))\n",
    "        processes.append(process)\n",
    "        process.start()\n",
    "\n",
    "    for process in processes:\n",
    "        process.join()\n"
   ]
  },
  {
   "cell_type": "code",
   "execution_count": null,
   "id": "8c105dc0-fd02-4eb1-b580-aab2f067ad57",
   "metadata": {},
   "outputs": [],
   "source": []
  }
 ],
 "metadata": {
  "kernelspec": {
   "display_name": "Python 3 (ipykernel)",
   "language": "python",
   "name": "python3"
  },
  "language_info": {
   "codemirror_mode": {
    "name": "ipython",
    "version": 3
   },
   "file_extension": ".py",
   "mimetype": "text/x-python",
   "name": "python",
   "nbconvert_exporter": "python",
   "pygments_lexer": "ipython3",
   "version": "3.11.7"
  }
 },
 "nbformat": 4,
 "nbformat_minor": 5
}

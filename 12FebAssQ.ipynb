{
 "cells": [
  {
   "cell_type": "markdown",
   "id": "b69ffd82-bbc0-48ef-ae74-d743d93b829f",
   "metadata": {},
   "source": [
    "### ANSWER TO QUESTION 1:"
   ]
  },
  {
   "cell_type": "markdown",
   "id": "39f7dda3-3477-4e06-95ec-c8d960787baf",
   "metadata": {},
   "source": [
    "####  What is an Exception in python? Write the difference between Exceptions and Syntax errors"
   ]
  },
  {
   "cell_type": "markdown",
   "id": "9c96135b-1697-4a9c-969e-202cc1f04768",
   "metadata": {},
   "source": [
    "#### Syntax Error: A mistake in the code's structure or writing, making it impossible for the computer to understand.\n",
    "\n",
    "#### Exception: An error that occurs while the code is running, even if the code is written correctly. It's like a unexpected problem that the code doesn't know how to handle.\n"
   ]
  },
  {
   "cell_type": "markdown",
   "id": "6817f85b-a46e-4e2d-af67-376fbfd37c57",
   "metadata": {},
   "source": [
    "### ANSWER TO QUESTION 2:"
   ]
  },
  {
   "cell_type": "markdown",
   "id": "36b1abc7-050e-49a7-9081-e6d6aca80355",
   "metadata": {},
   "source": [
    "#### What happens when an exception is not handled? Explain with an example"
   ]
  },
  {
   "cell_type": "markdown",
   "id": "adbfd1b4-0cf5-4508-a67a-822ee8f11e6c",
   "metadata": {},
   "source": [
    "##### when an exception is not handled it leads to crash in the program and program remains incomplete, aslo the operation after that line of execution cannot run as the program stops executing when it encounters exceptions"
   ]
  },
  {
   "cell_type": "code",
   "execution_count": 2,
   "id": "5c3cdca9-9ed4-4653-b5e5-df4f467ab6fc",
   "metadata": {},
   "outputs": [
    {
     "ename": "ZeroDivisionError",
     "evalue": "division by zero",
     "output_type": "error",
     "traceback": [
      "\u001b[1;31m---------------------------------------------------------------------------\u001b[0m",
      "\u001b[1;31mZeroDivisionError\u001b[0m                         Traceback (most recent call last)",
      "Cell \u001b[1;32mIn[2], line 4\u001b[0m\n\u001b[0;32m      2\u001b[0m a\u001b[38;5;241m=\u001b[39m\u001b[38;5;241m0\u001b[39m\n\u001b[0;32m      3\u001b[0m b\u001b[38;5;241m=\u001b[39m\u001b[38;5;241m10\u001b[39m\n\u001b[1;32m----> 4\u001b[0m c\u001b[38;5;241m=\u001b[39mb\u001b[38;5;241m/\u001b[39ma\n\u001b[0;32m      5\u001b[0m \u001b[38;5;28mprint\u001b[39m(c)\n\u001b[0;32m      6\u001b[0m \u001b[38;5;28mprint\u001b[39m(\u001b[38;5;124m\"\u001b[39m\u001b[38;5;124mhello\u001b[39m\u001b[38;5;124m\"\u001b[39m)\n",
      "\u001b[1;31mZeroDivisionError\u001b[0m: division by zero"
     ]
    }
   ],
   "source": [
    "#example:\n",
    "a=0\n",
    "b=10\n",
    "c=b/a\n",
    "print(c)\n",
    "print(\"hello\")\n",
    "# here to note it the line after performing zerodivision error is not executed as the program stops executing"
   ]
  },
  {
   "cell_type": "markdown",
   "id": "61a1e4c5-6044-4134-83c1-be1d99230a58",
   "metadata": {},
   "source": [
    "### ANSWER TO QUESTION 3:"
   ]
  },
  {
   "cell_type": "markdown",
   "id": "b395d86c-2d64-4344-ad98-78cfcc3e2e59",
   "metadata": {},
   "source": [
    "#### Which Python statements are used to catch and handle exceptions? Explain with an example"
   ]
  },
  {
   "cell_type": "markdown",
   "id": "c0a01452-79e5-4416-b8f5-d341bc94cc77",
   "metadata": {},
   "source": [
    "#### Try And Except python Statements are used to catch and handle exception.\n",
    "#### Try - used to catch exception\n",
    "#### Exception - used to handle exceptions"
   ]
  },
  {
   "cell_type": "code",
   "execution_count": 6,
   "id": "18b38bac-c47d-4ae8-b17e-afea03e79674",
   "metadata": {},
   "outputs": [
    {
     "name": "stdout",
     "output_type": "stream",
     "text": [
      "impossible\n"
     ]
    }
   ],
   "source": [
    "#example:\n",
    "a=0\n",
    "b=10\n",
    "try:\n",
    "    c=b/a\n",
    "    print(c)\n",
    "except ZeroDivisionError:\n",
    "    print(\"impossible\")"
   ]
  },
  {
   "cell_type": "markdown",
   "id": "400d130c-d33b-4caa-9b32-87b8913b9a17",
   "metadata": {},
   "source": [
    "### ANSWER TO QUESTION 4:"
   ]
  },
  {
   "cell_type": "markdown",
   "id": "fbf260d4-b282-4ca7-a7a0-867112474af2",
   "metadata": {},
   "source": [
    "#### Explain with an example:\n",
    "#### 1.try and else: we feel some line of code might have error in that acase we sue try block if try is successful, else block is executed\n",
    "#### 2.finally\n",
    "#### 3.raise "
   ]
  },
  {
   "cell_type": "markdown",
   "id": "bba08fbb-7d78-404b-a08d-56d7e8191e6f",
   "metadata": {},
   "source": [
    "#### 1.try and else:"
   ]
  },
  {
   "cell_type": "code",
   "execution_count": 8,
   "id": "eaabf8ea-ca68-4fc6-9d7e-d56292911db5",
   "metadata": {},
   "outputs": [
    {
     "name": "stdout",
     "output_type": "stream",
     "text": [
      "2.5 division successful\n"
     ]
    }
   ],
   "source": [
    "a=5\n",
    "b=2\n",
    "try:\n",
    "    c=a/b\n",
    "except ZeroDivisionError:\n",
    "    print(\"cannot divide\")\n",
    "else:\n",
    "    print(c,\"division successful\")"
   ]
  },
  {
   "cell_type": "markdown",
   "id": "f7962166-6e67-48f0-97a6-cbb9c621f87a",
   "metadata": {},
   "source": [
    "#### 2.Finally"
   ]
  },
  {
   "cell_type": "code",
   "execution_count": 9,
   "id": "9971a06b-8947-4257-86ba-279fc32f0f8d",
   "metadata": {},
   "outputs": [
    {
     "name": "stdout",
     "output_type": "stream",
     "text": [
      "cannot divide\n",
      "program complete\n"
     ]
    }
   ],
   "source": [
    "a=5\n",
    "b=0\n",
    "try:\n",
    "    c=a/b\n",
    "except ZeroDivisionError:\n",
    "    print(\"cannot divide\")\n",
    "finally:\n",
    "    print(\"program complete\")"
   ]
  },
  {
   "cell_type": "markdown",
   "id": "ccfcf4fd-8405-47bd-98e2-771225cbf3e9",
   "metadata": {},
   "source": [
    "#### 3.Raise:"
   ]
  },
  {
   "cell_type": "code",
   "execution_count": 18,
   "id": "e8f1cedf-4c7b-41ac-b09e-5c092cebf6d0",
   "metadata": {},
   "outputs": [
    {
     "name": "stdin",
     "output_type": "stream",
     "text": [
      "enter your income 0\n"
     ]
    },
    {
     "name": "stdout",
     "output_type": "stream",
     "text": [
      "income can't be zero\n"
     ]
    }
   ],
   "source": [
    "class raisecase(Exception):\n",
    "    def __init(self,name,age,income):\n",
    "        self.name=name\n",
    "        self.age=age\n",
    "        self.income=income\n",
    "    \n",
    "def validateincome(income):\n",
    "    if income<0 or income>20000000:\n",
    "        raise raisecase(\"too high or low salary\")\n",
    "    elif income==0:\n",
    "        raise raisecase(\"income can't be zero\")\n",
    "    else:\n",
    "        print(\"income is correct\")\n",
    "try:\n",
    "    income=int(input(\"enter your income\"))\n",
    "    validateincome(income)\n",
    "except raisecase as f:\n",
    "    print(f)\n",
    "    "
   ]
  },
  {
   "cell_type": "markdown",
   "id": "47d50ccf-ab7b-46c1-b85e-7382aa853f22",
   "metadata": {},
   "source": [
    "### ANSWERTO QUESTION 5:"
   ]
  },
  {
   "cell_type": "markdown",
   "id": "79286d60-68be-4ea6-b313-4dc0988f8204",
   "metadata": {},
   "source": [
    "#### What are Custom Exceptions in python? Why do we need Custom Exceptions? Explain with an example."
   ]
  },
  {
   "cell_type": "markdown",
   "id": "4d6c3e03-806d-4546-9ad3-7249914903b4",
   "metadata": {},
   "source": [
    "##### Custom exceptions in Python are user-defined exceptions that allow you to create specific exceptions for your code, making it easier to handle errors and edge cases.\n",
    "\n",
    "##### You need custom exceptions when:\n",
    "\n",
    "##### - You want to provide more context or information about an error\n",
    "##### - You want to differentiate between different types of errors\n",
    "##### - You want to handle errors in a specific way\n",
    "\n"
   ]
  },
  {
   "cell_type": "code",
   "execution_count": 3,
   "id": "e3020b68-a89e-4d20-b174-680ae304bd7d",
   "metadata": {},
   "outputs": [
    {
     "name": "stdin",
     "output_type": "stream",
     "text": [
      "enter the username: kamesh\n"
     ]
    },
    {
     "name": "stdout",
     "output_type": "stream",
     "text": [
      "the username length should be gretare 10 characters\n"
     ]
    }
   ],
   "source": [
    "class usernamevalidation(Exception):\n",
    "    def __init(self,username):\n",
    "        self.username=username\n",
    "\n",
    "def validateusername(username):\n",
    "    if len(username)<=10:\n",
    "        raise usernamevalidation(\"the username length should be gretare 10 characters\")\n",
    "    elif len(username)<=0:\n",
    "        raise usernamevalidation(\"the usrname length should not be negative\")\n",
    "\n",
    "try:\n",
    "    inp=input(\"enter the username:\")\n",
    "    validateusername(inp)\n",
    "except usernamevalidation as s:\n",
    "    print(s)\n",
    "        "
   ]
  },
  {
   "cell_type": "markdown",
   "id": "50c6ca7b-6cde-48b8-8d03-103d5ab62796",
   "metadata": {},
   "source": [
    "### ANSWER TO QUESTION 6:"
   ]
  },
  {
   "cell_type": "markdown",
   "id": "e82a4156-67e8-43f1-90bb-e9871ee61df8",
   "metadata": {},
   "source": [
    "#### Create a custom exception class. Use this class to handle an exception."
   ]
  },
  {
   "cell_type": "code",
   "execution_count": null,
   "id": "e8ba1bc7-99ba-4fcb-b17a-f37d91b24b1b",
   "metadata": {},
   "outputs": [],
   "source": [
    "class usernamevalidation(Exception):\n",
    "    def __init(self,username):\n",
    "        self.username=username\n",
    "\n",
    "def validateusername(username):\n",
    "    if len(username)<=10:\n",
    "        raise usernamevalidation(\"the username length should be greater 10 characters\")\n",
    "    elif len(username)<=0:\n",
    "        raise usernamevalidation(\"the usrname length should not be negative\")\n",
    "\n",
    "try:\n",
    "    inp=input(\"enter the username:\")\n",
    "    validateusername(inp)\n",
    "except usernamevalidation as s:\n",
    "    print(s)\n",
    "        "
   ]
  }
 ],
 "metadata": {
  "kernelspec": {
   "display_name": "Python 3 (ipykernel)",
   "language": "python",
   "name": "python3"
  },
  "language_info": {
   "codemirror_mode": {
    "name": "ipython",
    "version": 3
   },
   "file_extension": ".py",
   "mimetype": "text/x-python",
   "name": "python",
   "nbconvert_exporter": "python",
   "pygments_lexer": "ipython3",
   "version": "3.11.7"
  }
 },
 "nbformat": 4,
 "nbformat_minor": 5
}

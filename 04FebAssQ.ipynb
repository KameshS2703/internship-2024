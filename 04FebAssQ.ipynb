{
 "cells": [
  {
   "cell_type": "markdown",
   "id": "24af22a0-979c-40fc-94ac-d50fe85deec4",
   "metadata": {},
   "source": [
    "### ANSWER TO QUESTION 1:"
   ]
  },
  {
   "cell_type": "markdown",
   "id": "bc40c051-a120-4563-968c-aa713141be3e",
   "metadata": {},
   "source": [
    "#### Create a python program to sort the given list of tuples based on integer value using a \n",
    "#### lambda function. \n",
    "#### [('Sachin Tendulkar', 34357), ('Ricky Ponting', 27483), ('Jack Kallis', 25534), ('Virat Kohli', 24936)]"
   ]
  },
  {
   "cell_type": "code",
   "execution_count": 3,
   "id": "0c99d940-a890-4e84-9716-022aa4cd0f6f",
   "metadata": {},
   "outputs": [
    {
     "name": "stdout",
     "output_type": "stream",
     "text": [
      "[('Virat Kohli', 24936), ('Jack Kallis', 25534), ('Ricky Ponting', 27483), ('Sachin Tendulkar', 34357)]\n"
     ]
    }
   ],
   "source": [
    "l=[('Sachin Tendulkar', 34357), ('Ricky Ponting', 27483), ('Jack Kallis', 25534), ('Virat Kohli', 24936)]\n",
    "k=sorted(l,key=lambda x:x[1])\n",
    "print(k)\n",
    "    "
   ]
  },
  {
   "cell_type": "markdown",
   "id": "3469506c-00e1-4f90-81b0-df971e245f2d",
   "metadata": {},
   "source": [
    "### ANSWER TO QUESTION 2:"
   ]
  },
  {
   "cell_type": "markdown",
   "id": "e1f1095a-3c45-4f35-8b25-e9d1970d8fc1",
   "metadata": {},
   "source": [
    "#### Write a Python Program to find the squares of all the numbers in the given list of integers using \n",
    "#### lambda and map functions.\n",
    "#### [1, 2, 3, 4, 5, 6, 7, 8, 9, 10]"
   ]
  },
  {
   "cell_type": "code",
   "execution_count": 10,
   "id": "7a69aa6a-695b-47ef-bb68-c1b755a2370d",
   "metadata": {},
   "outputs": [
    {
     "name": "stdout",
     "output_type": "stream",
     "text": [
      "[1, 4, 9, 16, 25, 36, 49, 64, 81, 100]\n"
     ]
    }
   ],
   "source": [
    "l=[1, 2, 3, 4, 5, 6, 7, 8, 9, 10]\n",
    "a=list(map(lambda x:x**2,l))\n",
    "print(a)\n"
   ]
  },
  {
   "cell_type": "markdown",
   "id": "eeb777f0-b48b-4189-b2c9-87d484f25bab",
   "metadata": {},
   "source": [
    "### ANSWER TO QUESTION 3:"
   ]
  },
  {
   "cell_type": "markdown",
   "id": "11e61e56-8994-41f1-aac8-abd1cd8e78e0",
   "metadata": {},
   "source": [
    "#### Write a python program to convert the given list of integers into a tuple of strings. Use map and \n",
    "#### lambda functions\n",
    "#### Given String: [1, 2, 3, 4, 5, 6, 7, 8, 9, 10]\n",
    "#### Expected output: ('1', '2', '3', '4', '5', '6', '7', '8', '9', '10'"
   ]
  },
  {
   "cell_type": "code",
   "execution_count": 22,
   "id": "6508d942-2099-4ee7-bd37-7483c990762a",
   "metadata": {},
   "outputs": [
    {
     "data": {
      "text/plain": [
       "('1', '2', '3', '4', '5', '6', '7', '8', '9', '10')"
      ]
     },
     "execution_count": 22,
     "metadata": {},
     "output_type": "execute_result"
    }
   ],
   "source": [
    "l=[1, 2, 3, 4, 5, 6, 7, 8, 9, 10]\n",
    "tuple(map(lambda x:str(x),l))"
   ]
  },
  {
   "cell_type": "markdown",
   "id": "f417fa7e-6006-4162-80ed-1ba6fb2eab77",
   "metadata": {},
   "source": [
    "### ANSWER TO QUESTION 4:"
   ]
  },
  {
   "cell_type": "markdown",
   "id": "b657ebcf-6f8a-463a-bc11-ad384383a420",
   "metadata": {},
   "source": [
    "#### Write a python program using reduce function to compute the product of a list containing numbers \n",
    "#### from 1 to 25."
   ]
  },
  {
   "cell_type": "code",
   "execution_count": 23,
   "id": "49799fb6-5e65-48f5-934b-988d04628867",
   "metadata": {},
   "outputs": [
    {
     "data": {
      "text/plain": [
       "15511210043330985984000000"
      ]
     },
     "execution_count": 23,
     "metadata": {},
     "output_type": "execute_result"
    }
   ],
   "source": [
    "from functools import reduce\n",
    "l=[1,2,3,4,5,6,7,8,9,10,11,12,13,14,15,16,17,18,19,20,21,22,23,24,25]\n",
    "reduce(lambda x,y:x*y,l)"
   ]
  },
  {
   "cell_type": "markdown",
   "id": "1d2d5564-eaf3-46db-a613-3aff51dc6fe1",
   "metadata": {},
   "source": [
    "### ANSWER TO QUESTION 5:\n",
    "#### Write a python program to filter the numbers in a given list that are divisible by 2 and 3 using the \n",
    "#### filter function.\n",
    "#### [2, 3, 6, 9, 27, 60, 90, 120, 55, 46]"
   ]
  },
  {
   "cell_type": "code",
   "execution_count": 28,
   "id": "046298a1-24ea-4939-a287-8c40816a6a99",
   "metadata": {},
   "outputs": [
    {
     "data": {
      "text/plain": [
       "[6, 60, 90, 120]"
      ]
     },
     "execution_count": 28,
     "metadata": {},
     "output_type": "execute_result"
    }
   ],
   "source": [
    "l=[2, 3, 6, 9, 27, 60, 90, 120, 55, 46]\n",
    "list(filter(lambda x: x%2==0 and x%3==0,l))"
   ]
  },
  {
   "cell_type": "markdown",
   "id": "c7f75654-ad5c-4494-9c31-e7b25331981e",
   "metadata": {},
   "source": [
    "### answer to question 6:\n",
    "####  Write a python program to find palindromes in the given list of strings using lambda and filter \n",
    "#### function.\n",
    "#### ['python', 'php', 'aba', 'radar', 'level']"
   ]
  },
  {
   "cell_type": "code",
   "execution_count": null,
   "id": "fd2fd3b4-6c2e-42c8-87c8-8ba02194966f",
   "metadata": {},
   "outputs": [],
   "source": [
    "l=['python', 'php', 'aba', 'radar', 'level']\n",
    "list(filter(lambda x: x if x==x[::"
   ]
  }
 ],
 "metadata": {
  "kernelspec": {
   "display_name": "Python 3 (ipykernel)",
   "language": "python",
   "name": "python3"
  },
  "language_info": {
   "codemirror_mode": {
    "name": "ipython",
    "version": 3
   },
   "file_extension": ".py",
   "mimetype": "text/x-python",
   "name": "python",
   "nbconvert_exporter": "python",
   "pygments_lexer": "ipython3",
   "version": "3.11.7"
  }
 },
 "nbformat": 4,
 "nbformat_minor": 5
}

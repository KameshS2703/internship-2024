{
 "cells": [
  {
   "cell_type": "markdown",
   "id": "20ac4b62-64ee-41f4-8b6b-aa8424c9053f",
   "metadata": {},
   "source": [
    "### ANSWER TO QUESTION 1:"
   ]
  },
  {
   "cell_type": "markdown",
   "id": "42f4cec5-0b96-4ec3-8660-285f47fcbc32",
   "metadata": {},
   "source": [
    "#### Create a Pandas Series that contains the following data: 4, 8, 15, 16, 23, and 42. Then, print the series."
   ]
  },
  {
   "cell_type": "code",
   "execution_count": 3,
   "id": "7e1160bf-ea0d-4feb-820c-5062a6fb4983",
   "metadata": {},
   "outputs": [
    {
     "name": "stdout",
     "output_type": "stream",
     "text": [
      "0     4\n",
      "1     8\n",
      "2    15\n",
      "3    16\n",
      "4    23\n",
      "5    42\n",
      "dtype: int64\n"
     ]
    }
   ],
   "source": [
    "import pandas as pd\n",
    "a=pd.Series([4,8,15,16,23,42])\n",
    "print(a)"
   ]
  },
  {
   "cell_type": "markdown",
   "id": "d2855645-a483-46bb-a0a9-89b5027e7d0f",
   "metadata": {},
   "source": [
    "### ANSWER TO QUESTION 2:"
   ]
  },
  {
   "cell_type": "markdown",
   "id": "86f7887c-9f7d-4e57-8682-9f256de7d0a8",
   "metadata": {},
   "source": [
    "####  Create a variable of list type containing 10 elements in it, and apply pandas.Series function on the variable print it."
   ]
  },
  {
   "cell_type": "code",
   "execution_count": 4,
   "id": "c3dddea6-6fbf-45c2-a2e8-da165b886d1f",
   "metadata": {},
   "outputs": [
    {
     "name": "stdout",
     "output_type": "stream",
     "text": [
      "0     1\n",
      "1     2\n",
      "2     3\n",
      "3     4\n",
      "4     5\n",
      "5     6\n",
      "6     7\n",
      "7     8\n",
      "8     9\n",
      "9    10\n",
      "dtype: int64\n"
     ]
    }
   ],
   "source": [
    "l=[1,2,3,4,5,6,7,8,9,10]\n",
    "print(pd.Series(l))"
   ]
  },
  {
   "cell_type": "markdown",
   "id": "e4c7a39c-1791-4f9d-98f5-92db59cc3210",
   "metadata": {},
   "source": [
    "### ANSWER TO QUESTION 3:"
   ]
  },
  {
   "cell_type": "markdown",
   "id": "6bcc80b9-bb80-452c-b720-07f59921ec42",
   "metadata": {},
   "source": [
    "#### Create a Pandas DataFrame that contains the following data:"
   ]
  },
  {
   "cell_type": "code",
   "execution_count": 11,
   "id": "5a2842be-cda6-4e0f-979e-8ffa6b79f30f",
   "metadata": {},
   "outputs": [
    {
     "name": "stdout",
     "output_type": "stream",
     "text": [
      "      Name  Age  Gender\n",
      "0    alice   23  Female\n",
      "1      bob   30    Male\n",
      "2  charlie   27  Female\n"
     ]
    }
   ],
   "source": [
    "data={\"Name\":['alice','bob','charlie'],\"Age\":[23,30,27],\"Gender\":[\"Female\",\"Male\",\"Female\"]}\n",
    "df1=pd.DataFrame(data,columns=[\"Name\",\"Age\",\"Gender\"])\n",
    "print(df1)"
   ]
  },
  {
   "cell_type": "markdown",
   "id": "f84b6f1a-5e83-4de4-b81e-b528440a19dd",
   "metadata": {},
   "source": [
    "### ANSWER TO QUESTION 3:\n"
   ]
  },
  {
   "cell_type": "markdown",
   "id": "e8508760-7af3-4f21-9307-367e64b851b3",
   "metadata": {},
   "source": [
    "####  What is ‘DataFrame’ in pandas and how is it different from pandas.series? Explain with an example."
   ]
  },
  {
   "cell_type": "markdown",
   "id": "9bdc726f-33b6-4609-974a-738d029320cb",
   "metadata": {},
   "source": [
    "##### A DataFrame in pandas is a two-dimensional data structure that stores data in rows and columns.\n",
    "##### A DataFrame can be thought of as a collection of Series, where each Series represents a column of data.\n",
    "\n",
    "##### A Series, on the other hand, is a one-dimensional data structure that stores a single column of data."
   ]
  },
  {
   "cell_type": "code",
   "execution_count": 13,
   "id": "126b4a62-869a-4c08-9200-6d12dd8ecb5e",
   "metadata": {},
   "outputs": [
    {
     "name": "stdout",
     "output_type": "stream",
     "text": [
      "      Name  Age  Gender\n",
      "0    Alice   23  Female\n",
      "1      Bob   30    Male\n",
      "2  Charlie   27  Female\n"
     ]
    }
   ],
   "source": [
    "#PANDAS\n",
    "import pandas as pd\n",
    "data = {'Name': ['Alice', 'Bob', 'Charlie'], \n",
    "        'Age': [23, 30, 27], \n",
    "        'Gender': ['Female', 'Male', 'Female']}\n",
    "df = pd.DataFrame(data)\n",
    "print(df)\n"
   ]
  },
  {
   "cell_type": "code",
   "execution_count": 14,
   "id": "5415185d-b7a6-4cf7-8973-ba5d23371bed",
   "metadata": {},
   "outputs": [
    {
     "name": "stdout",
     "output_type": "stream",
     "text": [
      "0      Alice\n",
      "1        Bob\n",
      "2    Charlie\n",
      "Name: Name, dtype: object\n"
     ]
    }
   ],
   "source": [
    "#SERIES\n",
    "name_series = df['Name']\n",
    "print(name_series)\n",
    "\n"
   ]
  },
  {
   "cell_type": "markdown",
   "id": "6d3ca1ae-5248-49f0-9df2-3f20e98f9fc9",
   "metadata": {},
   "source": [
    "### ANSWER TO QUESTION 4:"
   ]
  },
  {
   "cell_type": "markdown",
   "id": "45ddfcfd-9e55-4007-95ed-3843bdbae5f5",
   "metadata": {},
   "source": [
    "#### What are some common functions you can use to manipulate data in a Pandas DataFrame? Can \n",
    "#### you give an example of when you might use one of these functions?"
   ]
  },
  {
   "cell_type": "markdown",
   "id": "f2e56169-2bec-41e3-8a4a-4d2fc77b378f",
   "metadata": {},
   "source": [
    "##### read_csv(): Reads a CSV file into a DataFrame.\n",
    "\n",
    "##### to_csv(): Writes a DataFrame to a CSV file.\n",
    "\n",
    "##### read_html(): Reads HTML tables into a DataFrame.\n",
    "\n",
    "##### describe(): Generates descriptive statistics for a DataFrame.\n",
    "\n",
    "##### loc[]: Accesses a group of rows and columns by label.\n",
    "\n",
    "##### iloc[]: Accesses a group of rows and columns by integer position.\n",
    "\n",
    "##### drop(): Removes rows or columns from a DataFrame.\n",
    "\n",
    "##### append(): Adds rows to a DataFrame.\n",
    "\n",
    "##### dropna(): Removes rows with missing values.\n",
    "\n",
    "##### fillna(): Replaces missing values with a specified value.\n",
    "\n",
    "##### groupby(): Groups data by one or more columns and performs operations on each group.\n",
    "\n",
    "##### T: Transposes a DataFrame (swaps rows and columns).\n",
    "\n"
   ]
  },
  {
   "cell_type": "markdown",
   "id": "69a4d565-5f66-48bd-92f9-0cdaa3caca78",
   "metadata": {},
   "source": [
    "### ANSWER TO QUESTION 5:"
   ]
  },
  {
   "cell_type": "markdown",
   "id": "ac32c9b6-94c7-45cf-be33-8e3a0c5276bf",
   "metadata": {},
   "source": [
    "#### Which of the following is mutable in nature Series, DataFrame, Panel?"
   ]
  },
  {
   "cell_type": "markdown",
   "id": "b137b7bf-265b-4633-bc93-400ffb1d1fc4",
   "metadata": {},
   "source": [
    "##### Dataframe Is Mutable In Nature"
   ]
  },
  {
   "cell_type": "markdown",
   "id": "73bf24d6-f401-4968-a4b1-f706c9a1bb14",
   "metadata": {},
   "source": [
    "### ANSWER TO QUESTION 6:"
   ]
  },
  {
   "cell_type": "markdown",
   "id": "b8ecef59-80bf-4841-bf1c-fee19648c6c1",
   "metadata": {},
   "source": [
    "#### Create a DataFrame using multiple Series. Explain with an example."
   ]
  },
  {
   "cell_type": "code",
   "execution_count": 28,
   "id": "9923ff05-4f71-45a4-afb6-9e06bab9599b",
   "metadata": {},
   "outputs": [],
   "source": [
    "a=pd.Series([1,2,3],name=\"A\")\n",
    "b=pd.Series([4,5,6],name='B')\n",
    "c=pd.Series([7,8,9],name='C')"
   ]
  },
  {
   "cell_type": "code",
   "execution_count": 33,
   "id": "af3f386c-ca66-44c0-a958-8d1a6e5e6ba8",
   "metadata": {},
   "outputs": [],
   "source": [
    "d=pd.DataFrame({a.name:a,b.name:b,c.name:c})"
   ]
  },
  {
   "cell_type": "code",
   "execution_count": 34,
   "id": "5821534d-6393-418f-a1c2-915ba0690011",
   "metadata": {},
   "outputs": [
    {
     "data": {
      "text/html": [
       "<div>\n",
       "<style scoped>\n",
       "    .dataframe tbody tr th:only-of-type {\n",
       "        vertical-align: middle;\n",
       "    }\n",
       "\n",
       "    .dataframe tbody tr th {\n",
       "        vertical-align: top;\n",
       "    }\n",
       "\n",
       "    .dataframe thead th {\n",
       "        text-align: right;\n",
       "    }\n",
       "</style>\n",
       "<table border=\"1\" class=\"dataframe\">\n",
       "  <thead>\n",
       "    <tr style=\"text-align: right;\">\n",
       "      <th></th>\n",
       "      <th>A</th>\n",
       "      <th>B</th>\n",
       "      <th>C</th>\n",
       "    </tr>\n",
       "  </thead>\n",
       "  <tbody>\n",
       "    <tr>\n",
       "      <th>0</th>\n",
       "      <td>1</td>\n",
       "      <td>4</td>\n",
       "      <td>7</td>\n",
       "    </tr>\n",
       "    <tr>\n",
       "      <th>1</th>\n",
       "      <td>2</td>\n",
       "      <td>5</td>\n",
       "      <td>8</td>\n",
       "    </tr>\n",
       "    <tr>\n",
       "      <th>2</th>\n",
       "      <td>3</td>\n",
       "      <td>6</td>\n",
       "      <td>9</td>\n",
       "    </tr>\n",
       "  </tbody>\n",
       "</table>\n",
       "</div>"
      ],
      "text/plain": [
       "   A  B  C\n",
       "0  1  4  7\n",
       "1  2  5  8\n",
       "2  3  6  9"
      ]
     },
     "execution_count": 34,
     "metadata": {},
     "output_type": "execute_result"
    }
   ],
   "source": [
    "d"
   ]
  },
  {
   "cell_type": "code",
   "execution_count": null,
   "id": "010d7db8-b90d-475a-912f-b6a2776bf9d3",
   "metadata": {},
   "outputs": [],
   "source": []
  }
 ],
 "metadata": {
  "kernelspec": {
   "display_name": "Python 3 (ipykernel)",
   "language": "python",
   "name": "python3"
  },
  "language_info": {
   "codemirror_mode": {
    "name": "ipython",
    "version": 3
   },
   "file_extension": ".py",
   "mimetype": "text/x-python",
   "name": "python",
   "nbconvert_exporter": "python",
   "pygments_lexer": "ipython3",
   "version": "3.11.7"
  }
 },
 "nbformat": 4,
 "nbformat_minor": 5
}

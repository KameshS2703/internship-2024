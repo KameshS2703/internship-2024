{
 "cells": [
  {
   "cell_type": "markdown",
   "id": "c569da67-09ba-4281-a8e0-6fa00622a9ea",
   "metadata": {},
   "source": [
    "### QUESTION 1:"
   ]
  },
  {
   "cell_type": "markdown",
   "id": "9d4721c1-0fcf-46d1-b1f4-8fb98075a92d",
   "metadata": {},
   "source": [
    "#### What are the three measures of central tendency?"
   ]
  },
  {
   "cell_type": "markdown",
   "id": "bd117947-6173-4dc6-9078-824cbbda861f",
   "metadata": {},
   "source": [
    "#### 1.Mean 2. Median 3.Mode"
   ]
  },
  {
   "cell_type": "markdown",
   "id": "9e9d5c41-94d9-4d64-8cd5-b76b7403e508",
   "metadata": {},
   "source": [
    "### QUESTION 2:"
   ]
  },
  {
   "cell_type": "markdown",
   "id": "f9d85505-752b-4a8b-8ab4-d4aea703a724",
   "metadata": {},
   "source": [
    "#### What is the difference between the mean, median, and mode? How are they used to measure the \n",
    "#### central tendency of a dataset?"
   ]
  },
  {
   "cell_type": "markdown",
   "id": "f2412ae6-607e-476e-bc56-af8bf82cb4a7",
   "metadata": {},
   "source": [
    "#### 1. Mean: The average value of a dataset, calculated by summing all values and dividing by the number of values.\n",
    "\n",
    "#### 2. Median: The middle value of a dataset when it's sorted in order. If there's an even number of values, the median is the average of the two middle values.\n",
    "\n",
    "#### 3. Mode: The value that appears most frequently in a dataset.\n",
    "\n",
    "#### Key differences:\n",
    "\n",
    "#### - The mean is sensitive to extreme values (outliers), while the median is more resistant to their impact.\n",
    "#### - The median is a better representation of the dataset's central location when there are outliers.\n",
    "#### - The mode can be useful in certain contexts, like categorical data or data with multiple peaks.\n"
   ]
  },
  {
   "cell_type": "markdown",
   "id": "27879e73-13aa-419a-949e-1ba2b5f966c2",
   "metadata": {},
   "source": [
    "### QUESTION 3:"
   ]
  },
  {
   "cell_type": "markdown",
   "id": "8416f9a9-6112-4d7c-9e16-93cd5e19d9b2",
   "metadata": {},
   "source": [
    "#### Measure the three measures of central tendency for the given height data:\n",
    "#### [178,177,176,177,178.2,178,175,179,180,175,178.9,176.2,177,172.5,178,176.5]"
   ]
  },
  {
   "cell_type": "code",
   "execution_count": 2,
   "id": "c2241cdd-aa3d-4178-aec8-6a73bbaf5945",
   "metadata": {},
   "outputs": [
    {
     "name": "stdout",
     "output_type": "stream",
     "text": [
      "the Mean is : 177.01875 the median is: 177.0 The Mode is: ModeResult(mode=177.0, count=3)\n"
     ]
    }
   ],
   "source": [
    "import numpy as np\n",
    "from scipy import stats\n",
    "li=[178,177,176,177,178.2,178,175,179,180,175,178.9,176.2,177,172.5,178,176.5]\n",
    "a=np.mean(li)\n",
    "b=np.median(li)\n",
    "c=stats.mode(li)\n",
    "print(\"the Mean is :\",a,\"the median is:\",b,\"The Mode is:\",c)"
   ]
  },
  {
   "cell_type": "markdown",
   "id": "f6b0f014-bb85-4509-8cf8-a8ce8a62c85d",
   "metadata": {},
   "source": [
    "### QUESTION 4:"
   ]
  },
  {
   "cell_type": "markdown",
   "id": "242ee220-ad2a-4ae8-8fe2-caa4e37da981",
   "metadata": {},
   "source": [
    "#### Find the standard deviation for the given data:\n",
    "#### [178,177,176,177,178.2,178,175,179,180,175,178.9,176.2,177,172.5,178,176.5]"
   ]
  },
  {
   "cell_type": "code",
   "execution_count": 3,
   "id": "b861fafb-245a-4516-bce5-20a66536b32c",
   "metadata": {},
   "outputs": [
    {
     "name": "stdout",
     "output_type": "stream",
     "text": [
      "1.7885814036548633\n"
     ]
    }
   ],
   "source": [
    "import numpy as np\n",
    "lis=[178,177,176,177,178.2,178,175,179,180,175,178.9,176.2,177,172.5,178,176.5]\n",
    "e=np.std(lis)\n",
    "print(e)"
   ]
  },
  {
   "cell_type": "markdown",
   "id": "bdf4c8af-40f7-48cf-bbd2-61d2330dd8b5",
   "metadata": {},
   "source": [
    "### QUESTION 5:"
   ]
  },
  {
   "cell_type": "markdown",
   "id": "4bcb7791-172f-4f4c-bf08-2fe26b45ae79",
   "metadata": {},
   "source": [
    "####  How are measures of dispersion such as range, variance, and standard deviation used to describe \n",
    "#### the spread of a dataset? Provide an example"
   ]
  },
  {
   "cell_type": "markdown",
   "id": "20c207d7-06fa-4441-b091-b3518ef6a002",
   "metadata": {},
   "source": [
    "#### 1. Range: The simplest measure of dispersion, calculated by subtracting the smallest value from the largest value.\n",
    "\n",
    "#### Example: A dataset of exam scores has a range of 80 (highest score) - 40 (lowest score) = 40.\n",
    "\n",
    "#### 1. Variance: The average of the squared differences from the mean. It measures the spread of the data from the mean.\n",
    "\n",
    "#### Example: A dataset of exam scores has a variance of 16. This means that, on average, each score is 4 units away from the mean (square root of 16).\n",
    "\n",
    "#### 1. Standard Deviation (SD): The square root of the variance. It's a more interpretable measure of spread, as it's in the same units as the data.\n",
    "\n",
    "#### Example: Using the same dataset, the SD is √16 = 4. This means that most scores (about 68%) are within 4 units of the mean.\n"
   ]
  },
  {
   "cell_type": "markdown",
   "id": "a09e38d6-0daa-4932-9856-f85307daacf9",
   "metadata": {},
   "source": [
    "### QUESTION 6:"
   ]
  },
  {
   "cell_type": "markdown",
   "id": "eeac48c6-1a5a-4084-9d01-d6ab517bf4a3",
   "metadata": {},
   "source": [
    "####  What is a Venn diagram?"
   ]
  },
  {
   "cell_type": "markdown",
   "id": "b8c3d4fe-bf55-4ee0-977a-ed0c2cdb6f5c",
   "metadata": {},
   "source": [
    "#### A Venn diagram is a visual representation of sets and their relationships, using overlapping circles or shapes to illustrate sets, unions, intersections, and differences, facilitating logical reasoning, problem-solving, and data visualization."
   ]
  },
  {
   "cell_type": "markdown",
   "id": "80a2b6f1-13a1-47a7-8b96-00015b5c30d9",
   "metadata": {},
   "source": [
    "### QUESTION 7:"
   ]
  },
  {
   "cell_type": "markdown",
   "id": "df1d9528-c462-49d9-8cec-f9e2653c10eb",
   "metadata": {},
   "source": [
    "#### For the two given sets A = (2,3,4,5,6,7) & B = (0,2,6,8,10). Find:\n",
    "#### (i) \tA (INTERSECTION) B\n",
    "#### (ii)\tA (UNION) B"
   ]
  },
  {
   "cell_type": "markdown",
   "id": "af46fe2f-1a7f-4a76-b3f9-5f7debd24ded",
   "metadata": {},
   "source": [
    "##### (i) (2,6)\n",
    "##### (ii) (0,2,3,4,5,6,7,8,10)"
   ]
  },
  {
   "cell_type": "markdown",
   "id": "b7c2ba01-3e28-4067-9b4b-26c12c3eef29",
   "metadata": {},
   "source": [
    "### QUESTION 8:"
   ]
  },
  {
   "cell_type": "markdown",
   "id": "b1f103a1-06f8-477a-a844-d8983b7ca840",
   "metadata": {},
   "source": [
    "####  What do you understand about skewness in data?"
   ]
  },
  {
   "cell_type": "markdown",
   "id": "c6116625-f82a-407e-bf1d-37f7ace43963",
   "metadata": {},
   "source": [
    "#### skewness is simply a bend that occurs away from the measure of central tendency. "
   ]
  },
  {
   "cell_type": "markdown",
   "id": "b48889e2-c12b-4090-ad1f-213559567375",
   "metadata": {},
   "source": [
    "### QUESTION 9:"
   ]
  },
  {
   "cell_type": "markdown",
   "id": "29d6438f-746f-4ab2-863a-cea62711283e",
   "metadata": {},
   "source": [
    "#### If a data is right skewed then what will be the position of median with respect to mean?"
   ]
  },
  {
   "cell_type": "markdown",
   "id": "b060fc6e-2111-49b7-a0d3-e37ac9f19689",
   "metadata": {},
   "source": [
    "##### The relationship between Mean,Median,Mode in a Right Skewed Distribution is : Mean>Median>Mode. \n",
    "##### From this relationship we can say that with respect to mea the postion of median would beon the right side i.e., median greater than mean"
   ]
  },
  {
   "cell_type": "markdown",
   "id": "150a76a1-9bcd-4acf-b828-41b04a0760ab",
   "metadata": {},
   "source": [
    "### QUESTION 10:"
   ]
  },
  {
   "cell_type": "markdown",
   "id": "81014eaf-3465-4b2e-9a81-e67025dfa6d4",
   "metadata": {},
   "source": [
    "#### Explain the difference between covariance and correlation. How are these measures used in statistical analysis"
   ]
  },
  {
   "cell_type": "markdown",
   "id": "244158f1-bd2f-4c1e-b01a-46c13f439aa8",
   "metadata": {},
   "source": [
    "#### Covariance:\n",
    "\n",
    "#### - Measures the extent to which two variables change together\n",
    "#### - Calculated as the average of the product of the deviations of two variables from their means\n",
    "#### - Units are in terms of the product of the units of the two variables\n",
    "#### - Can be positive, negative, or zero\n",
    "#### - Sensitive to the scale of the variables\n",
    "\n",
    "#### Correlation:\n",
    "\n",
    "#### - Measures the strength and direction of the linear relationship between two variables\n",
    "#### - Calculated as the covariance divided by the product of the standard deviations of the two variables\n",
    "#### - Ranges from -1 (perfect negative correlation) to 1 (perfect positive correlation)\n",
    "#### - Unitless\n",
    "#### - Less sensitive to the scale of the variables\n",
    "\n",
    "#### In statistical analysis, covariance and correlation are used:\n",
    "\n",
    "#### - To identify relationships between variables\n",
    "#### - To predict continuous outcomes (regression analysis)\n",
    "#### - To identify factors that contribute to variability in a variable\n",
    "#### - To validate assumptions of statistical tests\n",
    "\n",
    "\n"
   ]
  },
  {
   "cell_type": "markdown",
   "id": "e1f4244f-a83b-4116-b82a-2173298754c6",
   "metadata": {},
   "source": [
    "### QUESTION 11:"
   ]
  },
  {
   "cell_type": "markdown",
   "id": "07a12fb6-b075-4d1f-8227-4181abb1a78a",
   "metadata": {},
   "source": [
    "####  What is the formula for calculating the sample mean? Provide an example calculation for a dataset"
   ]
  },
  {
   "cell_type": "markdown",
   "id": "055930d4-1adf-4e2f-ae24-f916cf5182ad",
   "metadata": {},
   "source": [
    "#### Sample Mean Calculation : x̄ = (Σx) / n\n"
   ]
  },
  {
   "cell_type": "code",
   "execution_count": 4,
   "id": "291a8d3f-50d9-43e0-b0d3-35a1d8b20ea4",
   "metadata": {},
   "outputs": [
    {
     "data": {
      "text/plain": [
       "62.5"
      ]
     },
     "execution_count": 4,
     "metadata": {},
     "output_type": "execute_result"
    }
   ],
   "source": [
    "import numpy as np\n",
    "l=[2,3,4,5,6,7,8,910,11,2,3,4,5,56,6,7,78,8]\n",
    "np.mean(l)"
   ]
  },
  {
   "cell_type": "markdown",
   "id": "aa27c57f-ea65-4d30-a7a4-584b64e3c247",
   "metadata": {},
   "source": [
    "### QUESTION 12:"
   ]
  },
  {
   "cell_type": "markdown",
   "id": "f9c57910-a85f-4312-809f-3fe80e9b69dd",
   "metadata": {},
   "source": [
    "#### For a normal distribution data what is the relationship between its measure of central tendency?"
   ]
  },
  {
   "cell_type": "markdown",
   "id": "b6dd14c0-1383-47fa-9811-177509862182",
   "metadata": {},
   "source": [
    "##### The relationship between these measures is:\n",
    "\n",
    "##### μ = M = Mo\n",
    "\n",
    "##### In other words, the mean, median, and mode are all equal in a normal distribution."
   ]
  },
  {
   "cell_type": "markdown",
   "id": "0244e493-706c-449c-af6d-c297ae7e62be",
   "metadata": {},
   "source": [
    "### QUESTION 13:"
   ]
  },
  {
   "cell_type": "markdown",
   "id": "e036dd3e-f562-412f-bf2b-f44c8b16fc8d",
   "metadata": {},
   "source": [
    "#### How is covariance different from correlation?"
   ]
  },
  {
   "cell_type": "markdown",
   "id": "16c26e32-e58c-4a76-9e4d-a8b4295f0375",
   "metadata": {},
   "source": [
    "##### Covariance measures the extent to which two variables change together, with units in terms of the product of the units of the two variables, and can be positive, negative, or zero. In contrast, correlation measures the strength and direction of the linear relationship between two variables, is unitless, and ranges from -1 (perfect negative correlation) to 1 (perfect positive correlation)."
   ]
  },
  {
   "cell_type": "markdown",
   "id": "add26554-e594-4c5e-9aab-2cb26f2ae6d6",
   "metadata": {},
   "source": [
    "### QUESTION 14:"
   ]
  },
  {
   "cell_type": "markdown",
   "id": "392a9ff4-7e49-40f9-8dc4-a35f5d4472e0",
   "metadata": {},
   "source": [
    "#### . How do outliers affect measures of central tendency and dispersion? Provide an example."
   ]
  },
  {
   "cell_type": "markdown",
   "id": "67ba8f03-f6dc-40aa-9a52-3a4e7816b08a",
   "metadata": {},
   "source": [
    "#### Suppose we have the following dataset: 1, 2, 3, 4, 5, 6, 7, 8, 9, 10, 100\n",
    "\n",
    "#### The mean is 10.9, but if we remove the outlier (100), the mean becomes 5.5.\n",
    "\n",
    "#### The median is 5.5, which remains unchanged even if we remove the outlier.\n",
    "\n",
    "#### The range is 99 (100 - 1), but if we remove the outlier, the range becomes 9 (10 - 1).\n",
    "\n",
    "#### The SD is 23.6, but if we remove the outlier, the SD becomes 2.9.\n"
   ]
  },
  {
   "cell_type": "code",
   "execution_count": null,
   "id": "81a6c7f8-64bc-4699-84b1-b3ae085a3f63",
   "metadata": {},
   "outputs": [],
   "source": []
  }
 ],
 "metadata": {
  "kernelspec": {
   "display_name": "Python 3 (ipykernel)",
   "language": "python",
   "name": "python3"
  },
  "language_info": {
   "codemirror_mode": {
    "name": "ipython",
    "version": 3
   },
   "file_extension": ".py",
   "mimetype": "text/x-python",
   "name": "python",
   "nbconvert_exporter": "python",
   "pygments_lexer": "ipython3",
   "version": "3.11.7"
  }
 },
 "nbformat": 4,
 "nbformat_minor": 5
}

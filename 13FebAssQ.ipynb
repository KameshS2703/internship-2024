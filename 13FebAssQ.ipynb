{
 "cells": [
  {
   "cell_type": "markdown",
   "id": "273e051a-f7e2-404d-8510-34c8cd61453b",
   "metadata": {},
   "source": [
    "### ANSWER TO QUESTION 1:"
   ]
  },
  {
   "cell_type": "markdown",
   "id": "d36b44a7-33f8-4d19-a0af-360e7c9dc644",
   "metadata": {},
   "source": [
    "#### What are Custom Exceptions in python? Why do we need Custom Exceptions? Explain with an example."
   ]
  },
  {
   "cell_type": "markdown",
   "id": "d19b553b-672e-4e5d-ace4-971fc259ddf4",
   "metadata": {},
   "source": [
    "### Custom exceptions in Python are user-defined exceptions that allow you to create specific exceptions for your code, making it easier to handle errors and edge cases.\n",
    "\n",
    "#### We need custom exceptions when:\n",
    "\n",
    "####  - When We want to provide more context or information about an error\n",
    "####  - When We want to differentiate between different types of errors\n",
    "####  - When We want to handle errors in a specific way\n",
    "\n",
    "\n"
   ]
  },
  {
   "cell_type": "code",
   "execution_count": 2,
   "id": "351d04b6-f243-47a7-9ee8-707c98a06d0a",
   "metadata": {},
   "outputs": [
    {
     "name": "stdin",
     "output_type": "stream",
     "text": [
      "enter the username: yoo\n"
     ]
    },
    {
     "name": "stdout",
     "output_type": "stream",
     "text": [
      "the username length should be greater 10 characters\n"
     ]
    }
   ],
   "source": [
    "#Example:\n",
    "\n",
    "class usernamevalidation(Exception):\n",
    "    def __init(self,username):\n",
    "        self.username=username\n",
    "\n",
    "def validateusername(username):\n",
    "    if len(username)<=10:\n",
    "        raise usernamevalidation(\"the username length should be greater 10 characters\")\n",
    "    elif len(username)<=0:\n",
    "        raise usernamevalidation(\"the usrname length should not be negative\")\n",
    "\n",
    "try:\n",
    "    inp=input(\"enter the username:\")\n",
    "    validateusername(inp)\n",
    "except usernamevalidation as s:\n",
    "    print(s)\n",
    "        "
   ]
  },
  {
   "cell_type": "markdown",
   "id": "33107ae6-fde1-4a3a-9b1c-14c4003e7a3c",
   "metadata": {},
   "source": [
    "### ANSWER TO QUESTION 2:"
   ]
  },
  {
   "cell_type": "markdown",
   "id": "0dac7920-e49e-4d1d-9c62-f3988dce70d2",
   "metadata": {},
   "source": [
    "#### . Write a python program to print Python Exception Hierarchy."
   ]
  },
  {
   "cell_type": "code",
   "execution_count": 7,
   "id": "8a720e0d-8143-4b20-b133-32ed4d93c32c",
   "metadata": {},
   "outputs": [
    {
     "name": "stdout",
     "output_type": "stream",
     "text": [
      "BaseException\n",
      "    BaseExceptionGroup\n",
      "        ExceptionGroup\n",
      "    Exception\n",
      "        ArithmeticError\n",
      "            FloatingPointError\n",
      "            OverflowError\n",
      "            ZeroDivisionError\n",
      "                DivisionByZero\n",
      "                DivisionUndefined\n",
      "            DecimalException\n",
      "                Clamped\n",
      "                Rounded\n",
      "                    Underflow\n",
      "                    Overflow\n",
      "                Inexact\n",
      "                    Underflow\n",
      "                    Overflow\n",
      "                Subnormal\n",
      "                    Underflow\n",
      "                DivisionByZero\n",
      "                FloatOperation\n",
      "                InvalidOperation\n",
      "                    ConversionSyntax\n",
      "                    DivisionImpossible\n",
      "                    DivisionUndefined\n",
      "                    InvalidContext\n",
      "        AssertionError\n",
      "        AttributeError\n",
      "            FrozenInstanceError\n",
      "        BufferError\n",
      "        EOFError\n",
      "            IncompleteReadError\n",
      "        ImportError\n",
      "            ModuleNotFoundError\n",
      "                PackageNotFoundError\n",
      "            ZipImportError\n",
      "        LookupError\n",
      "            IndexError\n",
      "            KeyError\n",
      "                NoSuchKernel\n",
      "                UnknownBackend\n",
      "            CodecRegistryError\n",
      "        MemoryError\n",
      "        NameError\n",
      "            UnboundLocalError\n",
      "        OSError\n",
      "            BlockingIOError\n",
      "            ChildProcessError\n",
      "            ConnectionError\n",
      "                BrokenPipeError\n",
      "                ConnectionAbortedError\n",
      "                ConnectionRefusedError\n",
      "                ConnectionResetError\n",
      "                    RemoteDisconnected\n",
      "            FileExistsError\n",
      "            FileNotFoundError\n",
      "            InterruptedError\n",
      "                InterruptedSystemCall\n",
      "            IsADirectoryError\n",
      "            NotADirectoryError\n",
      "            PermissionError\n",
      "            ProcessLookupError\n",
      "            TimeoutError\n",
      "            UnsupportedOperation\n",
      "            herror\n",
      "            gaierror\n",
      "            SSLError\n",
      "                SSLCertVerificationError\n",
      "                SSLZeroReturnError\n",
      "                SSLWantWriteError\n",
      "                SSLWantReadError\n",
      "                SSLSyscallError\n",
      "                SSLEOFError\n",
      "            Error\n",
      "                SameFileError\n",
      "            SpecialFileError\n",
      "            ExecError\n",
      "            ReadError\n",
      "            URLError\n",
      "                HTTPError\n",
      "                ContentTooShortError\n",
      "            BadGzipFile\n",
      "        ReferenceError\n",
      "        RuntimeError\n",
      "            NotImplementedError\n",
      "                ZMQVersionError\n",
      "                StdinNotImplementedError\n",
      "            RecursionError\n",
      "            _DeadlockError\n",
      "            BrokenBarrierError\n",
      "            BrokenExecutor\n",
      "                BrokenThreadPool\n",
      "            SendfileNotAvailableError\n",
      "            BrokenBarrierError\n",
      "            ExtractionError\n",
      "            VariableError\n",
      "        StopAsyncIteration\n",
      "        StopIteration\n",
      "        SyntaxError\n",
      "            IndentationError\n",
      "                TabError\n",
      "        SystemError\n",
      "            CodecRegistryError\n",
      "        TypeError\n",
      "            FloatOperation\n",
      "            MultipartConversionError\n",
      "        ValueError\n",
      "            UnicodeError\n",
      "                UnicodeDecodeError\n",
      "                UnicodeEncodeError\n",
      "                UnicodeTranslateError\n",
      "            UnsupportedOperation\n",
      "            JSONDecodeError\n",
      "            SSLCertVerificationError\n",
      "            Error\n",
      "            AddressValueError\n",
      "            NetmaskValueError\n",
      "            UnsupportedDigestmodError\n",
      "            IllegalMonthError\n",
      "            IllegalWeekdayError\n",
      "            ParserError\n",
      "            MessageDefect\n",
      "                NoBoundaryInMultipartDefect\n",
      "                StartBoundaryNotFoundDefect\n",
      "                CloseBoundaryNotFoundDefect\n",
      "                FirstHeaderLineIsContinuationDefect\n",
      "                MisplacedEnvelopeHeaderDefect\n",
      "                MissingHeaderBodySeparatorDefect\n",
      "                MultipartInvariantViolationDefect\n",
      "                InvalidMultipartContentTransferEncodingDefect\n",
      "                UndecodableBytesDefect\n",
      "                InvalidBase64PaddingDefect\n",
      "                InvalidBase64CharactersDefect\n",
      "                InvalidBase64LengthDefect\n",
      "                HeaderDefect\n",
      "                    InvalidHeaderDefect\n",
      "                    HeaderMissingRequiredValue\n",
      "                    NonPrintableDefect\n",
      "                    ObsoleteHeaderDefect\n",
      "                    NonASCIILocalPartDefect\n",
      "                    InvalidDateDefect\n",
      "            ClassNotFound\n",
      "            ClipboardEmpty\n",
      "            MacroToEdit\n",
      "            InvalidFileException\n",
      "            UnequalIterablesError\n",
      "            InvalidVersion\n",
      "            ELFInvalid\n",
      "            InvalidWheelFilename\n",
      "            InvalidSdistFilename\n",
      "            InvalidSpecifier\n",
      "            InvalidMarker\n",
      "            UndefinedComparison\n",
      "            UndefinedEnvironmentName\n",
      "            InvalidRequirement\n",
      "                RequirementParseError\n",
      "            InvalidVersion\n",
      "        Warning\n",
      "            BytesWarning\n",
      "            DeprecationWarning\n",
      "                ProvisionalWarning\n",
      "            EncodingWarning\n",
      "            FutureWarning\n",
      "                ProvisionalCompleterWarning\n",
      "            ImportWarning\n",
      "            PendingDeprecationWarning\n",
      "            ResourceWarning\n",
      "            RuntimeWarning\n",
      "                ProactorSelectorThreadWarning\n",
      "                UnknownTimezoneWarning\n",
      "                PEP440Warning\n",
      "            SyntaxWarning\n",
      "            UnicodeWarning\n",
      "            UserWarning\n",
      "                GetPassWarning\n",
      "                FormatterWarning\n",
      "            DeprecatedTzFormatWarning\n",
      "            PkgResourcesDeprecationWarning\n",
      "        ExceptionGroup\n",
      "        _OptionError\n",
      "        _Error\n",
      "        error\n",
      "        Error\n",
      "        SubprocessError\n",
      "            CalledProcessError\n",
      "            TimeoutExpired\n",
      "        ZMQBaseError\n",
      "            ZMQError\n",
      "                ContextTerminated\n",
      "                Again\n",
      "                InterruptedSystemCall\n",
      "            ZMQBindError\n",
      "            NotDone\n",
      "        Error\n",
      "        error\n",
      "        PickleError\n",
      "            PicklingError\n",
      "            UnpicklingError\n",
      "        _Stop\n",
      "        TokenError\n",
      "        StopTokenizing\n",
      "        Error\n",
      "            CancelledError\n",
      "            InvalidStateError\n",
      "        _GiveupOnSendfile\n",
      "        Incomplete\n",
      "        ClassFoundException\n",
      "        EndOfBlock\n",
      "        InvalidStateError\n",
      "        LimitOverrunError\n",
      "        QueueEmpty\n",
      "        QueueFull\n",
      "        error\n",
      "        LZMAError\n",
      "        RegistryError\n",
      "        _GiveupOnFastCopy\n",
      "        TraitError\n",
      "        Empty\n",
      "        Full\n",
      "        ArgumentError\n",
      "        COMError\n",
      "        ReturnValueIgnoredError\n",
      "        ArgumentError\n",
      "        ArgumentTypeError\n",
      "        ConfigError\n",
      "            ConfigLoaderError\n",
      "                ArgumentError\n",
      "            ConfigFileNotFound\n",
      "        ConfigurableError\n",
      "            MultipleInstanceError\n",
      "        ApplicationError\n",
      "        InvalidPortNumber\n",
      "        NoIPAddresses\n",
      "        Error\n",
      "        BadZipFile\n",
      "        LargeZipFile\n",
      "        MessageError\n",
      "            MessageParseError\n",
      "                HeaderParseError\n",
      "                BoundaryError\n",
      "            MultipartConversionError\n",
      "            CharsetError\n",
      "        DuplicateKernelError\n",
      "        ErrorDuringImport\n",
      "        NotOneValueFound\n",
      "        CannotEval\n",
      "        OptionError\n",
      "        BdbQuit\n",
      "        Restart\n",
      "        FindCmdError\n",
      "        HomeDirError\n",
      "        ProfileDirError\n",
      "        IPythonCoreError\n",
      "            TryNext\n",
      "            UsageError\n",
      "            StdinNotImplementedError\n",
      "        InputRejected\n",
      "        GetoptError\n",
      "        ErrorToken\n",
      "        PrefilterError\n",
      "        AliasError\n",
      "            InvalidAliasError\n",
      "        Error\n",
      "            InterfaceError\n",
      "            DatabaseError\n",
      "                InternalError\n",
      "                OperationalError\n",
      "                ProgrammingError\n",
      "                IntegrityError\n",
      "                DataError\n",
      "                NotSupportedError\n",
      "        Warning\n",
      "        SpaceInInput\n",
      "        DOMException\n",
      "            IndexSizeErr\n",
      "            DomstringSizeErr\n",
      "            HierarchyRequestErr\n",
      "            WrongDocumentErr\n",
      "            InvalidCharacterErr\n",
      "            NoDataAllowedErr\n",
      "            NoModificationAllowedErr\n",
      "            NotFoundErr\n",
      "            NotSupportedErr\n",
      "            InuseAttributeErr\n",
      "            InvalidStateErr\n",
      "            SyntaxErr\n",
      "            InvalidModificationErr\n",
      "            NamespaceErr\n",
      "            InvalidAccessErr\n",
      "            ValidationErr\n",
      "        ValidationError\n",
      "        EditReadOnlyBuffer\n",
      "        _Retry\n",
      "        InvalidLayoutError\n",
      "        HeightIsUnknownError\n",
      "        GuardRejection\n",
      "        ParserSyntaxError\n",
      "        InternalParseError\n",
      "        _PositionUpdatingFinished\n",
      "        SimpleGetItemNotFound\n",
      "        UncaughtAttributeError\n",
      "        HasNoContext\n",
      "        ParamIssue\n",
      "        _JediError\n",
      "            InternalError\n",
      "            WrongVersion\n",
      "            RefactoringError\n",
      "        OnErrorLeaf\n",
      "        InvalidPythonEnvironment\n",
      "        HTTPException\n",
      "            NotConnected\n",
      "            InvalidURL\n",
      "            UnknownProtocol\n",
      "            UnknownTransferEncoding\n",
      "            UnimplementedFileMode\n",
      "            IncompleteRead\n",
      "            ImproperConnectionState\n",
      "                CannotSendRequest\n",
      "                CannotSendHeader\n",
      "                ResponseNotReady\n",
      "            BadStatusLine\n",
      "                RemoteDisconnected\n",
      "            LineTooLong\n",
      "        InteractivelyDefined\n",
      "        KillEmbedded\n",
      "        Error\n",
      "            NoSuchProcess\n",
      "                ZombieProcess\n",
      "            AccessDenied\n",
      "            TimeoutExpired\n",
      "        Error\n",
      "        TimeoutExpired\n",
      "        TimeoutAbandoned\n",
      "        KeyReuseError\n",
      "        UnknownKeyError\n",
      "        LeakedCallbackError\n",
      "        BadYieldError\n",
      "        ReturnValueIgnoredError\n",
      "        Return\n",
      "        QueueEmpty\n",
      "        QueueFull\n",
      "        DebuggerInitializationError\n",
      "        ExpatError\n",
      "        Error\n",
      "            ProtocolError\n",
      "            ResponseError\n",
      "            Fault\n",
      "        ParserSyntaxError\n",
      "        ResolutionError\n",
      "            VersionConflict\n",
      "                ContextualVersionConflict\n",
      "            DistributionNotFound\n",
      "            UnknownExtra\n",
      "        _Error\n",
      "        UnableToResolveVariableException\n",
      "        InvalidTypeInArgsException\n",
      "        InvalidUsernameError\n",
      "        usernamevalidation\n",
      "    GeneratorExit\n",
      "    KeyboardInterrupt\n",
      "    SystemExit\n",
      "    CancelledError\n",
      "    AbortThread\n"
     ]
    }
   ],
   "source": [
    "def print_exception_hierarchy(base_class, indent=0):\n",
    "    print(' ' * indent + base_class.__name__)\n",
    "    for subclass in base_class.__subclasses__():\n",
    "        print_exception_hierarchy(subclass, indent + 4)\n",
    "\n",
    "\n",
    "print_exception_hierarchy(BaseException)"
   ]
  },
  {
   "cell_type": "markdown",
   "id": "d03c0242-ca03-499d-bbb3-da5c63c91f7d",
   "metadata": {},
   "source": [
    "### ANSWER TO QUESTION 3:"
   ]
  },
  {
   "cell_type": "markdown",
   "id": "4486bc0f-b5a0-41fd-863d-960bedd753b8",
   "metadata": {},
   "source": [
    "#### What errors are defined in the ArithmeticError class? Explain any two with an example."
   ]
  },
  {
   "cell_type": "markdown",
   "id": "d19f72af-e4ba-4657-bb9c-56a3178b0394",
   "metadata": {},
   "source": [
    "##### The ArithmeticError class in Python defines exceptions related to mathematical operations. The following errors are defined in the ArithmeticError class:\n",
    "\n"
   ]
  },
  {
   "cell_type": "markdown",
   "id": "4bf753bc-2875-4e60-91e5-5cf72759a1cc",
   "metadata": {},
   "source": [
    "##### 1. Zerodivision Error\n",
    "##### 2. floatingpoint error"
   ]
  },
  {
   "cell_type": "code",
   "execution_count": 8,
   "id": "a3b49afd-c398-4bcc-8a69-7095f8214c7a",
   "metadata": {},
   "outputs": [
    {
     "name": "stdout",
     "output_type": "stream",
     "text": [
      "division by zero\n"
     ]
    }
   ],
   "source": [
    "#zerodivision error\n",
    "try:\n",
    "    x = 5 / 0\n",
    "except ZeroDivisionError as e:\n",
    "    print(e)\n"
   ]
  },
  {
   "cell_type": "code",
   "execution_count": 10,
   "id": "4e0f47c2-9a56-4578-9543-0744d10f38ac",
   "metadata": {},
   "outputs": [
    {
     "name": "stdout",
     "output_type": "stream",
     "text": [
      "a = 0.1\n",
      "b = 0.2\n",
      "a + b = 0.30000000000000004\n",
      "Expected: 0.3\n",
      "Does a + b equal 0.3? False\n"
     ]
    }
   ],
   "source": [
    "a = 0.1\n",
    "b = 0.2\n",
    "c = a + b\n",
    "\n",
    "print(\"a =\", a)\n",
    "print(\"b =\", b)\n",
    "print(\"a + b =\", c)\n",
    "print(\"Expected: 0.3\")\n",
    "print(\"Does a + b equal 0.3?\", c == 0.3)"
   ]
  },
  {
   "cell_type": "markdown",
   "id": "8e1f81dc-8689-44ab-8ab1-5cb3fbd59f36",
   "metadata": {},
   "source": [
    "### ANSWER TO QUESTION 4:"
   ]
  },
  {
   "cell_type": "markdown",
   "id": "09a57dcb-1b94-4025-8dcd-a59838e2fd26",
   "metadata": {},
   "source": [
    "### Why LookupError class is used? Explain with an example KeyError and IndexError"
   ]
  },
  {
   "cell_type": "markdown",
   "id": "efdfbe07-8be8-447f-88c0-69fa3a4db5f4",
   "metadata": {},
   "source": [
    "#### A LookupError is used to indicate that a key or index is not found in a collection (such as a dictionary, list, or tuple). It's a way to handle errors when accessing or searching for specific elements in a data structure.\n"
   ]
  },
  {
   "cell_type": "markdown",
   "id": "d67044e0-612f-4755-9699-d78f37b8740e",
   "metadata": {},
   "source": [
    "### KeyError - while accessing dictionary if the desired key is not found in thedictionary we say that error as keyerror."
   ]
  },
  {
   "cell_type": "code",
   "execution_count": 2,
   "id": "0ff06d14-95d9-43f1-b1fa-a66f6f870d51",
   "metadata": {},
   "outputs": [
    {
     "name": "stdout",
     "output_type": "stream",
     "text": [
      "KEY NOT FOUND\n"
     ]
    }
   ],
   "source": [
    "#example\n",
    "d={'a':'apple','b':'orange','c':'grapes','d':'vegetables'}\n",
    "try:\n",
    "    a=d['e']\n",
    "except KeyError as w:\n",
    "    print(\"KEY NOT FOUND\")\n",
    "    "
   ]
  },
  {
   "cell_type": "markdown",
   "id": "e75d8ebd-85b7-47f8-9a95-6dfb3dcbcced",
   "metadata": {},
   "source": [
    "### IndexError - while accessing any set of elements, when we try to fetch the value at an unknown, type of error occurs."
   ]
  },
  {
   "cell_type": "code",
   "execution_count": 11,
   "id": "8a1e3f6e-2e4f-4678-a33b-db4e71ba6653",
   "metadata": {},
   "outputs": [
    {
     "name": "stdout",
     "output_type": "stream",
     "text": [
      "INDEX NOT FOUND\n"
     ]
    }
   ],
   "source": [
    "#example\n",
    "d=[1,2,3,4]\n",
    "try:\n",
    "    a=d[5]\n",
    "except IndexError as i:\n",
    "    print(\"INDEX NOT FOUND\")"
   ]
  },
  {
   "cell_type": "markdown",
   "id": "55f77706-c1c3-491a-9257-cc32c5bbf97a",
   "metadata": {},
   "source": [
    "### ANSWER TO QUESTION 5:"
   ]
  },
  {
   "cell_type": "markdown",
   "id": "f10c5ad7-2a11-498f-a835-8f73f6f33ba7",
   "metadata": {},
   "source": [
    "### Explain ImportError. What is ModuleNotFoundError?"
   ]
  },
  {
   "cell_type": "markdown",
   "id": "ce624ddd-f654-45b3-ba70-b9094f3d1c35",
   "metadata": {},
   "source": [
    "#### ImportError is an exception raised when Python cannot find or load a module or package that is being imported. This can occur for various reasons, such as:\n",
    "\n",
    "#### - The module or package is not installed or not in the Python path.\n",
    "#### - The module or package is not compatible with the current Python version.\n",
    "#### - There is a syntax error or other issue in the module or package.\n",
    "####   ModuleNotFoundError is a subclass of ImportError that is raised when Python cannot find a specific module or package."
   ]
  },
  {
   "cell_type": "markdown",
   "id": "ea355ad4-ae23-477d-b3da-c13754b82fc5",
   "metadata": {},
   "source": [
    "#### ModuleNotFoundError is a subclass of ImportError that is raised when Python cannot find a specific module or package. It is a more specific error message that indicates the module or package was not found, whereas ImportError can encompass various types of import-related errors"
   ]
  },
  {
   "cell_type": "markdown",
   "id": "083ea7b1-a498-4c59-869a-ea026ab8168f",
   "metadata": {},
   "source": [
    "### ANSWER TO QUESTION 6:"
   ]
  },
  {
   "cell_type": "markdown",
   "id": "c286d2da-0404-491a-90fc-346022506b34",
   "metadata": {},
   "source": [
    "#### Be specific: Catch specific exceptions instead of general ones like Exception.\n",
    "#### 2. Handle exceptions close to the source: Handle exceptions as close to the code that raised them as possible.\n",
    "#### 3. Use try/except/else: Use the try block for code that might raise an exception, the except block for handling the exception, and the else block for code that should run if no exception is raised.\n",
    "#### 4. Use finally: Use the finally block to execute code regardless of whether an exception was raised or not.\n",
    "#### 5. Log exceptions: Log exceptions to track and debug errors.\n",
    "#### 6. Document exceptions: Document the exceptions that a function or method raises."
   ]
  },
  {
   "cell_type": "code",
   "execution_count": null,
   "id": "b0f7c21e-a66a-4eca-add1-3cd2dfae3aed",
   "metadata": {},
   "outputs": [],
   "source": []
  }
 ],
 "metadata": {
  "kernelspec": {
   "display_name": "Python 3 (ipykernel)",
   "language": "python",
   "name": "python3"
  },
  "language_info": {
   "codemirror_mode": {
    "name": "ipython",
    "version": 3
   },
   "file_extension": ".py",
   "mimetype": "text/x-python",
   "name": "python",
   "nbconvert_exporter": "python",
   "pygments_lexer": "ipython3",
   "version": "3.11.7"
  }
 },
 "nbformat": 4,
 "nbformat_minor": 5
}

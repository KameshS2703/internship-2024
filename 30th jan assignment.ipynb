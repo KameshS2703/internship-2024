{
 "cells": [
  {
   "cell_type": "markdown",
   "id": "2cb575bc-0cd9-4d99-b63a-f4b01a052156",
   "metadata": {},
   "source": [
    "30th JANUARY ASSIGNMENT"
   ]
  },
  {
   "cell_type": "markdown",
   "id": "eb3d393a-07bb-48b1-a117-934d13b5ef4c",
   "metadata": {},
   "source": [
    "ANSWER TO QUESTION 1:"
   ]
  },
  {
   "cell_type": "code",
   "execution_count": 8,
   "id": "df5aa570-a4a8-422c-8464-db624e0fd959",
   "metadata": {},
   "outputs": [
    {
     "name": "stdin",
     "output_type": "stream",
     "text": [
      "enter your percentage: 109\n"
     ]
    },
    {
     "name": "stdout",
     "output_type": "stream",
     "text": [
      "enter the PERCENTAGE between 1-100\n"
     ]
    }
   ],
   "source": [
    "percentage_input=int(input(\"enter your percentage:\"))\n",
    "if percentage_input>90 and percentage_input<=100:\n",
    "    print(\"GRADE : A\")\n",
    "elif percentage_input>80 and percentage_input<=90:\n",
    "    print(\"GRADE : B\")\n",
    "elif percentage_input>=60 and percentage_input<=80:\n",
    "    print(\"GRADE : C\")\n",
    "elif percentage_input<60:\n",
    "    print(\"GRADE : D\")\n",
    "else:\n",
    "    print(\"enter the PERCENTAGE between 1-100\")\n"
   ]
  },
  {
   "cell_type": "markdown",
   "id": "110b0310-4d52-4a92-964d-22d9b1c00e3a",
   "metadata": {},
   "source": [
    "ANSWER TO QUESTION 2:"
   ]
  },
  {
   "cell_type": "code",
   "execution_count": 14,
   "id": "18d2b92a-70ea-4a3f-a133-e4b636301c70",
   "metadata": {},
   "outputs": [
    {
     "name": "stdin",
     "output_type": "stream",
     "text": [
      "enter the bike amount 75000\n"
     ]
    },
    {
     "data": {
      "text/plain": [
       "('the road tax is:', 7500.0)"
      ]
     },
     "execution_count": 14,
     "metadata": {},
     "output_type": "execute_result"
    }
   ],
   "source": [
    "def calculation(cost_price):\n",
    "    if cost_price > 100000:\n",
    "        percentage=15/100\n",
    "        tax_deducted_amount= cost_price*percentage\n",
    "        return \"the road tax is :\",tax_deducted_amount\n",
    "    elif cost_price>50000 and cost_price<=100000:\n",
    "        percentage=10/100\n",
    "        tax_deducted_amount=cost_price*percentage\n",
    "        return \"the road tax is:\",tax_deducted_amount\n",
    "    elif cost_price<=50000:\n",
    "        percentage=5/100\n",
    "        tax_deducted_amount=cost_price*percentage\n",
    "        return\"the road tax is: \",tax_deducted_amount\n",
    "\n",
    "a=int(input(\"enter the bike amount\"))\n",
    "calculation(a)\n",
    "    "
   ]
  },
  {
   "cell_type": "markdown",
   "id": "c27bcd46-f086-481e-9eb9-fcba08274346",
   "metadata": {},
   "source": [
    "ANSWER TO QUESTION 3:\n"
   ]
  },
  {
   "cell_type": "code",
   "execution_count": 15,
   "id": "d771745e-431c-42aa-8bb0-ff212bb45f4d",
   "metadata": {},
   "outputs": [
    {
     "name": "stdin",
     "output_type": "stream",
     "text": [
      "enter the city name: delhi\n"
     ]
    },
    {
     "name": "stdout",
     "output_type": "stream",
     "text": [
      "the mounament found is : red fort\n"
     ]
    }
   ],
   "source": [
    "def function01(city):\n",
    "    city_lower=city.lower()\n",
    "    dict01={'delhi':'red fort'\n",
    "            ,'agra':'taj mahal'\n",
    "            ,'jaipur':'jai mahal'}\n",
    "    if city_lower in dict01:\n",
    "        return dict01[city_lower]\n",
    "    else:\n",
    "        return \"sorry not found\"\n",
    "city_access=input(\"enter the city name:\")\n",
    "output=function01(city_access)\n",
    "print(\"the mounament found is :\",output)"
   ]
  },
  {
   "cell_type": "markdown",
   "id": "664644bd-342d-4df8-95b6-8e26a2125d34",
   "metadata": {},
   "source": [
    "ANSWER TO QUESTION 4:"
   ]
  },
  {
   "cell_type": "code",
   "execution_count": 20,
   "id": "45fe2938-1168-4161-a1c3-5415a9bc5a0e",
   "metadata": {},
   "outputs": [
    {
     "name": "stdin",
     "output_type": "stream",
     "text": [
      "enter any number: 300\n"
     ]
    },
    {
     "name": "stdout",
     "output_type": "stream",
     "text": [
      "4\n"
     ]
    }
   ],
   "source": [
    "num=int(input(\"enter any number:\"))\n",
    "count=0\n",
    "while num>10:\n",
    "    possible=num/3\n",
    "    count+=1\n",
    "    num=possible\n",
    "print(count)"
   ]
  },
  {
   "cell_type": "markdown",
   "id": "5bdb871a-d3fd-4ec6-b1e2-741a32c214f8",
   "metadata": {},
   "source": [
    "ANSWER TO QUESTION 5\n"
   ]
  },
  {
   "cell_type": "code",
   "execution_count": null,
   "id": "82a5c02b-00e0-46eb-910d-1fafd86d91c5",
   "metadata": {},
   "outputs": [],
   "source": [
    "WHY AND WHEN WE USE WHILE LOOP?"
   ]
  },
  {
   "cell_type": "markdown",
   "id": "fdd7c8d4-8371-4bdb-b2b2-906b60a1757b",
   "metadata": {},
   "source": [
    "We use a while loop in programming when we want to execute a block of code repeatedly while a certain condition is true. It's called a \"while\" loop because it will continue to execute \"while\" the condition is true.\n",
    "\n",
    "Here are some scenarios where we use while loops:\n",
    "\n",
    "1. Repeated tasks: When we need to perform a task multiple times, like asking for user input until they enter a specific value.\n",
    "2. Conditional repetition: When we want to execute code only while a condition is met, like checking if a list is not empty.\n",
    "3. Unknown number of iterations: When we don't know in advance how many times we need to execute the code, like reading data from a file or network stream.\n",
    "\n",
    "The general structure of a while loop is:\n",
    "\n",
    "while (condition) {\n",
    "  // code to execute\n",
    "}\n",
    "\n",
    "The condition is evaluated before each iteration, and if it's true, the code inside the loop will execute. Once the condition becomes false, the loop will exit.\n",
    "\n",
    "Some examples of using while loops include:\n",
    "\n",
    "- Reading input from a user until they enter a specific value\n",
    "- Processing a list of items until the end is reached\n",
    "- Waiting for a specific event or condition to occur\n",
    "\n"
   ]
  },
  {
   "cell_type": "markdown",
   "id": "a3941434-b9aa-42fe-a36c-ab9d2d514334",
   "metadata": {},
   "source": [
    "CODE(EXAMPLE):\n"
   ]
  },
  {
   "cell_type": "code",
   "execution_count": 21,
   "id": "4defba80-4483-4042-a609-30d8c7db67c4",
   "metadata": {},
   "outputs": [
    {
     "name": "stdout",
     "output_type": "stream",
     "text": [
      "10\n",
      "9\n",
      "8\n",
      "7\n",
      "6\n",
      "5\n",
      "4\n",
      "3\n",
      "2\n",
      "1\n",
      "Countdown complete!\n"
     ]
    }
   ],
   "source": [
    "a = 10\n",
    "while a > 0:\n",
    "    print(a)\n",
    "    a -= 1\n",
    "print(\"Countdown complete!\")"
   ]
  },
  {
   "cell_type": "markdown",
   "id": "41735eb7-e7b3-42bb-b74b-16a3af689215",
   "metadata": {},
   "source": [
    "ANSWER TO QUESTION 6"
   ]
  },
  {
   "cell_type": "markdown",
   "id": "57e23f27-6383-45d7-ba4e-aea44b177422",
   "metadata": {},
   "source": [
    "PATTERN 1:"
   ]
  },
  {
   "cell_type": "code",
   "execution_count": 3,
   "id": "c5078e65-091a-4540-ac4e-a46d947a5cd7",
   "metadata": {},
   "outputs": [
    {
     "name": "stdout",
     "output_type": "stream",
     "text": [
      "*\n",
      "**\n",
      "***\n",
      "****\n",
      "*****\n",
      "******\n"
     ]
    }
   ],
   "source": [
    "rows_count=6\n",
    "i=1\n",
    "while (i<=rows_count):\n",
    "    j=1\n",
    "    while(j<=i):\n",
    "        print('*',end=\"\")\n",
    "        j+=1\n",
    "    print()\n",
    "    i+=1"
   ]
  },
  {
   "cell_type": "markdown",
   "id": "a911655f-71f8-4d11-b97d-3ecc894e7d9d",
   "metadata": {},
   "source": [
    "PATTERN 2:"
   ]
  },
  {
   "cell_type": "code",
   "execution_count": null,
   "id": "507195bd-9006-4b12-a3c5-af997ed980dc",
   "metadata": {},
   "outputs": [],
   "source": [
    "\n",
    "rows = 5\n",
    "i = rows\n",
    "\n",
    "while i > 0:\n",
    "    j = 1\n",
    "    while j <= i:\n",
    "        print(\"*\", end=\"\")\n",
    "        j += 1\n",
    "    print()\n",
    "    i -= 1"
   ]
  },
  {
   "cell_type": "markdown",
   "id": "c10c7d6d-b400-4e9c-b720-fb72a7cbc584",
   "metadata": {},
   "source": [
    "PATTERN 3:"
   ]
  },
  {
   "cell_type": "code",
   "execution_count": null,
   "id": "2c21ae32-f4f7-47bb-a521-93aa105b76eb",
   "metadata": {},
   "outputs": [],
   "source": [
    "rows = 5\n",
    "i = 1\n",
    "\n",
    "while i <= rows:\n",
    "    spaces = rows - i\n",
    "    while spaces > 0:\n",
    "        print(\" \", end=\"\")\n",
    "        spaces -= 1\n",
    "    \n",
    "    j = 1\n",
    "    while j <= (2 * i - 1):\n",
    "        print(\"*\", end=\"\")\n",
    "        j += 1\n",
    "    \n",
    "    print()\n",
    "    i += 1"
   ]
  },
  {
   "cell_type": "markdown",
   "id": "bc46eff1-029d-497e-929c-9a72ec6f35b9",
   "metadata": {},
   "source": [
    "ANSWER TO QUESTION 7,8:"
   ]
  },
  {
   "cell_type": "code",
   "execution_count": null,
   "id": "02834ddf-60df-4b46-8d5d-f281184b7539",
   "metadata": {},
   "outputs": [],
   "source": [
    "a=10\n",
    "while(a>=0):\n",
    "    print(a)\n",
    "    a-=1"
   ]
  },
  {
   "cell_type": "code",
   "execution_count": null,
   "id": "5dcf3fc5-4364-4b1c-bc45-0025dfd1a602",
   "metadata": {},
   "outputs": [],
   "source": []
  }
 ],
 "metadata": {
  "kernelspec": {
   "display_name": "Python 3 (ipykernel)",
   "language": "python",
   "name": "python3"
  },
  "language_info": {
   "codemirror_mode": {
    "name": "ipython",
    "version": 3
   },
   "file_extension": ".py",
   "mimetype": "text/x-python",
   "name": "python",
   "nbconvert_exporter": "python",
   "pygments_lexer": "ipython3",
   "version": "3.11.7"
  }
 },
 "nbformat": 4,
 "nbformat_minor": 5
}

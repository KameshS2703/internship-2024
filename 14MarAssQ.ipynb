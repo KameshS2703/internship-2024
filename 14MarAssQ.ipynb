{
 "cells": [
  {
   "cell_type": "markdown",
   "id": "7c90a197-7105-434f-a903-e60e14c60954",
   "metadata": {},
   "source": [
    "### QUESTION 1:"
   ]
  },
  {
   "cell_type": "markdown",
   "id": "02ea2406-50a7-44ec-926a-49594ea15004",
   "metadata": {},
   "source": [
    "#### Write a Python function that takes in two arrays of data and calculates the F-value for a variance ratio test. The function should return the F-value and the corresponding p-value for the test"
   ]
  },
  {
   "cell_type": "code",
   "execution_count": 1,
   "id": "bfaebb2d-56be-4f1e-a7eb-a92709dc1df9",
   "metadata": {},
   "outputs": [
    {
     "name": "stdout",
     "output_type": "stream",
     "text": [
      "F-value: 0.2724503540331837\n",
      "p-value: 0.9999999997883711\n"
     ]
    }
   ],
   "source": [
    "import numpy as np\n",
    "from scipy import stats\n",
    "\n",
    "def calculate_f_value(data1, data2):\n",
    "    # Calculate the variance of each dataset\n",
    "    var1 = np.var(data1, ddof=1)\n",
    "    var2 = np.var(data2, ddof=1)\n",
    "\n",
    "    # Calculate the F-value\n",
    "    f_value = var1 / var2\n",
    "\n",
    "    # Calculate the degrees of freedom\n",
    "    df1 = len(data1) - 1\n",
    "    df2 = len(data2) - 1\n",
    "\n",
    "    # Calculate the p-value\n",
    "    p_value = stats.f.sf(f_value, df1, df2)\n",
    "\n",
    "    return f_value, p_value\n",
    "\n",
    "# Example usage:\n",
    "data1 = np.random.normal(0, 1, 100)\n",
    "data2 = np.random.normal(0, 2, 100)\n",
    "f_value, p_value = calculate_f_value(data1, data2)\n",
    "print(\"F-value:\", f_value)\n",
    "print(\"p-value:\", p_value)\n"
   ]
  },
  {
   "cell_type": "markdown",
   "id": "e9da82a0-1922-494a-a4a5-629830f9d8ad",
   "metadata": {},
   "source": [
    "### QUESTION 2:"
   ]
  },
  {
   "cell_type": "markdown",
   "id": "05d3cc7d-f8af-4a6d-80ac-05f148c3a3e8",
   "metadata": {},
   "source": [
    "#### Given a significance level of 0.05 and the degrees of freedom for the numerator and denominator of an F-distribution, write a Python function that returns the critical F-value for a two-tailed test"
   ]
  },
  {
   "cell_type": "code",
   "execution_count": 2,
   "id": "d82ba0cc-73f6-4b30-bfe5-b2643d31cb5a",
   "metadata": {},
   "outputs": [
    {
     "name": "stdout",
     "output_type": "stream",
     "text": [
      "Critical F-value: 3.8586986662732143\n"
     ]
    }
   ],
   "source": [
    "from scipy import stats\n",
    "\n",
    "def critical_f_value(significance_level, df_numerator, df_denominator):\n",
    "    # Calculate the critical F-value for a two-tailed test\n",
    "    critical_f = stats.f.ppf(1 - significance_level / 2, df_numerator, df_denominator)\n",
    "    return critical_f\n",
    "\n",
    "# Example usage:\n",
    "significance_level = 0.05\n",
    "df_numerator = 3\n",
    "df_denominator = 20\n",
    "critical_f = critical_f_value(significance_level, df_numerator, df_denominator)\n",
    "print(\"Critical F-value:\", critical_f)\n",
    "\n"
   ]
  },
  {
   "cell_type": "markdown",
   "id": "e8264363-8abe-459d-a877-eaae4b4e8e55",
   "metadata": {},
   "source": [
    "### QUESTION 3:"
   ]
  },
  {
   "cell_type": "markdown",
   "id": "9d2c5b2e-d78d-478d-810c-46f9cb8faadc",
   "metadata": {},
   "source": [
    "#### Write a Python program that generates random samples from two normal distributions with known variances and uses an F-test to determine if the variances are equal. The program should output the Fvalue, degrees of freedom, and p-value for the test."
   ]
  },
  {
   "cell_type": "code",
   "execution_count": 4,
   "id": "20c0331b-dde6-467e-947b-7af31626ec6d",
   "metadata": {},
   "outputs": [
    {
     "name": "stdout",
     "output_type": "stream",
     "text": [
      "F-value: 7.7387040060122425\n",
      "Degrees of freedom (numerator, denominator): 99 99\n",
      "p-value: 0.005927483295191329\n",
      "Reject the null hypothesis: the variances are not equal.\n"
     ]
    }
   ],
   "source": [
    "import numpy as np\n",
    "from scipy import stats\n",
    "\n",
    "# Set the parameters for the normal distributions\n",
    "mean1, var1 = 0, 1\n",
    "mean2, var2 = 0, 2\n",
    "\n",
    "# Generate random samples from the normal distributions\n",
    "sample1 = np.random.normal(mean1, np.sqrt(var1), 100)\n",
    "sample2 = np.random.normal(mean2, np.sqrt(var2), 100)\n",
    "\n",
    "# Perform the F-test\n",
    "f_value, p_value = stats.f_oneway(sample1, sample2)\n",
    "\n",
    "# Calculate the degrees of freedom\n",
    "df1, df2 = len(sample1) - 1, len(sample2) - 1\n",
    "\n",
    "# Output the results\n",
    "print(\"F-value:\", f_value)\n",
    "print(\"Degrees of freedom (numerator, denominator):\", df1, df2)\n",
    "print(\"p-value:\", p_value)\n",
    "\n",
    "# Interpret the results\n",
    "if p_value < 0.05:\n",
    "    print(\"Reject the null hypothesis: the variances are not equal.\")\n",
    "else:\n",
    "    print(\"Fail to reject the null hypothesis: the variances are equal.\")\n",
    "\n"
   ]
  },
  {
   "cell_type": "markdown",
   "id": "911060f4-9941-4fde-99a9-24951f8de357",
   "metadata": {},
   "source": [
    "### QUESTION 4:"
   ]
  },
  {
   "cell_type": "markdown",
   "id": "c947d7bb-64bb-4099-bb16-3517ff3e05d4",
   "metadata": {},
   "source": [
    "#### The variances of two populations are known to be 10 and 15. A sample of 12 observations is taken from \n",
    "#### each population. Conduct an F-test at the 5% significance level to determine if the variances are \n",
    "#### significantly different."
   ]
  },
  {
   "cell_type": "markdown",
   "id": "6edc1376-f212-437c-9857-a5a2e0484d4d",
   "metadata": {},
   "source": [
    "##### 1. State the null and alternative hypotheses:\n",
    "#####     - H0: σ1^2 / σ2^2 = 1 (variances are equal)\n",
    "#####     - H1: σ1^2 / σ2^2 ≠ 1 (variances are not equal)\n",
    "##### 2. Calculate the F-statistic:\n",
    "#####     - F = s1^2 / s2^2 = 10 / 15 ≈ 0.67\n",
    "##### 3. Determine the degrees of freedom:\n",
    "#####     - df1 = n1 - 1 = 12 - 1 = 11\n",
    "#####     - df2 = n2 - 1 = 12 - 1 = 11\n",
    "##### 4. Find the critical F-value from the F-distribution table or use a calculator/software:\n",
    "#####     - F крит (0.05, 11, 11) ≈ 2.82\n",
    "##### 5. Compare the calculated F-statistic with the critical F-value:\n",
    "#####    - Since 0.67 < 2.82, we fail to reject the null hypothesis.\n",
    "##### 6. Interpret the results:\n",
    "#####     - At the 5% significance level, we cannot conclude that the variances are significantly different.\n"
   ]
  },
  {
   "cell_type": "markdown",
   "id": "aa62e082-a7df-46a0-a27f-3fed71fd43c4",
   "metadata": {},
   "source": [
    "### QUESTION 5:"
   ]
  },
  {
   "cell_type": "markdown",
   "id": "8a427021-7321-4d32-a2f5-33f7bbf64616",
   "metadata": {},
   "source": [
    "#### A manufacturer claims that the variance of the diameter of a certain product is 0.005. A sample of 25 products is taken, and the sample variance is found to be 0.006. Conduct an F-test at the 1% significance level to determine if the claim is justified"
   ]
  },
  {
   "cell_type": "markdown",
   "id": "73b4846e-25d9-4c01-bdd8-61bc645f30f4",
   "metadata": {},
   "source": [
    "##### 1. State the null and alternative hypotheses:\n",
    "#####    - H0: σ^2 = 0.005 (claim is true)\n",
    "#####     - H1: σ^2 ≠ 0.005 (claim is false)\n",
    "##### 2. Calculate the F-statistic:\n",
    "#####     - F = s^2 / σ^2 = 0.006 / 0.005 = 1.2\n",
    "##### 3. Determine the degrees of freedom:\n",
    "#####     - df1 = n - 1 = 25 - 1 = 24\n",
    "#####     - df2 = ∞ (since σ^2 is known)\n",
    "##### 4. Find the critical F-value from the F-distribution table or use a calculator/software:\n",
    "#####     - F крит (0.01, 24, ∞) ≈ 2.42\n",
    "##### 5. Compare the calculated F-statistic with the critical F-value:\n",
    "#####     - Since 1.2 < 2.42, we fail to reject the null hypothesis.\n",
    "##### 6. Interpret the results:\n",
    "#####    - At the 1% significance level, we cannot conclude that the claim is false. The sample variance is not significantly different from the claimed variance.\n"
   ]
  },
  {
   "cell_type": "markdown",
   "id": "38a82448-10d3-4465-b79d-4e3f9c2d0944",
   "metadata": {},
   "source": [
    "### QUESTION 6:"
   ]
  },
  {
   "cell_type": "markdown",
   "id": "f5256916-06eb-427f-a92a-76f57c951086",
   "metadata": {},
   "source": [
    "####  Write a Python function that takes in the degrees of freedom for the numerator and denominator of an F-distribution and calculates the mean and variance of the distribution. The function should return the mean and variance as a tuple"
   ]
  },
  {
   "cell_type": "code",
   "execution_count": 5,
   "id": "1649c00a-0fa7-4d70-b96a-8e95e9c193f6",
   "metadata": {},
   "outputs": [
    {
     "name": "stdout",
     "output_type": "stream",
     "text": [
      "Mean: 1.1538461538461537\n",
      "Variance: 1.7777777777777777\n"
     ]
    }
   ],
   "source": [
    "import scipy.stats as stats\n",
    "\n",
    "def calculate_f_distribution_mean_variance(df_numerator, df_denominator):\n",
    "    \n",
    "    mean = df_denominator / (df_denominator - 2)\n",
    "    \n",
    "    \n",
    "    variance = (2 * df_denominator^2 * (df_numerator + df_denominator - 2)) / ((df_denominator - 2)^2 * (df_denominator - 4))\n",
    "    \n",
    "    return mean, variance\n",
    "\n",
    "\n",
    "df_numerator = 10\n",
    "df_denominator = 15\n",
    "mean, variance = calculate_f_distribution_mean_variance(df_numerator, df_denominator)\n",
    "print(\"Mean:\", mean)\n",
    "print(\"Variance:\", variance)\n"
   ]
  },
  {
   "cell_type": "markdown",
   "id": "5f409d3f-59c8-472d-b485-67d04db9c17a",
   "metadata": {},
   "source": [
    "### QUESTION 7:"
   ]
  },
  {
   "cell_type": "markdown",
   "id": "3aad9408-c26e-457f-ba23-f61fbf35767c",
   "metadata": {},
   "source": [
    "#### A random sample of 10 measurements is taken from a normal population with unknown variance. The sample variance is found to be 25. Another random sample of 15 measurements is taken from another normal population with unknown variance, and the sample variance is found to be 20. Conduct an F-test at the 10% significance level to determine if the variances are significantly different"
   ]
  },
  {
   "cell_type": "markdown",
   "id": "9224dc94-bb5f-46dc-9ff8-35295890414f",
   "metadata": {},
   "source": [
    "##### 1. State the null and alternative hypotheses:\n",
    "#####     - H0: σ1^2 = σ2^2 (variances are equal)\n",
    "#####     - H1: σ1^2 ≠ σ2^2 (variances are not equal)\n",
    "##### 2. Calculate the F-statistic:\n",
    "#####     - F = s1^2 / s2^2 = 25 / 20 = 1.25\n",
    "##### 3. Determine the degrees of freedom:\n",
    "#####     - df1 = n1 - 1 = 10 - 1 = 9\n",
    "#####     - df2 = n2 - 1 = 15 - 1 = 14\n",
    "##### 4. Find the critical F-value from the F-distribution table or use a calculator/software:\n",
    "#####     - F крит (0.10, 9, 14) ≈ 1.84\n",
    "##### 5. Compare the calculated F-statistic with the critical F-value:\n",
    "#####     - Since 1.25 < 1.84, we fail to reject the null hypothesis.\n",
    "##### 6. Interpret the results:\n",
    "#####     - At the 10% significance level, we cannot conclude that the variances are significantly different.\n",
    "\n"
   ]
  },
  {
   "cell_type": "markdown",
   "id": "46959584-6ac0-411d-8955-ce4f64164483",
   "metadata": {},
   "source": [
    "### QUESTION 8:"
   ]
  },
  {
   "cell_type": "markdown",
   "id": "1dac6b15-dc24-4c30-a944-c7211f0997e2",
   "metadata": {},
   "source": [
    "####  The following data represent the waiting times in minutes at two different restaurants on a Saturday night: Restaurant A: 24, 25, 28, 23, 22, 20, 27; Restaurant B: 31, 33, 35, 30, 32, 36. Conduct an F-test at the 5% significance level to determine if the variances are significantly different."
   ]
  },
  {
   "cell_type": "markdown",
   "id": "ef7f0fbe-f863-4789-8486-9845e9533f70",
   "metadata": {},
   "source": [
    "##### 1. Calculate the sample variances:\n",
    "#####    - Restaurant A: s1^2 = 6.43\n",
    "#####     - Restaurant B: s2^2 = 5.33\n",
    "##### 2. Calculate the F-statistic:\n",
    "#####     - F = s1^2 / s2^2 = 6.43 / 5.33 = 1.21\n",
    "##### 3. Determine the degrees of freedom:\n",
    "#####     - df1 = n1 - 1 = 7 - 1 = 6\n",
    "#####    - df2 = n2 - 1 = 6 - 1 = 5\n",
    "##### 4. Find the critical F-value from the F-distribution table or use a calculator/software:\n",
    "#####     - F крит (0.05, 6, 5) ≈ 5.82\n",
    "##### 5. Compare the calculated F-statistic with the critical F-value:\n",
    "#####     - Since 1.21 < 5.82, we fail to reject the null hypothesis.\n",
    "##### 6. Interpret the results:\n",
    "#####     - At the 5% significance level, we cannot conclude that the variances are significantly different.\n",
    "\n"
   ]
  },
  {
   "cell_type": "markdown",
   "id": "48f323ce-bfc9-426a-be48-d3feb87ada89",
   "metadata": {},
   "source": [
    "### QUESTION 9:"
   ]
  },
  {
   "cell_type": "markdown",
   "id": "4226a5ed-fff8-4c3e-9607-299fb4eedfd7",
   "metadata": {},
   "source": [
    "#### The following data represent the test scores of two groups of students: Group A: 80, 85, 90, 92, 87, 83; Group B: 75, 78, 82, 79, 81, 84. Conduct an F-test at the 1% significance level to determine if the variances are significantly different."
   ]
  },
  {
   "cell_type": "markdown",
   "id": "3f761bb9-8d07-4e88-b490-f9c5eee6641e",
   "metadata": {},
   "source": [
    "##### 1. Calculate the sample variances:\n",
    "#####     - Group A: s1^2 = 23.33\n",
    "#####     - Group B: s2^2 = 10.67\n",
    "##### 2. Calculate the F-statistic:\n",
    "#####     - F = s1^2 / s2^2 = 23.33 / 10.67 = 2.19\n",
    "##### 3. Determine the degrees of freedom:\n",
    "#####     - df1 = n1 - 1 = 6 - 1 = 5\n",
    "#####     - df2 = n2 - 1 = 6 - 1 = 5\n",
    "##### 4. Find the critical F-value from the F-distribution table or use a calculator/software:\n",
    "#####     - F крит (0.01, 5, 5) ≈ 10.97\n",
    "##### 5. Compare the calculated F-statistic with the critical F-value:\n",
    "#####     - Since 2.19 < 10.97, we fail to reject the null hypothesis.\n",
    "##### 6. Interpret the results:\n",
    "#####     - At the 1% significance level, we cannot conclude that the variances are significantly different.\n",
    "\n"
   ]
  },
  {
   "cell_type": "code",
   "execution_count": null,
   "id": "4df9e609-6c6e-43f3-85d9-06a40376d5bb",
   "metadata": {},
   "outputs": [],
   "source": []
  }
 ],
 "metadata": {
  "kernelspec": {
   "display_name": "Python 3 (ipykernel)",
   "language": "python",
   "name": "python3"
  },
  "language_info": {
   "codemirror_mode": {
    "name": "ipython",
    "version": 3
   },
   "file_extension": ".py",
   "mimetype": "text/x-python",
   "name": "python",
   "nbconvert_exporter": "python",
   "pygments_lexer": "ipython3",
   "version": "3.11.7"
  }
 },
 "nbformat": 4,
 "nbformat_minor": 5
}

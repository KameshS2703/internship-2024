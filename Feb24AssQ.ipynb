{
 "cells": [
  {
   "cell_type": "markdown",
   "id": "a8cca3f7-47bb-4bd3-aff4-cf6668e8f855",
   "metadata": {},
   "source": [
    "### ANSWER TO QUESTION 1:"
   ]
  },
  {
   "cell_type": "markdown",
   "id": "a17699f1-7526-4691-883b-77cc08d8c781",
   "metadata": {},
   "source": [
    "#### List any five functions of the pandas library with execution."
   ]
  },
  {
   "cell_type": "code",
   "execution_count": 37,
   "id": "3e95d334-1c65-4c3d-aa28-562a684b34ee",
   "metadata": {},
   "outputs": [
    {
     "data": {
      "text/html": [
       "<div>\n",
       "<style scoped>\n",
       "    .dataframe tbody tr th:only-of-type {\n",
       "        vertical-align: middle;\n",
       "    }\n",
       "\n",
       "    .dataframe tbody tr th {\n",
       "        vertical-align: top;\n",
       "    }\n",
       "\n",
       "    .dataframe thead th {\n",
       "        text-align: right;\n",
       "    }\n",
       "</style>\n",
       "<table border=\"1\" class=\"dataframe\">\n",
       "  <thead>\n",
       "    <tr style=\"text-align: right;\">\n",
       "      <th></th>\n",
       "      <th>SNO</th>\n",
       "      <th>NAME</th>\n",
       "      <th>AGE</th>\n",
       "    </tr>\n",
       "  </thead>\n",
       "  <tbody>\n",
       "    <tr>\n",
       "      <th>0</th>\n",
       "      <td>1</td>\n",
       "      <td>AAA</td>\n",
       "      <td>18</td>\n",
       "    </tr>\n",
       "    <tr>\n",
       "      <th>1</th>\n",
       "      <td>2</td>\n",
       "      <td>BBB</td>\n",
       "      <td>19</td>\n",
       "    </tr>\n",
       "    <tr>\n",
       "      <th>2</th>\n",
       "      <td>3</td>\n",
       "      <td>CCC</td>\n",
       "      <td>20</td>\n",
       "    </tr>\n",
       "    <tr>\n",
       "      <th>3</th>\n",
       "      <td>4</td>\n",
       "      <td>DDD</td>\n",
       "      <td>20</td>\n",
       "    </tr>\n",
       "    <tr>\n",
       "      <th>4</th>\n",
       "      <td>5</td>\n",
       "      <td>EEE</td>\n",
       "      <td>21</td>\n",
       "    </tr>\n",
       "  </tbody>\n",
       "</table>\n",
       "</div>"
      ],
      "text/plain": [
       "   SNO NAME  AGE\n",
       "0    1  AAA   18\n",
       "1    2  BBB   19\n",
       "2    3  CCC   20\n",
       "3    4  DDD   20\n",
       "4    5  EEE   21"
      ]
     },
     "execution_count": 37,
     "metadata": {},
     "output_type": "execute_result"
    }
   ],
   "source": [
    "#FUNCTION 1 - LEN()\n",
    "import pandas as pd\n",
    "df=pd.DataFrame({'SNO':[1,2,3,4,5],'NAME':['AAA','BBB','CCC','DDD','EEE'],'AGE':[18,19,20,20,21]})\n",
    "len(df)\n",
    "df"
   ]
  },
  {
   "cell_type": "code",
   "execution_count": 38,
   "id": "ba02c35b-6795-45c0-b8f3-bdd62ad4a7fa",
   "metadata": {},
   "outputs": [
    {
     "data": {
      "text/html": [
       "<div>\n",
       "<style scoped>\n",
       "    .dataframe tbody tr th:only-of-type {\n",
       "        vertical-align: middle;\n",
       "    }\n",
       "\n",
       "    .dataframe tbody tr th {\n",
       "        vertical-align: top;\n",
       "    }\n",
       "\n",
       "    .dataframe thead th {\n",
       "        text-align: right;\n",
       "    }\n",
       "</style>\n",
       "<table border=\"1\" class=\"dataframe\">\n",
       "  <thead>\n",
       "    <tr style=\"text-align: right;\">\n",
       "      <th></th>\n",
       "      <th>0</th>\n",
       "      <th>1</th>\n",
       "      <th>2</th>\n",
       "      <th>3</th>\n",
       "      <th>4</th>\n",
       "    </tr>\n",
       "  </thead>\n",
       "  <tbody>\n",
       "    <tr>\n",
       "      <th>SNO</th>\n",
       "      <td>1</td>\n",
       "      <td>2</td>\n",
       "      <td>3</td>\n",
       "      <td>4</td>\n",
       "      <td>5</td>\n",
       "    </tr>\n",
       "    <tr>\n",
       "      <th>NAME</th>\n",
       "      <td>AAA</td>\n",
       "      <td>BBB</td>\n",
       "      <td>CCC</td>\n",
       "      <td>DDD</td>\n",
       "      <td>EEE</td>\n",
       "    </tr>\n",
       "    <tr>\n",
       "      <th>AGE</th>\n",
       "      <td>18</td>\n",
       "      <td>19</td>\n",
       "      <td>20</td>\n",
       "      <td>20</td>\n",
       "      <td>21</td>\n",
       "    </tr>\n",
       "  </tbody>\n",
       "</table>\n",
       "</div>"
      ],
      "text/plain": [
       "        0    1    2    3    4\n",
       "SNO     1    2    3    4    5\n",
       "NAME  AAA  BBB  CCC  DDD  EEE\n",
       "AGE    18   19   20   20   21"
      ]
     },
     "execution_count": 38,
     "metadata": {},
     "output_type": "execute_result"
    }
   ],
   "source": [
    "#FUNCTION2 -TRANSPOSE()\n",
    "df.transpose()"
   ]
  },
  {
   "cell_type": "code",
   "execution_count": 39,
   "id": "8d058f14-9834-4e49-9abc-54724f09ec8e",
   "metadata": {},
   "outputs": [
    {
     "data": {
      "text/html": [
       "<div>\n",
       "<style scoped>\n",
       "    .dataframe tbody tr th:only-of-type {\n",
       "        vertical-align: middle;\n",
       "    }\n",
       "\n",
       "    .dataframe tbody tr th {\n",
       "        vertical-align: top;\n",
       "    }\n",
       "\n",
       "    .dataframe thead th {\n",
       "        text-align: right;\n",
       "    }\n",
       "</style>\n",
       "<table border=\"1\" class=\"dataframe\">\n",
       "  <thead>\n",
       "    <tr style=\"text-align: right;\">\n",
       "      <th></th>\n",
       "      <th>SNO</th>\n",
       "      <th>NAME</th>\n",
       "      <th>AGE</th>\n",
       "    </tr>\n",
       "  </thead>\n",
       "  <tbody>\n",
       "    <tr>\n",
       "      <th>0</th>\n",
       "      <td>1</td>\n",
       "      <td>AAA</td>\n",
       "      <td>18</td>\n",
       "    </tr>\n",
       "    <tr>\n",
       "      <th>1</th>\n",
       "      <td>2</td>\n",
       "      <td>BBB</td>\n",
       "      <td>19</td>\n",
       "    </tr>\n",
       "  </tbody>\n",
       "</table>\n",
       "</div>"
      ],
      "text/plain": [
       "   SNO NAME  AGE\n",
       "0    1  AAA   18\n",
       "1    2  BBB   19"
      ]
     },
     "execution_count": 39,
     "metadata": {},
     "output_type": "execute_result"
    }
   ],
   "source": [
    "#FUNCTION3 - ILOC()\n",
    "df.iloc[0:2]"
   ]
  },
  {
   "cell_type": "code",
   "execution_count": 41,
   "id": "13c09ae4-bbce-456b-9f20-93e9d1721f48",
   "metadata": {},
   "outputs": [
    {
     "data": {
      "text/html": [
       "<div>\n",
       "<style scoped>\n",
       "    .dataframe tbody tr th:only-of-type {\n",
       "        vertical-align: middle;\n",
       "    }\n",
       "\n",
       "    .dataframe tbody tr th {\n",
       "        vertical-align: top;\n",
       "    }\n",
       "\n",
       "    .dataframe thead th {\n",
       "        text-align: right;\n",
       "    }\n",
       "</style>\n",
       "<table border=\"1\" class=\"dataframe\">\n",
       "  <thead>\n",
       "    <tr style=\"text-align: right;\">\n",
       "      <th></th>\n",
       "      <th>AGE</th>\n",
       "    </tr>\n",
       "  </thead>\n",
       "  <tbody>\n",
       "    <tr>\n",
       "      <th>0</th>\n",
       "      <td>18</td>\n",
       "    </tr>\n",
       "    <tr>\n",
       "      <th>1</th>\n",
       "      <td>19</td>\n",
       "    </tr>\n",
       "    <tr>\n",
       "      <th>2</th>\n",
       "      <td>20</td>\n",
       "    </tr>\n",
       "  </tbody>\n",
       "</table>\n",
       "</div>"
      ],
      "text/plain": [
       "   AGE\n",
       "0   18\n",
       "1   19\n",
       "2   20"
      ]
     },
     "execution_count": 41,
     "metadata": {},
     "output_type": "execute_result"
    }
   ],
   "source": [
    "#function4-loc()\n",
    "df.loc[0:2,['AGE']]"
   ]
  },
  {
   "cell_type": "code",
   "execution_count": 13,
   "id": "dd86a045-9f96-4c16-b495-7f65d56e9512",
   "metadata": {},
   "outputs": [
    {
     "data": {
      "text/html": [
       "<div>\n",
       "<style scoped>\n",
       "    .dataframe tbody tr th:only-of-type {\n",
       "        vertical-align: middle;\n",
       "    }\n",
       "\n",
       "    .dataframe tbody tr th {\n",
       "        vertical-align: top;\n",
       "    }\n",
       "\n",
       "    .dataframe thead th {\n",
       "        text-align: right;\n",
       "    }\n",
       "</style>\n",
       "<table border=\"1\" class=\"dataframe\">\n",
       "  <thead>\n",
       "    <tr style=\"text-align: right;\">\n",
       "      <th></th>\n",
       "      <th>SNO</th>\n",
       "      <th>NAME</th>\n",
       "      <th>AGE</th>\n",
       "    </tr>\n",
       "  </thead>\n",
       "  <tbody>\n",
       "    <tr>\n",
       "      <th>0</th>\n",
       "      <td>6</td>\n",
       "      <td>FFF</td>\n",
       "      <td>22</td>\n",
       "    </tr>\n",
       "    <tr>\n",
       "      <th>1</th>\n",
       "      <td>7</td>\n",
       "      <td>GGG</td>\n",
       "      <td>23</td>\n",
       "    </tr>\n",
       "    <tr>\n",
       "      <th>2</th>\n",
       "      <td>8</td>\n",
       "      <td>HHH</td>\n",
       "      <td>24</td>\n",
       "    </tr>\n",
       "    <tr>\n",
       "      <th>3</th>\n",
       "      <td>9</td>\n",
       "      <td>III</td>\n",
       "      <td>24</td>\n",
       "    </tr>\n",
       "    <tr>\n",
       "      <th>4</th>\n",
       "      <td>10</td>\n",
       "      <td>JJJ</td>\n",
       "      <td>25</td>\n",
       "    </tr>\n",
       "  </tbody>\n",
       "</table>\n",
       "</div>"
      ],
      "text/plain": [
       "   SNO NAME  AGE\n",
       "0    6  FFF   22\n",
       "1    7  GGG   23\n",
       "2    8  HHH   24\n",
       "3    9  III   24\n",
       "4   10  JJJ   25"
      ]
     },
     "execution_count": 13,
     "metadata": {},
     "output_type": "execute_result"
    }
   ],
   "source": [
    "#FUNCTION5-drop()\n",
    "df2=pd.DataFrame({'SNO':[6,7,8,9,10],'NAME':['FFF','GGG','HHH','III','JJJ'],'AGE':[22,23,24,24,25]})\n",
    "df2"
   ]
  },
  {
   "cell_type": "code",
   "execution_count": 14,
   "id": "d45af01f-9dcd-473f-b259-2cd8d2ef74ca",
   "metadata": {},
   "outputs": [
    {
     "data": {
      "text/html": [
       "<div>\n",
       "<style scoped>\n",
       "    .dataframe tbody tr th:only-of-type {\n",
       "        vertical-align: middle;\n",
       "    }\n",
       "\n",
       "    .dataframe tbody tr th {\n",
       "        vertical-align: top;\n",
       "    }\n",
       "\n",
       "    .dataframe thead th {\n",
       "        text-align: right;\n",
       "    }\n",
       "</style>\n",
       "<table border=\"1\" class=\"dataframe\">\n",
       "  <thead>\n",
       "    <tr style=\"text-align: right;\">\n",
       "      <th></th>\n",
       "      <th>SNO</th>\n",
       "      <th>NAME</th>\n",
       "    </tr>\n",
       "  </thead>\n",
       "  <tbody>\n",
       "    <tr>\n",
       "      <th>0</th>\n",
       "      <td>6</td>\n",
       "      <td>FFF</td>\n",
       "    </tr>\n",
       "    <tr>\n",
       "      <th>1</th>\n",
       "      <td>7</td>\n",
       "      <td>GGG</td>\n",
       "    </tr>\n",
       "    <tr>\n",
       "      <th>2</th>\n",
       "      <td>8</td>\n",
       "      <td>HHH</td>\n",
       "    </tr>\n",
       "    <tr>\n",
       "      <th>3</th>\n",
       "      <td>9</td>\n",
       "      <td>III</td>\n",
       "    </tr>\n",
       "    <tr>\n",
       "      <th>4</th>\n",
       "      <td>10</td>\n",
       "      <td>JJJ</td>\n",
       "    </tr>\n",
       "  </tbody>\n",
       "</table>\n",
       "</div>"
      ],
      "text/plain": [
       "   SNO NAME\n",
       "0    6  FFF\n",
       "1    7  GGG\n",
       "2    8  HHH\n",
       "3    9  III\n",
       "4   10  JJJ"
      ]
     },
     "execution_count": 14,
     "metadata": {},
     "output_type": "execute_result"
    }
   ],
   "source": [
    "df2.drop('AGE',axis=1)"
   ]
  },
  {
   "cell_type": "markdown",
   "id": "1ac8f803-7c8b-46c9-b92c-90e30b5d7fff",
   "metadata": {},
   "source": [
    "### ANSWER TO QUESTION 2:"
   ]
  },
  {
   "cell_type": "markdown",
   "id": "e52beafb-c8c9-481d-9ed8-43868fedf770",
   "metadata": {},
   "source": [
    "#### Given a Pandas DataFrame df with columns 'A', 'B', and 'C', write a Python function to re-index the \n",
    "#### DataFrame with a new index that starts from 1 and increments by 2 for each row"
   ]
  },
  {
   "cell_type": "code",
   "execution_count": 19,
   "id": "52eb8eb2-4ad8-49f7-8e7c-e620ea44c548",
   "metadata": {},
   "outputs": [],
   "source": [
    "df=pd.DataFrame({'A':[1,2,3],'B':[4,5,6],'C':[7,8,9]})\n"
   ]
  },
  {
   "cell_type": "code",
   "execution_count": 20,
   "id": "a4e67a90-11b4-4f7e-b404-4a0a01e41858",
   "metadata": {},
   "outputs": [
    {
     "data": {
      "text/html": [
       "<div>\n",
       "<style scoped>\n",
       "    .dataframe tbody tr th:only-of-type {\n",
       "        vertical-align: middle;\n",
       "    }\n",
       "\n",
       "    .dataframe tbody tr th {\n",
       "        vertical-align: top;\n",
       "    }\n",
       "\n",
       "    .dataframe thead th {\n",
       "        text-align: right;\n",
       "    }\n",
       "</style>\n",
       "<table border=\"1\" class=\"dataframe\">\n",
       "  <thead>\n",
       "    <tr style=\"text-align: right;\">\n",
       "      <th></th>\n",
       "      <th>A</th>\n",
       "      <th>B</th>\n",
       "      <th>C</th>\n",
       "    </tr>\n",
       "  </thead>\n",
       "  <tbody>\n",
       "    <tr>\n",
       "      <th>0</th>\n",
       "      <td>1</td>\n",
       "      <td>4</td>\n",
       "      <td>7</td>\n",
       "    </tr>\n",
       "    <tr>\n",
       "      <th>1</th>\n",
       "      <td>2</td>\n",
       "      <td>5</td>\n",
       "      <td>8</td>\n",
       "    </tr>\n",
       "    <tr>\n",
       "      <th>2</th>\n",
       "      <td>3</td>\n",
       "      <td>6</td>\n",
       "      <td>9</td>\n",
       "    </tr>\n",
       "  </tbody>\n",
       "</table>\n",
       "</div>"
      ],
      "text/plain": [
       "   A  B  C\n",
       "0  1  4  7\n",
       "1  2  5  8\n",
       "2  3  6  9"
      ]
     },
     "execution_count": 20,
     "metadata": {},
     "output_type": "execute_result"
    }
   ],
   "source": [
    "df"
   ]
  },
  {
   "cell_type": "code",
   "execution_count": 24,
   "id": "177cab3a-f490-42b2-aff2-ffd8ebce86f3",
   "metadata": {},
   "outputs": [],
   "source": [
    "df1=(range(1, 2*len(df)+1, 2))\n",
    "df.index=df1"
   ]
  },
  {
   "cell_type": "code",
   "execution_count": 25,
   "id": "3e37eadb-e5b3-403a-8a55-349957c3547b",
   "metadata": {},
   "outputs": [
    {
     "data": {
      "text/html": [
       "<div>\n",
       "<style scoped>\n",
       "    .dataframe tbody tr th:only-of-type {\n",
       "        vertical-align: middle;\n",
       "    }\n",
       "\n",
       "    .dataframe tbody tr th {\n",
       "        vertical-align: top;\n",
       "    }\n",
       "\n",
       "    .dataframe thead th {\n",
       "        text-align: right;\n",
       "    }\n",
       "</style>\n",
       "<table border=\"1\" class=\"dataframe\">\n",
       "  <thead>\n",
       "    <tr style=\"text-align: right;\">\n",
       "      <th></th>\n",
       "      <th>A</th>\n",
       "      <th>B</th>\n",
       "      <th>C</th>\n",
       "    </tr>\n",
       "  </thead>\n",
       "  <tbody>\n",
       "    <tr>\n",
       "      <th>1</th>\n",
       "      <td>1</td>\n",
       "      <td>4</td>\n",
       "      <td>7</td>\n",
       "    </tr>\n",
       "    <tr>\n",
       "      <th>3</th>\n",
       "      <td>2</td>\n",
       "      <td>5</td>\n",
       "      <td>8</td>\n",
       "    </tr>\n",
       "    <tr>\n",
       "      <th>5</th>\n",
       "      <td>3</td>\n",
       "      <td>6</td>\n",
       "      <td>9</td>\n",
       "    </tr>\n",
       "  </tbody>\n",
       "</table>\n",
       "</div>"
      ],
      "text/plain": [
       "   A  B  C\n",
       "1  1  4  7\n",
       "3  2  5  8\n",
       "5  3  6  9"
      ]
     },
     "execution_count": 25,
     "metadata": {},
     "output_type": "execute_result"
    }
   ],
   "source": [
    "df"
   ]
  },
  {
   "cell_type": "markdown",
   "id": "73f59e70-7c93-47d0-a7c2-ba01fb3450b3",
   "metadata": {},
   "source": [
    "### ANSWER TO QUESTION 3:"
   ]
  },
  {
   "cell_type": "markdown",
   "id": "03f65d0e-7699-4470-8e93-59ab4e1f056d",
   "metadata": {},
   "source": [
    "##### You have a Pandas DataFrame df with a column named 'Values'. Write a Python function that \n",
    "##### iterates over the DataFrame and calculates the sum of the first three values in the 'Values' column. The \n",
    "##### function should print the sum to the console.\n",
    "#####  For example, if the 'Values' column of df contains the values [10, 20, 30, 40, 50], your function should \n",
    "##### calculate and print the sum of the first three values, which is 60."
   ]
  },
  {
   "cell_type": "code",
   "execution_count": 57,
   "id": "d0ed3cf9-2a08-431c-9ef2-06ed65b62314",
   "metadata": {},
   "outputs": [
    {
     "data": {
      "text/plain": [
       "values    60\n",
       "dtype: int64"
      ]
     },
     "execution_count": 57,
     "metadata": {},
     "output_type": "execute_result"
    }
   ],
   "source": [
    "def question3(df):\n",
    "    df1=df.loc[0:2,['values']].sum()\n",
    "    return df1\n",
    "import pandas as pd\n",
    "df=pd.DataFrame({'SNO':[1,2,3,4,5],'NAME':['FFF','GGG','HHH','III','JJJ'],'values':[10,20,30,40,50]})\n",
    "question3(df)"
   ]
  },
  {
   "cell_type": "markdown",
   "id": "bab02f77-87d1-4969-8aff-a8f198eff2bc",
   "metadata": {},
   "source": [
    "### ANSWER TO QUESTION 4:"
   ]
  },
  {
   "cell_type": "markdown",
   "id": "00796751-189b-49a0-8f5d-6ce6b0332fd0",
   "metadata": {},
   "source": [
    "#### Given a Pandas DataFrame df with a column 'Text', write a Python function to create a new column \n",
    "#### 'Word_Count' that contains the number of words in each row of the 'Text' column."
   ]
  },
  {
   "cell_type": "code",
   "execution_count": 64,
   "id": "a45657bf-4419-4ab7-8876-1e644978933d",
   "metadata": {},
   "outputs": [
    {
     "name": "stdout",
     "output_type": "stream",
     "text": [
      "   SNO              TEXT  Word_Count\n",
      "0    1        hello i am           3\n",
      "1    2       kamesh from           2\n",
      "2    3  trichy tamilnadu           2\n",
      "3    4        welcome to           2\n",
      "4    5         our state           2\n"
     ]
    }
   ],
   "source": [
    "df=pd.DataFrame({'SNO':[1,2,3,4,5],'TEXT':['hello i am','kamesh from','trichy tamilnadu','welcome to','our state']})\n",
    "def add_word_count_column(df):\n",
    "    df['Word_Count'] = df['TEXT'].apply(lambda x: len(x.split()))\n",
    "    return df\n",
    "\n",
    "# Example usage\n",
    "df = add_word_count_column(df)\n",
    "print(df)"
   ]
  },
  {
   "cell_type": "markdown",
   "id": "16e8e899-c2a1-4e91-b640-def4452430af",
   "metadata": {},
   "source": [
    "### ANSWER TIO QUESTION 5:"
   ]
  },
  {
   "cell_type": "markdown",
   "id": "7a1fd14c-a796-4010-9be7-706ba33f2763",
   "metadata": {},
   "source": [
    "####  How are DataFrame.size() and DataFrame.shape() different?"
   ]
  },
  {
   "cell_type": "markdown",
   "id": "1599d93f-9d4d-478e-84d1-9563c76bd72e",
   "metadata": {},
   "source": [
    "##### DataFrame.size returns the total number of elements in the DataFrame, which is the product of the number of rows and columns. It's essentially the total count of data points in the DataFrame.\n",
    "\n",
    "##### DataFrame.shape, on the other hand, returns a tuple representing the dimensionality of the DataFrame, which includes the number of rows (first element) and the number of columns (second element).\n",
    "\n"
   ]
  },
  {
   "cell_type": "markdown",
   "id": "54647871-3b8b-4f8b-94d4-9638e79df2c6",
   "metadata": {},
   "source": [
    "### ANSWER TO QUESTION 6:"
   ]
  },
  {
   "cell_type": "markdown",
   "id": "fa3f7b5c-ed4a-4fa5-b15a-08f79c2d5be8",
   "metadata": {},
   "source": [
    "#### Which function of pandas do we use to read an excel file?"
   ]
  },
  {
   "cell_type": "markdown",
   "id": "a89c60b1-0308-4f4a-9a00-81f09348603f",
   "metadata": {},
   "source": [
    "##### read_csv() is used to read the excel files from pandas and it is to be noted that the pandas reads the first sheet of excel by default."
   ]
  },
  {
   "cell_type": "markdown",
   "id": "55693eb9-3463-4755-a661-4b9b22eac69c",
   "metadata": {},
   "source": [
    "### ANSWER TO QUESTION 7:"
   ]
  },
  {
   "cell_type": "markdown",
   "id": "faaa6797-a3a3-4674-85ea-a905806d7e7c",
   "metadata": {},
   "source": [
    "#### You have a Pandas DataFrame df that contains a column named 'Email' that contains email \n",
    "#### addresses in the format 'username@domain.com'. Write a Python function that creates a new column \n",
    "#### 'Username' in df that contains only the username part of each email address.\n",
    "#### The username is the part of the email address that appears before the '@' symbol. For example, if the \n",
    "#### email address is 'john.doe@example.com', the 'Username' column should contain 'john.doe'. Your \n",
    "#### function should extract the username from each email address and store it in the new 'Username' \n",
    "#### column"
   ]
  },
  {
   "cell_type": "code",
   "execution_count": 74,
   "id": "d31a8444-2b15-401e-8957-0535343b9a65",
   "metadata": {},
   "outputs": [
    {
     "data": {
      "text/html": [
       "<div>\n",
       "<style scoped>\n",
       "    .dataframe tbody tr th:only-of-type {\n",
       "        vertical-align: middle;\n",
       "    }\n",
       "\n",
       "    .dataframe tbody tr th {\n",
       "        vertical-align: top;\n",
       "    }\n",
       "\n",
       "    .dataframe thead th {\n",
       "        text-align: right;\n",
       "    }\n",
       "</style>\n",
       "<table border=\"1\" class=\"dataframe\">\n",
       "  <thead>\n",
       "    <tr style=\"text-align: right;\">\n",
       "      <th></th>\n",
       "      <th>SNO</th>\n",
       "      <th>NAME</th>\n",
       "      <th>EMAIL</th>\n",
       "      <th>username</th>\n",
       "    </tr>\n",
       "  </thead>\n",
       "  <tbody>\n",
       "    <tr>\n",
       "      <th>0</th>\n",
       "      <td>1</td>\n",
       "      <td>AAA</td>\n",
       "      <td>abinesh@gmail.com</td>\n",
       "      <td>abinesh</td>\n",
       "    </tr>\n",
       "    <tr>\n",
       "      <th>1</th>\n",
       "      <td>2</td>\n",
       "      <td>BBB</td>\n",
       "      <td>venkatesh.p@gmail.com</td>\n",
       "      <td>venkatesh.p</td>\n",
       "    </tr>\n",
       "    <tr>\n",
       "      <th>2</th>\n",
       "      <td>3</td>\n",
       "      <td>CCC</td>\n",
       "      <td>kamesh.s@gmail.com</td>\n",
       "      <td>kamesh.s</td>\n",
       "    </tr>\n",
       "    <tr>\n",
       "      <th>3</th>\n",
       "      <td>4</td>\n",
       "      <td>DDD</td>\n",
       "      <td>mohammed@gmail.com</td>\n",
       "      <td>mohammed</td>\n",
       "    </tr>\n",
       "    <tr>\n",
       "      <th>4</th>\n",
       "      <td>5</td>\n",
       "      <td>EEE</td>\n",
       "      <td>danieldavid@gmail.com</td>\n",
       "      <td>danieldavid</td>\n",
       "    </tr>\n",
       "  </tbody>\n",
       "</table>\n",
       "</div>"
      ],
      "text/plain": [
       "   SNO NAME                  EMAIL     username\n",
       "0    1  AAA      abinesh@gmail.com      abinesh\n",
       "1    2  BBB  venkatesh.p@gmail.com  venkatesh.p\n",
       "2    3  CCC     kamesh.s@gmail.com     kamesh.s\n",
       "3    4  DDD     mohammed@gmail.com     mohammed\n",
       "4    5  EEE  danieldavid@gmail.com  danieldavid"
      ]
     },
     "execution_count": 74,
     "metadata": {},
     "output_type": "execute_result"
    }
   ],
   "source": [
    "def retriveusername(df):\n",
    "    df['username']=df['EMAIL'].apply(lambda x: x.split('@')[0])\n",
    "    return df\n",
    "import pandas as pd\n",
    "df=pd.DataFrame({'SNO':[1,2,3,4,5],'NAME':['AAA','BBB','CCC','DDD','EEE'],'EMAIL':['abinesh@gmail.com','venkatesh.p@gmail.com','kamesh.s@gmail.com','mohammed@gmail.com','danieldavid@gmail.com']})\n",
    "retriveusername(df)"
   ]
  },
  {
   "cell_type": "markdown",
   "id": "d06efdde-fa88-4f7c-8892-20eec431c810",
   "metadata": {},
   "source": [
    "### ANSWER TO QUESTION 8:"
   ]
  },
  {
   "cell_type": "markdown",
   "id": "cad3d067-d0c3-4ec5-bc3e-192c49c65226",
   "metadata": {},
   "source": [
    "#### You have a Pandas DataFrame df with columns 'A', 'B', and 'C'. Write a Python function that selects \n",
    "#### all rows where the value in column 'A' is greater than 5 and the value in column 'B' is less than 10. The \n",
    "#### function should return a new DataFrame that contains only the selected rows.\n",
    "#### For example, if df contains the following values:\n",
    "#### A   B   C\n",
    "# 0  3   5   1\n",
    "# 1  8   2   7\n",
    "# 2  6   9   4\n",
    "# 3  2   3   5\n",
    "# 4  9   1   2\n",
    "#### Your function should select the following rows:   \n",
    "#### A   B   C\r",
    "#\n",
    " 1  8   2   7#\r\n",
    " 4  9   1   ####2\r\n",
    " The function should return a new DataFrame that contains only the selected rows."
   ]
  },
  {
   "cell_type": "code",
   "execution_count": 1,
   "id": "0c5d17ac-0459-429e-8134-c5d901ff8fb0",
   "metadata": {},
   "outputs": [
    {
     "data": {
      "text/html": [
       "<div>\n",
       "<style scoped>\n",
       "    .dataframe tbody tr th:only-of-type {\n",
       "        vertical-align: middle;\n",
       "    }\n",
       "\n",
       "    .dataframe tbody tr th {\n",
       "        vertical-align: top;\n",
       "    }\n",
       "\n",
       "    .dataframe thead th {\n",
       "        text-align: right;\n",
       "    }\n",
       "</style>\n",
       "<table border=\"1\" class=\"dataframe\">\n",
       "  <thead>\n",
       "    <tr style=\"text-align: right;\">\n",
       "      <th></th>\n",
       "      <th>A</th>\n",
       "      <th>B</th>\n",
       "      <th>C</th>\n",
       "    </tr>\n",
       "  </thead>\n",
       "  <tbody>\n",
       "    <tr>\n",
       "      <th>0</th>\n",
       "      <td>3</td>\n",
       "      <td>5</td>\n",
       "      <td>1</td>\n",
       "    </tr>\n",
       "    <tr>\n",
       "      <th>1</th>\n",
       "      <td>8</td>\n",
       "      <td>2</td>\n",
       "      <td>7</td>\n",
       "    </tr>\n",
       "    <tr>\n",
       "      <th>2</th>\n",
       "      <td>6</td>\n",
       "      <td>9</td>\n",
       "      <td>4</td>\n",
       "    </tr>\n",
       "    <tr>\n",
       "      <th>3</th>\n",
       "      <td>2</td>\n",
       "      <td>3</td>\n",
       "      <td>5</td>\n",
       "    </tr>\n",
       "    <tr>\n",
       "      <th>4</th>\n",
       "      <td>9</td>\n",
       "      <td>1</td>\n",
       "      <td>2</td>\n",
       "    </tr>\n",
       "  </tbody>\n",
       "</table>\n",
       "</div>"
      ],
      "text/plain": [
       "   A  B  C\n",
       "0  3  5  1\n",
       "1  8  2  7\n",
       "2  6  9  4\n",
       "3  2  3  5\n",
       "4  9  1  2"
      ]
     },
     "execution_count": 1,
     "metadata": {},
     "output_type": "execute_result"
    }
   ],
   "source": [
    "import pandas as pd\n",
    "df=pd.DataFrame({'A':[3,8,6,2,9],'B':[5,2,9,3,1],'C':[1,7,4,5,2]})\n",
    "df"
   ]
  },
  {
   "cell_type": "code",
   "execution_count": 5,
   "id": "ce42f08d-ced9-461b-b788-a0115aff1fef",
   "metadata": {},
   "outputs": [
    {
     "data": {
      "text/html": [
       "<div>\n",
       "<style scoped>\n",
       "    .dataframe tbody tr th:only-of-type {\n",
       "        vertical-align: middle;\n",
       "    }\n",
       "\n",
       "    .dataframe tbody tr th {\n",
       "        vertical-align: top;\n",
       "    }\n",
       "\n",
       "    .dataframe thead th {\n",
       "        text-align: right;\n",
       "    }\n",
       "</style>\n",
       "<table border=\"1\" class=\"dataframe\">\n",
       "  <thead>\n",
       "    <tr style=\"text-align: right;\">\n",
       "      <th></th>\n",
       "      <th>A</th>\n",
       "      <th>B</th>\n",
       "      <th>C</th>\n",
       "    </tr>\n",
       "  </thead>\n",
       "  <tbody>\n",
       "    <tr>\n",
       "      <th>1</th>\n",
       "      <td>8</td>\n",
       "      <td>2</td>\n",
       "      <td>7</td>\n",
       "    </tr>\n",
       "    <tr>\n",
       "      <th>2</th>\n",
       "      <td>6</td>\n",
       "      <td>9</td>\n",
       "      <td>4</td>\n",
       "    </tr>\n",
       "    <tr>\n",
       "      <th>4</th>\n",
       "      <td>9</td>\n",
       "      <td>1</td>\n",
       "      <td>2</td>\n",
       "    </tr>\n",
       "  </tbody>\n",
       "</table>\n",
       "</div>"
      ],
      "text/plain": [
       "   A  B  C\n",
       "1  8  2  7\n",
       "2  6  9  4\n",
       "4  9  1  2"
      ]
     },
     "execution_count": 5,
     "metadata": {},
     "output_type": "execute_result"
    }
   ],
   "source": [
    "import pandas as pd\n",
    "df=pd.DataFrame({'A':[3,8,6,2,9],'B':[5,2,9,3,1],'C':[1,7,4,5,2]})\n",
    "def function01(df):\n",
    "    df1=df[(df['A']>5) & (df['B']<10)]\n",
    "    return df1\n",
    "function01(df)\n",
    "    "
   ]
  },
  {
   "cell_type": "markdown",
   "id": "8f5f76ce-bb34-4451-a769-16ca0a074c98",
   "metadata": {},
   "source": [
    "### ANSWER TO QUESTION 9:"
   ]
  },
  {
   "cell_type": "markdown",
   "id": "05129692-b3ea-45de-a069-c65db6700573",
   "metadata": {},
   "source": [
    "#### Given a Pandas DataFrame df with a column 'Values', write a Python function to calculate the mean, \n",
    "#### median, and standard deviation of the values in the 'Values' column"
   ]
  },
  {
   "cell_type": "code",
   "execution_count": 6,
   "id": "97e4f04d-3af0-464a-b5cc-797993e575c1",
   "metadata": {},
   "outputs": [
    {
     "name": "stdout",
     "output_type": "stream",
     "text": [
      "The Mean is: 300.0 \n",
      "The Median is: 300.0 \n",
      "The Standard Deviation is: 158.11388300841898\n"
     ]
    }
   ],
   "source": [
    "import pandas as pd\n",
    "df=pd.DataFrame({'name':[\"AAA\",\"BBB\",\"CCC\",\"DDD\",\"EEE\"],'values':[100,200,300,400,500]})\n",
    "me=df['values'].mean()\n",
    "med=df['values'].median()\n",
    "st=df['values'].std()\n",
    "print(\"The Mean is:\",me,\"\\nThe Median is:\",med,\"\\nThe Standard Deviation is:\",st)"
   ]
  },
  {
   "cell_type": "markdown",
   "id": "29da02cb-0232-4b1c-84c3-9e2be7c30ed1",
   "metadata": {},
   "source": [
    "### ANSWER TO QUESTION 10:"
   ]
  },
  {
   "cell_type": "markdown",
   "id": "aecf277f-735c-43d3-8673-17226325fe09",
   "metadata": {},
   "source": [
    "#### Given a Pandas DataFrame df with a column 'Sales' and a column 'Date', write a Python function to \n",
    "#### create a new column 'MovingAverage' that contains the moving average of the sales for the past 7 days \n",
    "#### for each row in the DataFrame. The moving average should be calculated using a window of size 7 and \n",
    "#### should include the current day."
   ]
  },
  {
   "cell_type": "code",
   "execution_count": 8,
   "id": "462e9e6f-4427-47b2-b549-90931e384111",
   "metadata": {},
   "outputs": [
    {
     "data": {
      "text/html": [
       "<div>\n",
       "<style scoped>\n",
       "    .dataframe tbody tr th:only-of-type {\n",
       "        vertical-align: middle;\n",
       "    }\n",
       "\n",
       "    .dataframe tbody tr th {\n",
       "        vertical-align: top;\n",
       "    }\n",
       "\n",
       "    .dataframe thead th {\n",
       "        text-align: right;\n",
       "    }\n",
       "</style>\n",
       "<table border=\"1\" class=\"dataframe\">\n",
       "  <thead>\n",
       "    <tr style=\"text-align: right;\">\n",
       "      <th></th>\n",
       "      <th>Sales</th>\n",
       "      <th>Date</th>\n",
       "    </tr>\n",
       "  </thead>\n",
       "  <tbody>\n",
       "    <tr>\n",
       "      <th>0</th>\n",
       "      <td>1000</td>\n",
       "      <td>2024-07-15</td>\n",
       "    </tr>\n",
       "    <tr>\n",
       "      <th>1</th>\n",
       "      <td>2000</td>\n",
       "      <td>2024-07-16</td>\n",
       "    </tr>\n",
       "    <tr>\n",
       "      <th>2</th>\n",
       "      <td>1500</td>\n",
       "      <td>2024-07-17</td>\n",
       "    </tr>\n",
       "    <tr>\n",
       "      <th>3</th>\n",
       "      <td>700</td>\n",
       "      <td>2024-07-18</td>\n",
       "    </tr>\n",
       "    <tr>\n",
       "      <th>4</th>\n",
       "      <td>4000</td>\n",
       "      <td>2024-07-19</td>\n",
       "    </tr>\n",
       "    <tr>\n",
       "      <th>5</th>\n",
       "      <td>6500</td>\n",
       "      <td>2024-07-20</td>\n",
       "    </tr>\n",
       "    <tr>\n",
       "      <th>6</th>\n",
       "      <td>3000</td>\n",
       "      <td>2024-07-21</td>\n",
       "    </tr>\n",
       "  </tbody>\n",
       "</table>\n",
       "</div>"
      ],
      "text/plain": [
       "   Sales        Date\n",
       "0   1000  2024-07-15\n",
       "1   2000  2024-07-16\n",
       "2   1500  2024-07-17\n",
       "3    700  2024-07-18\n",
       "4   4000  2024-07-19\n",
       "5   6500  2024-07-20\n",
       "6   3000  2024-07-21"
      ]
     },
     "execution_count": 8,
     "metadata": {},
     "output_type": "execute_result"
    }
   ],
   "source": [
    "import pandas as pd\n",
    "df=pd.DataFrame({'Sales':[1000,2000,1500,700,4000,6500,3000],'Date':['2024-07-15','2024-07-16','2024-07-17','2024-07-18','2024-07-19','2024-07-20','2024-07-21']})\n",
    "df"
   ]
  },
  {
   "cell_type": "code",
   "execution_count": 15,
   "id": "2c55f3a3-5067-4cec-8737-2ac17811da19",
   "metadata": {},
   "outputs": [
    {
     "data": {
      "text/html": [
       "<div>\n",
       "<style scoped>\n",
       "    .dataframe tbody tr th:only-of-type {\n",
       "        vertical-align: middle;\n",
       "    }\n",
       "\n",
       "    .dataframe tbody tr th {\n",
       "        vertical-align: top;\n",
       "    }\n",
       "\n",
       "    .dataframe thead th {\n",
       "        text-align: right;\n",
       "    }\n",
       "</style>\n",
       "<table border=\"1\" class=\"dataframe\">\n",
       "  <thead>\n",
       "    <tr style=\"text-align: right;\">\n",
       "      <th></th>\n",
       "      <th>Sales</th>\n",
       "      <th>Date</th>\n",
       "      <th>MovingAverage</th>\n",
       "      <th>Day</th>\n",
       "    </tr>\n",
       "  </thead>\n",
       "  <tbody>\n",
       "    <tr>\n",
       "      <th>0</th>\n",
       "      <td>1000</td>\n",
       "      <td>2024-07-15</td>\n",
       "      <td>1000.000000</td>\n",
       "      <td>15</td>\n",
       "    </tr>\n",
       "    <tr>\n",
       "      <th>1</th>\n",
       "      <td>2000</td>\n",
       "      <td>2024-07-16</td>\n",
       "      <td>1500.000000</td>\n",
       "      <td>16</td>\n",
       "    </tr>\n",
       "    <tr>\n",
       "      <th>2</th>\n",
       "      <td>1500</td>\n",
       "      <td>2024-07-17</td>\n",
       "      <td>1500.000000</td>\n",
       "      <td>17</td>\n",
       "    </tr>\n",
       "    <tr>\n",
       "      <th>3</th>\n",
       "      <td>700</td>\n",
       "      <td>2024-07-18</td>\n",
       "      <td>1300.000000</td>\n",
       "      <td>18</td>\n",
       "    </tr>\n",
       "    <tr>\n",
       "      <th>4</th>\n",
       "      <td>4000</td>\n",
       "      <td>2024-07-19</td>\n",
       "      <td>1840.000000</td>\n",
       "      <td>19</td>\n",
       "    </tr>\n",
       "    <tr>\n",
       "      <th>5</th>\n",
       "      <td>6500</td>\n",
       "      <td>2024-07-20</td>\n",
       "      <td>2616.666667</td>\n",
       "      <td>20</td>\n",
       "    </tr>\n",
       "    <tr>\n",
       "      <th>6</th>\n",
       "      <td>3000</td>\n",
       "      <td>2024-07-21</td>\n",
       "      <td>2671.428571</td>\n",
       "      <td>21</td>\n",
       "    </tr>\n",
       "  </tbody>\n",
       "</table>\n",
       "</div>"
      ],
      "text/plain": [
       "   Sales       Date  MovingAverage  Day\n",
       "0   1000 2024-07-15    1000.000000   15\n",
       "1   2000 2024-07-16    1500.000000   16\n",
       "2   1500 2024-07-17    1500.000000   17\n",
       "3    700 2024-07-18    1300.000000   18\n",
       "4   4000 2024-07-19    1840.000000   19\n",
       "5   6500 2024-07-20    2616.666667   20\n",
       "6   3000 2024-07-21    2671.428571   21"
      ]
     },
     "execution_count": 15,
     "metadata": {},
     "output_type": "execute_result"
    }
   ],
   "source": [
    "def question10(df):\n",
    "    df['Date'] = pd.to_datetime(df['Date'])\n",
    "    df['MovingAverage']=df['Sales'].rolling(window=7,min_periods=1).mean()\n",
    "    df['Day']=df['Date'].dt.day\n",
    "    return df\n",
    "import pandas as pd\n",
    "df=pd.DataFrame({'Sales':[1000,2000,1500,700,4000,6500,3000],'Date':['2024-07-15','2024-07-16','2024-07-17','2024-07-18','2024-07-19','2024-07-20','2024-07-21']})\n",
    "question10(df)"
   ]
  },
  {
   "cell_type": "markdown",
   "id": "46c3e402-0f86-408f-a4a5-55cf25da63a6",
   "metadata": {},
   "source": [
    "### ASNWER TO QUESTION 11:"
   ]
  },
  {
   "cell_type": "markdown",
   "id": "35edcb36-7386-495c-b261-1454c0ecabbf",
   "metadata": {},
   "source": [
    "#### You have a Pandas DataFrame df with a column 'Date'. Write a Python function that creates a new \n",
    "#### column 'Weekday' in the DataFrame. The 'Weekday' column should contain the weekday name (e.g. \n",
    "#### Monday, Tuesday) corresponding to each date in the 'Date' column."
   ]
  },
  {
   "cell_type": "code",
   "execution_count": 18,
   "id": "e7b37e2c-7ef5-49ec-b4f8-4ff98b485a4e",
   "metadata": {},
   "outputs": [
    {
     "data": {
      "text/html": [
       "<div>\n",
       "<style scoped>\n",
       "    .dataframe tbody tr th:only-of-type {\n",
       "        vertical-align: middle;\n",
       "    }\n",
       "\n",
       "    .dataframe tbody tr th {\n",
       "        vertical-align: top;\n",
       "    }\n",
       "\n",
       "    .dataframe thead th {\n",
       "        text-align: right;\n",
       "    }\n",
       "</style>\n",
       "<table border=\"1\" class=\"dataframe\">\n",
       "  <thead>\n",
       "    <tr style=\"text-align: right;\">\n",
       "      <th></th>\n",
       "      <th>Date</th>\n",
       "      <th>Day</th>\n",
       "    </tr>\n",
       "  </thead>\n",
       "  <tbody>\n",
       "    <tr>\n",
       "      <th>0</th>\n",
       "      <td>2024-07-15</td>\n",
       "      <td>Monday</td>\n",
       "    </tr>\n",
       "    <tr>\n",
       "      <th>1</th>\n",
       "      <td>2024-07-16</td>\n",
       "      <td>Tuesday</td>\n",
       "    </tr>\n",
       "    <tr>\n",
       "      <th>2</th>\n",
       "      <td>2024-07-17</td>\n",
       "      <td>Wednesday</td>\n",
       "    </tr>\n",
       "    <tr>\n",
       "      <th>3</th>\n",
       "      <td>2024-07-18</td>\n",
       "      <td>Thursday</td>\n",
       "    </tr>\n",
       "    <tr>\n",
       "      <th>4</th>\n",
       "      <td>2024-07-19</td>\n",
       "      <td>Friday</td>\n",
       "    </tr>\n",
       "    <tr>\n",
       "      <th>5</th>\n",
       "      <td>2024-07-20</td>\n",
       "      <td>Saturday</td>\n",
       "    </tr>\n",
       "    <tr>\n",
       "      <th>6</th>\n",
       "      <td>2024-07-21</td>\n",
       "      <td>Sunday</td>\n",
       "    </tr>\n",
       "  </tbody>\n",
       "</table>\n",
       "</div>"
      ],
      "text/plain": [
       "        Date        Day\n",
       "0 2024-07-15     Monday\n",
       "1 2024-07-16    Tuesday\n",
       "2 2024-07-17  Wednesday\n",
       "3 2024-07-18   Thursday\n",
       "4 2024-07-19     Friday\n",
       "5 2024-07-20   Saturday\n",
       "6 2024-07-21     Sunday"
      ]
     },
     "execution_count": 18,
     "metadata": {},
     "output_type": "execute_result"
    }
   ],
   "source": [
    "import pandas as pd\n",
    "df=pd.DataFrame({'Date':['2024-07-15','2024-07-16','2024-07-17','2024-07-18','2024-07-19','2024-07-20','2024-07-21']})\n",
    "\n",
    "def question11(df):\n",
    "    df['Date']=pd.to_datetime(df['Date'])\n",
    "    df['Day']=df['Date'].dt.day_name()\n",
    "    return df\n",
    "question11(df)"
   ]
  },
  {
   "cell_type": "markdown",
   "id": "2cb76bf4-aeac-4a0f-9d12-83be3dced0ea",
   "metadata": {},
   "source": [
    "### ANSWER TO QUESTION 12: "
   ]
  },
  {
   "cell_type": "markdown",
   "id": "ba2765a6-01d9-4c5b-883d-84bc6dcb99e0",
   "metadata": {},
   "source": [
    "#### Given a Pandas DataFrame df with a column 'Date' that contains timestamps, write a Python \n",
    "#### function to select all rows where the date is between '2023-01-01' and '2023-01-31'"
   ]
  },
  {
   "cell_type": "code",
   "execution_count": 19,
   "id": "d364d859-f085-4dec-8e51-d09561fc4b52",
   "metadata": {},
   "outputs": [
    {
     "data": {
      "text/html": [
       "<div>\n",
       "<style scoped>\n",
       "    .dataframe tbody tr th:only-of-type {\n",
       "        vertical-align: middle;\n",
       "    }\n",
       "\n",
       "    .dataframe tbody tr th {\n",
       "        vertical-align: top;\n",
       "    }\n",
       "\n",
       "    .dataframe thead th {\n",
       "        text-align: right;\n",
       "    }\n",
       "</style>\n",
       "<table border=\"1\" class=\"dataframe\">\n",
       "  <thead>\n",
       "    <tr style=\"text-align: right;\">\n",
       "      <th></th>\n",
       "      <th>Date</th>\n",
       "      <th>Sales</th>\n",
       "    </tr>\n",
       "  </thead>\n",
       "  <tbody>\n",
       "    <tr>\n",
       "      <th>0</th>\n",
       "      <td>2023-01-05 10:00:00</td>\n",
       "      <td>1000</td>\n",
       "    </tr>\n",
       "    <tr>\n",
       "      <th>1</th>\n",
       "      <td>2023-01-15 12:30:00</td>\n",
       "      <td>1500</td>\n",
       "    </tr>\n",
       "    <tr>\n",
       "      <th>3</th>\n",
       "      <td>2023-01-25 14:00:00</td>\n",
       "      <td>2500</td>\n",
       "    </tr>\n",
       "  </tbody>\n",
       "</table>\n",
       "</div>"
      ],
      "text/plain": [
       "                  Date  Sales\n",
       "0  2023-01-05 10:00:00   1000\n",
       "1  2023-01-15 12:30:00   1500\n",
       "3  2023-01-25 14:00:00   2500"
      ]
     },
     "execution_count": 19,
     "metadata": {},
     "output_type": "execute_result"
    }
   ],
   "source": [
    "import pandas as pd\n",
    "df = pd.DataFrame({\n",
    "    'Date': [\n",
    "        '2023-01-05 10:00:00', '2023-01-15 12:30:00', '2023-02-01 09:00:00', \n",
    "        '2023-01-25 14:00:00', '2022-12-31 23:59:59'\n",
    "    ],\n",
    "    'Sales': [1000, 1500, 2000, 2500, 3000]})\n",
    "def question12(df):\n",
    "    df_new=df[df['Date'].between('2023-01-01','2023-01-31')]\n",
    "    return df_new\n",
    "question12(df)"
   ]
  },
  {
   "cell_type": "markdown",
   "id": "861b1435-20c9-413d-b1ca-a3a8b6930df8",
   "metadata": {},
   "source": [
    "### ANSWER TO QUESTION 13:"
   ]
  },
  {
   "cell_type": "markdown",
   "id": "b0e048dd-4173-429c-9831-a12168b344e3",
   "metadata": {},
   "source": [
    "#### To use the basic functions of pandas, what is the first and foremost necessary library that needs to be imported?"
   ]
  },
  {
   "cell_type": "markdown",
   "id": "13bca209-d7eb-4bc2-86d2-7abefc88d914",
   "metadata": {},
   "source": [
    "#### importing pandas libnrary is the first and foremost thing that we mustfirst and we may use alice to call it whereever we need it."
   ]
  },
  {
   "cell_type": "code",
   "execution_count": null,
   "id": "70832dc4-9d84-4913-af5e-881c4ac4ed37",
   "metadata": {},
   "outputs": [],
   "source": []
  }
 ],
 "metadata": {
  "kernelspec": {
   "display_name": "Python 3 (ipykernel)",
   "language": "python",
   "name": "python3"
  },
  "language_info": {
   "codemirror_mode": {
    "name": "ipython",
    "version": 3
   },
   "file_extension": ".py",
   "mimetype": "text/x-python",
   "name": "python",
   "nbconvert_exporter": "python",
   "pygments_lexer": "ipython3",
   "version": "3.11.7"
  }
 },
 "nbformat": 4,
 "nbformat_minor": 5
}

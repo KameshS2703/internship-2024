{
 "cells": [
  {
   "cell_type": "markdown",
   "id": "014aece4-39f8-40f9-abae-cdf0d574bef2",
   "metadata": {},
   "source": [
    "### ANSWER TO QUESTION 1:\n",
    "#### Explain Class and Object with respect to Object-Oriented Programming. Give a suitable example."
   ]
  },
  {
   "cell_type": "markdown",
   "id": "9126b26f-bcf4-46c1-8879-1608c3bfc4e7",
   "metadata": {},
   "source": [
    "##### CLASS:\n",
    "###### In OOP (Object-Oriented Programming), a class is defined as a blueprint or a template that defines the properties and behavior of an object. A class is a collection of:\n",
    "###### Data members (also known as attributes or properties): These are the data elements that define the state of an object.\n",
    "###### Methods (also known as functions or procedures): These are the actions that can be performed on an object.\n",
    "\n",
    "##### OBJECTS:\n",
    "###### In Object-Oriented Programming (OOP), objects are instances of classes. They have their own set of attributes (data) and methods (functions) that operate on that data.\n"
   ]
  },
  {
   "cell_type": "code",
   "execution_count": 3,
   "id": "03efd01b-a3bc-47f0-8390-7b14f09dc103",
   "metadata": {},
   "outputs": [
    {
     "name": "stdout",
     "output_type": "stream",
     "text": [
      "(12, 'Kamesh', 12345, 24)\n",
      "(12, 'Kamesh', 5)\n"
     ]
    }
   ],
   "source": [
    "class India:\n",
    "    def __init__(self, sno, name, phonenumber):\n",
    "        self.sno = sno\n",
    "        self.name = name\n",
    "        self.phonenumber = phonenumber\n",
    "\n",
    "    def cricketteam(self,jerseyno, name, score, wickets):\n",
    "        self.jerseyno=jerseyno\n",
    "        self.name=name\n",
    "        self.score=score\n",
    "        self.wickets=wickets\n",
    "        return self.jerseyno,self.name,self.score,self.wickets\n",
    "\n",
    "    def footballteam(self, jerseyno, name, goals):\n",
    "        self.jerseyno = jerseyno\n",
    "        self.name = name\n",
    "        self.goals = goals\n",
    "        return self.jerseyno, self.name, self.goals\n",
    "#here, object is created.remember when creating an object we need to initialize attributes in the __init__ method.\n",
    "kamesh = India(1, 'Kamesh', 1234567890)\n",
    "#here,object is called. here we are not using the attributes of__init__ method as here we are calling the object.\n",
    "print(kamesh.cricketteam(12, 'Kamesh', 12345, 24))\n",
    "print(kamesh.footballteam(12, 'Kamesh', 5))\n"
   ]
  },
  {
   "cell_type": "code",
   "execution_count": 12,
   "id": "550aa9a0-eca5-4328-a875-53c59f8677ae",
   "metadata": {},
   "outputs": [],
   "source": [
    "kamesh.jerseyno"
   ]
  },
  {
   "cell_type": "markdown",
   "id": "9744337c-c8dc-4aea-b163-2e715b38ba54",
   "metadata": {},
   "source": [
    "### ANSWER TO QUESTION 2:"
   ]
  },
  {
   "cell_type": "markdown",
   "id": "fa9977c8-91e9-4037-93c0-3fc559d24950",
   "metadata": {},
   "source": [
    "#### Name the four pillars of OOPs."
   ]
  },
  {
   "cell_type": "markdown",
   "id": "bd711081-022f-470b-995e-3eb1b57b56ea",
   "metadata": {},
   "source": [
    "### four pillars of OOPS:\n",
    "### 1.encapsulation\n",
    "### 2.inheritance\n",
    "### 3.polymorphism\n",
    "### 4.abstraction\n"
   ]
  },
  {
   "cell_type": "markdown",
   "id": "db58b0f9-dbda-41e9-b848-37a904f14a85",
   "metadata": {},
   "source": [
    "### ANSWER TO QUESTION 3:\n",
    "\n",
    "#### Explain why the __init__() function is used. Give a suitable example."
   ]
  },
  {
   "cell_type": "markdown",
   "id": "fcb46470-3488-4619-a1d0-49ce648d4a25",
   "metadata": {},
   "source": [
    "#### the init function is called every time an object is created from a class. The init method lets the class initialize the object's attributes and serves no other purpose. It is only used within classes.\n"
   ]
  },
  {
   "cell_type": "markdown",
   "id": "dce7325a-80fe-4309-944a-ebff14ec2eeb",
   "metadata": {},
   "source": [
    "#### Example:"
   ]
  },
  {
   "cell_type": "code",
   "execution_count": 16,
   "id": "421f225c-1f37-4a67-ad20-3c78768e26f1",
   "metadata": {},
   "outputs": [],
   "source": [
    "class studentmarks:\n",
    "    def __init__(self,sno,name,mark1,mark2,mark3):\n",
    "        self.sno=sno\n",
    "        self.name=name\n",
    "        self.mark1=mark1\n",
    "        self.mark2=mark2\n",
    "        self.mark3=mark3\n",
    "    def subject1(self):\n",
    "        if self.mark1>90:\n",
    "            print(f\"your grade at subject1 for\",{self.mark1},\"mark is A\")\n",
    "        elif self.mark1>60 and self.mark1<=90:\n",
    "            print(f\"your grade at subject1 for\",{self.mark1},\"mark is B\")\n",
    "        elif self.mark1<=60:\n",
    "            print(f\"your grade at subject1 for\",{self.mark1},\"mark is C\")\n",
    "        else:\n",
    "            print(\"please enter the correct mark\")\n",
    "    def subject2(self):\n",
    "        if self.mark2>90:\n",
    "            print(f\"your grade at subject2 for\",{self.mark2},\"mark is A\")\n",
    "        elif self.mark2>60 and self.mark2<=90:\n",
    "            print(f\"your grade at subject2 for\",{self.mark2},\"mark is B\")\n",
    "        elif self.mark2<=60:\n",
    "            print(f\"your grade at subject2 for\",{self.mark2},\"mark is C\")\n",
    "        else:\n",
    "            print(\"please enter the correct mark\")\n",
    "    def subject3(self):\n",
    "        if self.mark3>90:\n",
    "            print(f\"your grade at subject3 for\",{self.mark3},\"mark is A\")\n",
    "        elif self.mark3>60 and self.mark3<=90:\n",
    "            print(f\"your grade at subject3 for\",{self.mark3},\"mark is B\")\n",
    "        elif self.mark3<=60:\n",
    "            print(f\"your grade at subject3 for\",{self.mark3},\"mark is C\")\n",
    "        else:\n",
    "            print(\"please enter the correct mark\")\n",
    "\n"
   ]
  },
  {
   "cell_type": "code",
   "execution_count": 22,
   "id": "8f6a008d-9f4e-4d10-903b-a89d04bcea03",
   "metadata": {},
   "outputs": [],
   "source": [
    "kamesh=studentmarks(1,'kamesh',91,47,75)"
   ]
  },
  {
   "cell_type": "code",
   "execution_count": 23,
   "id": "6e98762c-a2df-448e-be26-193a97bd0204",
   "metadata": {},
   "outputs": [
    {
     "name": "stdout",
     "output_type": "stream",
     "text": [
      "your grade at subject1 for {91} mark is A\n"
     ]
    }
   ],
   "source": [
    "kamesh.subject1()"
   ]
  },
  {
   "cell_type": "code",
   "execution_count": 24,
   "id": "8d1e47fc-57d8-4db5-862e-3d10cc72ee0f",
   "metadata": {},
   "outputs": [
    {
     "name": "stdout",
     "output_type": "stream",
     "text": [
      "your grade at subject2 for {47} mark is C\n"
     ]
    }
   ],
   "source": [
    "kamesh.subject2()"
   ]
  },
  {
   "cell_type": "code",
   "execution_count": 25,
   "id": "b20170cb-804f-47b5-aaad-1a14a8777822",
   "metadata": {},
   "outputs": [
    {
     "name": "stdout",
     "output_type": "stream",
     "text": [
      "your grade at subject3 for {75} mark is B\n"
     ]
    }
   ],
   "source": [
    "kamesh.subject3()"
   ]
  },
  {
   "cell_type": "markdown",
   "id": "72be26ec-16ae-4e7c-b143-e2117ae135a8",
   "metadata": {},
   "source": [
    "### ANSWER TO QUESTION 4:"
   ]
  },
  {
   "cell_type": "markdown",
   "id": "fee98fff-3b5a-4dd5-8690-ca1bd49acfaf",
   "metadata": {},
   "source": [
    "#### Why self is used in OOPs?"
   ]
  },
  {
   "cell_type": "markdown",
   "id": "cf1ad010-27c0-43ec-bcaf-f3c9b7a70027",
   "metadata": {},
   "source": [
    "#### The self variable is used to represent the instance of the class which is often used in object-oriented programming. It works as a reference to the object. Python uses the self parameter to refer to instance attributes and methods of the class."
   ]
  },
  {
   "cell_type": "markdown",
   "id": "2a6b0b7b-1d3d-4d55-9b3b-fd92cc2a7439",
   "metadata": {},
   "source": [
    "### ANSWER TO QUESTION 5:"
   ]
  },
  {
   "cell_type": "markdown",
   "id": "83888929-8461-4170-9f2c-a7bb7ba50e5b",
   "metadata": {},
   "source": [
    "#### Inheritance allows us to define a class that inherits all the methods and properties from another class. Parent class is the class being inherited from, also called base class. Child class is the class that inherits from another class, also called derived class.\n",
    "##### There Are Two Types of Inheritence,\n",
    "##### 1.Multi-Level Inheritence\n",
    "##### 2.Mulitple Inheritence"
   ]
  },
  {
   "cell_type": "code",
   "execution_count": 30,
   "id": "78e03b5d-017e-4993-85fb-13adc1d3fff4",
   "metadata": {},
   "outputs": [],
   "source": [
    "# Multi-level Inheritence\n",
    "class class1:\n",
    "    def test_class1(self):\n",
    "        print(\"this is class1\")\n",
    "class class2(class1):\n",
    "    def test_class2(self):\n",
    "        print(\"this is my class2\")\n",
    "class class3(class2):\n",
    "    def test_class3(self):\n",
    "        print(\"this is my class3\")"
   ]
  },
  {
   "cell_type": "code",
   "execution_count": 32,
   "id": "5499652e-320a-4341-ac48-41142d5feee3",
   "metadata": {},
   "outputs": [],
   "source": [
    "object1=class1()\n"
   ]
  },
  {
   "cell_type": "code",
   "execution_count": 33,
   "id": "4af14384-cf8f-45aa-aa44-a8f301924686",
   "metadata": {},
   "outputs": [
    {
     "name": "stdout",
     "output_type": "stream",
     "text": [
      "this is class1\n"
     ]
    }
   ],
   "source": [
    "object1.test_class1()"
   ]
  },
  {
   "cell_type": "code",
   "execution_count": 36,
   "id": "0f75299e-b5fc-4c58-8ce4-8d64dfd59eb4",
   "metadata": {},
   "outputs": [],
   "source": [
    "object2=class2()"
   ]
  },
  {
   "cell_type": "code",
   "execution_count": 38,
   "id": "4e9cec16-0069-4dd0-8a83-5ef0dee261e9",
   "metadata": {},
   "outputs": [
    {
     "name": "stdout",
     "output_type": "stream",
     "text": [
      "this is my class2\n"
     ]
    }
   ],
   "source": [
    "object2.test_class2()"
   ]
  },
  {
   "cell_type": "code",
   "execution_count": 39,
   "id": "2aa60725-fae4-456f-a4d0-e80255f77281",
   "metadata": {},
   "outputs": [
    {
     "name": "stdout",
     "output_type": "stream",
     "text": [
      "this is class1\n"
     ]
    }
   ],
   "source": [
    "object2.test_class1()"
   ]
  },
  {
   "cell_type": "code",
   "execution_count": 41,
   "id": "114ef042-6021-48cd-a7c2-349b0d876072",
   "metadata": {},
   "outputs": [],
   "source": [
    "object3=class3()"
   ]
  },
  {
   "cell_type": "code",
   "execution_count": 42,
   "id": "08b4a385-19db-410c-8ec8-ed067ea3ed37",
   "metadata": {},
   "outputs": [
    {
     "name": "stdout",
     "output_type": "stream",
     "text": [
      "this is my class3\n"
     ]
    }
   ],
   "source": [
    "object3.test_class3()"
   ]
  },
  {
   "cell_type": "code",
   "execution_count": 43,
   "id": "48781f91-82fc-46a6-a328-d4ce81b69c3e",
   "metadata": {},
   "outputs": [
    {
     "name": "stdout",
     "output_type": "stream",
     "text": [
      "this is class1\n"
     ]
    }
   ],
   "source": [
    "object3.test_class1()"
   ]
  },
  {
   "cell_type": "code",
   "execution_count": 44,
   "id": "0d318ecd-68d8-4b52-8042-4ac8f3c3c644",
   "metadata": {},
   "outputs": [
    {
     "name": "stdout",
     "output_type": "stream",
     "text": [
      "this is my class2\n"
     ]
    }
   ],
   "source": [
    "object3.test_class2()"
   ]
  },
  {
   "cell_type": "code",
   "execution_count": 45,
   "id": "c2844f6d-9c24-462d-87cf-28708db6a5de",
   "metadata": {},
   "outputs": [],
   "source": [
    "## Mulitple Inheritence\n",
    "class class1:\n",
    "    def test_class1(self):\n",
    "        print(\"this is my class1\")\n",
    "class class2:\n",
    "    def test_class2(self):\n",
    "        print(\"this is my class2\")\n",
    "class class3(class1,class2):\n",
    "    pass"
   ]
  },
  {
   "cell_type": "code",
   "execution_count": 46,
   "id": "f3ad98ff-18a3-43a2-9492-30067bf7a26e",
   "metadata": {},
   "outputs": [],
   "source": [
    "obj1=class1()"
   ]
  },
  {
   "cell_type": "code",
   "execution_count": 47,
   "id": "c5751f7d-0bb9-49ce-a279-6970249833a8",
   "metadata": {},
   "outputs": [
    {
     "name": "stdout",
     "output_type": "stream",
     "text": [
      "this is my class1\n"
     ]
    }
   ],
   "source": [
    "obj1.test_class1()"
   ]
  },
  {
   "cell_type": "code",
   "execution_count": 48,
   "id": "2d6b7e0c-e96e-47d9-a881-f14bf3719570",
   "metadata": {},
   "outputs": [],
   "source": [
    "obj2=class2()"
   ]
  },
  {
   "cell_type": "code",
   "execution_count": null,
   "id": "e144ae37-c79e-4432-9e5d-eec7fd88b39b",
   "metadata": {},
   "outputs": [],
   "source": [
    "obj2."
   ]
  }
 ],
 "metadata": {
  "kernelspec": {
   "display_name": "Python 3 (ipykernel)",
   "language": "python",
   "name": "python3"
  },
  "language_info": {
   "codemirror_mode": {
    "name": "ipython",
    "version": 3
   },
   "file_extension": ".py",
   "mimetype": "text/x-python",
   "name": "python",
   "nbconvert_exporter": "python",
   "pygments_lexer": "ipython3",
   "version": "3.11.7"
  }
 },
 "nbformat": 4,
 "nbformat_minor": 5
}

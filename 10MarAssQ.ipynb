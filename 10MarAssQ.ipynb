{
 "cells": [
  {
   "cell_type": "markdown",
   "id": "d81a7cf9-c0db-4c93-a42e-f3fa2558df40",
   "metadata": {},
   "source": [
    "### QUESTION 1:"
   ]
  },
  {
   "cell_type": "markdown",
   "id": "e7037e43-f387-492a-8467-486cc341fe69",
   "metadata": {},
   "source": [
    "#### : What is Estimation Statistics? Explain point estimate and interval estimate."
   ]
  },
  {
   "cell_type": "markdown",
   "id": "fb965a05-8040-4648-b1c6-e6787946adbc",
   "metadata": {},
   "source": [
    "##### It is a specified observed numerical value used to estimate an unknown population parameter."
   ]
  },
  {
   "cell_type": "markdown",
   "id": "8356a0c0-b31f-4f0f-b4dc-16e5a1879f7e",
   "metadata": {},
   "source": [
    "##### POINT ESTIMATE: Single numerical Value used to estimate an unknown population parameter\n",
    "##### Example: Sample Mean is a point estimate of a population mean\n",
    "##### INTERVAL ESTIMATE: Range of Values Used to Estimate Unknown Population parameters"
   ]
  },
  {
   "cell_type": "markdown",
   "id": "e126f417-a072-452f-8c66-74f9cd9a7ede",
   "metadata": {},
   "source": [
    "### QUESTION 2:"
   ]
  },
  {
   "cell_type": "markdown",
   "id": "6c31a0d3-c9c7-41a2-b70b-5ca3134ce188",
   "metadata": {},
   "source": [
    "#### Write a Python function to estimate the population mean using a sample mean and standard \n",
    "#### deviation."
   ]
  },
  {
   "cell_type": "code",
   "execution_count": 2,
   "id": "57024bdf-234f-4dfa-b653-167ac8d8a18b",
   "metadata": {},
   "outputs": [
    {
     "name": "stdout",
     "output_type": "stream",
     "text": [
      "Estimated population mean: 50\n",
      "Margin of error: 1.96\n"
     ]
    }
   ],
   "source": [
    "import math\n",
    "\n",
    "def estimate_population_mean(sample_mean, sample_stddev, sample_size):\n",
    "   \n",
    "    # Calculate the standard error of the mean\n",
    "    sem = sample_stddev / math.sqrt(sample_size)\n",
    "\n",
    "    # Calculate the margin of error\n",
    "    margin_of_error = 1.96 * sem\n",
    "\n",
    "    # Estimate the population mean\n",
    "    population_mean = sample_mean\n",
    "\n",
    "    # Return the estimated population mean and margin of error\n",
    "    return population_mean, margin_of_error\n",
    "sample_mean = 50\n",
    "sample_stddev = 10\n",
    "sample_size = 100\n",
    "\n",
    "population_mean, margin_of_error = estimate_population_mean(sample_mean, sample_stddev, sample_size)\n",
    "\n",
    "print(\"Estimated population mean:\", population_mean)\n",
    "print(\"Margin of error:\", margin_of_error)\n",
    "\n",
    "\n"
   ]
  },
  {
   "cell_type": "markdown",
   "id": "b2ad45cf-4d2e-4d9b-83aa-175ed5988e64",
   "metadata": {},
   "source": [
    "### QUESTION 3:"
   ]
  },
  {
   "cell_type": "markdown",
   "id": "ee839ab6-8e29-46a4-a0e6-2ac3b0f08777",
   "metadata": {},
   "source": [
    "#### What is Hypothesis testing? Why is it used? State the importance of Hypothesis testing"
   ]
  },
  {
   "cell_type": "markdown",
   "id": "1d50309f-6a8a-4e7f-8d1a-d5890e2a86d1",
   "metadata": {},
   "source": [
    "##### Hypothesis  testing is used to make some conclusions or inferences about unknown population parameter like Mean,std.\n",
    "##### Hypothesis testing is used to:\n",
    "\n",
    "##### 1. Evaluate a hypothesis: Determine whether a hypothesis about a population parameter is supported by sample data.\n",
    "##### 2. Make informed decisions: Based on the test results, decide whether to reject or fail to reject the null hypothesis.\n",
    "##### 3. Determine significance: Determine whether the results are statistically significant, indicating a real effect or relationship.\n",
    "\n",
    "##### Importance of Hypothesis Testing:\n",
    "\n",
    "##### 1. Scientific research: Hypothesis testing is crucial in scientific research to validate theories and findings.\n",
    "##### 2. Business decision-making: Helps businesses make informed decisions about investments, marketing strategies, and product development.\n",
    "##### 3. Medical research: Used to evaluate the effectiveness of treatments, drugs, and medical devices.\n"
   ]
  },
  {
   "cell_type": "markdown",
   "id": "dcc71cc9-bd0c-4899-8b57-412022309c18",
   "metadata": {},
   "source": [
    "### QUESTION 4:"
   ]
  },
  {
   "cell_type": "markdown",
   "id": "023e2e8b-6bc9-469f-97f1-0f08e0e1efdd",
   "metadata": {},
   "source": [
    "#### Create a hypothesis that states whether the average weight of male college students is greater than the average weight of female college students"
   ]
  },
  {
   "cell_type": "markdown",
   "id": "a5fee791-f91b-4ca4-b5e1-cc45c348ed87",
   "metadata": {},
   "source": [
    "##### Null Hypothesis (H0):\n",
    "##### μ1 ≤ μ2\n",
    "##### Alternate Hypothesis (H1):\n",
    "##### μ1 > μ2\n",
    "\n"
   ]
  },
  {
   "cell_type": "markdown",
   "id": "42737d6f-c5b4-4b9f-82dc-1a3b3b4777a4",
   "metadata": {},
   "source": [
    "### QUESTION 5:"
   ]
  },
  {
   "cell_type": "markdown",
   "id": "4f4fb1fc-1155-46b7-bf0e-9fdaeda85f42",
   "metadata": {},
   "source": [
    "#### Write a Python script to conduct a hypothesis test on the difference between two population means, given a sample from each population."
   ]
  },
  {
   "cell_type": "code",
   "execution_count": 4,
   "id": "b7e0f038-bb26-4bdc-8932-23a60914ed40",
   "metadata": {},
   "outputs": [
    {
     "name": "stdout",
     "output_type": "stream",
     "text": [
      "t-statistic: 3.7641420992137165\n",
      "p-value: 0.0014204729068829447\n",
      "Reject the null hypothesis\n"
     ]
    }
   ],
   "source": [
    "import numpy as np\n",
    "from scipy.stats import ttest_ind\n",
    "\n",
    "# Sample data\n",
    "sample1 = np.array([23, 21, 19, 24, 20, 22, 20, 23, 21, 20])\n",
    "sample2 = np.array([18, 20, 19, 17, 21, 19, 18, 20, 19, 17])\n",
    "\n",
    "# Hypothesis test\n",
    "t_stat, p_value = ttest_ind(sample1, sample2)\n",
    "\n",
    "# Print results\n",
    "print(\"t-statistic:\", t_stat)\n",
    "print(\"p-value:\", p_value)\n",
    "\n",
    "# Interpret results\n",
    "if p_value < 0.05:\n",
    "    print(\"Reject the null hypothesis\")\n",
    "else:\n",
    "    print(\"Fail to reject the null hypothesis\")\n"
   ]
  },
  {
   "cell_type": "markdown",
   "id": "d42f1599-3264-4060-84e2-2d0c053ff3e3",
   "metadata": {},
   "source": [
    "### QUESTION 6:"
   ]
  },
  {
   "cell_type": "markdown",
   "id": "24dbad27-49d5-4fac-ab35-9ba7e8f022ef",
   "metadata": {},
   "source": [
    "#### What is a null and alternative hypothesis? Give some examples."
   ]
  },
  {
   "cell_type": "markdown",
   "id": "fedb777d-ada9-4ac0-b5f2-5caf8f7c2c59",
   "metadata": {},
   "source": [
    "#### NULL HYPOTHESIS: The Assumption You Are Begining With.\n",
    "#### AlTERNATE HYPOTHESIS: Opposite to Null  Hypothesis.\n",
    "#### EXAMPLE:  a hypothesis that states whether the average weight of male college students is greater than the average weight of female college students\n",
    "#### Null Hypothesis (H0):\n",
    "#### μ1 ≤ μ2\n",
    "#### Alternate Hypothesis (H1):\n",
    "#### μ1 > μ2"
   ]
  },
  {
   "cell_type": "markdown",
   "id": "105d8485-4cd6-439f-9625-8b709e744cdf",
   "metadata": {},
   "source": [
    "### QUESTION 7:"
   ]
  },
  {
   "cell_type": "markdown",
   "id": "f51a2d77-ee75-43a1-87f1-1152d1d5941a",
   "metadata": {},
   "source": [
    "#### Write down the steps involved in hypothesis testing"
   ]
  },
  {
   "cell_type": "markdown",
   "id": "fc8912fc-8b7a-406a-be09-79f1f3ad3c42",
   "metadata": {},
   "source": [
    "#### STEP 1: NULL HYPOTHESIS: - The Assumption You Are Begining With.\n",
    "#### Step 2: ALTERNATE HYPOTHESIS: -Opposite to Null Hypothesis.\n",
    "#### Step 3: EXPERIMENTAL: -Statistical Analysis.\n",
    "####                       -collect Proof.\n",
    "#### step 4: Accept the Null Hypothesis Or Reject Null Hypothesis."
   ]
  },
  {
   "cell_type": "markdown",
   "id": "95927da0-7d9e-4943-9099-513ce6a9384a",
   "metadata": {},
   "source": [
    "### QUESTION 8:"
   ]
  },
  {
   "cell_type": "markdown",
   "id": "17477195-03cd-4aca-bb07-b6ee4b9e76e9",
   "metadata": {},
   "source": [
    "#### Define p-value and explain its significance in hypothesis testing."
   ]
  },
  {
   "cell_type": "markdown",
   "id": "8ef0e10a-f16f-463c-9745-b1fff55b73c5",
   "metadata": {},
   "source": [
    "#### The p-value is a number , calculated froma  statiscaltest,that describeshow likely youare to have found a particular set of observations if the null hypothesis were true. p values are used in hypothesis tetsing to help decide whether to reject the null hypothesis."
   ]
  },
  {
   "cell_type": "markdown",
   "id": "ed378a45-7e7a-4923-97a5-d1e415a80bce",
   "metadata": {},
   "source": [
    "#### To Understand its  significance lets have a example, \n",
    "#### To check a coin is fair or not. \n",
    "#### P(H)=0.5 P(T)=0.5\n",
    "#### P(H)=0.6 P(T)=0.4\n",
    "#### P(H)=0.7 P(T)=0.3\n",
    "#### HYPOTHESIS TESTING:\n",
    "#### 1) NULL HYPOTHESIS(H0)- coin is fair \n",
    "#### 2) ALTERNATE HYPOTHESIS(H1) - coin is not fair \n",
    "#### 3) EXPERIMENT: Tossing a coin 100 times\n",
    "#### 4) SIGNIFICANCE VALUE: alpha=0.05\n",
    "#### C.I=1-0.05=0.95\n",
    "#### If p<significance value,Reject the Null Hypothesis else,we failto reject the null hypothesis\n"
   ]
  },
  {
   "cell_type": "markdown",
   "id": "7ab72245-0caf-442a-816b-21c788e55026",
   "metadata": {},
   "source": [
    "### QUESTION 9:"
   ]
  },
  {
   "cell_type": "markdown",
   "id": "2d8d4b82-ba1d-4866-b57a-203e59f49de6",
   "metadata": {},
   "source": [
    "#### Generate a Student's t-distribution plot using Python's matplotlib library, with the degrees of freedom \n",
    "#### parameter set to 10"
   ]
  },
  {
   "cell_type": "code",
   "execution_count": 5,
   "id": "41de6861-65cf-406c-9230-33e5aa86b8a2",
   "metadata": {},
   "outputs": [
    {
     "data": {
      "image/png": "[encoded data removed]",
      "text/plain": [
       "<Figure size 640x480 with 1 Axes>"
      ]
     },
     "metadata": {},
     "output_type": "display_data"
    }
   ],
   "source": [
    "import numpy as np\n",
    "import matplotlib.pyplot as plt\n",
    "from scipy.stats import t\n",
    "\n",
    "# Define the degrees of freedom (df)\n",
    "df = 10\n",
    "\n",
    "# Create a range of x values\n",
    "x = np.linspace(-5, 5, 100)\n",
    "\n",
    "# Calculate the t-distribution probabilities\n",
    "y = t.pdf(x, df)\n",
    "\n",
    "# Create the plot\n",
    "plt.plot(x, y)\n",
    "\n",
    "# Add title and labels\n",
    "plt.title(\"Student's t-Distribution (df=10)\")\n",
    "plt.xlabel(\"x\")\n",
    "plt.ylabel(\"Probability Density\")\n",
    "\n",
    "# Show the plot\n",
    "plt.show()\n",
    "\n"
   ]
  },
  {
   "cell_type": "markdown",
   "id": "6ebcb70e-e0af-4452-b1bb-d72ba874e989",
   "metadata": {},
   "source": [
    "### QUESTION 10:"
   ]
  },
  {
   "cell_type": "markdown",
   "id": "ae82aa25-ec19-4b3d-9c6b-08c0b90c7f02",
   "metadata": {},
   "source": [
    "####  Write a Python program to calculate the two-sample t-test for independent samples, given two \n",
    "#### random samples of equal size and a null hypothesis that the population means are equal."
   ]
  },
  {
   "cell_type": "code",
   "execution_count": 6,
   "id": "a31750e0-4138-4f98-b82a-f00121bd185e",
   "metadata": {},
   "outputs": [
    {
     "name": "stdout",
     "output_type": "stream",
     "text": [
      "t-statistic: 2.1130658782380003\n",
      "p-value: 0.03584777510959915\n",
      "Reject the null hypothesis\n"
     ]
    }
   ],
   "source": [
    "import numpy as np\n",
    "from scipy.stats import ttest_ind\n",
    "\n",
    "# Define the two samples\n",
    "sample1 = np.random.normal(loc=0, scale=1, size=100)\n",
    "sample2 = np.random.normal(loc=0, scale=1, size=100)\n",
    "\n",
    "# Calculate the t-test statistic and p-value\n",
    "t_stat, p_value = ttest_ind(sample1, sample2)\n",
    "\n",
    "# Print the results\n",
    "print(\"t-statistic:\", t_stat)\n",
    "print(\"p-value:\", p_value)\n",
    "\n",
    "# Interpret the results\n",
    "if p_value < 0.05:\n",
    "    print(\"Reject the null hypothesis\")\n",
    "else:\n",
    "    print(\"Fail to reject the null hypothesis\")\n",
    "\n"
   ]
  },
  {
   "cell_type": "markdown",
   "id": "5de5184f-525f-458c-962b-4d8ae6451356",
   "metadata": {},
   "source": [
    "### QUESTION 11:"
   ]
  },
  {
   "cell_type": "markdown",
   "id": "dea967f1-0da8-4648-9a15-cf7b2f3ce15f",
   "metadata": {},
   "source": [
    "####  What is Student’s t distribution? When to use the t-Distribution."
   ]
  },
  {
   "cell_type": "markdown",
   "id": "5c9b548f-a466-4545-8302-a9a883445f36",
   "metadata": {},
   "source": [
    "#### In Z-Statistics When we perform any analysis using z-score, we require Population Standard Deviation which is to be Already Knwon. Now,When WE don't know The population Standard Deviation We Use Students t-distirbution"
   ]
  },
  {
   "cell_type": "markdown",
   "id": "a6650679-500d-4048-b3d5-8e3204cb9856",
   "metadata": {},
   "source": [
    "### QUESTION 12:"
   ]
  },
  {
   "cell_type": "markdown",
   "id": "2aba3366-6bc7-42b9-ad13-a910edca4bfc",
   "metadata": {},
   "source": [
    "#### What is t-statistic? State the formula for t-statistic."
   ]
  },
  {
   "cell_type": "markdown",
   "id": "4650b418-0da5-4e7d-8946-10d597e039b5",
   "metadata": {},
   "source": [
    "#### The t-statistic is a statistical measure used in hypothesis testing to determine the significance of the difference between the means of two groups. It is calculated as the ratio of the difference between the sample means to the standard error of the difference between the means.\n",
    "\n",
    "#### The formula for the t-statistic is:\n",
    "\n",
    "#### t = (x̄₁ - x̄₂) / (s₁² / n₁ + s₂² / n₂)½\n",
    "\n",
    "#### Where:\n",
    "\n",
    "#### - t = t-statistic\n",
    "#### - x̄₁ = mean of sample 1\n",
    "#### - x̄₂ = mean of sample 2\n",
    "#### - s₁ = standard deviation of sample 1\n",
    "#### - s₂ = standard deviation of sample 2\n",
    "#### - n₁ = sample size of sample 1\n",
    "#### - n₂ = sample size of sample 2\n",
    "\n"
   ]
  },
  {
   "cell_type": "markdown",
   "id": "2648f059-756e-4610-8d69-54981ccba26b",
   "metadata": {},
   "source": [
    "### QUESTION 13:"
   ]
  },
  {
   "cell_type": "markdown",
   "id": "29ae236f-0a1d-4b34-90fb-e5c61faa5de0",
   "metadata": {},
   "source": [
    "#### CI = (x̄ - margin of error, x̄ + margin of error)\n",
    "\n",
    "#### where:\n",
    "\n",
    "#### - CI = confidence interval\n",
    "#### - x̄ = sample mean\n",
    "#### - margin of error = z * (σ / √n)\n",
    "\n",
    "#### Given:\n",
    "\n",
    "#### - x̄ =  $500\n",
    "#### - σ = $50\n",
    "#### - n = 50\n",
    "#### - z = 1.96 (for a 95% confidence interval)\n",
    "\n",
    "\n",
    "#### margin of error = 1.96 * ($50 / √50) = $6.93\n",
    "\n",
    "\n",
    "#### CI = ($500 - $6.93, $500 + $6.93) = ($493.07, $506.93)\n",
    "\n",
    "#### This means that we can be 95% confident that the true average daily revenue for the coffee shop is between $493.07 and $506.93."
   ]
  },
  {
   "cell_type": "markdown",
   "id": "cb074ebc-0ba1-461b-9038-e266cca1bb1b",
   "metadata": {},
   "source": [
    "### QUESTION 14:"
   ]
  },
  {
   "cell_type": "markdown",
   "id": "e5ff34b6-9790-47cd-af45-0f6b9183828e",
   "metadata": {},
   "source": [
    "#### A researcher hypothesizes that a new drug will decrease blood pressure by 10 mmHg. They conduct a \n",
    "#### clinical trial with 100 patients and find that the sample mean decrease in blood pressure is 8 mmHg with a \n",
    "#### standard deviation of 3 mmHg. Test the hypothesis with a significance level of 0.05."
   ]
  },
  {
   "cell_type": "markdown",
   "id": "16ff475f-456a-497d-a40b-4e3c4229f9eb",
   "metadata": {},
   "source": [
    "#### Step 1:\n",
    "#### H0: μ = 10 (null hypothesis)\n",
    "#### H1: μ < 10 (alternative hypothesis)\n",
    "\n",
    "#### Step 2:\n",
    "#### x̄ = 8 (sample mean)\n",
    "#### s = 3 (sample standard deviation)\n",
    "#### n = 100 (sample size)\n",
    "\n",
    "#### Step 3:\n",
    "#### t = (x̄ - μ) / (s / √n)\n",
    "#### = (8 - 10) / (3 / √100)\n",
    "#### = (-2) / (0.3)\n",
    "#### = -6.67\n",
    "\n",
    "#### Step 4:\n",
    "#### df = n - 1 = 100 - 1 = 99\n",
    "\n",
    "#### Step 5:\n",
    "#### tCritical = -1.66 (from t-distribution table or calculator)\n",
    "\n",
    "#### Step 6:\n",
    "#### Compare t-statistic and tCritical:\n",
    "#### t = -6.67 < tCritical = -1.66\n",
    "\n",
    "#### Step 7:\n",
    "#### Reject H0 (null hypothesis)\n",
    "\n",
    "#### Step 8:\n",
    "#### p-value = P(t ≤ -6.67) ≈ 0.00006 (from t-distribution calculator or software)\n",
    "\n",
    "#### Step 9:\n",
    "#### Compare p-value and significance level:\n",
    "#### p-value = 0.00006 < α = 0.05\n",
    "\n",
    "#### Step 10:\n",
    "#### Reject H0 (null hypothesis) and conclude that the new drug decreases blood pressure by an average of 8 mmHg, which is significantly less than the hypothesized 10 mmHg.\n"
   ]
  },
  {
   "cell_type": "markdown",
   "id": "6d6143fc-8010-4961-bc9c-0ec5a026d7d3",
   "metadata": {},
   "source": [
    "### QUESTION 15:"
   ]
  },
  {
   "cell_type": "markdown",
   "id": "9e204815-ba38-416e-b92b-b6a17a6b9093",
   "metadata": {},
   "source": [
    "#### An electronics company produces a certain type of product with a mean weight of 5 pounds and a \n",
    "#### standard deviation of 0.5 pounds. A random sample of 25 products is taken, and the sample mean weight \n",
    "#### is found to be 4.8 pounds. Test the hypothesis"
   ]
  },
  {
   "cell_type": "markdown",
   "id": "2d87e1a1-3d0f-4d34-aba3-89723f0315a6",
   "metadata": {},
   "source": [
    "#### Step 1:\n",
    "#### H0: μ = 5\n",
    "#### H1: μ ≠ 5\n",
    "\n",
    "#### Step 2:\n",
    "#### x̄ = 4.8\n",
    "#### s = 0.5\n",
    "#### n = 25\n",
    "#### α = 0.05\n",
    "\n",
    "#### Step 3:\n",
    "#### t = (x̄ - μ) / (s / √n)\n",
    "#### = (4.8 - 5) / (0.5 / √25)\n",
    "#### = -0.2 / 0.1\n",
    "#### = -2\n",
    "\n",
    "#### Step 4:\n",
    "#### df = n - 1 = 25 - 1 = 24\n",
    "\n",
    "#### Step 5:\n",
    "#### tCritical = ±2.06 (from t-distribution table or calculator)\n",
    "\n",
    "#### Step 6:\n",
    "#### Compare t-statistic and tCritical:\n",
    "#### t = -2 < -2.06 (critical region)\n",
    "\n",
    "#### Step 7:\n",
    "#### Reject H0 (null hypothesis)\n",
    "\n",
    "#### Step 8:\n",
    "#### p-value = P(|t| > |-2|) ≈ 0.048 (from t-distribution calculator or software)\n",
    "\n",
    "#### Step 9:\n",
    "#### Compare p-value and significance level:\n",
    "#### p-value = 0.048 < α = 0.05\n",
    "\n",
    "#### Step 10:\n",
    "#### Reject H0 (null hypothesis) and conclude that the population mean weight is significantly different from 5 pounds."
   ]
  },
  {
   "cell_type": "markdown",
   "id": "cf28466c-9809-4e21-8846-18e7ddbbe501",
   "metadata": {},
   "source": [
    "### QUESTION 16:"
   ]
  },
  {
   "cell_type": "markdown",
   "id": "b65ceacf-4313-4d20-b7f0-1dfaf200ae9b",
   "metadata": {},
   "source": [
    "#### Two groups of students are given different study materials to prepare for a test. The first group (n1 = \n",
    "#### 30) has a mean score of 80 with a standard deviation of 10, and the second group (n2 = 40) has a mean \n",
    "#### score of 75 with a standard deviation of 8. Test the hypothesis that the population means for the two \n",
    "#### groups are equal with a significance level of 0.01"
   ]
  },
  {
   "cell_type": "markdown",
   "id": "f9065ee5-00a5-4159-ad57-b65b3c7fdc32",
   "metadata": {},
   "source": [
    "#### Step 1:\n",
    "#### H0: μ1 = μ2 (population means are equal)\n",
    "#### H1: μ1 ≠ μ2 (population means are not equal)\n",
    "\n",
    "#### Step 2:\n",
    "#### x̄1 = 80, s1 = 10, n1 = 30\n",
    "#### x̄2 = 75, s2 = 8, n2 = 40\n",
    "#### α = 0.01\n",
    "\n",
    "#### Step 3:\n",
    "#### Calculate the pooled standard deviation (sp):\n",
    "#### sp = √[((n1 - 1) * s1^2 + (n2 - 1) * s2^2) / (n1 + n2 - 2)]\n",
    "#### = √[((30 - 1) * 10^2 + (40 - 1) * 8^2) / (30 + 40 - 2)]\n",
    "#### = √[(2916 + 2528) / 68]\n",
    "#### = √[5444 / 68]\n",
    "#### = √79.47\n",
    "#### = 8.91\n",
    "\n",
    "#### Step 4:\n",
    "#### Calculate the t-statistic:\n",
    "#### t = (x̄1 - x̄2) / (sp * √(1/n1 + 1/n2))\n",
    "#### = (80 - 75) / (8.91 * √(1/30 + 1/40))\n",
    "#### = 5 / (8.91 * √(0.0333 + 0.025))\n",
    "#### = 5 / (8.91 * √0.0583)\n",
    "#### = 5 / 1.73\n",
    "#### = 2.89\n",
    "\n",
    "#### Step 5:\n",
    "#### Find the critical values for a two-tailed t-test with df = n1 + n2 - 2 = 30 + 40 - 2 = 68 and α = 0.01. Using a t-distribution table or calculator, we find that the critical values are approximately ±2.66.\n",
    "\n",
    "#### Step 6:\n",
    "#### Compare t-statistic and tCritical:\n",
    "#### t = 2.89 > 2.66 (critical region)\n",
    "\n",
    "#### Step 7:\n",
    "#### Reject H0 (null hypothesis)\n",
    "\n",
    "#### Step 8:\n",
    "#### p-value = P(|t| > |2.89|) ≈ 0.004 \n",
    "\n",
    "#### Step 9:\n",
    "#### Compare p-value and significance level:\n",
    "#### p-value = 0.004 < α = 0.01\n",
    "\n",
    "#### Step 10:\n",
    "#### Reject H0 (null hypothesis) and conclude that the population means for the two groups are significantly different."
   ]
  },
  {
   "cell_type": "markdown",
   "id": "a337eb23-b601-4444-83d9-13a88c379e76",
   "metadata": {},
   "source": [
    "### QUESTION 17:"
   ]
  },
  {
   "cell_type": "markdown",
   "id": "f238fe67-781b-4230-8778-536aff8a95d9",
   "metadata": {},
   "source": [
    "#### A marketing company wants to estimate the average number of ads watched by viewers during a TV \n",
    "#### program. They take a random sample of 50 viewers and find that the sample mean is 4 with a standard \n",
    "#### deviation of 1.5. Estimate the population mean with a 99% confidence interval"
   ]
  },
  {
   "cell_type": "markdown",
   "id": "dc978d46-901a-4cba-a53c-b131c4229ed2",
   "metadata": {},
   "source": [
    "#### Step 1:\n",
    "#### x̄ = 4 (sample mean)\n",
    "#### s = 1.5 (sample standard deviation)\n",
    "#### n = 50 (sample size)\n",
    "#### α = 0.01 (significance level)\n",
    "\n",
    "#### Step 2:\n",
    "#### z = 2.58 (critical value for 99% confidence interval)\n",
    "\n",
    "#### Step 3:\n",
    "#### margin of error = z * (s / √n)\n",
    "#### = 2.58 * (1.5 / √50)\n",
    "#### = 2.58 * 0.212\n",
    "#### = 0.55\n",
    "\n",
    "#### Step 4:\n",
    "#### CI = (x̄ - margin of error, x̄ + margin of error)\n",
    "#### = (4 - 0.55, 4 + 0.55)\n",
    "#### = (3.45, 4.55)\n",
    "\n",
    "\n",
    "#### 3.45 ≤ μ ≤ 4.55"
   ]
  },
  {
   "cell_type": "code",
   "execution_count": null,
   "id": "360b8315-e5e9-4208-a503-c783957a2162",
   "metadata": {},
   "outputs": [],
   "source": []
  }
 ],
 "metadata": {
  "kernelspec": {
   "display_name": "Python 3 (ipykernel)",
   "language": "python",
   "name": "python3"
  },
  "language_info": {
   "codemirror_mode": {
    "name": "ipython",
    "version": 3
   },
   "file_extension": ".py",
   "mimetype": "text/x-python",
   "name": "python",
   "nbconvert_exporter": "python",
   "pygments_lexer": "ipython3",
   "version": "3.11.7"
  }
 },
 "nbformat": 4,
 "nbformat_minor": 5
}

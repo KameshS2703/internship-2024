{
 "cells": [
  {
   "cell_type": "markdown",
   "id": "2ff85132",
   "metadata": {},
   "source": [
    "## 1.who developed python programming language?\n",
    "### answer: guido van rossum."
   ]
  },
  {
   "cell_type": "markdown",
   "id": "1541a328",
   "metadata": {},
   "source": [
    "## 2.which type of programming does python support?\n",
    "### answer: python supports object oriented and structured programming language."
   ]
  },
  {
   "cell_type": "markdown",
   "id": "620f0dea",
   "metadata": {},
   "source": [
    "## 3.is python case sensitive when dealing with identifiers?\n",
    "### answer: yes, python is a case sensitive programming language even when it deals with the identifiers"
   ]
  },
  {
   "cell_type": "markdown",
   "id": "dd5f8ca0",
   "metadata": {},
   "source": [
    "## 4.what is the correct extension of a python file?\n",
    "### answer: \n",
    "### .py- used in IDLE\n",
    "### .ipynb-interactive python notebook(used in jupyter notebook)"
   ]
  },
  {
   "cell_type": "markdown",
   "id": "2ceccdc3",
   "metadata": {},
   "source": [
    "## 5.is python code compiled or interpreted?\n",
    "### answer: python is an interpreted programming language"
   ]
  },
  {
   "cell_type": "markdown",
   "id": "53d927f1",
   "metadata": {},
   "source": [
    "## 6. Name a few blocks of code used to define in python language.\n",
    "### answer: functions are a block of code which is used to define in python language."
   ]
  },
  {
   "cell_type": "markdown",
   "id": "969ce87b",
   "metadata": {},
   "source": [
    "## 7.state a character used to give single line comments in python.\n",
    "### answer: # is used to give single line comments."
   ]
  },
  {
   "cell_type": "markdown",
   "id": "a99a4657",
   "metadata": {},
   "source": [
    "## 8. mention functions which can help us to find the version of python that we are currently working on.\n",
    "### answer:The function sys. version can help us to find the version of python that we are currently working on.\n"
   ]
  },
  {
   "cell_type": "markdown",
   "id": "827a0bbc",
   "metadata": {},
   "source": [
    "## 9.python supports the creation of anonymous functions at runtime using a construct called\n",
    "### answer: lambda"
   ]
  },
  {
   "cell_type": "markdown",
   "id": "65bdd50d",
   "metadata": {},
   "source": [
    "## 10.what does pip stand for python?\n",
    "### answer:preferred installer program "
   ]
  },
  {
   "cell_type": "markdown",
   "id": "15da3103",
   "metadata": {},
   "source": [
    "## 11.mention a few built in functions in python.\n",
    "### answer: print(),input(),len(),uppercase(),lowercase(),count(),help(),map()"
   ]
  },
  {
   "cell_type": "markdown",
   "id": "d7429689",
   "metadata": {},
   "source": [
    "## 12. what is the maximum possible length of a identifier in python?\n",
    "### answer: An identifier can have a maximum length of 79 characters in Python."
   ]
  },
  {
   "cell_type": "markdown",
   "id": "658f2b7a",
   "metadata": {},
   "source": [
    "## 13. what are the benefits of using python?\n",
    "### answer: python is ghe most powerful programming language. it is used in wide range of fields like:\n",
    "### Data science\n",
    "### Scientific and mathematical computing\n",
    "### Web development\n",
    "### Finance and trading\n",
    "### System automation and administration\n",
    "### Computer graphics\n",
    "### Basic game development\n",
    "### Security and penetration testing\n",
    "### General and application-specific scripting\n",
    "### Mapping and geography (GIS software)"
   ]
  },
  {
   "cell_type": "markdown",
   "id": "fd84cb41",
   "metadata": {},
   "source": [
    "## 14. how is memory managed in python?\n",
    "### answer: Memory management in Python involves a private heap containing all Python objects and data structures. The management of this private heap is ensured internally by the Python memory manager."
   ]
  },
  {
   "cell_type": "markdown",
   "id": "18962c0c",
   "metadata": {},
   "source": [
    "## 15. how to install python on windows and set path variables?\n",
    "### answer:\n",
    "### Right-clicking This PC and going to Properties.\n",
    "\n",
    "### Clicking on the Advanced system settings in the menu on the left.\n",
    "\n",
    "### Clicking on the Environment Variables button o​n the bottom right.\n",
    "\n",
    "### In the System variables section, selecting the Path variable and clicking on Edit. The next screen will show all the directories that are currently a part of the PATH variable.\n",
    "\n",
    "### Clicking on New and entering Python’s install directory."
   ]
  },
  {
   "cell_type": "markdown",
   "id": "142c82d2",
   "metadata": {},
   "source": [
    "## 16. is indentation required in python?\n",
    "### answer: yes, indentation is used in python to represent a block of code which does a specific task."
   ]
  },
  {
   "cell_type": "code",
   "execution_count": null,
   "id": "a26e1311",
   "metadata": {},
   "outputs": [],
   "source": []
  }
 ],
 "metadata": {
  "kernelspec": {
   "display_name": "Python 3 (ipykernel)",
   "language": "python",
   "name": "python3"
  },
  "language_info": {
   "codemirror_mode": {
    "name": "ipython",
    "version": 3
   },
   "file_extension": ".py",
   "mimetype": "text/x-python",
   "name": "python",
   "nbconvert_exporter": "python",
   "pygments_lexer": "ipython3",
   "version": "3.11.7"
  }
 },
 "nbformat": 4,
 "nbformat_minor": 5
}

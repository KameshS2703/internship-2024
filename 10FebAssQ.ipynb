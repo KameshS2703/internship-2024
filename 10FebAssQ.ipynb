{
 "cells": [
  {
   "cell_type": "markdown",
   "id": "2a65f326-29d9-4177-a5ba-f8deb558fe4d",
   "metadata": {},
   "source": [
    "### ANSWER TO QUESTION 1:"
   ]
  },
  {
   "cell_type": "markdown",
   "id": "560f9b63-2924-4197-b500-4860d2b797af",
   "metadata": {},
   "source": [
    "#### Which function is used to open a file? What are the different modes of opening a file? Explain each mode \n",
    "#### of file opening."
   ]
  },
  {
   "cell_type": "markdown",
   "id": "f2719b39-f9ef-42ab-95a1-cec995a27698",
   "metadata": {},
   "source": [
    "#### The function used to open a file in Python is open().\n",
    "\n",
    "#### The open() function takes two arguments: the name of the file and the mode in which to open the file.\n",
    "\n",
    "#### There are several modes of opening a file:\n",
    "\n",
    "#### 1. *'r'* (Read mode): Opens a file for reading. The file must exist.\n",
    "#### 2. *'w'* (Write mode): Opens a file for writing. If the file exists, its contents will be deleted. If the file doesn't exist, it will be created.\n",
    "#### 3. *'a'* (Append mode): Opens a file for appending. If the file exists, new data will be added to the end of the file. If the file doesn't exist, \n",
    "#### it will be created.\n",
    "#### 4. *'x'* (Create mode): Creates a new file for writing. If the file already exists, the open() function will raise a FileExistsError.\n",
    "#### 5. *'b'* (Binary mode): Opens a file in binary format. This mode is used for files that contain non-text data, such as images or audio files.\n",
    "#### 6. *'t'* (Text mode): Opens a file in text format. This is the default mode.\n",
    "#### 7. *'+'* (Read and Write mode): Opens a file for both reading and writing.\n",
    "\n"
   ]
  },
  {
   "cell_type": "code",
   "execution_count": 12,
   "id": "42dab209-6b04-4002-95e7-24ec2ba2b4ad",
   "metadata": {},
   "outputs": [
    {
     "name": "stdout",
     "output_type": "stream",
     "text": [
      "<_io.TextIOWrapper name='file.txt' mode='r' encoding='cp1252'>\n"
     ]
    }
   ],
   "source": [
    "f=open(\"file.txt\",\"r\")\n",
    "print(f)"
   ]
  },
  {
   "cell_type": "code",
   "execution_count": 14,
   "id": "0c39c951-f4f6-488c-abc4-cbb1005ead33",
   "metadata": {},
   "outputs": [],
   "source": [
    "f=open(\"file.txt\",\"w\")\n",
    "g=f.write(\"hello, i am kamesh\")\n",
    "f.close()"
   ]
  },
  {
   "cell_type": "code",
   "execution_count": 16,
   "id": "d95f5d6d-1994-4a83-95ba-b8b281f28847",
   "metadata": {},
   "outputs": [],
   "source": [
    "f=open(\"file.txt\",'a')\n",
    "f.close()"
   ]
  },
  {
   "cell_type": "code",
   "execution_count": 17,
   "id": "a5636bfb-bd30-4e9c-ab81-6decfc906fb7",
   "metadata": {},
   "outputs": [],
   "source": [
    "f=open(\"file1.txt\",'x')\n",
    "f.close()"
   ]
  },
  {
   "cell_type": "markdown",
   "id": "f1544359-d755-42e9-84f0-85f85bbb1ebf",
   "metadata": {},
   "source": [
    "### ANSWER TO QUESTION 2:"
   ]
  },
  {
   "cell_type": "markdown",
   "id": "5d8fa251-c798-435d-9909-41090c73de76",
   "metadata": {},
   "source": [
    "####  Why close() function is used? Why is it important to close a file?"
   ]
  },
  {
   "cell_type": "markdown",
   "id": "a423ff97-8350-4605-875c-aa9a0408d503",
   "metadata": {},
   "source": [
    "##### Closing a file releases the resources your program was using to work with it. This means that other programs can access the file again, and you won't run into any issues with data corruption or loss.\n",
    "\n",
    "##### Plus, closing files is just good coding practice. It's like tidying up after yourself - it keeps your code neat and prevents any potential problems down the line.\n"
   ]
  },
  {
   "cell_type": "markdown",
   "id": "f455f954-1cff-4794-9220-e767fce32c8b",
   "metadata": {},
   "source": [
    "#####  Write a python program to create a text file. Write ‘I want to become a Data Scientist’ in that file. Then \r",
    "##### \n",
    "close the file. Open this file and read the content of the file.  "
   ]
  },
  {
   "cell_type": "code",
   "execution_count": 3,
   "id": "8903c1fc-1c58-4e54-b19c-1c07a3bb8fc8",
   "metadata": {},
   "outputs": [],
   "source": [
    "f=open(\"hello.txt\",'w')\n",
    "f.write(\"i want to become a data scientist\")\n",
    "f.close()"
   ]
  },
  {
   "cell_type": "code",
   "execution_count": 4,
   "id": "e988caf8-3fae-4031-bc27-17a52815f678",
   "metadata": {},
   "outputs": [
    {
     "name": "stdout",
     "output_type": "stream",
     "text": [
      "i want to become a data scientist\n"
     ]
    }
   ],
   "source": [
    "with open(\"hello.txt\",\"r\") as t:\n",
    "    print(t.read())"
   ]
  },
  {
   "cell_type": "markdown",
   "id": "6a617aaa-836f-4cb7-a5af-e8860e03bb7e",
   "metadata": {},
   "source": [
    "#### ANSWER TO QUESTION 3:"
   ]
  },
  {
   "cell_type": "markdown",
   "id": "15a6fa64-a154-4559-9eaf-2d7389d03af2",
   "metadata": {},
   "source": [
    "####  Explain the following with python code: read(), readline() and readlines()"
   ]
  },
  {
   "cell_type": "code",
   "execution_count": 7,
   "id": "cd3f27bb-f833-4020-8891-4c3361dc9ba2",
   "metadata": {},
   "outputs": [
    {
     "data": {
      "text/plain": [
       "'HELLO I AM KAMESH\\nI AM FROM TAMILNADU\\nI HAVE ENROLLED IN PW SKILLS DATA SCIENCE MASTERS 1.0\\nTOOK THE COURSE WITH INTREST \\nPURSUING IT WITH SOME LONG DELAY'"
      ]
     },
     "execution_count": 7,
     "metadata": {},
     "output_type": "execute_result"
    }
   ],
   "source": [
    "#raed()- it displays the entire content from the file\n",
    "e=open(\"WELCOME.txt\",'r')\n",
    "e.read()"
   ]
  },
  {
   "cell_type": "code",
   "execution_count": 14,
   "id": "a2c14a9d-886e-4de0-b988-42149f7138a5",
   "metadata": {},
   "outputs": [
    {
     "name": "stdout",
     "output_type": "stream",
     "text": [
      "HELLO I AM KAMESH\n",
      "\n",
      "I AM FROM TAMILNADU\n",
      "\n"
     ]
    }
   ],
   "source": [
    "#READLINE()- it prints the each line when only asked with the help of readline()\n",
    "e=open(\"WELCOME.txt\",\"r\")\n",
    "a=e.readline()\n",
    "b=e.readline()\n",
    "print(a)\n",
    "print(b)"
   ]
  },
  {
   "cell_type": "code",
   "execution_count": 19,
   "id": "9161d8a8-97c1-446d-862c-fe6998957517",
   "metadata": {},
   "outputs": [
    {
     "data": {
      "text/plain": [
       "['HELLO I AM KAMESH\\n',\n",
       " 'I AM FROM TAMILNADU\\n',\n",
       " 'I HAVE ENROLLED IN PW SKILLS DATA SCIENCE MASTERS 1.0\\n',\n",
       " 'TOOK THE COURSE WITH INTREST \\n',\n",
       " 'PURSUING IT WITH SOME LONG DELAY']"
      ]
     },
     "execution_count": 19,
     "metadata": {},
     "output_type": "execute_result"
    }
   ],
   "source": [
    "#readlines()- it is used to display the entire content in each line in a continous format in a list\n",
    "e=open(\"WELCOME.txt\",\"r\")\n",
    "e.readlines()"
   ]
  },
  {
   "cell_type": "markdown",
   "id": "1f2fd43f-13d0-48cc-9e9f-f7789dbe28d0",
   "metadata": {},
   "source": [
    "### ANSWER TO QUESTION 4:"
   ]
  },
  {
   "cell_type": "markdown",
   "id": "c939dbc8-5b8c-43b1-9a4f-dce8e5cf141a",
   "metadata": {},
   "source": [
    "#### Explain why with statement is used with open(). What is the advantage of using with statement and \n",
    "#### open() together"
   ]
  },
  {
   "cell_type": "markdown",
   "id": "249ffa6c-9d3e-48eb-9896-dd7a851b82f4",
   "metadata": {},
   "source": [
    "#### The with statement is used with open() to ensure that the file is properly closed after reading or writing, regardless of whether an exception is thrown or not. This is known as a context manager.\n",
    "\n",
    "#### Advantages of using with statement with open():\n",
    "\n",
    "#### 1. Automatic file closure: The file is automatically closed when the with block is exited, even if an exception is raised. This ensures that the file is always properly closed, preventing resource leaks.\n",
    "#### 2. Error handling: If an exception occurs while reading or writing the file, the with statement ensures that the file is still properly closed, preventing file locks or other issues.\n",
    "#### 3. Improved readability: The with statement makes the code more readable by clearly indicating the scope of the file opening and closing.\n",
    "#### 4. Reduced bugs: By automatically closing the file, the with statement reduces the likelihood of bugs caused by forgotten file closures.\n",
    "\n"
   ]
  },
  {
   "cell_type": "markdown",
   "id": "89f99fc7-90f0-4a6d-abd2-0a6b26a14cd3",
   "metadata": {},
   "source": [
    "### ANSWER TO QUESTION 5:"
   ]
  },
  {
   "cell_type": "markdown",
   "id": "c66b8c90-3891-444b-a70b-c305315db2f6",
   "metadata": {},
   "source": [
    "#### Explain the write() and writelines() functions. Give a suitable example."
   ]
  },
  {
   "cell_type": "markdown",
   "id": "08d32bc1-53e7-4125-994b-48bb9faa8843",
   "metadata": {},
   "source": [
    "##### The write() and writelines() functions in Python are used to write data to a file.\n",
    "##### write()`:\n",
    "##### write() writes a single string to a file.\n",
    "\n"
   ]
  },
  {
   "cell_type": "code",
   "execution_count": 21,
   "id": "83fc32a1-5fb3-4afe-ac20-81a5b471136c",
   "metadata": {},
   "outputs": [],
   "source": [
    "with open(\"file.txt\",\"w\") as f:\n",
    "    f.write(\"vanakkam\")"
   ]
  },
  {
   "cell_type": "markdown",
   "id": "af388ef6-9e22-47ce-9155-d183a93169d3",
   "metadata": {},
   "source": [
    "##### writelines():writelines() writes a list of strings to a file.\n"
   ]
  },
  {
   "cell_type": "code",
   "execution_count": 22,
   "id": "0df0bc8a-6d1f-41d2-8211-0f5079bf8de8",
   "metadata": {},
   "outputs": [],
   "source": [
    "with open (\"file.txt\",'w') as d:\n",
    "    file=['hello','vanakkam','namaskar']\n",
    "    d.writelines(file)"
   ]
  },
  {
   "cell_type": "code",
   "execution_count": null,
   "id": "4f3aa73b-ff7c-4f7e-8fd9-704a2ae8bb2d",
   "metadata": {},
   "outputs": [],
   "source": []
  }
 ],
 "metadata": {
  "kernelspec": {
   "display_name": "Python 3 (ipykernel)",
   "language": "python",
   "name": "python3"
  },
  "language_info": {
   "codemirror_mode": {
    "name": "ipython",
    "version": 3
   },
   "file_extension": ".py",
   "mimetype": "text/x-python",
   "name": "python",
   "nbconvert_exporter": "python",
   "pygments_lexer": "ipython3",
   "version": "3.11.7"
  }
 },
 "nbformat": 4,
 "nbformat_minor": 5
}

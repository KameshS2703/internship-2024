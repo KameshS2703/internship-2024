{
 "cells": [
  {
   "cell_type": "markdown",
   "id": "6f7205bf-077e-435c-82d8-0bf6838c065b",
   "metadata": {},
   "source": [
    "### QUESTION 1:"
   ]
  },
  {
   "cell_type": "markdown",
   "id": "ad67c70b-6caf-441d-94df-efbc321eb9c6",
   "metadata": {},
   "source": [
    "#### How can you create a Bokeh plot using Python code?"
   ]
  },
  {
   "cell_type": "code",
   "execution_count": 4,
   "id": "8f8da8dd-ce81-44e6-a4e7-cb03c9b752d2",
   "metadata": {},
   "outputs": [],
   "source": [
    "import bokeh.io\n",
    "import bokeh.plotting\n",
    "from bokeh.plotting import figure,output_file,show\n",
    "from bokeh.sampledata import iris"
   ]
  },
  {
   "cell_type": "code",
   "execution_count": 11,
   "id": "39432510-30f6-4fce-9cc0-f86e19612c64",
   "metadata": {},
   "outputs": [],
   "source": [
    "x=[3,4,5,6,7]\n",
    "y=[4,5,6,7,4]\n",
    "output_file(\"line.html\")\n",
    "p=figure(title=\"line graph\")\n",
    "p.line(x,y)\n",
    "show(p)"
   ]
  },
  {
   "cell_type": "markdown",
   "id": "bf663b1e-c32e-49d9-ab0c-928af72f0d53",
   "metadata": {},
   "source": [
    "### QUESTION 2:\n"
   ]
  },
  {
   "cell_type": "markdown",
   "id": "68dfb87e-24f6-4268-ad16-437bfaed3b85",
   "metadata": {},
   "source": [
    "####  What are glyphs in Bokeh, and how can you add them to a Bokeh plot? Explain with an example"
   ]
  },
  {
   "cell_type": "code",
   "execution_count": 13,
   "id": "44cb09dd-d264-423a-9cb5-d91a681cf25c",
   "metadata": {},
   "outputs": [],
   "source": [
    "#Glyphs in Bokeh are visual elements that can be added to a plot to represent data or annotations. They can be used to create a variety of visualizations, such as lines, circles, rectangles, text, and more.\n",
    "\n",
    "#To add glyphs to a Bokeh plot, you can use the figure function to create a new plot, and then use the glyph function to add glyphs to the plot. Here is an example:\n",
    "\n",
    "from bokeh.plotting import figure, show\n",
    "\n",
    "# Create a new plot\n",
    "p = figure(title=\"Example Glyphs\", x_range=(0, 10), y_range=(0, 10))\n",
    "\n",
    "# Add a line glyph\n",
    "p.line(x=[1, 2, 3, 4, 5], y=[1, 2, 3, 4, 5], line_width=2, line_color=\"red\")\n",
    "\n",
    "# Add a circle glyph\n",
    "p.circle(x=[2, 4, 6, 8], y=[2, 4, 6, 8], size=20, fill_color=\"green\", line_color=\"black\")\n",
    "\n",
    "# Add a text glyph\n",
    "p.text(x=[1, 3, 5], y=[1, 3, 5], text=[\"Hello\", \"World\", \"Bokeh\"], text_color=\"blue\")\n",
    "show(p)\n"
   ]
  },
  {
   "cell_type": "markdown",
   "id": "50fa33bd-3cc9-46b9-bdcc-cd1212e9d653",
   "metadata": {},
   "source": [
    "### QUESTION 3:"
   ]
  },
  {
   "cell_type": "markdown",
   "id": "3768de68-0847-418f-ae3c-76d69998e794",
   "metadata": {},
   "source": [
    "#### How can you customize the appearance of a Bokeh plot, including the axes, title, and legend?"
   ]
  },
  {
   "cell_type": "code",
   "execution_count": 17,
   "id": "ba632c37-389a-4b31-b7e5-06d897162eb2",
   "metadata": {},
   "outputs": [],
   "source": [
    "x=[3,4,5,6,7]\n",
    "y=[4,5,6,7,4]\n",
    "output_file(\"line.html\")\n",
    "p=figure(title=\"line graph\")\n",
    "p.xaxis.axis_label='X-axis'\n",
    "p.yaxis.axis_label='Y-axis'\n",
    "p.title=\"Bokeh Example\"\n",
    "p.line(x,y)\n",
    "p.circle(x,y,legend_label=\"my_label\")\n",
    "show(p)"
   ]
  },
  {
   "cell_type": "markdown",
   "id": "bdeaa9d0-d6ae-49a0-8ced-0ff6e3470963",
   "metadata": {},
   "source": [
    "### QUESTION 4:"
   ]
  },
  {
   "cell_type": "markdown",
   "id": "2e06f0a5-31db-482e-b5d9-465cd20642c7",
   "metadata": {},
   "source": [
    "#### What is a Bokeh server, and how can you use it to create interactive plots that can be updated in real time?"
   ]
  },
  {
   "cell_type": "markdown",
   "id": "cdce59c2-574c-408a-b5a9-14121c43b186",
   "metadata": {},
   "source": [
    "##### Bokeh Server is a powerful tool within the Bokeh library that facilitates the creation of interactive web applications and dashboards using Python. It operates by establishing a WebSocket connection between the server and the client's web browser, enabling seamless real-time updates of visualizations based on user interactions or changes in underlying data. This capability is particularly valuable for applications requiring dynamic data visualization, where plots need to update instantly as new data arrives or in response to user input such as selections, sliders, or other interactive elements. \n",
    "\n",
    "##### To utilize Bokeh Server, you start by installing Bokeh through pip and importing necessary modules such as `figure` and `ColumnDataSource` to define and configure your interactive plots. These plots can be equipped with various interactive components like buttons, sliders, or dropdowns, all driven by Python code running on the server. Data updates and plot modifications are handled through callback functions, which execute server-side Python code in response to events triggered by user actions or timed intervals. \n",
    "\n",
    "##### Running a Bokeh Server application involves launching the server with your Python script (`bokeh serve --show your_script.py`), which opens the application in a web browser. Users can then access the interactive plots through the provided URL, where they can interact with and explore the visualizations in real time. This approach empowers developers and data scientists to build sophisticated data-driven applications that deliver dynamic, responsive, and user-friendly visual experiences, tailored to specific analytical and exploratory needs. Bokeh Server thus stands as a versatile solution for creating impactful interactive data visualizations and applications directly within the Python ecosystem."
   ]
  },
  {
   "cell_type": "code",
   "execution_count": null,
   "id": "8fd4aa24-fcb8-46f0-8c6e-354adc3044b8",
   "metadata": {},
   "outputs": [],
   "source": []
  },
  {
   "cell_type": "code",
   "execution_count": null,
   "id": "50ea5e44-3a30-4a6d-89f4-ec1d8d2bca4b",
   "metadata": {},
   "outputs": [],
   "source": []
  },
  {
   "cell_type": "code",
   "execution_count": null,
   "id": "eee3b84f-fd60-4095-b82d-ca6349fefc94",
   "metadata": {},
   "outputs": [
    {
     "name": "stdout",
     "output_type": "stream",
     "text": [
      " * Serving Flask app '__main__'\n",
      " * Debug mode: off\n"
     ]
    },
    {
     "name": "stderr",
     "output_type": "stream",
     "text": [
      "WARNING: This is a development server. Do not use it in a production deployment. Use a production WSGI server instead.\n",
      " * Running on http://127.0.0.1:5000\n",
      "Press CTRL+C to quit\n"
     ]
    }
   ],
   "source": [
    "#Flask:\n",
    "\n",
    "from flask import Flask, render_template\n",
    "from bokeh.plotting import figure\n",
    "from bokeh.embed import components\n",
    "\n",
    "app = Flask(__name__)\n",
    "\n",
    "# Create a Bokeh plot\n",
    "p = figure(title=\"My Plot\", x_range=(0, 10), y_range=(0, 10))\n",
    "p.line(x=[1, 2, 3, 4, 5], y=[1, 2, 3, 4, 5])\n",
    "\n",
    "# Embed the plot into HTML\n",
    "script, div = components(p)\n",
    "\n",
    "@app.route(\"/\")\n",
    "def index():\n",
    "    return render_template(\"index.html\", script=script, div=div)\n",
    "\n",
    "if __name__ == \"__main__\":\n",
    "    app.run()\n"
   ]
  },
  {
   "cell_type": "code",
   "execution_count": null,
   "id": "ce66cc28-37cc-4749-9962-679ba2eb814b",
   "metadata": {},
   "outputs": [],
   "source": []
  }
 ],
 "metadata": {
  "kernelspec": {
   "display_name": "Python 3 (ipykernel)",
   "language": "python",
   "name": "python3"
  },
  "language_info": {
   "codemirror_mode": {
    "name": "ipython",
    "version": 3
   },
   "file_extension": ".py",
   "mimetype": "text/x-python",
   "name": "python",
   "nbconvert_exporter": "python",
   "pygments_lexer": "ipython3",
   "version": "3.11.7"
  }
 },
 "nbformat": 4,
 "nbformat_minor": 5
}

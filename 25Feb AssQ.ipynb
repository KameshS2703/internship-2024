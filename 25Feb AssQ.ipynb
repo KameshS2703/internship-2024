{
 "cells": [
  {
   "cell_type": "code",
   "execution_count": 5,
   "id": "58db0c79-c9a6-40fb-8c72-d837e89ad85a",
   "metadata": {},
   "outputs": [],
   "source": [
    "import pandas as pd\n",
    "course_name = ['Data Science', 'Machine Learning', 'Big Data', 'Data Engineer']\n",
    "duration =  [2,3,6,4]\n",
    "df = pd.DataFrame(data = {'course_name' : course_name, 'duration' : duration})"
   ]
  },
  {
   "cell_type": "code",
   "execution_count": 4,
   "id": "2f568c1f-6525-4134-b098-fe8bf54dd2d4",
   "metadata": {},
   "outputs": [
    {
     "data": {
      "text/html": [
       "<div>\n",
       "<style scoped>\n",
       "    .dataframe tbody tr th:only-of-type {\n",
       "        vertical-align: middle;\n",
       "    }\n",
       "\n",
       "    .dataframe tbody tr th {\n",
       "        vertical-align: top;\n",
       "    }\n",
       "\n",
       "    .dataframe thead th {\n",
       "        text-align: right;\n",
       "    }\n",
       "</style>\n",
       "<table border=\"1\" class=\"dataframe\">\n",
       "  <thead>\n",
       "    <tr style=\"text-align: right;\">\n",
       "      <th></th>\n",
       "      <th>course_name</th>\n",
       "      <th>duration</th>\n",
       "    </tr>\n",
       "  </thead>\n",
       "  <tbody>\n",
       "    <tr>\n",
       "      <th>0</th>\n",
       "      <td>Data Science</td>\n",
       "      <td>2</td>\n",
       "    </tr>\n",
       "    <tr>\n",
       "      <th>1</th>\n",
       "      <td>Machine Learning</td>\n",
       "      <td>3</td>\n",
       "    </tr>\n",
       "    <tr>\n",
       "      <th>2</th>\n",
       "      <td>Big Data</td>\n",
       "      <td>6</td>\n",
       "    </tr>\n",
       "    <tr>\n",
       "      <th>3</th>\n",
       "      <td>Data Engineer</td>\n",
       "      <td>4</td>\n",
       "    </tr>\n",
       "  </tbody>\n",
       "</table>\n",
       "</div>"
      ],
      "text/plain": [
       "        course_name  duration\n",
       "0      Data Science         2\n",
       "1  Machine Learning         3\n",
       "2          Big Data         6\n",
       "3     Data Engineer         4"
      ]
     },
     "execution_count": 4,
     "metadata": {},
     "output_type": "execute_result"
    }
   ],
   "source": [
    "df"
   ]
  },
  {
   "cell_type": "markdown",
   "id": "a024fc58-acc4-4402-8fd3-eb4ea61e0a0c",
   "metadata": {},
   "source": [
    "### ANSWER TO QUESTION 1:"
   ]
  },
  {
   "cell_type": "markdown",
   "id": "cff96d2c-a44f-44fa-9e7b-4ec72ffb4aaf",
   "metadata": {},
   "source": [
    "####  Write a code to print the data present in the second row of the dataframe, df."
   ]
  },
  {
   "cell_type": "code",
   "execution_count": 5,
   "id": "79a9752b-0dc4-4350-87e7-caab8b2a7e4e",
   "metadata": {},
   "outputs": [
    {
     "name": "stdout",
     "output_type": "stream",
     "text": [
      "course_name    Machine Learning\n",
      "duration                      3\n",
      "Name: 1, dtype: object\n"
     ]
    }
   ],
   "source": [
    "print(df.iloc[1])"
   ]
  },
  {
   "cell_type": "markdown",
   "id": "1e948e28-f266-474d-9e20-4b8602af0113",
   "metadata": {},
   "source": [
    "### ANSWER TO QUESTION 2:"
   ]
  },
  {
   "cell_type": "markdown",
   "id": "b0b99901-3dae-4991-8459-d756677668a6",
   "metadata": {},
   "source": [
    "#### What is the difference between the functions loc and iloc in pandas.DataFrame?"
   ]
  },
  {
   "cell_type": "markdown",
   "id": "4255f760-557f-4bdb-af2f-7410c63ab049",
   "metadata": {},
   "source": [
    "#### iloc is used for integer-location based indexing, where you specify the numerical position of the rows and columns you want to select.\n",
    "\n",
    "#### loc is used for label-based indexing, where you specify the actual labels of the rows and columns you want to select.\n",
    "\n"
   ]
  },
  {
   "cell_type": "code",
   "execution_count": 3,
   "id": "8ae9ae19-1346-47b5-a160-a1c061f56262",
   "metadata": {},
   "outputs": [
    {
     "name": "stdout",
     "output_type": "stream",
     "text": [
      "        course_name  duration\n",
      "0      Data Science         2\n",
      "1  Machine Learning         3\n",
      "2          Big Data         6\n",
      "3     Data Engineer         4\n"
     ]
    }
   ],
   "source": [
    "print(df.loc[0:3])"
   ]
  },
  {
   "cell_type": "code",
   "execution_count": 4,
   "id": "91eebc78-0d97-4e7e-ab01-d489deb2b282",
   "metadata": {},
   "outputs": [
    {
     "name": "stdout",
     "output_type": "stream",
     "text": [
      "        course_name  duration\n",
      "0      Data Science         2\n",
      "1  Machine Learning         3\n",
      "2          Big Data         6\n"
     ]
    }
   ],
   "source": [
    "print(df.iloc[0:3])"
   ]
  },
  {
   "cell_type": "markdown",
   "id": "954eea3d-a766-4d8c-84e8-213bee244eaa",
   "metadata": {},
   "source": [
    "### ANSWER TO QUESTION 3:"
   ]
  },
  {
   "cell_type": "markdown",
   "id": "eb904ee9-e2a6-4d7f-a494-c5cbfb7ca40b",
   "metadata": {},
   "source": [
    "#### Reindex the given dataframe using a variable, reindex = [3,0,1,2] and store it in the variable, new_df \n",
    "#### then find the output for both new_df.loc[2] and new_df.iloc[2]"
   ]
  },
  {
   "cell_type": "code",
   "execution_count": 9,
   "id": "059dbbbd-0506-4c34-aac3-509636d2b544",
   "metadata": {},
   "outputs": [
    {
     "name": "stdout",
     "output_type": "stream",
     "text": [
      "loc value: course_name    Big Data\n",
      "duration              6\n",
      "Name: 2, dtype: object\n",
      "iloc values course_name    Machine Learning\n",
      "duration                      3\n",
      "Name: 1, dtype: object\n"
     ]
    }
   ],
   "source": [
    "new_df=df.reindex([3,0,1,2])\n",
    "print(\"loc value:\",new_df.loc[2])\n",
    "print(\"iloc values\",new_df.iloc[2])"
   ]
  },
  {
   "cell_type": "markdown",
   "id": "c960bb88-73bf-40ff-bcf6-2b65706b80e9",
   "metadata": {},
   "source": [
    "#### new_df.loc[2] looks for the row with the label \"2\" and returns the data in that row.\n",
    "\n",
    "#### new_df.iloc[2] looks for the row at the 2nd position (like an array index) and returns the data in that row.\n"
   ]
  },
  {
   "cell_type": "code",
   "execution_count": 22,
   "id": "4fe3def4-be32-48ca-ac70-9e0c57553520",
   "metadata": {},
   "outputs": [],
   "source": [
    " import pandas as pd\n",
    " import numpy as np\n",
    " columns = ['column_1', 'column_2', 'column_3', 'column_4', 'column_5', 'column_6']\n",
    " indices = [1,2,3,4,5,6]\n",
    " #Creating a dataframe:\n",
    " df1 = pd.DataFrame(np.random.rand(6,6), columns = columns, index = indices)"
   ]
  },
  {
   "cell_type": "code",
   "execution_count": 23,
   "id": "1effcb86-df0a-4150-b8b8-0325eaa8ca57",
   "metadata": {},
   "outputs": [
    {
     "data": {
      "text/html": [
       "<div>\n",
       "<style scoped>\n",
       "    .dataframe tbody tr th:only-of-type {\n",
       "        vertical-align: middle;\n",
       "    }\n",
       "\n",
       "    .dataframe tbody tr th {\n",
       "        vertical-align: top;\n",
       "    }\n",
       "\n",
       "    .dataframe thead th {\n",
       "        text-align: right;\n",
       "    }\n",
       "</style>\n",
       "<table border=\"1\" class=\"dataframe\">\n",
       "  <thead>\n",
       "    <tr style=\"text-align: right;\">\n",
       "      <th></th>\n",
       "      <th>column_1</th>\n",
       "      <th>column_2</th>\n",
       "      <th>column_3</th>\n",
       "      <th>column_4</th>\n",
       "      <th>column_5</th>\n",
       "      <th>column_6</th>\n",
       "    </tr>\n",
       "  </thead>\n",
       "  <tbody>\n",
       "    <tr>\n",
       "      <th>1</th>\n",
       "      <td>0.387191</td>\n",
       "      <td>0.057031</td>\n",
       "      <td>0.003573</td>\n",
       "      <td>0.974811</td>\n",
       "      <td>0.022301</td>\n",
       "      <td>0.507025</td>\n",
       "    </tr>\n",
       "    <tr>\n",
       "      <th>2</th>\n",
       "      <td>0.999150</td>\n",
       "      <td>0.509638</td>\n",
       "      <td>0.349702</td>\n",
       "      <td>0.486189</td>\n",
       "      <td>0.922634</td>\n",
       "      <td>0.802277</td>\n",
       "    </tr>\n",
       "    <tr>\n",
       "      <th>3</th>\n",
       "      <td>0.960477</td>\n",
       "      <td>0.275529</td>\n",
       "      <td>0.433226</td>\n",
       "      <td>0.617241</td>\n",
       "      <td>0.780455</td>\n",
       "      <td>0.893373</td>\n",
       "    </tr>\n",
       "    <tr>\n",
       "      <th>4</th>\n",
       "      <td>0.246149</td>\n",
       "      <td>0.558954</td>\n",
       "      <td>0.505068</td>\n",
       "      <td>0.118528</td>\n",
       "      <td>0.823233</td>\n",
       "      <td>0.300814</td>\n",
       "    </tr>\n",
       "    <tr>\n",
       "      <th>5</th>\n",
       "      <td>0.737355</td>\n",
       "      <td>0.851253</td>\n",
       "      <td>0.441388</td>\n",
       "      <td>0.972625</td>\n",
       "      <td>0.980949</td>\n",
       "      <td>0.463836</td>\n",
       "    </tr>\n",
       "    <tr>\n",
       "      <th>6</th>\n",
       "      <td>0.403983</td>\n",
       "      <td>0.368426</td>\n",
       "      <td>0.562528</td>\n",
       "      <td>0.037931</td>\n",
       "      <td>0.106242</td>\n",
       "      <td>0.883507</td>\n",
       "    </tr>\n",
       "  </tbody>\n",
       "</table>\n",
       "</div>"
      ],
      "text/plain": [
       "   column_1  column_2  column_3  column_4  column_5  column_6\n",
       "1  0.387191  0.057031  0.003573  0.974811  0.022301  0.507025\n",
       "2  0.999150  0.509638  0.349702  0.486189  0.922634  0.802277\n",
       "3  0.960477  0.275529  0.433226  0.617241  0.780455  0.893373\n",
       "4  0.246149  0.558954  0.505068  0.118528  0.823233  0.300814\n",
       "5  0.737355  0.851253  0.441388  0.972625  0.980949  0.463836\n",
       "6  0.403983  0.368426  0.562528  0.037931  0.106242  0.883507"
      ]
     },
     "execution_count": 23,
     "metadata": {},
     "output_type": "execute_result"
    }
   ],
   "source": [
    "df1"
   ]
  },
  {
   "cell_type": "markdown",
   "id": "d07b9ba8-0c9d-4b7b-a278-8f4d2a7fe893",
   "metadata": {},
   "source": [
    "### ANSWER TO QUESTION 4:"
   ]
  },
  {
   "cell_type": "markdown",
   "id": "6df4b583-1f9f-485e-9070-92fd9aa4b258",
   "metadata": {},
   "source": [
    "#### Write a code to find the following statistical measurements for the above dataframe df1:\n",
    "#### (i) \tmean of each and every column present in the dataframe.\n",
    "#### (ii) standard deviation of column, ‘column_2"
   ]
  },
  {
   "cell_type": "code",
   "execution_count": 14,
   "id": "8b7a5703-d194-4970-a9a7-e67c6f69db16",
   "metadata": {},
   "outputs": [
    {
     "data": {
      "text/plain": [
       "column_1    0.429598\n",
       "column_2    0.604061\n",
       "column_3    0.520791\n",
       "column_4    0.218638\n",
       "column_5    0.217097\n",
       "column_6    0.701871\n",
       "dtype: float64"
      ]
     },
     "execution_count": 14,
     "metadata": {},
     "output_type": "execute_result"
    }
   ],
   "source": [
    "df1.mean()"
   ]
  },
  {
   "cell_type": "code",
   "execution_count": 16,
   "id": "fc81a4e9-6ad5-48ab-b498-17867e27f164",
   "metadata": {},
   "outputs": [
    {
     "data": {
      "text/plain": [
       "0.3035345739424548"
      ]
     },
     "execution_count": 16,
     "metadata": {},
     "output_type": "execute_result"
    }
   ],
   "source": [
    "df1['column_2'].std()"
   ]
  },
  {
   "cell_type": "markdown",
   "id": "50dfa3d2-eb80-4416-b827-773a6c0109e8",
   "metadata": {},
   "source": [
    "### ANSWER TO QUESTION 5:"
   ]
  },
  {
   "cell_type": "markdown",
   "id": "9997538b-7b80-40f9-a5c5-fb21d314c078",
   "metadata": {},
   "source": [
    "#### Replace the data present in the second row of column, ‘column_2’ by a string variable then find the \n",
    "#### mean of column, column_2.\n",
    "#### If you are getting errors in executing it then explain why.\n",
    "#### [Hint: To replace the data use df1.loc[] and equate this to string data of your choice.]"
   ]
  },
  {
   "cell_type": "code",
   "execution_count": 24,
   "id": "dd52c67b-9198-462d-a5b5-70ed29192157",
   "metadata": {},
   "outputs": [
    {
     "name": "stderr",
     "output_type": "stream",
     "text": [
      "C:\\Users\\KAMESH\\AppData\\Local\\Temp\\ipykernel_20944\\210912182.py:1: FutureWarning: Setting an item of incompatible dtype is deprecated and will raise in a future error of pandas. Value 'hello' has dtype incompatible with float64, please explicitly cast to a compatible dtype first.\n",
      "  df1.loc[2,['column_2']]='hello'\n"
     ]
    }
   ],
   "source": [
    "df1.loc[2,['column_2']]='hello'"
   ]
  },
  {
   "cell_type": "code",
   "execution_count": 25,
   "id": "51bc5983-dedd-40df-8897-e8189c625fe4",
   "metadata": {},
   "outputs": [
    {
     "data": {
      "text/html": [
       "<div>\n",
       "<style scoped>\n",
       "    .dataframe tbody tr th:only-of-type {\n",
       "        vertical-align: middle;\n",
       "    }\n",
       "\n",
       "    .dataframe tbody tr th {\n",
       "        vertical-align: top;\n",
       "    }\n",
       "\n",
       "    .dataframe thead th {\n",
       "        text-align: right;\n",
       "    }\n",
       "</style>\n",
       "<table border=\"1\" class=\"dataframe\">\n",
       "  <thead>\n",
       "    <tr style=\"text-align: right;\">\n",
       "      <th></th>\n",
       "      <th>column_1</th>\n",
       "      <th>column_2</th>\n",
       "      <th>column_3</th>\n",
       "      <th>column_4</th>\n",
       "      <th>column_5</th>\n",
       "      <th>column_6</th>\n",
       "    </tr>\n",
       "  </thead>\n",
       "  <tbody>\n",
       "    <tr>\n",
       "      <th>1</th>\n",
       "      <td>0.387191</td>\n",
       "      <td>0.057031</td>\n",
       "      <td>0.003573</td>\n",
       "      <td>0.974811</td>\n",
       "      <td>0.022301</td>\n",
       "      <td>0.507025</td>\n",
       "    </tr>\n",
       "    <tr>\n",
       "      <th>2</th>\n",
       "      <td>0.999150</td>\n",
       "      <td>hello</td>\n",
       "      <td>0.349702</td>\n",
       "      <td>0.486189</td>\n",
       "      <td>0.922634</td>\n",
       "      <td>0.802277</td>\n",
       "    </tr>\n",
       "    <tr>\n",
       "      <th>3</th>\n",
       "      <td>0.960477</td>\n",
       "      <td>0.275529</td>\n",
       "      <td>0.433226</td>\n",
       "      <td>0.617241</td>\n",
       "      <td>0.780455</td>\n",
       "      <td>0.893373</td>\n",
       "    </tr>\n",
       "    <tr>\n",
       "      <th>4</th>\n",
       "      <td>0.246149</td>\n",
       "      <td>0.558954</td>\n",
       "      <td>0.505068</td>\n",
       "      <td>0.118528</td>\n",
       "      <td>0.823233</td>\n",
       "      <td>0.300814</td>\n",
       "    </tr>\n",
       "    <tr>\n",
       "      <th>5</th>\n",
       "      <td>0.737355</td>\n",
       "      <td>0.851253</td>\n",
       "      <td>0.441388</td>\n",
       "      <td>0.972625</td>\n",
       "      <td>0.980949</td>\n",
       "      <td>0.463836</td>\n",
       "    </tr>\n",
       "    <tr>\n",
       "      <th>6</th>\n",
       "      <td>0.403983</td>\n",
       "      <td>0.368426</td>\n",
       "      <td>0.562528</td>\n",
       "      <td>0.037931</td>\n",
       "      <td>0.106242</td>\n",
       "      <td>0.883507</td>\n",
       "    </tr>\n",
       "  </tbody>\n",
       "</table>\n",
       "</div>"
      ],
      "text/plain": [
       "   column_1  column_2  column_3  column_4  column_5  column_6\n",
       "1  0.387191  0.057031  0.003573  0.974811  0.022301  0.507025\n",
       "2  0.999150     hello  0.349702  0.486189  0.922634  0.802277\n",
       "3  0.960477  0.275529  0.433226  0.617241  0.780455  0.893373\n",
       "4  0.246149  0.558954  0.505068  0.118528  0.823233  0.300814\n",
       "5  0.737355  0.851253  0.441388  0.972625  0.980949  0.463836\n",
       "6  0.403983  0.368426  0.562528  0.037931  0.106242  0.883507"
      ]
     },
     "execution_count": 25,
     "metadata": {},
     "output_type": "execute_result"
    }
   ],
   "source": [
    "df1"
   ]
  },
  {
   "cell_type": "code",
   "execution_count": 26,
   "id": "61f35ec0-e287-4157-b15b-7a9dcb746711",
   "metadata": {},
   "outputs": [
    {
     "ename": "TypeError",
     "evalue": "unsupported operand type(s) for +: 'float' and 'str'",
     "output_type": "error",
     "traceback": [
      "\u001b[1;31m---------------------------------------------------------------------------\u001b[0m",
      "\u001b[1;31mTypeError\u001b[0m                                 Traceback (most recent call last)",
      "Cell \u001b[1;32mIn[26], line 1\u001b[0m\n\u001b[1;32m----> 1\u001b[0m df1[\u001b[38;5;124m'\u001b[39m\u001b[38;5;124mcolumn_2\u001b[39m\u001b[38;5;124m'\u001b[39m]\u001b[38;5;241m.\u001b[39mmean()\n",
      "File \u001b[1;32mC:\\ProgramData\\anaconda3\\Lib\\site-packages\\pandas\\core\\series.py:6225\u001b[0m, in \u001b[0;36mSeries.mean\u001b[1;34m(self, axis, skipna, numeric_only, **kwargs)\u001b[0m\n\u001b[0;32m   6217\u001b[0m \u001b[38;5;129m@doc\u001b[39m(make_doc(\u001b[38;5;124m\"\u001b[39m\u001b[38;5;124mmean\u001b[39m\u001b[38;5;124m\"\u001b[39m, ndim\u001b[38;5;241m=\u001b[39m\u001b[38;5;241m1\u001b[39m))\n\u001b[0;32m   6218\u001b[0m \u001b[38;5;28;01mdef\u001b[39;00m \u001b[38;5;21mmean\u001b[39m(\n\u001b[0;32m   6219\u001b[0m     \u001b[38;5;28mself\u001b[39m,\n\u001b[1;32m   (...)\u001b[0m\n\u001b[0;32m   6223\u001b[0m     \u001b[38;5;241m*\u001b[39m\u001b[38;5;241m*\u001b[39mkwargs,\n\u001b[0;32m   6224\u001b[0m ):\n\u001b[1;32m-> 6225\u001b[0m     \u001b[38;5;28;01mreturn\u001b[39;00m NDFrame\u001b[38;5;241m.\u001b[39mmean(\u001b[38;5;28mself\u001b[39m, axis, skipna, numeric_only, \u001b[38;5;241m*\u001b[39m\u001b[38;5;241m*\u001b[39mkwargs)\n",
      "File \u001b[1;32mC:\\ProgramData\\anaconda3\\Lib\\site-packages\\pandas\\core\\generic.py:11992\u001b[0m, in \u001b[0;36mNDFrame.mean\u001b[1;34m(self, axis, skipna, numeric_only, **kwargs)\u001b[0m\n\u001b[0;32m  11985\u001b[0m \u001b[38;5;28;01mdef\u001b[39;00m \u001b[38;5;21mmean\u001b[39m(\n\u001b[0;32m  11986\u001b[0m     \u001b[38;5;28mself\u001b[39m,\n\u001b[0;32m  11987\u001b[0m     axis: Axis \u001b[38;5;241m|\u001b[39m \u001b[38;5;28;01mNone\u001b[39;00m \u001b[38;5;241m=\u001b[39m \u001b[38;5;241m0\u001b[39m,\n\u001b[1;32m   (...)\u001b[0m\n\u001b[0;32m  11990\u001b[0m     \u001b[38;5;241m*\u001b[39m\u001b[38;5;241m*\u001b[39mkwargs,\n\u001b[0;32m  11991\u001b[0m ) \u001b[38;5;241m-\u001b[39m\u001b[38;5;241m>\u001b[39m Series \u001b[38;5;241m|\u001b[39m \u001b[38;5;28mfloat\u001b[39m:\n\u001b[1;32m> 11992\u001b[0m     \u001b[38;5;28;01mreturn\u001b[39;00m \u001b[38;5;28mself\u001b[39m\u001b[38;5;241m.\u001b[39m_stat_function(\n\u001b[0;32m  11993\u001b[0m         \u001b[38;5;124m\"\u001b[39m\u001b[38;5;124mmean\u001b[39m\u001b[38;5;124m\"\u001b[39m, nanops\u001b[38;5;241m.\u001b[39mnanmean, axis, skipna, numeric_only, \u001b[38;5;241m*\u001b[39m\u001b[38;5;241m*\u001b[39mkwargs\n\u001b[0;32m  11994\u001b[0m     )\n",
      "File \u001b[1;32mC:\\ProgramData\\anaconda3\\Lib\\site-packages\\pandas\\core\\generic.py:11949\u001b[0m, in \u001b[0;36mNDFrame._stat_function\u001b[1;34m(self, name, func, axis, skipna, numeric_only, **kwargs)\u001b[0m\n\u001b[0;32m  11945\u001b[0m nv\u001b[38;5;241m.\u001b[39mvalidate_func(name, (), kwargs)\n\u001b[0;32m  11947\u001b[0m validate_bool_kwarg(skipna, \u001b[38;5;124m\"\u001b[39m\u001b[38;5;124mskipna\u001b[39m\u001b[38;5;124m\"\u001b[39m, none_allowed\u001b[38;5;241m=\u001b[39m\u001b[38;5;28;01mFalse\u001b[39;00m)\n\u001b[1;32m> 11949\u001b[0m \u001b[38;5;28;01mreturn\u001b[39;00m \u001b[38;5;28mself\u001b[39m\u001b[38;5;241m.\u001b[39m_reduce(\n\u001b[0;32m  11950\u001b[0m     func, name\u001b[38;5;241m=\u001b[39mname, axis\u001b[38;5;241m=\u001b[39maxis, skipna\u001b[38;5;241m=\u001b[39mskipna, numeric_only\u001b[38;5;241m=\u001b[39mnumeric_only\n\u001b[0;32m  11951\u001b[0m )\n",
      "File \u001b[1;32mC:\\ProgramData\\anaconda3\\Lib\\site-packages\\pandas\\core\\series.py:6133\u001b[0m, in \u001b[0;36mSeries._reduce\u001b[1;34m(self, op, name, axis, skipna, numeric_only, filter_type, **kwds)\u001b[0m\n\u001b[0;32m   6128\u001b[0m     \u001b[38;5;66;03m# GH#47500 - change to TypeError to match other methods\u001b[39;00m\n\u001b[0;32m   6129\u001b[0m     \u001b[38;5;28;01mraise\u001b[39;00m \u001b[38;5;167;01mTypeError\u001b[39;00m(\n\u001b[0;32m   6130\u001b[0m         \u001b[38;5;124mf\u001b[39m\u001b[38;5;124m\"\u001b[39m\u001b[38;5;124mSeries.\u001b[39m\u001b[38;5;132;01m{\u001b[39;00mname\u001b[38;5;132;01m}\u001b[39;00m\u001b[38;5;124m does not allow \u001b[39m\u001b[38;5;132;01m{\u001b[39;00mkwd_name\u001b[38;5;132;01m}\u001b[39;00m\u001b[38;5;124m=\u001b[39m\u001b[38;5;132;01m{\u001b[39;00mnumeric_only\u001b[38;5;132;01m}\u001b[39;00m\u001b[38;5;124m \u001b[39m\u001b[38;5;124m\"\u001b[39m\n\u001b[0;32m   6131\u001b[0m         \u001b[38;5;124m\"\u001b[39m\u001b[38;5;124mwith non-numeric dtypes.\u001b[39m\u001b[38;5;124m\"\u001b[39m\n\u001b[0;32m   6132\u001b[0m     )\n\u001b[1;32m-> 6133\u001b[0m \u001b[38;5;28;01mreturn\u001b[39;00m op(delegate, skipna\u001b[38;5;241m=\u001b[39mskipna, \u001b[38;5;241m*\u001b[39m\u001b[38;5;241m*\u001b[39mkwds)\n",
      "File \u001b[1;32mC:\\ProgramData\\anaconda3\\Lib\\site-packages\\pandas\\core\\nanops.py:147\u001b[0m, in \u001b[0;36mbottleneck_switch.__call__.<locals>.f\u001b[1;34m(values, axis, skipna, **kwds)\u001b[0m\n\u001b[0;32m    145\u001b[0m         result \u001b[38;5;241m=\u001b[39m alt(values, axis\u001b[38;5;241m=\u001b[39maxis, skipna\u001b[38;5;241m=\u001b[39mskipna, \u001b[38;5;241m*\u001b[39m\u001b[38;5;241m*\u001b[39mkwds)\n\u001b[0;32m    146\u001b[0m \u001b[38;5;28;01melse\u001b[39;00m:\n\u001b[1;32m--> 147\u001b[0m     result \u001b[38;5;241m=\u001b[39m alt(values, axis\u001b[38;5;241m=\u001b[39maxis, skipna\u001b[38;5;241m=\u001b[39mskipna, \u001b[38;5;241m*\u001b[39m\u001b[38;5;241m*\u001b[39mkwds)\n\u001b[0;32m    149\u001b[0m \u001b[38;5;28;01mreturn\u001b[39;00m result\n",
      "File \u001b[1;32mC:\\ProgramData\\anaconda3\\Lib\\site-packages\\pandas\\core\\nanops.py:404\u001b[0m, in \u001b[0;36m_datetimelike_compat.<locals>.new_func\u001b[1;34m(values, axis, skipna, mask, **kwargs)\u001b[0m\n\u001b[0;32m    401\u001b[0m \u001b[38;5;28;01mif\u001b[39;00m datetimelike \u001b[38;5;129;01mand\u001b[39;00m mask \u001b[38;5;129;01mis\u001b[39;00m \u001b[38;5;28;01mNone\u001b[39;00m:\n\u001b[0;32m    402\u001b[0m     mask \u001b[38;5;241m=\u001b[39m isna(values)\n\u001b[1;32m--> 404\u001b[0m result \u001b[38;5;241m=\u001b[39m func(values, axis\u001b[38;5;241m=\u001b[39maxis, skipna\u001b[38;5;241m=\u001b[39mskipna, mask\u001b[38;5;241m=\u001b[39mmask, \u001b[38;5;241m*\u001b[39m\u001b[38;5;241m*\u001b[39mkwargs)\n\u001b[0;32m    406\u001b[0m \u001b[38;5;28;01mif\u001b[39;00m datetimelike:\n\u001b[0;32m    407\u001b[0m     result \u001b[38;5;241m=\u001b[39m _wrap_results(result, orig_values\u001b[38;5;241m.\u001b[39mdtype, fill_value\u001b[38;5;241m=\u001b[39miNaT)\n",
      "File \u001b[1;32mC:\\ProgramData\\anaconda3\\Lib\\site-packages\\pandas\\core\\nanops.py:719\u001b[0m, in \u001b[0;36mnanmean\u001b[1;34m(values, axis, skipna, mask)\u001b[0m\n\u001b[0;32m    716\u001b[0m     dtype_count \u001b[38;5;241m=\u001b[39m dtype\n\u001b[0;32m    718\u001b[0m count \u001b[38;5;241m=\u001b[39m _get_counts(values\u001b[38;5;241m.\u001b[39mshape, mask, axis, dtype\u001b[38;5;241m=\u001b[39mdtype_count)\n\u001b[1;32m--> 719\u001b[0m the_sum \u001b[38;5;241m=\u001b[39m values\u001b[38;5;241m.\u001b[39msum(axis, dtype\u001b[38;5;241m=\u001b[39mdtype_sum)\n\u001b[0;32m    720\u001b[0m the_sum \u001b[38;5;241m=\u001b[39m _ensure_numeric(the_sum)\n\u001b[0;32m    722\u001b[0m \u001b[38;5;28;01mif\u001b[39;00m axis \u001b[38;5;129;01mis\u001b[39;00m \u001b[38;5;129;01mnot\u001b[39;00m \u001b[38;5;28;01mNone\u001b[39;00m \u001b[38;5;129;01mand\u001b[39;00m \u001b[38;5;28mgetattr\u001b[39m(the_sum, \u001b[38;5;124m\"\u001b[39m\u001b[38;5;124mndim\u001b[39m\u001b[38;5;124m\"\u001b[39m, \u001b[38;5;28;01mFalse\u001b[39;00m):\n",
      "File \u001b[1;32mC:\\ProgramData\\anaconda3\\Lib\\site-packages\\numpy\\core\\_methods.py:49\u001b[0m, in \u001b[0;36m_sum\u001b[1;34m(a, axis, dtype, out, keepdims, initial, where)\u001b[0m\n\u001b[0;32m     47\u001b[0m \u001b[38;5;28;01mdef\u001b[39;00m \u001b[38;5;21m_sum\u001b[39m(a, axis\u001b[38;5;241m=\u001b[39m\u001b[38;5;28;01mNone\u001b[39;00m, dtype\u001b[38;5;241m=\u001b[39m\u001b[38;5;28;01mNone\u001b[39;00m, out\u001b[38;5;241m=\u001b[39m\u001b[38;5;28;01mNone\u001b[39;00m, keepdims\u001b[38;5;241m=\u001b[39m\u001b[38;5;28;01mFalse\u001b[39;00m,\n\u001b[0;32m     48\u001b[0m          initial\u001b[38;5;241m=\u001b[39m_NoValue, where\u001b[38;5;241m=\u001b[39m\u001b[38;5;28;01mTrue\u001b[39;00m):\n\u001b[1;32m---> 49\u001b[0m     \u001b[38;5;28;01mreturn\u001b[39;00m umr_sum(a, axis, dtype, out, keepdims, initial, where)\n",
      "\u001b[1;31mTypeError\u001b[0m: unsupported operand type(s) for +: 'float' and 'str'"
     ]
    }
   ],
   "source": [
    "df1['column_2'].mean()"
   ]
  },
  {
   "cell_type": "markdown",
   "id": "3ae752f9-1c6c-443c-b0d8-96428a3ea703",
   "metadata": {},
   "source": [
    "### it is obvious that we would recieve an error as mean value can be only calculated with numrical values. but here we are trying to manipulate with a string value. which decalres an type error"
   ]
  },
  {
   "cell_type": "markdown",
   "id": "48b7d392-7406-43f1-91c7-022b200e7b2b",
   "metadata": {},
   "source": [
    "### ANSWER TO QUESTION 6"
   ]
  },
  {
   "cell_type": "markdown",
   "id": "31a742c6-d0b1-4eb0-ac2b-9aa19bd1d092",
   "metadata": {},
   "source": [
    "#### What do you understand about the windows function in pandas and list the types of windows functions?"
   ]
  },
  {
   "cell_type": "markdown",
   "id": "7ac8272a-777c-41cc-b3cd-9fd7bb406937",
   "metadata": {},
   "source": [
    "##### In pandas, a window function is a type of function that performs calculations over a specific window or subset of data, typically a rolling or moving window. These functions allow you to calculate aggregate values, such as sums, means, and standard deviations, over a specified window of data.\n",
    "\n",
    "##### Types of window functions in pandas:\n",
    "\n",
    "##### 1. Rolling windows: Calculate values over a fixed-size moving window, e.g., rolling mean, rolling sum.\n",
    "##### 2. Expanding windows: Calculate values over an expanding window, starting from the first observation, e.g., expanding mean, expanding sum.\n",
    "##### 3. Exponential weighted windows: Calculate values using an exponentially weighted moving average, e.g., ewm mean, ewm std.\n",
    "##### 4. Moving average: Calculate the mean over a fixed-size moving window.\n",
    "##### 5. Cumulative: Calculate cumulative sums or other aggregate values over the data.\n"
   ]
  },
  {
   "cell_type": "markdown",
   "id": "724c71c8-86ed-4bfc-b8d3-61dec671f7bb",
   "metadata": {},
   "source": [
    "### ANSWER TO QUESTION 7:"
   ]
  },
  {
   "cell_type": "markdown",
   "id": "5046186b-97cd-4ee7-b96d-71066b610836",
   "metadata": {},
   "source": [
    "#### Write a code to print only the current month and year at the time of answering this question"
   ]
  },
  {
   "cell_type": "code",
   "execution_count": 31,
   "id": "f989dcda-5ff9-4758-8471-4681feb2f4fa",
   "metadata": {},
   "outputs": [
    {
     "name": "stdout",
     "output_type": "stream",
     "text": [
      "Current Month: July\n",
      "Current Year: 2024\n"
     ]
    }
   ],
   "source": [
    "import pandas as pd\n",
    "\n",
    "current_month = pd.Timestamp('today').month_name()\n",
    "current_year = pd.Timestamp('today').year\n",
    "\n",
    "print(\"Current Month:\", current_month)\n",
    "print(\"Current Year:\", current_year)\n"
   ]
  },
  {
   "cell_type": "markdown",
   "id": "9dc142fc-45ed-47dd-9752-a9cb34bda592",
   "metadata": {},
   "source": [
    "#### ANSWER TO QUESTION 8:"
   ]
  },
  {
   "cell_type": "markdown",
   "id": "69d990c4-1a03-4915-9fec-e82508a20899",
   "metadata": {},
   "source": [
    "#### Write a Python program that takes in two dates as input (in the format YYYY-MM-DD) and \n",
    "#### calculates the difference between them in days, hours, and minutes using Pandas time delta. The \n",
    "#### program should prompt the user to enter the dates and display the result"
   ]
  },
  {
   "cell_type": "code",
   "execution_count": 39,
   "id": "f4041d7a-0d35-448a-bbc5-790082aed380",
   "metadata": {},
   "outputs": [
    {
     "name": "stdin",
     "output_type": "stream",
     "text": [
      "enter the date 1 in the format:(YYYY-MM-DD) 2003-11-22\n",
      "enter the date 1 in the format:(YYYY-MM-DD) 2003-11-23\n"
     ]
    },
    {
     "name": "stdout",
     "output_type": "stream",
     "text": [
      "The time difference is:  1 days 00:00:00\n"
     ]
    }
   ],
   "source": [
    "input01=input(\"enter the date 1 in the format:(YYYY-MM-DD)\")\n",
    "input02=input(\"enter the date 1 in the format:(YYYY-MM-DD)\")\n",
    "input01=(pd.to_datetime(input01))\n",
    "input02=(pd.to_datetime(input02))\n",
    "print(\"The time difference is: \", pd.Timedelta(input02 - input01))\n",
    "\n",
    "\n"
   ]
  },
  {
   "cell_type": "markdown",
   "id": "f61ddf14-0ced-4cce-9808-219252ef1292",
   "metadata": {},
   "source": [
    "### ANSWER TO QUESTION 9:"
   ]
  },
  {
   "cell_type": "markdown",
   "id": "3773bbd9-7cfe-4794-8b36-411dbdceee56",
   "metadata": {},
   "source": [
    "#### Write a Python program that reads a CSV file containing categorical data and converts a specified \n",
    "#### column to a categorical data type. The program should prompt the user to enter the file path, column \n",
    "#### name, and category order, and then display the sorted data."
   ]
  },
  {
   "cell_type": "code",
   "execution_count": 5,
   "id": "a74f482c-862f-4158-8eb2-1d86fef4c4da",
   "metadata": {},
   "outputs": [
    {
     "name": "stdin",
     "output_type": "stream",
     "text": [
      "Enter the CSV filename:  cancer patient data sets.csv\n"
     ]
    },
    {
     "name": "stdout",
     "output_type": "stream",
     "text": [
      "Columns in the DataFrame: ['index', 'Patient Id', 'Age', 'Gender', 'Air Pollution', 'Alcohol use', 'Dust Allergy', 'OccuPational Hazards', 'Genetic Risk', 'chronic Lung Disease', 'Balanced Diet', 'Obesity', 'Smoking', 'Passive Smoker', 'Chest Pain', 'Coughing of Blood', 'Fatigue', 'Weight Loss', 'Shortness of Breath', 'Wheezing', 'Swallowing Difficulty', 'Clubbing of Finger Nails', 'Frequent Cold', 'Dry Cough', 'Snoring', 'Level']\n"
     ]
    },
    {
     "name": "stdin",
     "output_type": "stream",
     "text": [
      "Enter the column name to convert to categorical:  Gender\n",
      "Enter the category order (comma-separated values):  1,2\n"
     ]
    },
    {
     "name": "stdout",
     "output_type": "stream",
     "text": [
      "Sorted DataFrame:\n",
      "     index Patient Id  Age Gender  Air Pollution  Alcohol use  Dust Allergy  \\\n",
      "0        0         P1   33    NaN              2            4             5   \n",
      "1        1        P10   17    NaN              3            1             5   \n",
      "2        2       P100   35    NaN              4            5             6   \n",
      "3        3      P1000   37    NaN              7            7             7   \n",
      "4        4       P101   46    NaN              6            8             7   \n",
      "..     ...        ...  ...    ...            ...          ...           ...   \n",
      "995    995       P995   44    NaN              6            7             7   \n",
      "996    996       P996   37    NaN              6            8             7   \n",
      "997    997       P997   25    NaN              4            5             6   \n",
      "998    998       P998   18    NaN              6            8             7   \n",
      "999    999       P999   47    NaN              6            5             6   \n",
      "\n",
      "     OccuPational Hazards  Genetic Risk  chronic Lung Disease  ...  Fatigue  \\\n",
      "0                       4             3                     2  ...        3   \n",
      "1                       3             4                     2  ...        1   \n",
      "2                       5             5                     4  ...        8   \n",
      "3                       7             6                     7  ...        4   \n",
      "4                       7             7                     6  ...        3   \n",
      "..                    ...           ...                   ...  ...      ...   \n",
      "995                     7             7                     6  ...        5   \n",
      "996                     7             7                     6  ...        9   \n",
      "997                     5             5                     4  ...        8   \n",
      "998                     7             7                     6  ...        3   \n",
      "999                     5             5                     4  ...        8   \n",
      "\n",
      "     Weight Loss  Shortness of Breath  Wheezing  Swallowing Difficulty  \\\n",
      "0              4                    2         2                      3   \n",
      "1              3                    7         8                      6   \n",
      "2              7                    9         2                      1   \n",
      "3              2                    3         1                      4   \n",
      "4              2                    4         1                      4   \n",
      "..           ...                  ...       ...                    ...   \n",
      "995            3                    2         7                      8   \n",
      "996            6                    5         7                      2   \n",
      "997            7                    9         2                      1   \n",
      "998            2                    4         1                      4   \n",
      "999            7                    9         2                      1   \n",
      "\n",
      "     Clubbing of Finger Nails  Frequent Cold  Dry Cough  Snoring   Level  \n",
      "0                           1              2          3        4     Low  \n",
      "1                           2              1          7        2  Medium  \n",
      "2                           4              6          7        2    High  \n",
      "3                           5              6          7        5    High  \n",
      "4                           2              4          2        3    High  \n",
      "..                        ...            ...        ...      ...     ...  \n",
      "995                         2              4          5        3    High  \n",
      "996                         4              3          1        4    High  \n",
      "997                         4              6          7        2    High  \n",
      "998                         2              4          2        3    High  \n",
      "999                         4              6          7        2    High  \n",
      "\n",
      "[1000 rows x 26 columns]\n"
     ]
    }
   ],
   "source": [
    "import pandas as pd\n",
    "\n",
    "def convert_to_categorical():\n",
    "    filename = input(\"Enter the CSV filename: \")\n",
    "    df = pd.read_csv(filename)\n",
    "    print(\"Columns in the DataFrame:\", df.columns.tolist())\n",
    "    column_name = input(\"Enter the column name to convert to categorical: \")\n",
    "    if column_name in df.columns:\n",
    "        category_order = input(\"Enter the category order (comma-separated values): \").split(',')\n",
    "        df[column_name] = pd.Categorical(df[column_name], categories=category_order, ordered=True)\n",
    "        df_sorted = df.sort_values(by=column_name)\n",
    "        print(\"Sorted DataFrame:\")\n",
    "        print(df_sorted)\n",
    "    else:\n",
    "        print(f\"Column '{column_name}' does not exist in the DataFrame.\")\n",
    "\n",
    "# Run the function\n",
    "convert_to_categorical()\n"
   ]
  },
  {
   "cell_type": "markdown",
   "id": "9b5ca9b8-cbea-4ea8-b707-b0a2f374a566",
   "metadata": {},
   "source": [
    "### QUESTION 10:"
   ]
  },
  {
   "cell_type": "markdown",
   "id": "5c80fd7e-83bd-4bd7-ae11-eb291dad13ed",
   "metadata": {},
   "source": [
    "#### Write a Python program that reads a CSV file containing sales data for different products and \n",
    "#### visualizes the data using a stacked bar chart to show the sales of each product category over time. The \n",
    "#### program should prompt the user to enter the file path and display the chart"
   ]
  },
  {
   "cell_type": "code",
   "execution_count": 17,
   "id": "1cc92fb8-a538-481d-89cc-33145a905cd2",
   "metadata": {},
   "outputs": [
    {
     "name": "stdin",
     "output_type": "stream",
     "text": [
      "Enter the CSV file path:  superstore_data01.csv\n"
     ]
    },
    {
     "name": "stdout",
     "output_type": "stream",
     "text": [
      "Columns in the DataFrame: ['Row ID', 'Order ID', 'Order Date', 'Ship Date', 'Ship Mode', 'Customer ID', 'Customer Name', 'Segment', 'City', 'State', 'Country', 'Postal Code', 'Market', 'Region', 'Product ID', 'Category', 'Sub-Category', 'Product Name', 'Sales', 'Quantity', 'Discount', 'Profit', 'Shipping Cost', 'Order Priority']\n"
     ]
    },
    {
     "data": {
      "image/png": "[encoded data removed]",
      "text/plain": [
       "<Figure size 1200x800 with 1 Axes>"
      ]
     },
     "metadata": {},
     "output_type": "display_data"
    }
   ],
   "source": [
    "import pandas as pd\n",
    "import matplotlib.pyplot as plt\n",
    "\n",
    "def visualize_sales_data():\n",
    "    # Prompt the user to enter the file path\n",
    "    filename = input(\"Enter the CSV file path: \")\n",
    "    \n",
    "    # Read the CSV file into a DataFrame\n",
    "    try:\n",
    "        df = pd.read_csv(filename)\n",
    "    except FileNotFoundError:\n",
    "        print(f\"Error: File '{filename}' not found.\")\n",
    "        return\n",
    "    \n",
    "    # Display the columns of the DataFrame\n",
    "    print(\"Columns in the DataFrame:\", df.columns.tolist())\n",
    "    \n",
    "    # Convert 'Order Date' column to datetime with the correct format\n",
    "    df['Order Date'] = pd.to_datetime(df['Order Date'],format='%d-%m-%Y')\n",
    "    \n",
    "    # Group by 'Order Date' and 'Category' and sum the 'Sales'\n",
    "    sales_by_category = df.groupby(['Order Date', 'Category'])['Sales'].sum().reset_index()\n",
    "    \n",
    "    # Pivot the data to prepare for stacked bar chart\n",
    "    pivoted_sales = sales_by_category.pivot(index='Order Date', columns='Category', values='Sales').fillna(0)\n",
    "    \n",
    "    # Plotting the stacked bar chart\n",
    "    pivoted_sales.plot(kind='bar', stacked=True, figsize=(12, 8))\n",
    "    \n",
    "    # Customize the plot\n",
    "    plt.title('Stacked Bar Chart of Sales by Product Category Over Time')\n",
    "    plt.xlabel('Order Date')\n",
    "    plt.ylabel('Sales')\n",
    "    plt.xticks(rotation=45)\n",
    "    plt.legend(title='Category', loc='upper left')\n",
    "    \n",
    "    # Show the plot\n",
    "    plt.tight_layout()\n",
    "    plt.show()\n",
    "\n",
    "# Run the function\n",
    "visualize_sales_data()\n"
   ]
  },
  {
   "cell_type": "markdown",
   "id": "0834bc97-3bd4-4c6b-9318-1e6f659b2178",
   "metadata": {},
   "source": [
    "### ANSWER TO QUESTION 11:"
   ]
  },
  {
   "cell_type": "markdown",
   "id": "ca57031e-c9bb-427e-834e-910e0c6ef5dd",
   "metadata": {},
   "source": [
    "#### You are given a CSV file containing student data that includes the student ID and their test score. Write \n",
    "#### a Python program that reads the CSV file, calculates the mean, median, and mode of the test scores, and \n",
    "#### displays the results in a table.\n",
    "#### The program should do the following\n",
    "#### Prompt the user to enter the file path of the CSV file containing the student data\n",
    "#### Read the CSV file into a Pandas DataFrame\n",
    "#### Calculate the mean, median, and mode of the test scores using Pandas tools\n",
    "#### Display the mean, median, and mode in a table.\n",
    "#### Assume the CSV file contains the following columns\n",
    "#### Student ID: The ID of the student\n",
    "#### Test Score: The score of the student's test"
   ]
  },
  {
   "cell_type": "code",
   "execution_count": 11,
   "id": "64f97422-dd00-483f-8946-00f40ebb2820",
   "metadata": {},
   "outputs": [
    {
     "name": "stdin",
     "output_type": "stream",
     "text": [
      "enter the flename with csv type: student_data.csv\n"
     ]
    },
    {
     "name": "stdout",
     "output_type": "stream",
     "text": [
      "['Student ID', 'Test Score']\n"
     ]
    },
    {
     "name": "stdin",
     "output_type": "stream",
     "text": [
      "enter the column name to which the calculation is to be done: Test Score\n"
     ]
    },
    {
     "data": {
      "text/plain": [
       "'   Mean median Mode  Median\\n0  83.5    NaN   85    85.0'"
      ]
     },
     "execution_count": 11,
     "metadata": {},
     "output_type": "execute_result"
    }
   ],
   "source": [
    "import pandas as pd\n",
    "filename=input(\"enter the flename with csv type:\")\n",
    "def question10(filename):\n",
    "    df=pd.read_csv(filename)\n",
    "    print(df.columns.tolist())\n",
    "    df1=pd.DataFrame(columns=['Mean','median','Mode'])\n",
    "    column_name=input(\"enter the column name to which the calculation is to be done:\")\n",
    "    df1.loc[0, 'Mean'] = df[column_name].mean()\n",
    "    df1.loc[0, 'Median'] = df[column_name].median()\n",
    "    df1.loc[0, 'Mode'] = df[column_name].mode().iloc[0]\n",
    "    df2=df1.to_string()\n",
    "    return df2\n",
    "question10(filename)"
   ]
  },
  {
   "cell_type": "code",
   "execution_count": null,
   "id": "80f75564-c58e-4df9-bc9d-802190007fd5",
   "metadata": {},
   "outputs": [],
   "source": []
  }
 ],
 "metadata": {
  "kernelspec": {
   "display_name": "Python 3 (ipykernel)",
   "language": "python",
   "name": "python3"
  },
  "language_info": {
   "codemirror_mode": {
    "name": "ipython",
    "version": 3
   },
   "file_extension": ".py",
   "mimetype": "text/x-python",
   "name": "python",
   "nbconvert_exporter": "python",
   "pygments_lexer": "ipython3",
   "version": "3.11.7"
  }
 },
 "nbformat": 4,
 "nbformat_minor": 5
}

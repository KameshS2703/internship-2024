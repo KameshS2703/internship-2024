{
 "cells": [
  {
   "cell_type": "markdown",
   "id": "44ac5a9b-96d4-49b3-97f7-f43e92cd25f3",
   "metadata": {},
   "source": [
    "### ANSWER TO QUESTION 1"
   ]
  },
  {
   "cell_type": "markdown",
   "id": "8bab07f0-b6da-4874-91ab-bcca1923ca3f",
   "metadata": {},
   "source": [
    "#### Create a vehicle class with an init method having instance variables as name_of_vehicle, max_speed \n",
    "#### and average_of_vehicle. "
   ]
  },
  {
   "cell_type": "code",
   "execution_count": 2,
   "id": "c85169c2-134d-49e8-ba49-63bc2def8ca8",
   "metadata": {},
   "outputs": [],
   "source": [
    "class vehicle:\n",
    "    def __init__(self,name_of_vehicle,max_speed,average_of_vehicle):\n",
    "        self.name_of_vehicle=name_of_vehicle\n",
    "        self.max_speed=max_speed\n",
    "        self.average_of_vehicle=average_ofvehicle"
   ]
  },
  {
   "cell_type": "markdown",
   "id": "4b40296d-9d1b-4b04-b1b7-81c0e40a1076",
   "metadata": {},
   "source": [
    "### ANSWER TO QUESTION 2:"
   ]
  },
  {
   "cell_type": "markdown",
   "id": "8f860820-13af-4ad1-a62a-5c034c3c761b",
   "metadata": {},
   "source": [
    "#### Create a child class car from the vehicle class created in Que 1, which will inherit the vehicle class. \n",
    "#### Create a method named seating_capacity which takes capacity as an argument and returns the name of \n",
    "#### the vehicle and its seating capacity."
   ]
  },
  {
   "cell_type": "code",
   "execution_count": 6,
   "id": "913a9807-e880-41bf-89dd-ee87e327d6ed",
   "metadata": {},
   "outputs": [],
   "source": [
    "class vehicle:\n",
    "    def __init__(self,name_of_vehicle,max_speed,average_of_vehicle):\n",
    "        self.name_of_vehicle=name_of_vehicle\n",
    "        self.max_speed=max_speed\n",
    "        self.average_of_vehicle=average_of_vehicle\n",
    "\n",
    "class car(vehicle):\n",
    "    def seating_capacity(self,capacity):\n",
    "        self.capacity=capacity\n",
    "        return self.name_of_vehicle,self.capacity"
   ]
  },
  {
   "cell_type": "code",
   "execution_count": 7,
   "id": "19f76d39-ea65-4d62-bf93-8c1e6c249439",
   "metadata": {},
   "outputs": [],
   "source": [
    "car1=car('toyata',350,150)"
   ]
  },
  {
   "cell_type": "code",
   "execution_count": 8,
   "id": "88a17605-8101-4d4a-868d-cdfba2c93f61",
   "metadata": {},
   "outputs": [
    {
     "data": {
      "text/plain": [
       "('toyata', 7)"
      ]
     },
     "execution_count": 8,
     "metadata": {},
     "output_type": "execute_result"
    }
   ],
   "source": [
    "car1.seating_capacity(7)"
   ]
  },
  {
   "cell_type": "markdown",
   "id": "9f76f32a-8059-45a9-ae52-b9f73dc9dce2",
   "metadata": {},
   "source": [
    "### ANSWER TO QUESTION 3:"
   ]
  },
  {
   "cell_type": "markdown",
   "id": "3445d653-7e29-4cf5-bb83-696d4c5c2d50",
   "metadata": {},
   "source": [
    "#### What is multiple inheritance? Write a python code to demonstrate multiple inheritance"
   ]
  },
  {
   "cell_type": "markdown",
   "id": "a7e18af3-4d45-42f8-9025-52bf88472f70",
   "metadata": {},
   "source": [
    "##### multiple inheritance is a feature that allows a class to inherit attributes and methods from more than one parent class. This is achieved by listing multiple parent classes in the class definition, separated by commas.\n"
   ]
  },
  {
   "cell_type": "code",
   "execution_count": 9,
   "id": "3642d93e-4d2b-476a-b0db-661372d37f24",
   "metadata": {},
   "outputs": [],
   "source": [
    "#multiple inheritence\n",
    "\n",
    "class class1:\n",
    "    def test_class1(self):\n",
    "        print(\"this is my class1\")\n",
    "class class2:\n",
    "    def test_class2(self):\n",
    "        print(\"this is my class2\")\n",
    "class class3(class1,class2):\n",
    "    pass"
   ]
  },
  {
   "cell_type": "code",
   "execution_count": 11,
   "id": "7f61f3de-0593-4559-83e5-8b0ee731ac2d",
   "metadata": {},
   "outputs": [],
   "source": [
    "obj1=class1()"
   ]
  },
  {
   "cell_type": "code",
   "execution_count": 12,
   "id": "00750308-7449-4166-b79b-8dcb29f00ecd",
   "metadata": {},
   "outputs": [],
   "source": [
    "obj2=class2()"
   ]
  },
  {
   "cell_type": "code",
   "execution_count": 13,
   "id": "fb0856b7-4d3d-4d52-a6cc-137bc5d239ff",
   "metadata": {},
   "outputs": [],
   "source": [
    "obj3=class3()\n"
   ]
  },
  {
   "cell_type": "code",
   "execution_count": 14,
   "id": "6860dc44-19a3-411b-beba-a4455fb96467",
   "metadata": {},
   "outputs": [
    {
     "name": "stdout",
     "output_type": "stream",
     "text": [
      "this is my class1\n"
     ]
    }
   ],
   "source": [
    "obj1.test_class1()"
   ]
  },
  {
   "cell_type": "code",
   "execution_count": 15,
   "id": "05fd7d22-32ce-4906-868b-980afbfc8d9d",
   "metadata": {},
   "outputs": [
    {
     "name": "stdout",
     "output_type": "stream",
     "text": [
      "this is my class2\n"
     ]
    }
   ],
   "source": [
    "obj2.test_class2()"
   ]
  },
  {
   "cell_type": "code",
   "execution_count": 16,
   "id": "cbcafc31-d530-4bf3-b5c4-7a180d499725",
   "metadata": {},
   "outputs": [
    {
     "name": "stdout",
     "output_type": "stream",
     "text": [
      "this is my class1\n"
     ]
    }
   ],
   "source": [
    "obj3.test_class1()"
   ]
  },
  {
   "cell_type": "code",
   "execution_count": 17,
   "id": "0253b577-32e8-43c6-8d34-28970681d9c8",
   "metadata": {},
   "outputs": [
    {
     "name": "stdout",
     "output_type": "stream",
     "text": [
      "this is my class2\n"
     ]
    }
   ],
   "source": [
    "obj3.test_class2()"
   ]
  },
  {
   "cell_type": "markdown",
   "id": "43a90932-82ea-4b4e-8465-dcff8875183c",
   "metadata": {},
   "source": [
    "### ANSWER TO QUESTION 4:"
   ]
  },
  {
   "cell_type": "markdown",
   "id": "73135c76-47ce-43d3-875b-0109b9b77cd8",
   "metadata": {},
   "source": [
    "####  What are getter and setter in python? Create a class and create a getter and a setter method in this \n",
    "#### class"
   ]
  },
  {
   "cell_type": "markdown",
   "id": "49c4567d-ac3e-4c38-9b4d-6958cab3005c",
   "metadata": {},
   "source": [
    "#### Getter:"
   ]
  },
  {
   "cell_type": "markdown",
   "id": "61777520-9641-4a92-835d-4f9ca4c71b5f",
   "metadata": {},
   "source": [
    "####  A getter is a method that returns the value of an attribute.\n",
    "#### It allows you to access the attribute as if it were a public variable.\n",
    "#### Getters are defined using the @property decorator.\n",
    "\n"
   ]
  },
  {
   "cell_type": "code",
   "execution_count": 32,
   "id": "1e8b2f89-0573-49f4-8131-4382775c5b25",
   "metadata": {},
   "outputs": [],
   "source": [
    "#example\n",
    "class getterexample:\n",
    "    def __init__(self,name,age,income):\n",
    "        self.name=name\n",
    "        self.age=age\n",
    "        self._income=income\n",
    "\n",
    "    def publicvariable(self):\n",
    "        return self.name,self.age\n",
    "        try:\n",
    "            return self._income\n",
    "        except:\n",
    "            return \"you can't retireve a private variable\"\n",
    "\n",
    "    @property\n",
    "    def privatevariable(self):\n",
    "        return self._income\n",
    "\n",
    "\n",
    "        "
   ]
  },
  {
   "cell_type": "code",
   "execution_count": 33,
   "id": "68b947fd-37b5-48dd-8aa0-7ebe2502bd98",
   "metadata": {},
   "outputs": [],
   "source": [
    "getter1=getterexample('kamesh',40,23000)"
   ]
  },
  {
   "cell_type": "code",
   "execution_count": 34,
   "id": "1f7f28e8-42a0-4a85-bb1f-2b09575cbfaa",
   "metadata": {},
   "outputs": [
    {
     "data": {
      "text/plain": [
       "('kamesh', 40)"
      ]
     },
     "execution_count": 34,
     "metadata": {},
     "output_type": "execute_result"
    }
   ],
   "source": [
    "getter1.publicvariable()"
   ]
  },
  {
   "cell_type": "code",
   "execution_count": 36,
   "id": "fabc1f56-cec6-4e09-9c0b-6f9d984e7804",
   "metadata": {},
   "outputs": [
    {
     "data": {
      "text/plain": [
       "23000"
      ]
     },
     "execution_count": 36,
     "metadata": {},
     "output_type": "execute_result"
    }
   ],
   "source": [
    "getter1.privatevariable"
   ]
  },
  {
   "cell_type": "markdown",
   "id": "3ea9e56c-206c-442e-b236-711ab317f89d",
   "metadata": {},
   "source": [
    "### setter"
   ]
  },
  {
   "cell_type": "markdown",
   "id": "d8a1569d-92d2-40ad-b529-30235004bce9",
   "metadata": {},
   "source": [
    "### setter is a method that sets the value of an attribute.\n",
    "### It allows you to modify the attribute as if it were a public variable.\n",
    "### Setters are defined using the @attribute.setter decorator.\n",
    "\n"
   ]
  },
  {
   "cell_type": "code",
   "execution_count": 49,
   "id": "e5b50328-9f15-4815-a97b-11575e27a04c",
   "metadata": {},
   "outputs": [],
   "source": [
    "class setterexample1:\n",
    "    def __init__(self,name,age,income):\n",
    "        self.name=name\n",
    "        self.age=age\n",
    "        self._income=income\n",
    "\n",
    "    def publicvariable(self):\n",
    "        return self.name,self.age\n",
    "    @property\n",
    "    def privatevariable(self):\n",
    "        return self._income\n",
    "    @privatevariable.setter\n",
    "    def privatevariable(self,value):\n",
    "        self._income=value\n"
   ]
  },
  {
   "cell_type": "code",
   "execution_count": 51,
   "id": "b32a9373-7f39-4f6e-9e3b-fd8b88750de3",
   "metadata": {},
   "outputs": [],
   "source": [
    "setter1=setterexample1('kamesh',23,23400)"
   ]
  },
  {
   "cell_type": "code",
   "execution_count": 54,
   "id": "e0252a20-f79b-485f-8c69-00819943acdf",
   "metadata": {},
   "outputs": [
    {
     "data": {
      "text/plain": [
       "('kamesh', 23)"
      ]
     },
     "execution_count": 54,
     "metadata": {},
     "output_type": "execute_result"
    }
   ],
   "source": [
    "setter1.publicvariable()"
   ]
  },
  {
   "cell_type": "code",
   "execution_count": 55,
   "id": "d1e0a62f-ebbd-402d-9c4a-5410a36e7a82",
   "metadata": {},
   "outputs": [
    {
     "data": {
      "text/plain": [
       "23400"
      ]
     },
     "execution_count": 55,
     "metadata": {},
     "output_type": "execute_result"
    }
   ],
   "source": [
    "setter1.privatevariable"
   ]
  },
  {
   "cell_type": "code",
   "execution_count": 62,
   "id": "a710a184-cd68-407c-8f9a-7d8bc5ff120f",
   "metadata": {},
   "outputs": [],
   "source": [
    "setter1.privatevariable=25000"
   ]
  },
  {
   "cell_type": "code",
   "execution_count": 58,
   "id": "b8381c9b-00d5-45fa-8354-3caaa67028d4",
   "metadata": {},
   "outputs": [
    {
     "data": {
      "text/plain": [
       "25000"
      ]
     },
     "execution_count": 58,
     "metadata": {},
     "output_type": "execute_result"
    }
   ],
   "source": [
    "setter1.privatevariable"
   ]
  },
  {
   "cell_type": "markdown",
   "id": "5b862196-3229-4464-85a9-cb3145814ad2",
   "metadata": {},
   "source": [
    "### Method Overriding"
   ]
  },
  {
   "cell_type": "markdown",
   "id": "5d9e8b46-e820-4f02-b0e8-bebddaac6832",
   "metadata": {},
   "source": [
    "#### Method overriding allows a subclass to provide a different implementation of a method that is already defined in its superclass. This means that the subclass is essentially \"replacing\" the original method in the superclass with its own version, which can have a different output or behavior.\n",
    "\n",
    "#### By overriding a method, the subclass is changing the way the method works, and when you call the method on an instance of the subclass, you'll get the output of the subclass's method instead of the original method in the superclass.\n",
    "\n"
   ]
  },
  {
   "cell_type": "code",
   "execution_count": 64,
   "id": "7d9144b5-140a-4d10-ada0-1a69c4a45448",
   "metadata": {},
   "outputs": [],
   "source": [
    "#example\n",
    "class relation:\n",
    "    def mistake(self):\n",
    "        return \"father scolds\"\n",
    "\n",
    "class family(relation):\n",
    "    def mistake(self):\n",
    "        return \"son scores good mark\""
   ]
  },
  {
   "cell_type": "code",
   "execution_count": 65,
   "id": "92bc709b-9574-4fd1-9282-947d9f3eb475",
   "metadata": {},
   "outputs": [],
   "source": [
    "obje1=family()"
   ]
  },
  {
   "cell_type": "code",
   "execution_count": 66,
   "id": "bd8a4c3d-e859-4386-b128-ef8fd47b1004",
   "metadata": {},
   "outputs": [
    {
     "data": {
      "text/plain": [
       "'son scores good mark'"
      ]
     },
     "execution_count": 66,
     "metadata": {},
     "output_type": "execute_result"
    }
   ],
   "source": [
    "obje1.mistake()"
   ]
  },
  {
   "cell_type": "code",
   "execution_count": null,
   "id": "95ae2886-9c85-446e-8e56-2fd2989bc7c8",
   "metadata": {},
   "outputs": [],
   "source": []
  }
 ],
 "metadata": {
  "kernelspec": {
   "display_name": "Python 3 (ipykernel)",
   "language": "python",
   "name": "python3"
  },
  "language_info": {
   "codemirror_mode": {
    "name": "ipython",
    "version": 3
   },
   "file_extension": ".py",
   "mimetype": "text/x-python",
   "name": "python",
   "nbconvert_exporter": "python",
   "pygments_lexer": "ipython3",
   "version": "3.11.7"
  }
 },
 "nbformat": 4,
 "nbformat_minor": 5
}

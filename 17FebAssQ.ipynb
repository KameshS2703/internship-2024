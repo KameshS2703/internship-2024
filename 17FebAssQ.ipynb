{
 "cells": [
  {
   "cell_type": "markdown",
   "id": "05d15c0f-ac28-46df-b349-14c342f5ee80",
   "metadata": {},
   "source": [
    "### ANSWER TO QUESTION 1:"
   ]
  },
  {
   "cell_type": "markdown",
   "id": "112d18af-0d98-4eba-bd60-be36249a405b",
   "metadata": {},
   "source": [
    "####  What is MongoDB? Explain non-relational databases in short. In which scenarios it is preferred to use \n",
    "#### MongoDB over SQL databases"
   ]
  },
  {
   "cell_type": "markdown",
   "id": "e76ca6f9-18b6-4a8f-a8d7-9cc9b434c591",
   "metadata": {},
   "source": [
    "##### MongoDB is a popular open-source database that falls under the category of NoSQL databases. Unlike traditional databases, which store data in tables and rows, MongoDB stores data in flexible, JSON-like documents. This allows for a more dynamic and scalable way to manage data.\n",
    "\n",
    "##### Non-relational databases**, also known as NoSQL databases, don't use the traditional table-based structure. Instead, they use various models to store data, including:\n",
    "\n",
    "##### - **Document-Based:** Stores data as documents (e.g., MongoDB).\n",
    "##### - **Key-Value Stores:** Data is stored as key-value pairs (e.g., Redis).\n",
    "##### - **Column-Family Stores:** Data is stored in columns rather than rows (e.g., Apache Cassandra).\n",
    "##### - **Graph Databases:** Designed for data with complex relationships (e.g., Neo4j).\n",
    "\n",
    "##### MongoDB is preferred for its flexible schema, high scalability, and ability to handle complex, diverse data types. It's ideal for cloud-based applications, real-time analytics, rapid development, and is open-source, making it cost-effective and easy to use."
   ]
  },
  {
   "cell_type": "markdown",
   "id": "263aada3-4783-478d-b8c7-b8a9c42f22fe",
   "metadata": {},
   "source": [
    "### ANSWER TO QUESTION 2:"
   ]
  },
  {
   "cell_type": "markdown",
   "id": "a3106750-cf5b-47e5-bfe8-f15fac687e78",
   "metadata": {},
   "source": [
    "####  State and Explain the features of MongoDB"
   ]
  },
  {
   "cell_type": "markdown",
   "id": "2320804d-2085-4363-8621-9e50165ca657",
   "metadata": {},
   "source": [
    "##### Features of MongoDB\n",
    "\n",
    "##### 1. **Flexible Schema:** Dynamic JSON-like document structure.\n",
    "##### 2. **Scalability:** Horizontal scaling through sharding.\n",
    "##### 3. **High Performance:** Optimized for fast read and write operations.\n",
    "##### 4. **Replication:** Ensures high availability and data redundancy.\n",
    "##### 5. **Indexing:** Supports various index types for efficient querying."
   ]
  },
  {
   "cell_type": "markdown",
   "id": "1903f78a-7874-411f-990d-930044d70c8c",
   "metadata": {},
   "source": [
    "### ANSWER TO QUESTION 3:"
   ]
  },
  {
   "cell_type": "markdown",
   "id": "39004404-5ae7-4ad9-bece-40fc1eae7dad",
   "metadata": {},
   "source": [
    "#### Write a code to connect MongoDB to Python. Also, create a database and a collection in MongoDB."
   ]
  },
  {
   "cell_type": "code",
   "execution_count": 6,
   "id": "7867869d-90c2-4b39-9ad0-bd7f553fdffc",
   "metadata": {},
   "outputs": [],
   "source": [
    "import pymongo\n",
    "from pymongo import MongoClient\n",
    "import urllib.parse\n",
    "\n",
    "username = urllib.parse.quote_plus('kamesh')\n",
    "password = urllib.parse.quote_plus(\"kamesh\")\n",
    "\n",
    "url = \"mongodb+srv://{}:{}@cluster0.rjgtabx.mongodb.net/?retryWrites=true&w=majority&appName=Cluster0\".format(username, password)\n",
    "cluster = MongoClient(url)\n",
    "db = cluster['datasciencemasters0']\n",
    "collection = db['example1']\n",
    "\n"
   ]
  },
  {
   "cell_type": "code",
   "execution_count": 7,
   "id": "40d56ca0-a0fb-4dd8-9a92-7f3964a64f4d",
   "metadata": {},
   "outputs": [
    {
     "data": {
      "text/plain": [
       "MongoClient(host=['ac-brh3xyz-shard-00-01.rjgtabx.mongodb.net:27017', 'ac-brh3xyz-shard-00-00.rjgtabx.mongodb.net:27017', 'ac-brh3xyz-shard-00-02.rjgtabx.mongodb.net:27017'], document_class=dict, tz_aware=False, connect=True, retrywrites=True, w='majority', appname='Cluster0', authsource='admin', replicaset='atlas-o6tz41-shard-0', tls=True)"
      ]
     },
     "execution_count": 7,
     "metadata": {},
     "output_type": "execute_result"
    }
   ],
   "source": [
    "cluster"
   ]
  },
  {
   "cell_type": "markdown",
   "id": "bd5a500e-ed8f-4130-a4bb-89f9ebc67d39",
   "metadata": {},
   "source": [
    "### ANSWER TO QUESTION 4:"
   ]
  },
  {
   "cell_type": "markdown",
   "id": "2e9629b1-94f9-496c-86a3-22dbde0fa01c",
   "metadata": {},
   "source": [
    "#### Using the database and the collection created in question number 3, write a code to insert one record, \n",
    "#### and insert many records. Use the find() and find_one() methods to print the inserted record"
   ]
  },
  {
   "cell_type": "code",
   "execution_count": 8,
   "id": "59ad5e68-fbe6-4035-9efe-29217c85e5ef",
   "metadata": {},
   "outputs": [
    {
     "data": {
      "text/plain": [
       "InsertOneResult(ObjectId('669135a767cf3b2d4859891e'), acknowledged=True)"
      ]
     },
     "execution_count": 8,
     "metadata": {},
     "output_type": "execute_result"
    }
   ],
   "source": [
    "#insertone\n",
    "data1={\"sno\":1,\"name\":\"kamesh\",\"state\":\"tamilnadu\",\"district\":\"trichy\"}\n",
    "collection.insert_one(data1)"
   ]
  },
  {
   "cell_type": "code",
   "execution_count": 9,
   "id": "b55f04cb-fba3-4f53-ba6c-e434fcdd955b",
   "metadata": {},
   "outputs": [
    {
     "data": {
      "text/plain": [
       "InsertManyResult([ObjectId('66913d0d67cf3b2d4859891f'), ObjectId('66913d0d67cf3b2d48598920'), ObjectId('66913d0d67cf3b2d48598921'), ObjectId('66913d0d67cf3b2d48598922'), ObjectId('66913d0d67cf3b2d48598923')], acknowledged=True)"
      ]
     },
     "execution_count": 9,
     "metadata": {},
     "output_type": "execute_result"
    }
   ],
   "source": [
    "#insertmany\n",
    "data2=[{\"sno\":2,\"name\":\"amutha\",\"state\":\"tamilnadu\",\"district\":\"trichy\"},\n",
    "       {\"sno\":3,\"name\":\"rolex\",\"state\":\"maharashtra\",\"district\":\"mumbai\"},\n",
    "       {\"sno\":4,\"name\":\"dilli\",\"state\":\"uttar pradesh\",\"district\":\"mandi\"},\n",
    "       {\"sno\":5,\"name\":\"vikram\",\"state\":\"tamilnadu\",\"district\":\"chennai\"},\n",
    "       {\"sno\":6,\"name\":\"leodas\",\"state\":\"uttar pradesh\",\"district\":\"theog\"}]\n",
    "collection.insert_many(data2)"
   ]
  },
  {
   "cell_type": "code",
   "execution_count": 11,
   "id": "2de73c24-c4d3-47ce-a211-5a2e0b3cb34e",
   "metadata": {},
   "outputs": [
    {
     "name": "stdout",
     "output_type": "stream",
     "text": [
      "{'_id': ObjectId('669135a767cf3b2d4859891e'), 'sno': 1, 'name': 'kamesh', 'state': 'tamilnadu', 'district': 'trichy'}\n",
      "{'_id': ObjectId('66913d0d67cf3b2d4859891f'), 'sno': 2, 'name': 'amutha', 'state': 'tamilnadu', 'district': 'trichy'}\n",
      "{'_id': ObjectId('66913d0d67cf3b2d48598922'), 'sno': 5, 'name': 'vikram', 'state': 'tamilnadu', 'district': 'chennai'}\n"
     ]
    }
   ],
   "source": [
    "#find\n",
    "for i in collection.find({'state':'tamilnadu'}):\n",
    "    print(i)"
   ]
  },
  {
   "cell_type": "code",
   "execution_count": 15,
   "id": "eef8c235-ac3b-444c-8e01-0aa1965bf103",
   "metadata": {},
   "outputs": [
    {
     "data": {
      "text/plain": [
       "{'_id': ObjectId('669135a767cf3b2d4859891e'),\n",
       " 'sno': 1,\n",
       " 'name': 'kamesh',\n",
       " 'state': 'tamilnadu',\n",
       " 'district': 'trichy'}"
      ]
     },
     "execution_count": 15,
     "metadata": {},
     "output_type": "execute_result"
    }
   ],
   "source": [
    "#findone\n",
    "collection.find_one()"
   ]
  },
  {
   "cell_type": "markdown",
   "id": "0bd8ba7c-88d9-4be6-a717-39ecf425697a",
   "metadata": {},
   "source": [
    "### ANSWER TO QUESTION 5:"
   ]
  },
  {
   "cell_type": "markdown",
   "id": "7035a941-0fc8-4542-a6b1-1e65a0f54d2f",
   "metadata": {},
   "source": [
    "####  Explain the sort() method. Give an example to demonstrate sorting in MongoDB."
   ]
  },
  {
   "cell_type": "markdown",
   "id": "8b53d703-aa5e-4f46-9e99-dfc09fcb6e4e",
   "metadata": {},
   "source": [
    "##### The sort() method in MongoDB is used to sort the documents in a collection based on a specific field or fields. The sort() method takes a document with field and direction pairs as an argument.\n",
    "##### The field can be any field in the document, and the direction can be either 1 (for ascending order) or -1 (for descending order)"
   ]
  },
  {
   "cell_type": "code",
   "execution_count": 23,
   "id": "16606430-0a54-4cfa-a8c9-7b5a66e0da74",
   "metadata": {},
   "outputs": [
    {
     "name": "stdout",
     "output_type": "stream",
     "text": [
      "{'_id': ObjectId('66913d0d67cf3b2d48598923'), 'sno': 6, 'name': 'leodas', 'state': 'uttar pradesh', 'district': 'theog'}\n",
      "{'_id': ObjectId('66913d0d67cf3b2d48598922'), 'sno': 5, 'name': 'vikram', 'state': 'tamilnadu', 'district': 'chennai'}\n",
      "{'_id': ObjectId('66913d0d67cf3b2d48598921'), 'sno': 4, 'name': 'dilli', 'state': 'uttar pradesh', 'district': 'mandi'}\n",
      "{'_id': ObjectId('66913d0d67cf3b2d48598920'), 'sno': 3, 'name': 'rolex', 'state': 'maharashtra', 'district': 'mumbai'}\n",
      "{'_id': ObjectId('66913d0d67cf3b2d4859891f'), 'sno': 2, 'name': 'amutha', 'state': 'tamilnadu', 'district': 'trichy'}\n",
      "{'_id': ObjectId('669135a767cf3b2d4859891e'), 'sno': 1, 'name': 'kamesh', 'state': 'tamilnadu', 'district': 'trichy'}\n"
     ]
    }
   ],
   "source": [
    "for i in collection.find().sort(\"sno\", -1):\n",
    "    print(i)\n"
   ]
  },
  {
   "cell_type": "markdown",
   "id": "d4496637-0013-42bc-981f-9b3c218a4cdf",
   "metadata": {},
   "source": [
    "### ANSWER TO QUESTION 6:"
   ]
  },
  {
   "cell_type": "markdown",
   "id": "00d9e61c-c9e7-41cd-a4d5-bdba97d7e214",
   "metadata": {},
   "source": [
    "#### Explain why delete_one(), delete_many(), and drop() is used"
   ]
  },
  {
   "cell_type": "markdown",
   "id": "2bab3f64-a534-4cd0-acf5-4c16218f48d2",
   "metadata": {},
   "source": [
    "##### delete_one() - used to delete a particular entry in a collection\n",
    "##### delete_many() - used to delete many entries from a collection\n",
    "##### drop() - used to drop collection and database"
   ]
  },
  {
   "cell_type": "code",
   "execution_count": 26,
   "id": "93c23288-4eb3-4d60-ab57-4022ac7720de",
   "metadata": {},
   "outputs": [
    {
     "ename": "FileNotFoundError",
     "evalue": "[Errno 2] No such file or directory: 'pwskills3.jpg'",
     "output_type": "error",
     "traceback": [
      "\u001b[1;31m---------------------------------------------------------------------------\u001b[0m",
      "\u001b[1;31mFileNotFoundError\u001b[0m                         Traceback (most recent call last)",
      "Cell \u001b[1;32mIn[26], line 3\u001b[0m\n\u001b[0;32m      1\u001b[0m \u001b[38;5;28;01mfrom\u001b[39;00m \u001b[38;5;21;01mIPython\u001b[39;00m\u001b[38;5;21;01m.\u001b[39;00m\u001b[38;5;21;01mdisplay\u001b[39;00m \u001b[38;5;28;01mimport\u001b[39;00m Image\n\u001b[1;32m----> 3\u001b[0m Image(filename\u001b[38;5;241m=\u001b[39m\u001b[38;5;124m'\u001b[39m\u001b[38;5;124mpwskills3.jpg\u001b[39m\u001b[38;5;124m'\u001b[39m)\n",
      "File \u001b[1;32mC:\\ProgramData\\anaconda3\\Lib\\site-packages\\IPython\\core\\display.py:970\u001b[0m, in \u001b[0;36mImage.__init__\u001b[1;34m(self, data, url, filename, format, embed, width, height, retina, unconfined, metadata, alt)\u001b[0m\n\u001b[0;32m    968\u001b[0m \u001b[38;5;28mself\u001b[39m\u001b[38;5;241m.\u001b[39munconfined \u001b[38;5;241m=\u001b[39m unconfined\n\u001b[0;32m    969\u001b[0m \u001b[38;5;28mself\u001b[39m\u001b[38;5;241m.\u001b[39malt \u001b[38;5;241m=\u001b[39m alt\n\u001b[1;32m--> 970\u001b[0m \u001b[38;5;28msuper\u001b[39m(Image, \u001b[38;5;28mself\u001b[39m)\u001b[38;5;241m.\u001b[39m\u001b[38;5;21m__init__\u001b[39m(data\u001b[38;5;241m=\u001b[39mdata, url\u001b[38;5;241m=\u001b[39murl, filename\u001b[38;5;241m=\u001b[39mfilename,\n\u001b[0;32m    971\u001b[0m         metadata\u001b[38;5;241m=\u001b[39mmetadata)\n\u001b[0;32m    973\u001b[0m \u001b[38;5;28;01mif\u001b[39;00m \u001b[38;5;28mself\u001b[39m\u001b[38;5;241m.\u001b[39mwidth \u001b[38;5;129;01mis\u001b[39;00m \u001b[38;5;28;01mNone\u001b[39;00m \u001b[38;5;129;01mand\u001b[39;00m \u001b[38;5;28mself\u001b[39m\u001b[38;5;241m.\u001b[39mmetadata\u001b[38;5;241m.\u001b[39mget(\u001b[38;5;124m'\u001b[39m\u001b[38;5;124mwidth\u001b[39m\u001b[38;5;124m'\u001b[39m, {}):\n\u001b[0;32m    974\u001b[0m     \u001b[38;5;28mself\u001b[39m\u001b[38;5;241m.\u001b[39mwidth \u001b[38;5;241m=\u001b[39m metadata[\u001b[38;5;124m'\u001b[39m\u001b[38;5;124mwidth\u001b[39m\u001b[38;5;124m'\u001b[39m]\n",
      "File \u001b[1;32mC:\\ProgramData\\anaconda3\\Lib\\site-packages\\IPython\\core\\display.py:327\u001b[0m, in \u001b[0;36mDisplayObject.__init__\u001b[1;34m(self, data, url, filename, metadata)\u001b[0m\n\u001b[0;32m    324\u001b[0m \u001b[38;5;28;01melif\u001b[39;00m \u001b[38;5;28mself\u001b[39m\u001b[38;5;241m.\u001b[39mmetadata \u001b[38;5;129;01mis\u001b[39;00m \u001b[38;5;28;01mNone\u001b[39;00m:\n\u001b[0;32m    325\u001b[0m     \u001b[38;5;28mself\u001b[39m\u001b[38;5;241m.\u001b[39mmetadata \u001b[38;5;241m=\u001b[39m {}\n\u001b[1;32m--> 327\u001b[0m \u001b[38;5;28mself\u001b[39m\u001b[38;5;241m.\u001b[39mreload()\n\u001b[0;32m    328\u001b[0m \u001b[38;5;28mself\u001b[39m\u001b[38;5;241m.\u001b[39m_check_data()\n",
      "File \u001b[1;32mC:\\ProgramData\\anaconda3\\Lib\\site-packages\\IPython\\core\\display.py:1005\u001b[0m, in \u001b[0;36mImage.reload\u001b[1;34m(self)\u001b[0m\n\u001b[0;32m   1003\u001b[0m \u001b[38;5;250m\u001b[39m\u001b[38;5;124;03m\"\"\"Reload the raw data from file or URL.\"\"\"\u001b[39;00m\n\u001b[0;32m   1004\u001b[0m \u001b[38;5;28;01mif\u001b[39;00m \u001b[38;5;28mself\u001b[39m\u001b[38;5;241m.\u001b[39membed:\n\u001b[1;32m-> 1005\u001b[0m     \u001b[38;5;28msuper\u001b[39m(Image,\u001b[38;5;28mself\u001b[39m)\u001b[38;5;241m.\u001b[39mreload()\n\u001b[0;32m   1006\u001b[0m     \u001b[38;5;28;01mif\u001b[39;00m \u001b[38;5;28mself\u001b[39m\u001b[38;5;241m.\u001b[39mretina:\n\u001b[0;32m   1007\u001b[0m         \u001b[38;5;28mself\u001b[39m\u001b[38;5;241m.\u001b[39m_retina_shape()\n",
      "File \u001b[1;32mC:\\ProgramData\\anaconda3\\Lib\\site-packages\\IPython\\core\\display.py:353\u001b[0m, in \u001b[0;36mDisplayObject.reload\u001b[1;34m(self)\u001b[0m\n\u001b[0;32m    351\u001b[0m \u001b[38;5;28;01mif\u001b[39;00m \u001b[38;5;28mself\u001b[39m\u001b[38;5;241m.\u001b[39mfilename \u001b[38;5;129;01mis\u001b[39;00m \u001b[38;5;129;01mnot\u001b[39;00m \u001b[38;5;28;01mNone\u001b[39;00m:\n\u001b[0;32m    352\u001b[0m     encoding \u001b[38;5;241m=\u001b[39m \u001b[38;5;28;01mNone\u001b[39;00m \u001b[38;5;28;01mif\u001b[39;00m \u001b[38;5;124m\"\u001b[39m\u001b[38;5;124mb\u001b[39m\u001b[38;5;124m\"\u001b[39m \u001b[38;5;129;01min\u001b[39;00m \u001b[38;5;28mself\u001b[39m\u001b[38;5;241m.\u001b[39m_read_flags \u001b[38;5;28;01melse\u001b[39;00m \u001b[38;5;124m\"\u001b[39m\u001b[38;5;124mutf-8\u001b[39m\u001b[38;5;124m\"\u001b[39m\n\u001b[1;32m--> 353\u001b[0m     \u001b[38;5;28;01mwith\u001b[39;00m \u001b[38;5;28mopen\u001b[39m(\u001b[38;5;28mself\u001b[39m\u001b[38;5;241m.\u001b[39mfilename, \u001b[38;5;28mself\u001b[39m\u001b[38;5;241m.\u001b[39m_read_flags, encoding\u001b[38;5;241m=\u001b[39mencoding) \u001b[38;5;28;01mas\u001b[39;00m f:\n\u001b[0;32m    354\u001b[0m         \u001b[38;5;28mself\u001b[39m\u001b[38;5;241m.\u001b[39mdata \u001b[38;5;241m=\u001b[39m f\u001b[38;5;241m.\u001b[39mread()\n\u001b[0;32m    355\u001b[0m \u001b[38;5;28;01melif\u001b[39;00m \u001b[38;5;28mself\u001b[39m\u001b[38;5;241m.\u001b[39murl \u001b[38;5;129;01mis\u001b[39;00m \u001b[38;5;129;01mnot\u001b[39;00m \u001b[38;5;28;01mNone\u001b[39;00m:\n\u001b[0;32m    356\u001b[0m     \u001b[38;5;66;03m# Deferred import\u001b[39;00m\n",
      "\u001b[1;31mFileNotFoundError\u001b[0m: [Errno 2] No such file or directory: 'pwskills3.jpg'"
     ]
    }
   ],
   "source": [
    "from IPython.display import Image\n",
    "\n",
    "Image(filename='pwskills3.jpg')\n"
   ]
  },
  {
   "cell_type": "code",
   "execution_count": null,
   "id": "d863946d-0af9-44c7-8189-0e8ff112823d",
   "metadata": {},
   "outputs": [],
   "source": []
  }
 ],
 "metadata": {
  "kernelspec": {
   "display_name": "Python 3 (ipykernel)",
   "language": "python",
   "name": "python3"
  },
  "language_info": {
   "codemirror_mode": {
    "name": "ipython",
    "version": 3
   },
   "file_extension": ".py",
   "mimetype": "text/x-python",
   "name": "python",
   "nbconvert_exporter": "python",
   "pygments_lexer": "ipython3",
   "version": "3.11.7"
  }
 },
 "nbformat": 4,
 "nbformat_minor": 5
}

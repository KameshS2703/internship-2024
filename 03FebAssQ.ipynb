{
 "cells": [
  {
   "cell_type": "markdown",
   "id": "3ac341f4-0c72-4842-aa68-9ed817c29a7f",
   "metadata": {},
   "source": [
    "### ANSWER TO QUESTION 1:"
   ]
  },
  {
   "cell_type": "markdown",
   "id": "928f4f13-03d0-4d9d-980f-c3a792ccde0e",
   "metadata": {},
   "source": [
    "### Which keyword is used to create a function? Create a function to return a list of odd numbers in the \n",
    "### range of 1 to 25."
   ]
  },
  {
   "cell_type": "markdown",
   "id": "9d501781-f655-4737-8d23-39ebe815e527",
   "metadata": {},
   "source": [
    "#### To Create a Function in python We use the keyword known as def \n",
    "#### SYNTAX: def function-name:\n",
    "####           [function body]"
   ]
  },
  {
   "cell_type": "code",
   "execution_count": 12,
   "id": "cc941b4c-3dde-4c7b-8b0b-b461b268e10e",
   "metadata": {},
   "outputs": [
    {
     "data": {
      "text/plain": [
       "[0, 2, 4, 6, 8, 10, 12, 14, 16, 18, 20, 22, 24]"
      ]
     },
     "execution_count": 12,
     "metadata": {},
     "output_type": "execute_result"
    }
   ],
   "source": [
    "def fun(numbers):\n",
    "    list01=[]\n",
    "    for i in range(0,numbers):\n",
    "        if i%2==0:\n",
    "            list01.append(i)\n",
    "        else: \n",
    "            pass\n",
    "    return list01\n",
    "\n",
    "a=25\n",
    "fun(a)"
   ]
  },
  {
   "cell_type": "markdown",
   "id": "2cce84d8-9079-4ed4-a3ad-3a157f5afa15",
   "metadata": {},
   "source": [
    "### ANSWER TO QUESTION 2:"
   ]
  },
  {
   "cell_type": "markdown",
   "id": "413b02c0-5179-495f-87ba-bbd926e6450d",
   "metadata": {},
   "source": [
    "#### Why *args and **kwargs is used in some functions? Create a function each for *args and **kwargs to \n",
    "#### demonstrate their use"
   ]
  },
  {
   "cell_type": "markdown",
   "id": "164548a5-3837-4085-8b07-bbd7541f570c",
   "metadata": {},
   "source": [
    "##### *ARGS- THIS IS USED AS AN ARGUMENT IN PYTHON FUNCTION WHERE THE NUMBER OF ARGUMENTS TO BE PASSED IS NOT NOWN PRIOR\n",
    "##### **KWARGS - THIS IS ALSO USED AS AN ARGUMENT BUT WHERE THE GIVEN ARGUMENT IS DICTIONARY DATATYPE "
   ]
  },
  {
   "cell_type": "markdown",
   "id": "f3a6728f-fca9-45ce-94d5-c245261fdb55",
   "metadata": {},
   "source": [
    "### *ARGS - "
   ]
  },
  {
   "cell_type": "code",
   "execution_count": 22,
   "id": "69a9ab47-3b9a-4f0a-8574-c93329cd37c0",
   "metadata": {},
   "outputs": [
    {
     "name": "stdout",
     "output_type": "stream",
     "text": [
      "[((1, 2, 3, 4, 5, 6), 'hello')]\n"
     ]
    }
   ],
   "source": [
    "def fun(*args):\n",
    "    l=[]\n",
    "    for i in args:\n",
    "        l.append(i)\n",
    "        return l\n",
    "            \n",
    "        \n",
    "    \n",
    "a=((1,2,3,4,5,6),'hello')\n",
    "print(fun(a))"
   ]
  },
  {
   "cell_type": "markdown",
   "id": "cd2a6b65-46cc-4b2f-b742-cd1a6773f82c",
   "metadata": {},
   "source": [
    "#### **kwargs"
   ]
  },
  {
   "cell_type": "code",
   "execution_count": 33,
   "id": "e2c20d4f-3799-406a-9d42-2371e6ad5a2c",
   "metadata": {},
   "outputs": [
    {
     "data": {
      "text/plain": [
       "{'one': 'apple',\n",
       " 'two': 'grapes',\n",
       " 'three': 'lemon',\n",
       " 'four': 'cashewnuts',\n",
       " 5: ['orange']}"
      ]
     },
     "execution_count": 33,
     "metadata": {},
     "output_type": "execute_result"
    }
   ],
   "source": [
    "def fun01(**kwargs):\n",
    "    kwargs.setdefault(5,[]).append('orange')\n",
    "    return kwargs\n",
    "fun01(one='apple',two='grapes',three='lemon',four='cashewnuts')\n",
    "\n"
   ]
  },
  {
   "cell_type": "code",
   "execution_count": 30,
   "id": "06e0ba6d-4675-4076-8843-f636c5bd1132",
   "metadata": {},
   "outputs": [
    {
     "name": "stdout",
     "output_type": "stream",
     "text": [
      "{'ONE': 'apple', 'TWO': 'grapes', 'THREE': 'lemon', 'FOUR': 'cashewnuts', '5': ['orange']}\n"
     ]
    }
   ],
   "source": [
    "def fun01(**kwargs):\n",
    "    kwargs.setdefault('5', []).append('orange')\n",
    "    return kwargs\n",
    "\n",
    "a = fun01(ONE='apple', TWO='grapes', THREE='lemon', FOUR='cashewnuts')\n",
    "print(a)\n"
   ]
  },
  {
   "cell_type": "markdown",
   "id": "91f6d094-62b0-42f8-ac2a-a7d4fee5d2a6",
   "metadata": {},
   "source": [
    "### ANSWER TO QUESTION 3:"
   ]
  },
  {
   "cell_type": "markdown",
   "id": "dbdcc769-d191-4af6-8b90-b9e717aa7702",
   "metadata": {},
   "source": [
    "#### What is an iterator in python? Name the method used to initialise the iterator object and the method \n",
    "#### used for iteration. Use these methods to print the first five elements of the given list [2, 4, 6, 8, 10, 12, 14, 16, \n",
    "#### 18, 20]."
   ]
  },
  {
   "cell_type": "markdown",
   "id": "607e9321-aff0-4292-b0c2-fa0df3ece8a5",
   "metadata": {},
   "source": [
    "#### In Python, an iterator is an object that allows a User to traverse through all the elements in a data structure, particularly lists, tuples, dictionaries, and sets.\n"
   ]
  },
  {
   "cell_type": "markdown",
   "id": "e43ac679-d5ad-433b-8761-8937a937f007",
   "metadata": {},
   "source": [
    "#### The method used to initialize the iterator object is iter().\n",
    "\n",
    "#### The method used for iteration is next()"
   ]
  },
  {
   "cell_type": "code",
   "execution_count": 2,
   "id": "62299ced-c918-4781-8051-589293d741f7",
   "metadata": {},
   "outputs": [
    {
     "name": "stdout",
     "output_type": "stream",
     "text": [
      "2\n",
      "4\n",
      "6\n",
      "8\n",
      "10\n"
     ]
    }
   ],
   "source": [
    "list01=[2, 4, 6, 8, 10, 12, 14, 16, 18, 20]\n",
    "iter01=iter(list01)\n",
    "for i in range(0,5):\n",
    "    print(next(iter01))"
   ]
  },
  {
   "cell_type": "markdown",
   "id": "f5d38d61-137d-4a83-959a-2cb0e48c4436",
   "metadata": {},
   "source": [
    "### ANSWER TO QUESTION 4: "
   ]
  },
  {
   "cell_type": "markdown",
   "id": "cb522994-ccc3-4935-8d48-76e8975a7e63",
   "metadata": {},
   "source": [
    "### What is a generator function in python? Why yield keyword is used? Give an example of a generator \n",
    "### function."
   ]
  },
  {
   "cell_type": "markdown",
   "id": "612b89bd-da75-44f2-b797-012aa41f78ac",
   "metadata": {},
   "source": [
    "#### A generator function is a special type of function in Python that returns an iterator, which allows you to generate a sequence of values on the fly, without storing them all in memory at once.\n",
    "\n",
    "#### A generator function is defined using the yield keyword, which is used to produce a value in the sequence. When a generator function is called, it returns a generator object, which can be iterated over using a for loop or the next() function.\n"
   ]
  },
  {
   "cell_type": "code",
   "execution_count": null,
   "id": "20b54da5-7cbd-4e53-ac11-6b9718ba1bc8",
   "metadata": {},
   "outputs": [],
   "source": []
  },
  {
   "cell_type": "code",
   "execution_count": 16,
   "id": "6aba1b06-83eb-4415-b27f-9a8448a555ab",
   "metadata": {},
   "outputs": [
    {
     "name": "stdin",
     "output_type": "stream",
     "text": [
      "enter the number:  100\n"
     ]
    },
    {
     "name": "stdout",
     "output_type": "stream",
     "text": [
      "[0, 2, 4, 6, 8, 10, 12, 14, 16, 18, 20, 22, 24, 26, 28, 30, 32, 34, 36, 38, 40, 42, 44, 46, 48, 50, 52, 54, 56, 58, 60, 62, 64, 66, 68, 70, 72, 74, 76, 78, 80, 82, 84, 86, 88, 90, 92, 94, 96, 98, 100]\n"
     ]
    }
   ],
   "source": [
    "def funoddoreven(number):\n",
    "    l = []\n",
    "    for i in range(0, number+1):\n",
    "        if i % 2 == 0:\n",
    "            yield i\n",
    "            l.append(i)\n",
    "a = int(input(\"enter the number: \"))\n",
    "print(list(funoddoreven(a)))"
   ]
  },
  {
   "cell_type": "markdown",
   "id": "7d566d8b-852f-458a-9665-12429ffa813a",
   "metadata": {},
   "source": [
    "### ANSWER TO QUESITON 5:"
   ]
  },
  {
   "cell_type": "markdown",
   "id": "b49d055d-f4ba-4c85-ae51-0328d9c1eb4f",
   "metadata": {},
   "source": [
    "#### Create a generator function for prime numbers less than 1000. Use the next() method to print the \n",
    "#### first 20 prime numbers."
   ]
  },
  {
   "cell_type": "code",
   "execution_count": 21,
   "id": "0266ab6a-949f-4ec1-91cb-59a89758acc5",
   "metadata": {},
   "outputs": [
    {
     "name": "stdout",
     "output_type": "stream",
     "text": [
      "2\n",
      "3\n",
      "5\n",
      "7\n",
      "11\n",
      "13\n",
      "17\n",
      "19\n",
      "23\n",
      "29\n",
      "31\n",
      "37\n",
      "41\n",
      "43\n",
      "47\n",
      "53\n",
      "59\n",
      "61\n",
      "67\n",
      "71\n"
     ]
    }
   ],
   "source": [
    "def is_prime(num):\n",
    "    if num <= 1:\n",
    "        return False\n",
    "    for i in range(2, int(num ** 0.5) + 1):\n",
    "        if num % i == 0:  # If num is divisible by any number between 2 and sqrt(num)\n",
    "            return False\n",
    "    return True\n",
    "\n",
    "def prime_generator():\n",
    "    for num in range(2, 1000):\n",
    "        if is_prime(num):\n",
    "            yield num\n",
    "prime_gen = prime_generator()\n",
    "for _ in range(20):\n",
    "    print(next(prime_gen))"
   ]
  },
  {
   "cell_type": "code",
   "execution_count": null,
   "id": "fc723886-41b2-44fb-bdef-6ecbf700b123",
   "metadata": {},
   "outputs": [],
   "source": []
  }
 ],
 "metadata": {
  "kernelspec": {
   "display_name": "Python 3 (ipykernel)",
   "language": "python",
   "name": "python3"
  },
  "language_info": {
   "codemirror_mode": {
    "name": "ipython",
    "version": 3
   },
   "file_extension": ".py",
   "mimetype": "text/x-python",
   "name": "python",
   "nbconvert_exporter": "python",
   "pygments_lexer": "ipython3",
   "version": "3.11.7"
  }
 },
 "nbformat": 4,
 "nbformat_minor": 5
}

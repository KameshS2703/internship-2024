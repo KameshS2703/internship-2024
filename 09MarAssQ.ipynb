{
 "cells": [
  {
   "cell_type": "markdown",
   "id": "d2615fd1-7bd6-471b-bb74-5627ab362818",
   "metadata": {},
   "source": [
    "### QUESTION 1:"
   ]
  },
  {
   "cell_type": "markdown",
   "id": "cc660096-0b97-41b4-ac32-6eb180f29fe6",
   "metadata": {},
   "source": [
    "#### What are the Probability Mass Function (PMF) and Probability Density Function (PDF)? Explain with an example."
   ]
  },
  {
   "cell_type": "markdown",
   "id": "98a94437-7aab-4d3e-9602-8a9117c9d9a6",
   "metadata": {},
   "source": [
    "#### Probability Mass Function - This shows The distribution of Contiuous Data.(EX: Height Of Students)\n",
    "#### Probability Density Function - This Shows The Distribution of aDiscrete Random Variable.(EX:Rolling a Dice)"
   ]
  },
  {
   "cell_type": "markdown",
   "id": "fa1b5b75-a72e-4d9f-b371-53c64abbeca0",
   "metadata": {},
   "source": [
    "### QUESTION 2:"
   ]
  },
  {
   "cell_type": "markdown",
   "id": "d4f20b60-9330-49db-8b4d-5757a9b3e403",
   "metadata": {},
   "source": [
    "####  What is Cumulative Density Function (CDF)? Explain with an example. Why CDF is used"
   ]
  },
  {
   "cell_type": "markdown",
   "id": "2a3a8905-a6e2-4f0d-81f5-22a729f9d712",
   "metadata": {},
   "source": [
    "##### The Cumulative Density Function (CDF) is a fundamental concept in probability theory and statistics. It's a function that describes the probability distribution of a random variable, X.\n",
    "\n",
    "##### The CDF, denoted as F(x), represents the probability that the random variable X takes on a value less than or equal to x. In other words, it's the probability of getting a value less than or equal to x.\n",
    "\n",
    "##### Mathematically, the CDF is defined as:\n",
    "\n",
    "##### F(x) = P(X ≤ x)\n",
    "\n",
    "##### Suppose we have a random variable X that represents the height of a person in a population. The CDF of X, F(x), might look like this:\n",
    "\n",
    "##### F(x) = 0.1 for x ≤ 150 cm (5 ft)\n",
    "##### F(x) = 0.3 for x ≤ 160 cm (5.3 ft)\n",
    "##### F(x) = 0.6 for x ≤ 170 cm (5.7 ft)\n",
    "##### F(x) = 0.9 for x ≤ 180 cm (5.9 ft)\n",
    "##### F(x) = 1 for x > 180 cm\n",
    "\n",
    "##### This means that:\n",
    "\n",
    "##### - 10% of the population is shorter than or equal to 150 cm\n",
    "##### - 30% of the population is shorter than or equal to 160 cm\n",
    "##### - 60% of the population is shorter than or equal to 170 cm\n",
    "##### - 90% of the population is shorter than or equal to 180 cm\n",
    "##### - 100% of the population is shorter than or equal to any height above 180 cm (since it's the maximum height)\n"
   ]
  },
  {
   "cell_type": "markdown",
   "id": "1791ee4e-bbeb-408e-a4e0-d970cb106103",
   "metadata": {},
   "source": [
    "### QUESTION 3:"
   ]
  },
  {
   "cell_type": "markdown",
   "id": "41ba6a4c-ccd1-4cff-8e51-9da9daca84f0",
   "metadata": {},
   "source": [
    "#### What are some examples of situations where the normal distribution might be used as a model? Explain how the parameters of the normal distribution relate to the shape of the distribution."
   ]
  },
  {
   "cell_type": "markdown",
   "id": "6496b4f2-512d-4ebe-bd9b-bd65bef76c40",
   "metadata": {},
   "source": [
    "##### The normal distribution is a widely used probability distribution in statistics, and it's commonly used to model real-valued random variables that exhibit certain characteristics. Here are some examples of situations where the normal distribution might be used as a model:\n",
    "\n",
    "##### 1. Human height and weight: The distribution of human height and weight follow a normal distribution, with most people clustered around the mean (average) value.\n",
    "##### 2. IQ scores: Intelligence Quotient (IQ) scores are normally distributed, with the majority of people scoring around the mean value of 100.\n",
    "##### 3. Errors in measurement: Errors in measurement, such as those that occur in physical sciences, often follow a normal distribution.\n",
    "##### 4. Stock prices: The changes in stock prices over time can be modeled using a normal distribution.\n",
    "##### 5. Blood pressure: Blood pressure readings for a large population tend to follow a normal distribution.\n",
    "##### 6. Exam scores: Scores on exams, such as SAT or ACT, often follow a normal distribution.\n",
    "##### 7. Manufacturing processes: The variation in product quality, such as weight or size, can be modeled using a normal distribution.\n",
    "\n",
    "##### The normal distribution is characterized by two parameters:\n",
    "\n",
    "##### 1. Mean (μ): The mean represents the center of the distribution, where most of the data points are clustered. A higher mean shifts the distribution to the right.\n",
    "##### 2. Standard deviation (σ): The standard deviation represents the spread or dispersion of the data. A higher standard deviation means the data is more spread out.\n",
    "\n",
    "##### The shape of the normal distribution is determined by these two parameters:\n",
    "\n",
    "##### - Symmetry: The normal distribution is symmetric around the mean, meaning that the left and right sides of the distribution are mirror images.\n",
    "##### - Bell-shaped: The normal distribution has a bell-shaped curve, with the majority of data points clustered around the mean and tapering off gradually towards the extremes.\n",
    "##### - Tails: The normal distribution has tails that extend to infinity in both directions, meaning that extreme values are possible but less likely.\n",
    "\n"
   ]
  },
  {
   "cell_type": "markdown",
   "id": "c0e7f4e5-ba31-43d9-aa0a-8778b822297e",
   "metadata": {},
   "source": [
    "### QUESTION 4:"
   ]
  },
  {
   "cell_type": "markdown",
   "id": "41cc8ec7-5ea4-4d7c-86dd-a10669a0e38d",
   "metadata": {},
   "source": [
    "#### Explain the importance of Normal Distribution. Give a few real-life examples of Normal Distribution. "
   ]
  },
  {
   "cell_type": "markdown",
   "id": "9ff95f52-39da-44ca-9148-5c91ab029f08",
   "metadata": {},
   "source": [
    "#### Importance of Normal Distribution:\n",
    "\n",
    "#### 1. Modeling real-world phenomena: The Normal Distribution is a great model for many natural phenomena, such as human height, IQ scores, and errors in measurement.\n",
    "#### 2. Central Limit Theorem: The Normal Distribution is the limiting distribution of the average of a large number of independent random variables, making it a fundamental tool in statistical analysis.\n",
    "#### 3. Statistical inference: The Normal Distribution is used in hypothesis testing, confidence intervals, and regression analysis.\n",
    "#### 4. Data analysis: The Normal Distribution is used to summarize and visualize data, making it easier to understand and communicate.\n",
    "#### 5. Quality control: The Normal Distribution is used to monitor and control processes in manufacturing and other industries.\n",
    "\n",
    "#### Real-life examples of Normal Distribution:\n",
    "\n",
    "#### 1. Human Height: The height of adults in a population follows a Normal Distribution, with most people clustered around the mean height.\n",
    "#### 2. IQ Scores: Intelligence Quotient (IQ) scores are Normally Distributed, with the majority of people scoring around 100.\n",
    "#### 3. Blood Pressure: Blood pressure readings for a large population tend to follow a Normal Distribution.\n",
    "#### 4. Stock Prices: The changes in stock prices over time can be modeled using a Normal Distribution.\n",
    "#### 5. Measurement Errors: Errors in measurement, such as those that occur in physical sciences, often follow a Normal Distribution.\n"
   ]
  },
  {
   "cell_type": "markdown",
   "id": "eee46d12-e989-4de4-b70c-eadd8e86168d",
   "metadata": {},
   "source": [
    "### QUESTION 5:"
   ]
  },
  {
   "cell_type": "markdown",
   "id": "0e678af3-56a7-4fc7-9b08-a0dbd212b587",
   "metadata": {},
   "source": [
    "#### What is Bernaulli Distribution? Give an Example. What is the difference between Bernoulli Distribution and Binomial Distribution?"
   ]
  },
  {
   "cell_type": "markdown",
   "id": "7d2bc6e0-6639-405e-8e9d-0853fdbec8ed",
   "metadata": {},
   "source": [
    "#### In the probability Theory and statistics,The Bernouli Distribution,named After Swiss Mathematician Jcob Bernouli, is the discrete Probability distribution of a radom variable which takes the value 0 with the value 1 with probability p and the value 0 with the probability q=1-p. Less formally, it can be thought of as a model for the set of possible outcomes of any single experiment that asks a yes-no question,such questions lead to outcomes that are boolean-valued:a single bit whose value is success/yes/true one with probability p and failure/no/false/zero with probability 9. "
   ]
  },
  {
   "cell_type": "markdown",
   "id": "935b33ce-bfa7-413e-a505-9678db5d6564",
   "metadata": {},
   "source": [
    "#### Here,outcomes are Binary.\n",
    "#### Ex: Tossing a Fair coin{H,T}\n",
    "####  Bernoulli Distribution models a single trial, while Binomial Distribution models multiple trials.\n",
    "#### - Bernoulli Distribution has one parameter (p), while Binomial Distribution has two parameters (n and p).\n",
    "#### - Bernoulli Distribution's probability mass function is simpler, while Binomial Distribution's probability mass function involves combinations and exponentiation.\n"
   ]
  },
  {
   "cell_type": "markdown",
   "id": "73c96c09-d512-44ab-ae45-98e4ef372485",
   "metadata": {},
   "source": [
    "### QUESTION 6:"
   ]
  },
  {
   "cell_type": "markdown",
   "id": "9429be88-731f-4b95-a1e5-1446d46c353a",
   "metadata": {},
   "source": [
    "#### Consider a dataset with a mean of 50 and a standard deviation of 10. If we assume that the dataset is normally distributed, what is the probability that a randomly selected observation will be greater than 60? Use the appropriate formula and show your calculations."
   ]
  },
  {
   "cell_type": "markdown",
   "id": "7f7fdb98-4ea1-4f37-990d-761db10d6ced",
   "metadata": {},
   "source": [
    "#### P(X ≤ x) = Φ((x - μ) / σ)\n",
    "\n",
    "#### where Φ is the CDF of the standard normal distribution.\n",
    "\n",
    "#### Using a calculator or software, we can find:\n",
    "\n",
    "#### P(X ≤ 60) = Φ((60 - 50) / 10) = Φ(1) ≈ 0.8413\n",
    "\n",
    "#### Then, we can find the probability that X is greater than 60:\n",
    "\n",
    "#### P(X > 60) = 1 - P(X ≤ 60) ≈ 1 - 0.8413 = 0.1587\n"
   ]
  },
  {
   "cell_type": "markdown",
   "id": "e3a6a7ed-26a7-40ef-8ba7-7dc6feb0634a",
   "metadata": {},
   "source": [
    "### QUESTION 7:"
   ]
  },
  {
   "cell_type": "markdown",
   "id": "b685afad-41e1-44ab-bd7b-64bd41195f63",
   "metadata": {},
   "source": [
    "#### Explain uniform Distribution with an example."
   ]
  },
  {
   "cell_type": "markdown",
   "id": "7749e21b-a564-4cee-bb72-6a7c996549b2",
   "metadata": {},
   "source": [
    "#### Uniform Distribution is Categorized into two types:\n",
    "#### 1. Continuous uniform Distribution\n",
    "#### 2. Discrete Unifrom Distribution\n",
    "#### 1. Continuous Distribution: In probability and Statistics,The continous uniform distribution or rectangular distribution is a family of symmetric probability distributions.The distribution Describes an experiment where there is an arbitary outcome that lies between certain bound . the bounds are defined by parameters,a and b , which are the Minimum and Maximum Values.The internal can either be closed[a,b] or open(a,b).\n",
    "#### Example: The no. of candies sold daily at a shop is uniformly distributed with a minimum of 10and to find the probability of dailysales to fall between 15 and 30"
   ]
  },
  {
   "cell_type": "markdown",
   "id": "eb69022d-ddb3-4cb0-9343-47c69899fbb5",
   "metadata": {},
   "source": [
    "#### 2. Discrete Uniform Distribution:In Probability theoryand statistics,the discrete uniform distirbution is a symmetric probability distribution where in a finite number of values are equally likely to be observed;everyone of n values has  equal probability 1/n. Another way of sayng \"discrete uniform distribution\" would be \"a known finite no. of outcomes equally likely to happen\"\n",
    "#### Example : Rolling a dice{1,2,3,4,5,6}"
   ]
  },
  {
   "cell_type": "markdown",
   "id": "4f30d0a4-9c09-49a3-932b-cae04db573de",
   "metadata": {},
   "source": [
    "### QUESTION 8:"
   ]
  },
  {
   "cell_type": "markdown",
   "id": "7c703ef4-4d36-4d9f-aea7-f96369d679cd",
   "metadata": {},
   "source": [
    "#### What is the z score? State the importance of the z score"
   ]
  },
  {
   "cell_type": "markdown",
   "id": "6d10cce7-75f4-45b8-b636-81baf60f7eb5",
   "metadata": {},
   "source": [
    "##### The z-score, also known as the standard score, is a measure of how many standard deviations an element is from the mean. It's a way to compare an individual data point to the average value in a dataset, while considering the amount of variation in the data.\n",
    "\n",
    "##### The z-score is calculated as:\n",
    "\n",
    "##### z = (X - μ) / σ\n",
    "\n",
    "##### Where:\n",
    "\n",
    "##### - X is the individual data point\n",
    "##### - μ is the mean of the dataset\n",
    "##### - σ is the standard deviation of the dataset.\n",
    "\n",
    "##### 1. Standardization: z-scores allow for standardization of data, making it easier to compare values from different datasets or distributions.\n",
    "##### 2. Comparison: z-scores enable comparison of individual data points to the average value, helping to identify outliers and anomalies.\n",
    "##### 3. Probability determination: z-scores can be used to determine the probability of a value occurring, using standard normal distribution tables or calculators.\n",
    "##### 4. Identification of patterns: z-scores help identify patterns and trends in data, such as clustering or skewness.\n",
    "##### 5. Data normalization: z-scores can be used to normalize data, which is essential for many statistical analysis techniques.\n",
    "\n",
    "\n"
   ]
  },
  {
   "cell_type": "markdown",
   "id": "15bb640a-d812-4c2d-9e27-d0a668ac7a40",
   "metadata": {},
   "source": [
    "### QUESTION 9:"
   ]
  },
  {
   "cell_type": "markdown",
   "id": "acb9d16a-e199-4a42-b559-bd11c0269cde",
   "metadata": {},
   "source": [
    "#### What is Central Limit Theorem? State the significance of the Central Limit Theorem"
   ]
  },
  {
   "cell_type": "markdown",
   "id": "7786e0fd-5aff-4a02-bdc8-5beffcba9928",
   "metadata": {},
   "source": [
    "#### The Central Limit Theorem relies on the concept of a sampling distribution which is the probability dsitribution of a statistic for a large number of samples taken from a population."
   ]
  },
  {
   "cell_type": "markdown",
   "id": "a3178005-5869-4b53-a860-1b94fae823f7",
   "metadata": {},
   "source": [
    "#### TheCentral Limit Theorem says that the sampling distribution of the mean will always be normally distributed as long as the sample size is large enough , Regardlessof whether the population has a normal,poisson,binomial or any other distirbution, the samplng distirbutin of mean will be normal "
   ]
  },
  {
   "cell_type": "markdown",
   "id": "2c1bfad7-3192-42ed-a9fe-b83bbf439d50",
   "metadata": {},
   "source": [
    "### QUESTION 10:"
   ]
  },
  {
   "cell_type": "markdown",
   "id": "08d19af2-baf7-4ee2-8478-e1405fd245a6",
   "metadata": {},
   "source": [
    "### State the assumptions of the Central Limit Theorem"
   ]
  },
  {
   "cell_type": "markdown",
   "id": "31233fa2-5058-4788-a1a9-e6837c58362c",
   "metadata": {},
   "source": [
    "#### 1. if a random variable follows normal distribution ,then we can have any n values of which the samples form a bell curve.\n",
    "#### 2. if a random variable do not follow normal distribution ,then the n>=30 then only we could obtain the bell curve. "
   ]
  },
  {
   "cell_type": "code",
   "execution_count": null,
   "id": "4d4258c9-e0db-4694-99a1-cf72ffd1bc20",
   "metadata": {},
   "outputs": [],
   "source": []
  }
 ],
 "metadata": {
  "kernelspec": {
   "display_name": "Python 3 (ipykernel)",
   "language": "python",
   "name": "python3"
  },
  "language_info": {
   "codemirror_mode": {
    "name": "ipython",
    "version": 3
   },
   "file_extension": ".py",
   "mimetype": "text/x-python",
   "name": "python",
   "nbconvert_exporter": "python",
   "pygments_lexer": "ipython3",
   "version": "3.11.7"
  }
 },
 "nbformat": 4,
 "nbformat_minor": 5
}

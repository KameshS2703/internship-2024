{
 "cells": [
  {
   "cell_type": "markdown",
   "id": "85bd9162-9d20-4370-af0e-8c9b37e8d612",
   "metadata": {},
   "source": [
    "### QUESTION 1:"
   ]
  },
  {
   "cell_type": "markdown",
   "id": "c159d628-e7c4-48d6-bf26-29ed3d867222",
   "metadata": {},
   "source": [
    "####  What is Statistics?"
   ]
  },
  {
   "cell_type": "markdown",
   "id": "19ce6711-eab6-4b6c-a49c-89579ac112ec",
   "metadata": {},
   "source": [
    "#### Statistics is a science of collecting,organizing, and analyzing data.\n",
    "#### Data- facts or piecesof information"
   ]
  },
  {
   "cell_type": "markdown",
   "id": "5e830cc4-21a9-45f2-b8c4-345edbf784e1",
   "metadata": {},
   "source": [
    "### QUESTION 2:"
   ]
  },
  {
   "cell_type": "markdown",
   "id": "25b594bb-362f-44ab-b4a0-1ff1176b9faf",
   "metadata": {},
   "source": [
    "#### Define the different types of statistics and give an example of when each type might be used?"
   ]
  },
  {
   "cell_type": "markdown",
   "id": "922a6ccb-e853-4416-9292-e87643783ca7",
   "metadata": {},
   "source": [
    "#### different types of statistic includes- 1. descriptive statistics 2. inferential statistics"
   ]
  },
  {
   "cell_type": "markdown",
   "id": "974def12-2239-447b-951d-a8e0e1cb08a8",
   "metadata": {},
   "source": [
    "#### 1.Descriptuive Statistics: it consists of organizing and summerizing data. \n",
    "#### organizing - 1. Measure of Central Tendency[mean,median,mode] 2.Measure of Dispersion[Variance,Standard Deviation]\n",
    "#### summarizing - Histogram,Bar Charts, Pie Charts\n",
    "#### example - finding out the average height of students in a class"
   ]
  },
  {
   "cell_type": "markdown",
   "id": "b9079c8b-3905-47f6-bf0f-6762f4e3df9d",
   "metadata": {},
   "source": [
    "#### 2. Inferential Statistics: it consists of using data you have measured to form conclusion.\n",
    "#### Experiments to derive conclusions include-1. Z-test 2.t-test 3.Hypothesis testing,p value,significance\n",
    "#### Example - are the average height of students in a classroom(sample) similar to what you expect in the enitre coleege(population)?"
   ]
  },
  {
   "cell_type": "markdown",
   "id": "b2b2260f-9f98-4c5e-ba57-cb8f96e57403",
   "metadata": {},
   "source": [
    "### QUESTION 3:"
   ]
  },
  {
   "cell_type": "markdown",
   "id": "2ebbc4ea-d768-4d00-9b23-2fb7aaf47d4b",
   "metadata": {},
   "source": [
    "####   What are the different types of data and how do they differ from each other? Provide an example of each type of data."
   ]
  },
  {
   "cell_type": "code",
   "execution_count": 4,
   "id": "8a6b4874-66fd-4192-9208-a1ff6a4ce546",
   "metadata": {},
   "outputs": [
    {
     "data": {
      "text/html": [
       "<img src=\"C:/Users/KAMESH/PWSKILLS9.jpg\"/>"
      ],
      "text/plain": [
       "<IPython.core.display.Image object>"
      ]
     },
     "execution_count": 4,
     "metadata": {},
     "output_type": "execute_result"
    }
   ],
   "source": [
    "from IPython.display import Image\n",
    "\n",
    "Image(url=\"C:/Users/KAMESH/PWSKILLS9.jpg\")\n"
   ]
  },
  {
   "cell_type": "markdown",
   "id": "0d22cb7e-abdf-45ec-86a2-e984b9e0f2ac",
   "metadata": {},
   "source": [
    "#### 1. Quantitative : \n",
    "#### - It is a Numerical Data\n",
    "#### - We can apply operations like +,-,*,/\n",
    "##### Discrete: - It is a whole Number of Numerical Data\n",
    "##### Example: No. of bank Account Individual Has.\n",
    "##### Continuous: - any value in numerical data\n",
    "##### Example: Height,Weight."
   ]
  },
  {
   "cell_type": "markdown",
   "id": "5c016353-2c82-4722-b6cc-2540e0d341ed",
   "metadata": {},
   "source": [
    "#### 2. Qualitative: \n",
    "#### - It is also known as Categorical Data.\n",
    "##### Nominal - Here all categories are given equal priorities.\n",
    "#####         - Here,we can't assign rank to categories.\n",
    "##### Example: \n",
    "##### - Gneder,-Blodd Group\n",
    "##### Ordinal: - Here,the categories are rank specific.\n",
    "#####          - we assign rank to categories.\n",
    "##### Example: \n",
    "##### - Good,Bad,Satisfactory"
   ]
  },
  {
   "cell_type": "markdown",
   "id": "688a0002-b0a5-4a44-bc94-a93ab2bd9a74",
   "metadata": {},
   "source": [
    "### QUESTION 4:"
   ]
  },
  {
   "cell_type": "markdown",
   "id": "57f641fb-2c38-48a5-95d0-7e8eef7fbf74",
   "metadata": {},
   "source": [
    "#### Categorise the following datasets with respect to quantitative and qualitative data types:\n",
    "#### (i)   Grading in exam: A+, A, B+, B, C+, C, D, E - QUALITATIVE DATA\n",
    "#### (ii)  Colour of mangoes: yellow, green, orange, red - QUALITATIVE DATA\n",
    "#### (iii)\tHeight data of a class: [178.9, 179, 179.5, 176, 177.2, 178.3, 175.8,...] - QUANTITATIVE DATA\n",
    "#### (iv)\tNumber of mangoes exported by a farm: [500, 600, 478, 672, …] - QUANTITATIVE DATA"
   ]
  },
  {
   "cell_type": "markdown",
   "id": "bd429caf-385c-4860-8430-0e2f14b78637",
   "metadata": {},
   "source": [
    "### QUESTION 5:"
   ]
  },
  {
   "cell_type": "markdown",
   "id": "907fd028-e118-4755-a551-4a1b230636a3",
   "metadata": {},
   "source": [
    "#### Explain the concept of levels of measurement and give an example of a variable for each level."
   ]
  },
  {
   "cell_type": "code",
   "execution_count": 2,
   "id": "3e32c408-4b15-4008-8653-9df9715bb63d",
   "metadata": {},
   "outputs": [
    {
     "data": {
      "text/html": [
       "<img src=\"C:/Users/KAMESH/PWSKILLS10.jpg\"/>"
      ],
      "text/plain": [
       "<IPython.core.display.Image object>"
      ]
     },
     "execution_count": 2,
     "metadata": {},
     "output_type": "execute_result"
    }
   ],
   "source": [
    "from IPython.display import Image\n",
    "\n",
    "Image(url=\"C:/Users/KAMESH/PWSKILLS10.jpg\")\n"
   ]
  },
  {
   "cell_type": "code",
   "execution_count": 3,
   "id": "74fe72f2-5ebf-4893-b17d-58ac11ac1167",
   "metadata": {},
   "outputs": [
    {
     "data": {
      "text/html": [
       "<img src=\"C:/Users/KAMESH/PWSKILLS11.jpg\"/>"
      ],
      "text/plain": [
       "<IPython.core.display.Image object>"
      ]
     },
     "execution_count": 3,
     "metadata": {},
     "output_type": "execute_result"
    }
   ],
   "source": [
    "from IPython.display import Image\n",
    "\n",
    "Image(url=\"C:/Users/KAMESH/PWSKILLS11.jpg\")\n"
   ]
  },
  {
   "cell_type": "code",
   "execution_count": 4,
   "id": "76b02f42-3fce-4de0-8e61-12c7e4ecf94f",
   "metadata": {},
   "outputs": [
    {
     "data": {
      "text/html": [
       "<img src=\"C:/Users/KAMESH/PWSKILLS12.jpg\"/>"
      ],
      "text/plain": [
       "<IPython.core.display.Image object>"
      ]
     },
     "execution_count": 4,
     "metadata": {},
     "output_type": "execute_result"
    }
   ],
   "source": [
    "from IPython.display import Image\n",
    "\n",
    "Image(url=\"C:/Users/KAMESH/PWSKILLS12.jpg\")\n"
   ]
  },
  {
   "cell_type": "code",
   "execution_count": 5,
   "id": "8e309a9f-f044-4204-8a57-f18a4e253be0",
   "metadata": {},
   "outputs": [
    {
     "data": {
      "text/html": [
       "<img src=\"C:/Users/KAMESH/PWSKILLS13.jpg\"/>"
      ],
      "text/plain": [
       "<IPython.core.display.Image object>"
      ]
     },
     "execution_count": 5,
     "metadata": {},
     "output_type": "execute_result"
    }
   ],
   "source": [
    "from IPython.display import Image\n",
    "\n",
    "Image(url=\"C:/Users/KAMESH/PWSKILLS13.jpg\")\n"
   ]
  },
  {
   "cell_type": "markdown",
   "id": "2fe90022-d5c5-43b7-85ab-d57739407ce4",
   "metadata": {},
   "source": [
    "### QUESTION 6:"
   ]
  },
  {
   "cell_type": "markdown",
   "id": "ed24cfa9-ef22-4ebd-869a-9728cb41f6a2",
   "metadata": {},
   "source": [
    "#### Why is it important to understand the level of measurement when analyzing data? Provide an example to illustrate your answer"
   ]
  },
  {
   "cell_type": "markdown",
   "id": "be71da1c-e51d-43ed-a56d-ea3787e75b86",
   "metadata": {},
   "source": [
    "#### Understanding the level of measurement is important because it determines the type of statistical analysis that can be performed on the data and the conclusions that can be drawn from the results.\n",
    "\n"
   ]
  },
  {
   "cell_type": "markdown",
   "id": "66977395-aeb7-413b-98f8-069de165922b",
   "metadata": {},
   "source": [
    "#### Suppose we want to analyze the data on the favorite colors of a group of people. The data is categorical, so we would use nominal level measurement. We can count the frequency of each color, create a bar chart, and describe the most common colors. However, we cannot calculate the mean or median color, as it doesn't make sense to average categorical data.\n",
    "\n",
    "#### If we were to analyze the data on the temperature readings from a sensor, we would use interval level measurement. We can calculate the mean, median, and standard deviation of the temperatures, and describe the range of temperatures. However, we cannot say that a temperature of 40°C is \"twice as hot\" as a temperature of 20°C, as the zero point is arbitrary.\n"
   ]
  },
  {
   "cell_type": "markdown",
   "id": "b4bbb668-957a-4bd0-801a-48c9b3cc8c5e",
   "metadata": {},
   "source": [
    "### QUESTION 7:"
   ]
  },
  {
   "cell_type": "markdown",
   "id": "30eb07c1-f456-43ec-b03d-74b6be2ca145",
   "metadata": {},
   "source": [
    "####  How nominal data type is different from ordinal data type."
   ]
  },
  {
   "cell_type": "markdown",
   "id": "df6cf31c-af0c-4581-a88b-0daa2dbd85cd",
   "metadata": {},
   "source": [
    "#### Nominal data is categorical, with no inherent order.\n",
    "#### Ordinal data is categorical, with a natural order or hierarchy.\n",
    "#### Nominal data cannot be compared in terms of magnitude.\n",
    "#### Ordinal data can be compared in terms of greater or lesser.\n",
    "#### Examples: nominal (gender, color), ordinal (education level, satisfaction rating)."
   ]
  },
  {
   "cell_type": "markdown",
   "id": "f2b62961-23c6-4c82-b658-f4dfae1ad9fa",
   "metadata": {},
   "source": [
    "### QUESTION 8:"
   ]
  },
  {
   "cell_type": "markdown",
   "id": "d0433ea7-73de-4117-bc5d-57a560c4957b",
   "metadata": {},
   "source": [
    "#### Which type of plot can be used to display data in terms of range?"
   ]
  },
  {
   "cell_type": "markdown",
   "id": "469e204c-6ad3-49db-937c-4f86625971bf",
   "metadata": {},
   "source": [
    "#### Bar Chart"
   ]
  },
  {
   "cell_type": "markdown",
   "id": "922125b3-ead5-4707-a4d7-775dbca9d190",
   "metadata": {},
   "source": [
    "### QUESTION 9:"
   ]
  },
  {
   "cell_type": "markdown",
   "id": "36410f7f-eec3-41f6-9429-837ff3383b5e",
   "metadata": {},
   "source": [
    "#### describe the difference between descriptive and inferential statistics. Give an example of each \n",
    "#### type of statistics and explain how they are used."
   ]
  },
  {
   "cell_type": "markdown",
   "id": "a1c2d029-3ec5-4631-b2b7-cb4c1156d6b3",
   "metadata": {},
   "source": [
    "#### Descriptive statistics summarize and describe the basic features of a dataset, while inferential statistics use sample data to make inferences or predictions about a population.\n",
    "\n",
    "#### Descriptive Statistics:\n",
    "\n",
    "#### - Example: Calculate the mean, median, and standard deviation of a dataset of exam scores.\n",
    "#### - Use: Descriptive statistics help us understand the central tendency, variability, and distribution of the data.\n",
    "#### - Purpose: To summarize and describe the data, providing a snapshot of the dataset's characteristics.\n",
    "\n",
    "#### Inferential Statistics:\n",
    "\n",
    "#### - Example: Use a sample of students' exam scores to estimate the average score of all students in the school.\n",
    "#### - Use: Inferential statistics help us make predictions or inferences about a population based on a sample of data.\n",
    "#### - Purpose: To make conclusions or generalizations about a larger population beyond the sample data.\n"
   ]
  },
  {
   "cell_type": "markdown",
   "id": "4f4ca71a-af4a-4add-82cc-a16b407cc2b1",
   "metadata": {},
   "source": [
    "###  QUESTION 10:"
   ]
  },
  {
   "cell_type": "markdown",
   "id": "3748439a-6b7c-4b24-b35c-86d86efa9347",
   "metadata": {},
   "source": [
    "#### What are some common measures of central tendency and variability used in statistics? Explain \n",
    "#### how each measure can be used to describe a dataset"
   ]
  },
  {
   "cell_type": "markdown",
   "id": "d07db6fd-fff4-4af7-bfbb-59ca1c5c4098",
   "metadata": {},
   "source": [
    "#### 1. Mean: The average value of a dataset, calculated by summing all values and dividing by the number of values.\n",
    "\n",
    "#### 2. Median: The middle value of a dataset when it's sorted in order. If there's an even number of values, the median is the average of the two middle values.\n",
    "\n",
    "#### 3. Mode: The value that appears most frequently in a dataset.\n",
    "\n",
    "#### These measures can be used to describe a dataset in the following ways:\n",
    "\n",
    "#### - Mean: Provides a sense of the dataset's central location, but can be affected by outliers.\n",
    "#### - Median: A better representation of the dataset's central location when there are outliers, as it's more resistant to their impact.\n",
    "#### - Mode: Helps identify the most common value in the dataset, which can be useful in certain contexts.\n",
    "\n"
   ]
  },
  {
   "cell_type": "code",
   "execution_count": null,
   "id": "545418c6-8536-4a78-9d23-2064192ffc1f",
   "metadata": {},
   "outputs": [],
   "source": []
  }
 ],
 "metadata": {
  "kernelspec": {
   "display_name": "Python 3 (ipykernel)",
   "language": "python",
   "name": "python3"
  },
  "language_info": {
   "codemirror_mode": {
    "name": "ipython",
    "version": 3
   },
   "file_extension": ".py",
   "mimetype": "text/x-python",
   "name": "python",
   "nbconvert_exporter": "python",
   "pygments_lexer": "ipython3",
   "version": "3.11.7"
  }
 },
 "nbformat": 4,
 "nbformat_minor": 5
}

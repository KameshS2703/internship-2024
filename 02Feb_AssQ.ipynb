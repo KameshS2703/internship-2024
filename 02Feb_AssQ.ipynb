{
 "cells": [
  {
   "cell_type": "markdown",
   "id": "f2891a58-6828-4757-9980-28009e507ca2",
   "metadata": {},
   "source": [
    "# ANSWER TO QUESTION 1"
   ]
  },
  {
   "cell_type": "markdown",
   "id": "3024cb77-298a-4ef3-a92d-c4ffc70f7cd8",
   "metadata": {},
   "source": [
    "### Characteristics of a Tuple\n",
    "\n",
    "1. *Ordered*: Tuples maintain the order of elements. This means the elements have a defined order, and that order will not change.\n",
    "\n",
    "2. *Immutable*: Tuples cannot be changed after their creation. This immutability means you cannot add, remove, or modify elements within a tuple.\n",
    "\n",
    "3. *Heterogeneous*: Tuples can contain elements of different data types. For example, a tuple can contain an integer, a string, and a float all at once.\n",
    "\n",
    "4. *Indexed*: Elements in a tuple can be accessed using their index, with the first element having an index of 0.\n",
    "\n",
    "5. *Hashable*: Because tuples are immutable, they can be used as keys in dictionaries, unlike lists.\n",
    "\n",
    "6. *Support for Nesting*: Tuples can contain other tuples, lists, dictionaries, and other complex data structures as elements.\n",
    "\n",
    "7. *Iteration*: Tuples can be iterated over, which makes them useful in loops and comprehensions.\n",
    "\n",
    "8. *Fixed Size*: The size of a tuple is fixed after its creation. This is a direct consequence of its immutability.\n",
    "\n",
    "### Is Tuple Immutable?\n",
    "\n",
    "Yes, a tuple is immutable. This means once a tuple is created, you cannot change, add, or remove elements from it. Any operation that would modify the tuple will instead create a new tuple.\n",
    "\n"
   ]
  },
  {
   "cell_type": "markdown",
   "id": "bf455fbd-2740-45c9-bb5f-3558aec18308",
   "metadata": {},
   "source": [
    "# ANSWER TO QUESTION 2:"
   ]
  },
  {
   "cell_type": "markdown",
   "id": "a95dd006-0d19-41af-995c-18cf4ee2da1b",
   "metadata": {},
   "source": [
    "##### THE TWO METHODS AVAILABE IN TUPLE ARE :\n",
    "###### 1. COUNT() - USED TO COUNT THE NUMBER OF OCCURANCE OF SPECIFIC VALUE IN TUPLE\n",
    "###### 2.INDEX() - USED TO DISPLPAY THE POSITON OF A ELEMENT IN A TUPLE.\n"
   ]
  },
  {
   "cell_type": "markdown",
   "id": "36923af9-3152-4ce6-a945-1095bf74c71e",
   "metadata": {},
   "source": [
    "### COUNT()-"
   ]
  },
  {
   "cell_type": "code",
   "execution_count": 4,
   "id": "a0254ca4-d829-4bc3-9fc4-51693c4a001a",
   "metadata": {},
   "outputs": [
    {
     "data": {
      "text/plain": [
       "5"
      ]
     },
     "execution_count": 4,
     "metadata": {},
     "output_type": "execute_result"
    }
   ],
   "source": [
    "tuple1=(1,2,3,4,5,\"hello\",2,2,2,2,2,3,4,5,6,6,6,6,6)\n",
    "tuple1.count(6)"
   ]
  },
  {
   "cell_type": "markdown",
   "id": "e559b5c5-0d04-4784-b694-b28483af8bbf",
   "metadata": {},
   "source": [
    "### INDEX()"
   ]
  },
  {
   "cell_type": "code",
   "execution_count": 5,
   "id": "aab96eea-da51-449d-940a-a215a2fa9713",
   "metadata": {},
   "outputs": [
    {
     "data": {
      "text/plain": [
       "5"
      ]
     },
     "execution_count": 5,
     "metadata": {},
     "output_type": "execute_result"
    }
   ],
   "source": [
    "tuple1=(1,2,3,4,5,\"hello\")\n",
    "tuple1.index(\"hello\")"
   ]
  },
  {
   "cell_type": "markdown",
   "id": "46bb3b57-bee5-4a21-aee7-d333d8217dbf",
   "metadata": {},
   "source": [
    "## why tuple has only two methods when comapred to lists?\n",
    "##### the reason is quite simple as the tuple datatype in python is immutable which means that the vlues inserted into a tuple can't be modified further, which stands as an onstraints to perform several operations on tuple. and when each time we create a tuple its memroy value is new. whereas list being an mutable datatype is easy to perform various operation so therewe can use various built-in functions as an simplication fro that operations."
   ]
  },
  {
   "cell_type": "markdown",
   "id": "d4ddf152-958d-415a-b6d3-700d75037e37",
   "metadata": {},
   "source": [
    "## ANSWER TO QUESTION 3:"
   ]
  },
  {
   "cell_type": "markdown",
   "id": "59778a43-2898-43b4-a4bf-22c2c01de92a",
   "metadata": {},
   "source": [
    "### SET IS THE DATATYPE WHICH WON'T ALLOW DUPLCATE DATATYPES"
   ]
  },
  {
   "cell_type": "code",
   "execution_count": 11,
   "id": "5501dd07-fd2b-4d41-bc28-f7df93b6ab00",
   "metadata": {},
   "outputs": [
    {
     "data": {
      "text/plain": [
       "set"
      ]
     },
     "execution_count": 11,
     "metadata": {},
     "output_type": "execute_result"
    }
   ],
   "source": [
    "s={1,2,2,3,4,5}\n",
    "type(s)"
   ]
  },
  {
   "cell_type": "code",
   "execution_count": 12,
   "id": "6b522975-ec3c-4b40-b793-b16bc03ddfcb",
   "metadata": {},
   "outputs": [
    {
     "data": {
      "text/plain": [
       "{1, 2, 3, 4, 5}"
      ]
     },
     "execution_count": 12,
     "metadata": {},
     "output_type": "execute_result"
    }
   ],
   "source": [
    "s"
   ]
  },
  {
   "cell_type": "markdown",
   "id": "4976ce6e-4445-4c80-9518-3462609784bb",
   "metadata": {},
   "source": [
    "##### in python the setautomatically removes the dulplicate elements if so included in the set. there isn't a explicit function to remove the duplicate elements, instead the set function itslef removes the duplicate eements as they won't allow duplicate elements "
   ]
  },
  {
   "cell_type": "code",
   "execution_count": 16,
   "id": "d89684d2-926d-47d0-b19c-bd77c2934ebc",
   "metadata": {},
   "outputs": [
    {
     "name": "stdout",
     "output_type": "stream",
     "text": [
      "{1, 2, 3, 4}\n"
     ]
    }
   ],
   "source": [
    "list1 = [1, 1, 1, 2, 1, 3, 1, 4, 2, 1, 2, 2, 2, 3, 2, 4, 3, 1, 3, 2, 3, 3, 3, 4, 4, 1, 4, 2, 4, 3, 4, 4]\n",
    "set1=set(list1)\n",
    "print(set1)"
   ]
  },
  {
   "cell_type": "markdown",
   "id": "748b9a12-8a8f-45a8-a06d-435a3a3f3268",
   "metadata": {},
   "source": [
    "## ANSWER TO QUESTION 4:"
   ]
  },
  {
   "cell_type": "markdown",
   "id": "985384e2-5368-4da8-b883-ac76f5e2b0db",
   "metadata": {},
   "source": [
    "### Set datatype has an in-built function known as union which is used to combine two sets by removing the same elmeents and duplicate elements from it."
   ]
  },
  {
   "cell_type": "code",
   "execution_count": 20,
   "id": "99acdf91-d76e-4bff-b409-4c79e93eefbc",
   "metadata": {},
   "outputs": [
    {
     "name": "stdout",
     "output_type": "stream",
     "text": [
      "{1, 2, 3, 4, 5, 6, 7, 8, 9}\n"
     ]
    }
   ],
   "source": [
    "set1={1,2,3,4,5,6}\n",
    "set3=set1.union({2,3,4,5,6,7,8,9})\n",
    "print(set3)"
   ]
  },
  {
   "cell_type": "markdown",
   "id": "e1323079-6429-4ed9-a4cb-c0efd671cbe0",
   "metadata": {},
   "source": [
    "### Set has another datatype known as update which actually updates an set with the new elements. \n",
    "#### the differnece between union and update is that in union function it wouyld actually create a new set by cmbining both sets whereas the update function won't create a new set but instead would update an exisiting set."
   ]
  },
  {
   "cell_type": "code",
   "execution_count": 22,
   "id": "446666d1-7a27-4989-9b63-6c76f1df4c93",
   "metadata": {},
   "outputs": [
    {
     "name": "stdout",
     "output_type": "stream",
     "text": [
      "{1, 2, 3, 4, 5, 6, 7, 8, 9, 10, 11, 12, 13}\n"
     ]
    }
   ],
   "source": [
    "set1={1,2,3,4,5,6,7,8,8}\n",
    "set1.update({1,2,3,4,9,10,11,12,13})\n",
    "print(set1)"
   ]
  },
  {
   "cell_type": "markdown",
   "id": "3e92e63a-aff6-439e-978f-8b8aa00a9694",
   "metadata": {},
   "source": [
    "## ANSWER TO QUESTION 5:"
   ]
  },
  {
   "cell_type": "markdown",
   "id": "d842ffbd-6967-4a79-b63d-36b6fd656873",
   "metadata": {},
   "source": [
    " ##### A Dictionary (also known as a hash table or associative array) is a built-in data type that stores a collection of key-value pairs. It is denoted by curly braces {} and consists of keys (unique identifiers) and values (data associated with each key).\n",
    "\n",
    "##### Dictionaries are used to store and manipulate data in a way that is efficient and easy to access"
   ]
  },
  {
   "cell_type": "code",
   "execution_count": 28,
   "id": "173fcbd9-4706-4fdb-8526-6b6acadd8527",
   "metadata": {},
   "outputs": [
    {
     "data": {
      "text/plain": [
       "dict"
      ]
     },
     "execution_count": 28,
     "metadata": {},
     "output_type": "execute_result"
    }
   ],
   "source": [
    "example1={1:'mango',2:'apple',3:'grapes'}\n",
    "type(example1)"
   ]
  },
  {
   "cell_type": "markdown",
   "id": "beccefc3-7c95-497b-a74e-455cb8d67514",
   "metadata": {},
   "source": [
    "##### in the latest version of python (python 3.7), dicitonary is an ordered datatype, whereas im older versions dictionary exisited as unordered datatype. \n",
    "##### which means that in the newerversion the dicitonary with values created are preserved by its index position. whereas in olderversion it is not so."
   ]
  },
  {
   "cell_type": "markdown",
   "id": "41ce0942-5f18-4c69-a0df-d90611a8b196",
   "metadata": {},
   "source": [
    "### ANSWER TO QUESTION 6:"
   ]
  },
  {
   "cell_type": "markdown",
   "id": "05e80541-db92-45a8-a997-20fa3a568d1c",
   "metadata": {},
   "source": [
    "#### Can we create a nested dictionary? If so, please give an example by creating a simple one-level \n",
    "nested dictionary."
   ]
  },
  {
   "cell_type": "markdown",
   "id": "f13c25f0-1a01-4d05-89be-74941d8789de",
   "metadata": {},
   "source": [
    "##### yes it is possible to create a nested dicitonary as dictinary's value supports dicitonary datattype too."
   ]
  },
  {
   "cell_type": "code",
   "execution_count": 34,
   "id": "135c791a-1591-4cbe-9b07-9540f30131c7",
   "metadata": {},
   "outputs": [
    {
     "name": "stdout",
     "output_type": "stream",
     "text": [
      "ramesh\n"
     ]
    }
   ],
   "source": [
    "dict1={1:{'name':'ramesh','age':18,'iq':98},2:{'name':'gopal','age':20,'iq':92},3:{'name':'sridhar','age':22,'iq':90}}\n",
    "print(dict1[1]['name'])"
   ]
  },
  {
   "cell_type": "markdown",
   "id": "0def1bbd-906b-413f-9b7f-43cb373a7578",
   "metadata": {},
   "source": [
    "### ANSWER TO QUESTION 7:"
   ]
  },
  {
   "cell_type": "markdown",
   "id": "5b1cbc48-5e20-4b65-9f89-4aeea8c7c68c",
   "metadata": {},
   "source": [
    "#### Using setdefault() method, create key named topics in the given dictionary and also add the value of \n",
    "#### the key as this list ['Python', 'Machine Learning’, 'Deep Learning']\n",
    "#### dict1 = {'language' : 'Python', 'course': 'Data Science Masters'"
   ]
  },
  {
   "cell_type": "code",
   "execution_count": 37,
   "id": "c745b927-6aff-41a3-93ee-d3b7a0d4e96f",
   "metadata": {},
   "outputs": [
    {
     "name": "stdout",
     "output_type": "stream",
     "text": [
      "{'language': 'Python', 'course': 'Data Science Masters', 'topics': ['Python', 'Machine Learning', 'Deep Learning']}\n"
     ]
    }
   ],
   "source": [
    "dict1 = {'language' : 'Python', 'course': 'Data Science Masters'}\n",
    "dict1.setdefault('topics',['Python', 'Machine Learning', 'Deep Learning'])\n",
    "print(dict1)"
   ]
  },
  {
   "cell_type": "markdown",
   "id": "561de7f0-7832-4f0f-8383-03d003cf72b8",
   "metadata": {},
   "source": [
    "### ANSWER TO QUESTION 8:"
   ]
  },
  {
   "cell_type": "markdown",
   "id": "ca6359f5-d3f5-4da7-b9d4-19ab2d6836ad",
   "metadata": {},
   "source": [
    "#### What are the three view objects in dictionaries? Use the three in-built methods in python to display \n",
    "#### These three view objects for the given dictionary.\n",
    "#### dict1 = {'Sport': 'Cricket' , 'Teams': ['India', 'Australia', 'England', 'South Africa', 'Sri Lanka', 'New Zealand']"
   ]
  },
  {
   "cell_type": "markdown",
   "id": "0cd2a87e-822e-4f1e-b4ab-fd0f707764db",
   "metadata": {},
   "source": [
    "#### The Three Views in Dictionary are:\n",
    "#### 1. key view : viewing the keys of an dictionary ( key() is used)\n",
    "#### 2. value view: viewing the values of an dicitionary (values() is used)\n",
    "#### 3. item view: viewing the enitre items of an dicitionary in a list format(items() is used)"
   ]
  },
  {
   "cell_type": "code",
   "execution_count": 39,
   "id": "bc8e19f7-85ac-4975-b565-9fb2ed786694",
   "metadata": {},
   "outputs": [
    {
     "name": "stdout",
     "output_type": "stream",
     "text": [
      "the keys in dict1 are: dict_keys(['Sport', 'Teams'])\n",
      "the values in dict1 are: dict_values(['Cricket', ['India', 'Australia', 'England', 'South Africa', 'Sri Lanka', 'New Zealand']])\n",
      "the items in dict1 are: dict_items([('Sport', 'Cricket'), ('Teams', ['India', 'Australia', 'England', 'South Africa', 'Sri Lanka', 'New Zealand'])])\n"
     ]
    }
   ],
   "source": [
    "dict1 = {'Sport': 'Cricket' , 'Teams': ['India', 'Australia', 'England', 'South Africa', 'Sri Lanka', 'New Zealand']}\n",
    "key=dict1.keys()\n",
    "value=dict1.values()\n",
    "item=dict1.items()\n",
    "print('the keys in dict1 are:',key)\n",
    "print('the values in dict1 are:',value)\n",
    "print('the items in dict1 are:',item)"
   ]
  },
  {
   "cell_type": "code",
   "execution_count": null,
   "id": "fd4622cd-3698-47f5-9c1c-df9a491658cb",
   "metadata": {},
   "outputs": [],
   "source": []
  }
 ],
 "metadata": {
  "kernelspec": {
   "display_name": "Python 3 (ipykernel)",
   "language": "python",
   "name": "python3"
  },
  "language_info": {
   "codemirror_mode": {
    "name": "ipython",
    "version": 3
   },
   "file_extension": ".py",
   "mimetype": "text/x-python",
   "name": "python",
   "nbconvert_exporter": "python",
   "pygments_lexer": "ipython3",
   "version": "3.11.7"
  }
 },
 "nbformat": 4,
 "nbformat_minor": 5
}

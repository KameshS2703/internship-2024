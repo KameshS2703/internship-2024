{
 "cells": [
  {
   "cell_type": "markdown",
   "id": "3e01aae0-97a2-4eeb-8b8c-a593f8c9e87b",
   "metadata": {},
   "source": [
    "### ANSWER TO QUESTION 1:"
   ]
  },
  {
   "cell_type": "markdown",
   "id": "4fe3586e-21c6-4fc6-aaba-ab761e075c40",
   "metadata": {},
   "source": [
    "###  What is Web Scraping? Why is it Used? Give three areas where Web Scraping is used to get data."
   ]
  },
  {
   "cell_type": "markdown",
   "id": "72b0730d-db18-4a15-8bc5-3ca1e05715ca",
   "metadata": {},
   "source": [
    "#### Web Scrapping is a technique which is used to scrapor get raw data from internet for processing and for furthr predictions. web scrapping is sued in order to directly obtain the data froma a particular website. this would ensure that the dta data colleted are true as it is directly collected from the source . also,this would help us to provide best prediction results \n",
    "#### Web Scrapping is sued in areas such as : 1.Social Media 2.E-Commerce 3.Job Listings"
   ]
  },
  {
   "cell_type": "markdown",
   "id": "ae17789f-3c71-49b7-9274-bf78a83e9584",
   "metadata": {},
   "source": [
    "### ANSWER TO QUESTION 2:"
   ]
  },
  {
   "cell_type": "markdown",
   "id": "4b57a426-a1e2-4093-b20f-3ae24addd115",
   "metadata": {},
   "source": [
    "###  What are the different methods used for Web Scraping?"
   ]
  },
  {
   "cell_type": "markdown",
   "id": "d3bb863b-0361-41d5-bbd7-f48c8df38577",
   "metadata": {},
   "source": [
    "#### There are several methods used for web scraping:\n",
    "\n",
    "#### 1. HTML Parsing: This involves parsing the HTML structure of a webpage to extract data. Libraries like BeautifulSoup and lxml are popular for HTML parsing.\n",
    "\n",
    "#### 2. Regular Expressions: Regular expressions (regex) are used to extract data from web pages by matching patterns in the HTML code.\n",
    "\n",
    "#### 3. CSS Selectors: CSS selectors are used to select and extract data from web pages based on their CSS properties.\n",
    "\n",
    "#### 4. XPath: XPath is a query language used to select and extract data from XML and HTML documents.\n",
    "\n",
    "#### 5. Selenium: Selenium is an automation tool that can be used for web scraping by simulating a web browser to interact with websites.\n",
    "\n",
    "#### 6. Scrapy: Scrapy is a Python framework that provides a flexible way to extract data from websites using spiders and handlers.\n",
    "\n",
    "#### 7. APIs: Some websites provide APIs (Application Programming Interfaces) that allow direct access to their data, making web scraping unnecessary.\n",
    "\n",
    "#### 8. Machine Learning: Machine learning techniques like natural language processing (NLP) and computer vision can be used for web scraping, especially for extracting data from unstructured sources.\n"
   ]
  },
  {
   "cell_type": "markdown",
   "id": "16acaac9-6581-4dac-afa0-7f52e62f9fbc",
   "metadata": {},
   "source": [
    "### ANSWER TO QUESTION 3:"
   ]
  },
  {
   "cell_type": "markdown",
   "id": "a6423192-c664-415d-a5c8-6727d6b23461",
   "metadata": {},
   "source": [
    "### What is Beautiful Soup? Why is it used?"
   ]
  },
  {
   "cell_type": "markdown",
   "id": "54058d55-47f0-4263-a690-09edec74ba8a",
   "metadata": {},
   "source": [
    "#### Beautiful Soup is a Python library used for web scraping and parsing HTML and XML documents. It creates a parse tree from page source code that can be used to extract data in a hierarchical and more readable manner.\n",
    "\n",
    "#### Beautiful Soup is used for:\n",
    "\n",
    "#### 1. Web Scraping: Extracting data from websites, such as text, images, and links.\n",
    "#### 2. Data Mining: Extracting specific data from large amounts of HTML data.\n",
    "#### 3. Data Preprocessing: Cleaning and preparing data for analysis or storage.\n",
    "#### 4. Automation: Automating tasks on websites, such as filling out forms or clicking buttons.\n",
    "\n"
   ]
  },
  {
   "cell_type": "markdown",
   "id": "4a11eaf0-a9a6-4ec6-9f53-700bf575e940",
   "metadata": {},
   "source": [
    "### ANSWER TO QUESTION 4:"
   ]
  },
  {
   "cell_type": "markdown",
   "id": "908b31d6-6f91-4303-8da6-784b08a92c4b",
   "metadata": {},
   "source": [
    "### Why is flask used in this Web Scraping project"
   ]
  },
  {
   "cell_type": "markdown",
   "id": "7ff890e7-30bb-402a-89a8-e807ddf2262a",
   "metadata": {},
   "source": [
    "#### Flask is used to build a web app that:\n",
    "#### Handles requests and extracts data\n",
    "#### Renders scraped data in HTML templates\n",
    "#### Provides an API endpoint for access"
   ]
  },
  {
   "cell_type": "markdown",
   "id": "1b400e89-3e05-4185-946c-dd0610da453e",
   "metadata": {},
   "source": [
    "### ANSWER TO QUESTION 5:"
   ]
  },
  {
   "cell_type": "markdown",
   "id": "275d5174-7909-4e14-bce6-afcbae0862d4",
   "metadata": {},
   "source": [
    "#### Write the names of AWS services used in this project. Also, explain the use of each service."
   ]
  },
  {
   "cell_type": "markdown",
   "id": "0a737e7c-67bb-4c67-9c7c-ac314c4d4b87",
   "metadata": {},
   "source": [
    "##### Elastic Beanstack is used for web scraping project\n",
    "##### 1. Deploy web scraping applications: Elastic Beanstalk allows you to deploy your web scraping application to the cloud, making it accessible and scalable.\n",
    "##### 2. Handle large volumes of data: Elastic Beanstalk provides the infrastructure to handle large volumes of data extracted from web scraping, making it ideal for big data projects.\n",
    "##### 3. Provide a scalable infrastructure: Elastic Beanstalk automatically scales your web scraping application based on demand, ensuring that your application can handle large amounts of data and traffic.\n",
    "\n"
   ]
  },
  {
   "cell_type": "code",
   "execution_count": null,
   "id": "42175988-3d90-4589-8fbf-61777c7cd804",
   "metadata": {},
   "outputs": [],
   "source": []
  }
 ],
 "metadata": {
  "kernelspec": {
   "display_name": "Python 3 (ipykernel)",
   "language": "python",
   "name": "python3"
  },
  "language_info": {
   "codemirror_mode": {
    "name": "ipython",
    "version": 3
   },
   "file_extension": ".py",
   "mimetype": "text/x-python",
   "name": "python",
   "nbconvert_exporter": "python",
   "pygments_lexer": "ipython3",
   "version": "3.11.7"
  }
 },
 "nbformat": 4,
 "nbformat_minor": 5
}

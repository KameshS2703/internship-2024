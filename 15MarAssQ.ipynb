{
 "cells": [
  {
   "cell_type": "markdown",
   "id": "0c5e3cdf-5837-4c27-9c50-96957e30bc3a",
   "metadata": {},
   "source": [
    "### QUESTION 1:"
   ]
  },
  {
   "cell_type": "markdown",
   "id": "d44b84d8-80f0-42a0-974d-1b7ab8b3dc59",
   "metadata": {},
   "source": [
    "#### Explain the following with an example:\n",
    "#### Artificial Intelligence\n",
    "#### Machine Learning\n",
    "#### Deep Learning"
   ]
  },
  {
   "cell_type": "markdown",
   "id": "a36cab2d-f507-4af3-8751-685e5b1f70d1",
   "metadata": {},
   "source": [
    "##### Artificial Intelligence (AI): AI refers to the broader field of research and development aimed at creating machines that can perform tasks that typically require human intelligence\n",
    "##### Example: A virtual assistant like Siri or Alexa is an example of AI. It can understand voice commands, process information, and respond accordingly.\n",
    "##### Machine Learning (ML): ML is a subset of AI that involves training algorithms to learn from data and make predictions or decisions without being explicitly programmed. In other words, ML enables machines to learn from experience and improve their performance over time.\n",
    "\n",
    "##### Example: Image recognition is a classic example of ML. Suppose we want to build a system that can recognize pictures of cats and dogs. We train an ML algorithm on a dataset of labeled images (e.g., \"cat\" or \"dog\"). The algorithm learns to identify patterns in the data and can then recognize new, unseen images.\n",
    "\n",
    "##### Deep Learning (DL): DL is a subset of ML that uses neural networks with multiple layers to learn complex patterns in data. Inspired by the structure and function of the human brain, DL algorithms can learn to recognize images, speech, and text with high accuracy.\n",
    "\n",
    "##### Example: Suppose we want to build a self-driving car that can recognize objects on the road, such as pedestrians, cars, and traffic lights. We use DL algorithms to train a neural network on a large dataset of images and sensor data. The network learns to identify patterns and make decisions in real-time, enabling the car to navigate safely.\n"
   ]
  },
  {
   "cell_type": "markdown",
   "id": "2f2590a9-656b-43ab-8bca-229e0849fadc",
   "metadata": {},
   "source": [
    "### QUESTION 2:"
   ]
  },
  {
   "cell_type": "markdown",
   "id": "b6e30a95-018a-4e89-94ce-a389b9014767",
   "metadata": {},
   "source": [
    "#### What is supervised learning? List some examples of supervised learning"
   ]
  },
  {
   "cell_type": "markdown",
   "id": "8a489919-a376-40a0-bbbd-f30d98c33f6b",
   "metadata": {},
   "source": [
    "##### Supervised learning is a type of machine learning where the algorithm is trained on labeled data, meaning the data is already tagged with the correct output. The algorithm learns to map inputs to outputs based on the labeled examples.\n",
    "\n",
    "##### Here are some simple examples of supervised learning:\n",
    "\n",
    "##### 1. Image classification: Train a model to recognize pictures of cats and dogs.\n",
    "##### 2. Spam detection: Train a model to classify emails as spam or not spam.\n",
    "##### 3. Sentiment analysis: Train a model to determine if a piece of text is positive, negative, or neutral.\n",
    "##### 4. Predicting house prices: Train a model to predict the price of a house based on features like size, location, and number of bedrooms.\n",
    "##### 5. Handwriting recognition: Train a model to recognize handwritten digits or letters.\n"
   ]
  },
  {
   "cell_type": "markdown",
   "id": "9b90cc9c-eed2-4142-adc1-a70bec337ed4",
   "metadata": {},
   "source": [
    "### QUESTION 3:"
   ]
  },
  {
   "cell_type": "markdown",
   "id": "c78e4ecf-6c85-4395-a6b9-32fbb8bb2b17",
   "metadata": {},
   "source": [
    "#### What is unsupervised learning? List some examples of unsupervised learning."
   ]
  },
  {
   "cell_type": "markdown",
   "id": "a826531e-3db3-43b6-b20c-0331a9c3b965",
   "metadata": {},
   "source": [
    "##### Unsupervised learning is a type of machine learning where the algorithm is trained on unlabeled data, meaning the data doesn't have any correct output tags. The algorithm must find patterns, relationships, or groupings within the data on its own.\n",
    "\n",
    "##### Here are some simple examples of unsupervised learning:\n",
    "\n",
    "##### 1. Clustering customers by buying behavior: Group customers with similar purchase habits together.\n",
    "##### 2. Identifying fraud patterns: Find unusual patterns in transaction data that may indicate fraud.\n",
    "##### 3. Organizing documents by topic: Group documents into categories based on their content.\n",
    "##### 4. Image segmentation: Divide an image into regions based on color, texture, or other features.\n"
   ]
  },
  {
   "cell_type": "markdown",
   "id": "6d72373b-2a8d-44ae-bff8-1fc660b64b92",
   "metadata": {},
   "source": [
    "### QUESTION 4:"
   ]
  },
  {
   "cell_type": "markdown",
   "id": "af67e552-8b30-4bf8-b1f4-e9c7bb027687",
   "metadata": {},
   "source": [
    "#### What is the difference between AI, ML, DL, and DS?"
   ]
  },
  {
   "cell_type": "markdown",
   "id": "b08baaf9-c0d0-4647-ade7-1460cd6b6533",
   "metadata": {},
   "source": [
    "##### 1. Artificial Intelligence (AI): AI refers to the broader field of research and development aimed at creating machines that can perform tasks that typically require human intelligence, such as reasoning, problem-solving, and learning.\n",
    "\n",
    "##### 2. Machine Learning (ML): ML is a subset of AI that involves training algorithms to learn from data and make predictions or decisions without being explicitly programmed.\n",
    "\n",
    "##### 3. Deep Learning (DL): DL is a subset of ML that uses neural networks with multiple layers to learn complex patterns in data, enabling accurate predictions, classifications, and more.\n",
    "\n",
    "##### 4. Data Science (DS): DS is an interdisciplinary field that combines aspects of AI, ML, statistics, and domain expertise to extract insights and knowledge from data, often using ML and DL techniques.\n"
   ]
  },
  {
   "cell_type": "markdown",
   "id": "1209bcbb-c8e7-4ad5-a943-898bf89c820e",
   "metadata": {},
   "source": [
    "### QUESTION 5:"
   ]
  },
  {
   "cell_type": "markdown",
   "id": "19f6f03d-65a3-4b83-817b-157c97b3360d",
   "metadata": {},
   "source": [
    "#### : What are the main differences between supervised, unsupervised, and semi-supervised learning?"
   ]
  },
  {
   "cell_type": "markdown",
   "id": "6a08a882-a1ec-4bd7-b847-f0f2c9081774",
   "metadata": {},
   "source": [
    "##### Supervised Learning\n",
    "\n",
    "##### - Labeled data: The algorithm is trained on data with correct output labels.\n",
    "##### - Goal: Learn a mapping between inputs and outputs.\n",
    "##### - Example: Image classification, where the algorithm learns to recognize images of cats and dogs.\n",
    "\n",
    "##### Unsupervised Learning\n",
    "\n",
    "##### - Unlabeled data: The algorithm is trained on data without correct output labels.\n",
    "##### - Goal: Discover patterns, relationships, or groupings within the data.\n",
    "##### - Example: Clustering customers by buying behavior, where the algorithm groups similar customers together.\n",
    "\n",
    "##### Semi-Supervised Learning\n",
    "\n",
    "##### - Partially labeled data: The algorithm is trained on a mix of labeled and unlabeled data.\n",
    "##### - Goal: Improve learning by leveraging both labeled and unlabeled data.\n",
    "##### - Example: Speech recognition, where the algorithm uses labeled audio data and unlabeled text data to improve accuracy.\n"
   ]
  },
  {
   "cell_type": "markdown",
   "id": "c8718a21-e8ab-4ff8-9420-071d591eb074",
   "metadata": {},
   "source": [
    "### QUESTION 6:"
   ]
  },
  {
   "cell_type": "markdown",
   "id": "a1aba9e0-cefe-4649-b768-e6e63ac81bea",
   "metadata": {},
   "source": [
    "#### What is train, test and validation split? Explain the importance of each term"
   ]
  },
  {
   "cell_type": "markdown",
   "id": "25928813-10f0-4171-a633-f88d2e2d4850",
   "metadata": {},
   "source": [
    "##### In machine learning, a dataset is typically split into three parts: training, testing, and validation.\n",
    "\n",
    "##### Training Set (usually 60-80% of the data):\n",
    "\n",
    "##### - Used to train the model, i.e., to learn the relationships between features and target variables.\n",
    "##### - The model sees this data repeatedly during training, adjusting its parameters to minimize errors.\n",
    "\n",
    "##### Testing Set (usually 10-20% of the data):\n",
    "\n",
    "##### - Used to evaluate the model's performance after training.\n",
    "##### - The model hasn't seen this data before, so it's a good indicator of how well the model generalizes to new, unseen data.\n",
    "\n",
    "##### Validation Set (usually 10-20% of the data):\n",
    "\n",
    "##### - Used to tune hyperparameters, select features, or compare different models.\n",
    "##### - The model sees this data during training, but not as extensively as the training set.\n",
    "\n",
    "##### Importance of each term:\n",
    "\n",
    "##### - Training set: Essential for learning relationships in the data.\n",
    "##### - Testing set: Provides an unbiased evaluation of the model's performance.\n",
    "##### - Validation set: Helps prevent overfitting by tuning hyperparameters and selecting features.\n"
   ]
  },
  {
   "cell_type": "markdown",
   "id": "34afb725-88e2-4795-bb73-37eab5c2a877",
   "metadata": {},
   "source": [
    "### QUESTION 7:"
   ]
  },
  {
   "cell_type": "markdown",
   "id": "4c5ec608-4592-4e2f-ba40-5a064c560009",
   "metadata": {},
   "source": [
    "#### How can unsupervised learning be used in anomaly detection?"
   ]
  },
  {
   "cell_type": "markdown",
   "id": "51d36aa6-667f-4f10-bf52-1fa22af92b68",
   "metadata": {},
   "source": [
    "##### Unsupervised learning can be used in anomaly detection in the following ways:\n",
    "\n",
    "##### 1. Clustering: Group similar data points together, and identify points that don't fit into any cluster as anomalies.\n",
    "\n",
    "##### 2. Density-based methods: Identify regions of high density and label points in low-density regions as anomalies.\n",
    "\n",
    "##### 3. Dimensionality reduction: Reduce data dimensions and visualize data to identify anomalies.\n",
    "\n",
    "##### 4. Local Outlier Factor (LOF): Calculate the local density of each point and identify points with low density as anomalies.\n",
    "\n",
    "##### 5. Isolation Forest: Isolate anomalies by building a forest of decision trees, and identify points that are easiest to isolate as anomalies.\n"
   ]
  },
  {
   "cell_type": "markdown",
   "id": "bdb14fab-c99a-4560-b348-d7af33f3f7c0",
   "metadata": {},
   "source": [
    "### QUESTION 8:"
   ]
  },
  {
   "cell_type": "markdown",
   "id": "58d4e28d-9eb2-4091-9c8e-50ef04505b34",
   "metadata": {},
   "source": [
    "####  List down some commonly used supervised learning algorithms and unsupervised learning algorithms."
   ]
  },
  {
   "cell_type": "markdown",
   "id": "ede6ebad-a5df-42be-8b3a-d495209afd91",
   "metadata": {},
   "source": [
    "##### Supervised Learning Algorithms:\n",
    "\n",
    "##### 1. Linear Regression\n",
    "##### 2. Logistic Regression\n",
    "##### 3. Decision Trees\n",
    "##### 4. Random Forest\n",
    "##### 5. Support Vector Machines (SVM)\n",
    "\n",
    "##### Unsupervised Learning Algorithms:\n",
    "\n",
    "##### ##### 1. K-Means Clustering\n",
    "##### 2. Principal Component Analysis (PCA)\n",
    "##### 3. Autoencoders\n",
    "##### 4. Hierarchical Clustering\n",
    "##### 5. DBSCAN"
   ]
  },
  {
   "cell_type": "code",
   "execution_count": null,
   "id": "0b3a37f5-51d5-436e-a9d3-5b48cb897615",
   "metadata": {},
   "outputs": [],
   "source": []
  }
 ],
 "metadata": {
  "kernelspec": {
   "display_name": "Python 3 (ipykernel)",
   "language": "python",
   "name": "python3"
  },
  "language_info": {
   "codemirror_mode": {
    "name": "ipython",
    "version": 3
   },
   "file_extension": ".py",
   "mimetype": "text/x-python",
   "name": "python",
   "nbconvert_exporter": "python",
   "pygments_lexer": "ipython3",
   "version": "3.11.7"
  }
 },
 "nbformat": 4,
 "nbformat_minor": 5
}

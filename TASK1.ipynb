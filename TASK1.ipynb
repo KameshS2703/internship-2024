{
 "cells": [
  {
   "cell_type": "markdown",
   "id": "1772d7a0-4b98-4f87-840e-920aee952270",
   "metadata": {},
   "source": [
    "### Create a function which will take a list as an argument and return the product of all the numbers \n",
    "### after creating a flat list.Use the below-given list as an argument for your function\n",
    "###  list1 = [1,2,3,4, [44,55,66, True], False, (34,56,78,89,34), {1,2,3,3,2,1}, {1:34, \"key2\": [55, 67, 78, 89], 4: (45, \n",
    "22, 61, 34)}, [56, 'dat  science'], 'Machine Learning]'"
   ]
  },
  {
   "cell_type": "code",
   "execution_count": 20,
   "id": "b7ba50ea-836b-4d88-87f2-67a69134e5f9",
   "metadata": {},
   "outputs": [
    {
     "name": "stdout",
     "output_type": "stream",
     "text": [
      "0\n"
     ]
    }
   ],
   "source": [
    "from functools import reduce\n",
    "def task1(argument1):\n",
    "    l=[]\n",
    "    for i in argument1:\n",
    "        if isinstance(i,int):\n",
    "            l.append(i)\n",
    "        elif isinstance(i,list):\n",
    "            for j in i:\n",
    "                if isinstance(j,int):\n",
    "                    l.append(j)\n",
    "        elif isinstance(i,tuple):\n",
    "            for j in i:\n",
    "                if isinstance(j,int):\n",
    "                    l.append(j)\n",
    "        elif isinstance(i,set):\n",
    "            for j in i:\n",
    "                if isinstance(j,int):\n",
    "                    l.append(j)\n",
    "        elif isinstance(i,dict):\n",
    "            for j in i.keys():\n",
    "                if isinstance(j,int):\n",
    "                    l.append(j)\n",
    "            for k in i.values():\n",
    "                if isinstance(k,int):\n",
    "                    l.append(k)\n",
    "                elif isinstance(k,list):\n",
    "                    for m in k:\n",
    "                        if isinstance(m,int):\n",
    "                            l.append(m)\n",
    "                elif isinstance(k,tuple):\n",
    "                    for n in k:\n",
    "                        if isinstance(n,int):\n",
    "                            l.append(n)\n",
    "\n",
    "                else:\n",
    "                    None\n",
    "        else:\n",
    "            None\n",
    "    k=reduce(lambda x,y:x*y,l)\n",
    "    return k\n",
    "\n",
    "\n",
    "list1 = [1,2,3,4, [44,55,66, True], False, (34,56,78,89,34), {1,2,3,3,2,1}, {1:34, \"key2\": [55, 67, 78, 89], 4: (45,\n",
    "22, 61, 34)}, [56, 'dat science'], 'Machine Learning']\n",
    "a=task1(list1)\n",
    "print(a)\n",
    "                    "
   ]
  },
  {
   "cell_type": "markdown",
   "id": "2516642b-c860-49aa-8926-f364c3469696",
   "metadata": {},
   "source": [
    "### Write a python program for encrypting a message sent to you by your friend. The logic of encryption \n",
    "### should be such that, for a the output should be z. For b, the output should be y. For c, the output should \n",
    "### be x respectively. Also, the whitespace should be replaced with a dollar sign. Keep the punctuation \n",
    "### marks unchanged.\n",
    "### Input Sentence: I want to become a Data Scientist.\n",
    "### Encrypt the above input sentence using the program you just created.\n",
    "### Note: Convert the given input sentence into lowercase before encrypting. The final output should be \n",
    "### lowercase"
   ]
  },
  {
   "cell_type": "code",
   "execution_count": 21,
   "id": "6e3b5368-5329-4207-9009-8eaa7de8c296",
   "metadata": {},
   "outputs": [
    {
     "name": "stdout",
     "output_type": "stream",
     "text": [
      "['r', '$', 'd', 'z', 'm', 'g', '$', 'g', 'l', '$', 'y', 'v', 'x', 'l', 'n', 'v', '$', 'z', '$', 'w', 'z', 'g', 'z', '$', 'h', 'x', 'r', 'v', 'm', 'g', 'r', 'h', 'g', '.']\n"
     ]
    }
   ],
   "source": [
    "def encryption(input):\n",
    "    l=[]\n",
    "    j=input.lower()\n",
    "    for i in j:\n",
    "        if i.isalpha():\n",
    "            encrypted=chr(219 - ord(i))\n",
    "            l.append(encrypted)\n",
    "        elif i == ' ':\n",
    "            l.append('$')\n",
    "\n",
    "        else:\n",
    "            l.append(i)\n",
    "\n",
    "    return str(l)\n",
    "\n",
    "a='I want to become a Data Scientist.'\n",
    "b=encryption(a)\n",
    "print(b)\n",
    "    "
   ]
  },
  {
   "cell_type": "code",
   "execution_count": null,
   "id": "6855e5e4-9652-4024-9170-6be248d735ec",
   "metadata": {},
   "outputs": [],
   "source": []
  }
 ],
 "metadata": {
  "kernelspec": {
   "display_name": "Python 3 (ipykernel)",
   "language": "python",
   "name": "python3"
  },
  "language_info": {
   "codemirror_mode": {
    "name": "ipython",
    "version": 3
   },
   "file_extension": ".py",
   "mimetype": "text/x-python",
   "name": "python",
   "nbconvert_exporter": "python",
   "pygments_lexer": "ipython3",
   "version": "3.11.7"
  }
 },
 "nbformat": 4,
 "nbformat_minor": 5
}

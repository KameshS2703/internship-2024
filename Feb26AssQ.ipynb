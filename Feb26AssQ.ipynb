{
 "cells": [
  {
   "cell_type": "code",
   "execution_count": 2,
   "id": "224b1c70-a9bd-4154-aa4b-b197407621f6",
   "metadata": {},
   "outputs": [],
   "source": [
    " import numpy as np\n",
    " list_ = [ '1' , '2' , '3' , '4' , '5' ]\n",
    " array_list = np.array(object = list_)"
   ]
  },
  {
   "cell_type": "markdown",
   "id": "4a83590b-0270-4c19-87c5-7feffbf65d70",
   "metadata": {},
   "source": [
    "### ANSWER TO QUESTION 1:"
   ]
  },
  {
   "cell_type": "markdown",
   "id": "a13ca611-06c8-4bc3-aa24-00c9cfac3350",
   "metadata": {},
   "source": [
    "#### Is there any difference in the data type of variables list_ and array_list? If there is then write a code \n",
    "#### to print the data types of both the variables"
   ]
  },
  {
   "cell_type": "code",
   "execution_count": 13,
   "id": "4e70f100-6e2d-461c-95d5-cd4637152298",
   "metadata": {},
   "outputs": [
    {
     "name": "stdout",
     "output_type": "stream",
     "text": [
      "the type of list_ Variable is: <class 'list'>\n",
      "the type of array_list variable is: <class 'numpy.ndarray'>\n"
     ]
    }
   ],
   "source": [
    "print(\"the type of list_ Variable is:\",type(list_))\n",
    "print(\"the type of array_list variable is:\",type(array_list))"
   ]
  },
  {
   "cell_type": "markdown",
   "id": "a6503f19-1e29-4f5d-81f6-ca5767ef4842",
   "metadata": {},
   "source": [
    "### ANSWER TO QUESTION 2:"
   ]
  },
  {
   "cell_type": "markdown",
   "id": "996c23e3-73b3-4d1f-af03-cb0d83b634be",
   "metadata": {},
   "source": [
    "#### Write a code to print the data type of each and every element of both the variables list_ and \n",
    "#### arra_list"
   ]
  },
  {
   "cell_type": "code",
   "execution_count": 10,
   "id": "5f1195b5-10a7-421e-a7e2-80b67a773255",
   "metadata": {},
   "outputs": [
    {
     "name": "stdout",
     "output_type": "stream",
     "text": [
      "Element= 1 type= <class 'str'>\n",
      "Element= 2 type= <class 'str'>\n",
      "Element= 3 type= <class 'str'>\n",
      "Element= 4 type= <class 'str'>\n",
      "Element= 5 type= <class 'str'>\n"
     ]
    }
   ],
   "source": [
    "for i in list_:\n",
    "    print(\"Element=\",i,\"type=\",type(i))"
   ]
  },
  {
   "cell_type": "code",
   "execution_count": 11,
   "id": "a87fd2aa-ec39-4eeb-9b61-b922d2d753d7",
   "metadata": {},
   "outputs": [
    {
     "name": "stdout",
     "output_type": "stream",
     "text": [
      "Element= 1 type= <class 'numpy.str_'>\n",
      "Element= 2 type= <class 'numpy.str_'>\n",
      "Element= 3 type= <class 'numpy.str_'>\n",
      "Element= 4 type= <class 'numpy.str_'>\n",
      "Element= 5 type= <class 'numpy.str_'>\n"
     ]
    }
   ],
   "source": [
    "for i in array_list:\n",
    "     print(\"Element=\",i,\"type=\",type(i))"
   ]
  },
  {
   "cell_type": "markdown",
   "id": "c44dec3b-9a1c-47eb-b5df-9e645fcc5939",
   "metadata": {},
   "source": [
    "### ANSWER TO QUESTION 3:"
   ]
  },
  {
   "cell_type": "code",
   "execution_count": 14,
   "id": "956fb206-6e41-40b2-8619-77be51c8b231",
   "metadata": {},
   "outputs": [],
   "source": [
    "####  Considering the following changes in the variable, array_list:\n",
    "array_list = np.array(object = list_, dtype = int)\n",
    " \n",
    "#### Will there be any difference in the data type of the elements present in both the variables, list_ and \n",
    "#### arra_list? If so then print the data types of each and every element present in both the variables"
   ]
  },
  {
   "cell_type": "code",
   "execution_count": 15,
   "id": "0749860c-be4b-4702-8b3d-b824472853e8",
   "metadata": {},
   "outputs": [
    {
     "name": "stdout",
     "output_type": "stream",
     "text": [
      "Element= 1 type= <class 'str'>\n",
      "Element= 2 type= <class 'str'>\n",
      "Element= 3 type= <class 'str'>\n",
      "Element= 4 type= <class 'str'>\n",
      "Element= 5 type= <class 'str'>\n"
     ]
    }
   ],
   "source": [
    "for i in list_:\n",
    "    print(\"Element=\",i,\"type=\",type(i))"
   ]
  },
  {
   "cell_type": "code",
   "execution_count": 16,
   "id": "fd8eb206-5aa7-47e6-86e5-b7f9ace98efd",
   "metadata": {},
   "outputs": [
    {
     "name": "stdout",
     "output_type": "stream",
     "text": [
      "Element= 1 type= <class 'numpy.int32'>\n",
      "Element= 2 type= <class 'numpy.int32'>\n",
      "Element= 3 type= <class 'numpy.int32'>\n",
      "Element= 4 type= <class 'numpy.int32'>\n",
      "Element= 5 type= <class 'numpy.int32'>\n"
     ]
    }
   ],
   "source": [
    "for i in array_list:\n",
    "     print(\"Element=\",i,\"type=\",type(i))"
   ]
  },
  {
   "cell_type": "code",
   "execution_count": 17,
   "id": "9c82f9bf-f965-4b07-a3e5-f0fc900ebdff",
   "metadata": {},
   "outputs": [],
   "source": [
    "import numpy as np\n",
    "num_list = [ [ 1 , 2 , 3 ] , [ 4 , 5 , 6 ] ]\n",
    "num_array = np.array(object = num_list)"
   ]
  },
  {
   "cell_type": "markdown",
   "id": "b469d5ec-149d-48b1-8cd2-2bbd969d6289",
   "metadata": {},
   "source": [
    "### ANSWER TO QUESTION 4:"
   ]
  },
  {
   "cell_type": "markdown",
   "id": "b89f16af-c7ce-4e13-81be-4810d40bf484",
   "metadata": {},
   "source": [
    "#### Write a code to find the following characteristics of variable, num_array:\n",
    "#### (i)\t shape\r",
    "####\n",
    " (ii) siez"
   ]
  },
  {
   "cell_type": "code",
   "execution_count": 20,
   "id": "8f87ffdd-a2bf-4a5c-a6cb-1be90f47adc9",
   "metadata": {},
   "outputs": [
    {
     "data": {
      "text/plain": [
       "(2, 3)"
      ]
     },
     "execution_count": 20,
     "metadata": {},
     "output_type": "execute_result"
    }
   ],
   "source": [
    "num_array.shape"
   ]
  },
  {
   "cell_type": "code",
   "execution_count": 21,
   "id": "825ac17e-f903-4828-b3e8-b1d2439dfc7d",
   "metadata": {},
   "outputs": [
    {
     "data": {
      "text/plain": [
       "6"
      ]
     },
     "execution_count": 21,
     "metadata": {},
     "output_type": "execute_result"
    }
   ],
   "source": [
    "num_array.size"
   ]
  },
  {
   "cell_type": "markdown",
   "id": "40ac4d22-4560-485a-8137-0198a245ead4",
   "metadata": {},
   "source": [
    "### ANSWER TO QUESTION 5:"
   ]
  },
  {
   "cell_type": "markdown",
   "id": "5e7bacb7-b203-4806-a934-c178e52e53a3",
   "metadata": {},
   "source": [
    "#### Write a code to create numpy array of 3*3 matrix containing zeros only, using a numpy array \n",
    "#### creation function.\n",
    "#### [Hint: The size of the array will be 9 and the shape will be (3,3)."
   ]
  },
  {
   "cell_type": "code",
   "execution_count": 24,
   "id": "33de12e2-fcce-41bc-b54f-fbbf8af897c7",
   "metadata": {},
   "outputs": [
    {
     "name": "stdout",
     "output_type": "stream",
     "text": [
      "[[0. 0. 0.]\n",
      " [0. 0. 0.]\n",
      " [0. 0. 0.]]\n"
     ]
    }
   ],
   "source": [
    "import numpy as np\n",
    "mat=np.zeros((3,3))\n",
    "print(mat)"
   ]
  },
  {
   "cell_type": "markdown",
   "id": "56f5e953-1929-4d2a-bd64-323f3c5a3762",
   "metadata": {},
   "source": [
    "### ANSWER TO QUESTION 6:"
   ]
  },
  {
   "cell_type": "markdown",
   "id": "1031d957-b989-4fa9-8acf-9a4639e9fcc5",
   "metadata": {},
   "source": [
    "#### Create an identity matrix of shape (5,5) using numpy functions?\n",
    "#### [Hint: An identity matrix is a matrix containing 1 diagonally and other elements will be 0.]"
   ]
  },
  {
   "cell_type": "code",
   "execution_count": 25,
   "id": "373a9310-83d6-45fd-8ac0-7f20f1dc43d0",
   "metadata": {},
   "outputs": [
    {
     "name": "stdout",
     "output_type": "stream",
     "text": [
      "[[1. 0. 0. 0. 0.]\n",
      " [0. 1. 0. 0. 0.]\n",
      " [0. 0. 1. 0. 0.]\n",
      " [0. 0. 0. 1. 0.]\n",
      " [0. 0. 0. 0. 1.]]\n"
     ]
    }
   ],
   "source": [
    "import numpy as np\n",
    "mat=np.identity(5)\n",
    "print(mat)"
   ]
  },
  {
   "cell_type": "code",
   "execution_count": null,
   "id": "be0504d4-c206-4408-a683-357ebeea1419",
   "metadata": {},
   "outputs": [],
   "source": []
  }
 ],
 "metadata": {
  "kernelspec": {
   "display_name": "Python 3 (ipykernel)",
   "language": "python",
   "name": "python3"
  },
  "language_info": {
   "codemirror_mode": {
    "name": "ipython",
    "version": 3
   },
   "file_extension": ".py",
   "mimetype": "text/x-python",
   "name": "python",
   "nbconvert_exporter": "python",
   "pygments_lexer": "ipython3",
   "version": "3.11.7"
  }
 },
 "nbformat": 4,
 "nbformat_minor": 5
}

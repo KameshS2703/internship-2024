{
 "cells": [
  {
   "cell_type": "markdown",
   "id": "09da5d83-b2a2-427e-9151-683a3d63a716",
   "metadata": {},
   "source": [
    "###  You are writing code for a company. The requirement of the company is that you create a python \n",
    "### function that will check whether the password entered by the user is correct or not. The function should \n",
    "### take the password as input and return the string “Valid Password” if the entered password follows the \n",
    "### below-given password guidelines else it should return “Invalid Password”.\n",
    "###  Note: 1. The Password should contain at least two uppercase letters and at least two lowercase letters.\n",
    "###  2. The Password should contain at least a number and three special characters.\n",
    "###  3. The length of the password should be 10 characters long"
   ]
  },
  {
   "cell_type": "code",
   "execution_count": 9,
   "id": "3dec5a9a-a8f7-41b5-9f43-91a8dcbfb35a",
   "metadata": {},
   "outputs": [
    {
     "name": "stdin",
     "output_type": "stream",
     "text": [
      "enter the password ABcd1@#$as\n"
     ]
    },
    {
     "data": {
      "text/plain": [
       "'valid Password'"
      ]
     },
     "execution_count": 9,
     "metadata": {},
     "output_type": "execute_result"
    }
   ],
   "source": [
    "def validate(password):\n",
    "    l=list(password)\n",
    "    uppercase=0\n",
    "    lowercase=0\n",
    "    length=0\n",
    "    number=0\n",
    "    special=0\n",
    "    special_chars = set(\"!@#$%^&*()-_+=[]{};:'\\\"\\\\|<>,./?`~\")\n",
    "    for i  in l:\n",
    "        if i.islower():\n",
    "            lowercase+=1\n",
    "        elif i.isupper():\n",
    "            uppercase+=1\n",
    "        elif i.isdigit():\n",
    "            number+=1\n",
    "        elif i in special_chars:\n",
    "            special+=1\n",
    "        else:\n",
    "            None\n",
    "    if (uppercase>=2) and (lowercase>=2) and (len(l)==10) and (number>=1) and (special>=3):\n",
    "        return \"valid Password\"\n",
    "    else:\n",
    "        return \"Invalid Password\"\n",
    "\n",
    "a=input(\"enter the password\")\n",
    "validate(a)\n"
   ]
  },
  {
   "cell_type": "markdown",
   "id": "cb256f3d-a1b5-42ff-abe9-3c089b3c45f5",
   "metadata": {},
   "source": [
    "###  Solve the below-given questions using at least one of the following: \n",
    "###  1. Lambda function\n",
    "###  2. Filter function\n",
    "###  3. Map function\n",
    "###  4. List Comprehensio\n",
    "###  Check if the string starts with a particular letter\n",
    "###  Check if the string is numeric\n",
    "###  Sort a list of tuples having fruit names and their quantity. [(\"mango\",99),(\"orange\",80), (\"grapes\", 1000)\n",
    "###  Find the squares of numbers from 1 to 10\n",
    "###  Find the cube root of numbers from 1 to 10\n",
    "###  Check if a given number is even\n",
    "###  Filter odd numbers from the given list.\n",
    "###  [1,2,3,4,5,6,7,8,9,10\n",
    "###  Sort a list of integers into positive and negative integers lists.\n",
    "###  [1,2,3,4,5,6,-1,-2,-3,-4,-5,0]"
   ]
  },
  {
   "cell_type": "code",
   "execution_count": 37,
   "id": "148f5065-1140-4c3b-a99d-8b8618f5eb11",
   "metadata": {},
   "outputs": [
    {
     "name": "stdin",
     "output_type": "stream",
     "text": [
      "enter anything sami\n"
     ]
    },
    {
     "name": "stdout",
     "output_type": "stream",
     "text": [
      "ok\n"
     ]
    }
   ],
   "source": [
    "#Check if the string starts with a particular letter\n",
    "a=input(\"enter anything\")\n",
    "b=a.lower()\n",
    "s=(lambda x:\"ok\" if b[0]=='s' else False)(b)\n",
    "print(s)"
   ]
  },
  {
   "cell_type": "code",
   "execution_count": 38,
   "id": "a7c95d85-e128-43ff-a967-23ce596b94fc",
   "metadata": {},
   "outputs": [
    {
     "name": "stdin",
     "output_type": "stream",
     "text": [
      "enter anything 1234\n"
     ]
    },
    {
     "name": "stdout",
     "output_type": "stream",
     "text": [
      "it is numeric\n"
     ]
    }
   ],
   "source": [
    "#Check if the string is numeric\n",
    "a=input(\"enter anything\")\n",
    "b=a.lower()\n",
    "s=(lambda x:\"it is numeric\" if b.isdigit() else \"no\")(b)\n",
    "print(s)"
   ]
  },
  {
   "cell_type": "code",
   "execution_count": 23,
   "id": "ce7a5a8f-1ef0-4a43-9d2c-ab58bb56e7b8",
   "metadata": {},
   "outputs": [
    {
     "name": "stdout",
     "output_type": "stream",
     "text": [
      "[('orange', 80), ('mango', 99), ('grapes', 1000)]\n"
     ]
    }
   ],
   "source": [
    "#Sort a list of tuples having fruit names and their quantity. [(\"mango\",99),(\"orange\",80), (\"grapes\", 1000)]\n",
    "l=[(\"mango\",99),(\"orange\",80), (\"grapes\", 1000)]\n",
    "k=sorted(l,key=lambda x:x[1])\n",
    "print(k)"
   ]
  },
  {
   "cell_type": "code",
   "execution_count": 24,
   "id": "d3f49f03-a5f7-410a-8173-7a3aca1561bc",
   "metadata": {},
   "outputs": [
    {
     "data": {
      "text/plain": [
       "[1, 4, 9, 16, 25, 36, 49, 64, 81, 100]"
      ]
     },
     "execution_count": 24,
     "metadata": {},
     "output_type": "execute_result"
    }
   ],
   "source": [
    "#Find the squares of numbers from 1 to 10\n",
    "l=[1,2,3,4,5,6,7,8,9,10]\n",
    "list(map(lambda x:x**2,l))"
   ]
  },
  {
   "cell_type": "code",
   "execution_count": 27,
   "id": "641d01f3-5276-47d1-8382-0760f17b105f",
   "metadata": {},
   "outputs": [
    {
     "data": {
      "text/plain": [
       "[1.0,\n",
       " 1.2599210498948732,\n",
       " 1.4422495703074083,\n",
       " 1.5874010519681994,\n",
       " 1.7099759466766968,\n",
       " 1.8171205928321397,\n",
       " 1.912931182772389,\n",
       " 2.0,\n",
       " 2.080083823051904,\n",
       " 2.154434690031884]"
      ]
     },
     "execution_count": 27,
     "metadata": {},
     "output_type": "execute_result"
    }
   ],
   "source": [
    "#Find the cube root of numbers from 1 to 10\n",
    "l=[1,2,3,4,5,6,7,8,9,10]\n",
    "list(map(lambda x:x**(1/3),l))"
   ]
  },
  {
   "cell_type": "code",
   "execution_count": 36,
   "id": "e4162269-2538-47da-bfad-5f27400d37b5",
   "metadata": {},
   "outputs": [
    {
     "name": "stdin",
     "output_type": "stream",
     "text": [
      "enter any number 22\n"
     ]
    },
    {
     "name": "stdout",
     "output_type": "stream",
     "text": [
      "yes it's even\n"
     ]
    }
   ],
   "source": [
    "#Check if a given number is even\n",
    "a=int(input(\"enter any number\"))\n",
    "k=(lambda x:\"yes it's even\" if x%2==0 else \"odd\")(a)\n",
    "print(k)"
   ]
  },
  {
   "cell_type": "code",
   "execution_count": 40,
   "id": "efe58c81-b26d-4eca-b352-601f204f28e2",
   "metadata": {},
   "outputs": [
    {
     "data": {
      "text/plain": [
       "[1, 3, 5, 7, 9]"
      ]
     },
     "execution_count": 40,
     "metadata": {},
     "output_type": "execute_result"
    }
   ],
   "source": [
    "#Filter odd numbers from the given list.\n",
    "#[1,2,3,4,5,6,7,8,9,10]\n",
    "l=[1,2,3,4,5,6,7,8,9,10]\n",
    "\n",
    "list(filter(lambda x: x if (x%2)!=0 else None,l))"
   ]
  },
  {
   "cell_type": "code",
   "execution_count": 5,
   "id": "da502fc3-bd08-4e14-8340-0e76cdad212c",
   "metadata": {},
   "outputs": [
    {
     "name": "stdout",
     "output_type": "stream",
     "text": [
      "[1, 2, 3, 4, 5, 6, 0]\n",
      "[-1, -2, -3, -4, -5]\n"
     ]
    }
   ],
   "source": [
    "#Sort a list of integers into positive and negative integers lists.\n",
    "#[1,2,3,4,5,6,-1,-2,-3,-4,-5,0]\n",
    "l=[1,2,3,4,5,6,-1,-2,-3,-4,-5,0]\n",
    "m=[x for x in l if x>=0]\n",
    "n=[x for x in l if x<0]\n",
    "print(m)\n",
    "print(n)"
   ]
  },
  {
   "cell_type": "code",
   "execution_count": null,
   "id": "f8d289fe-5f11-4c3b-a9c0-1ece5da39554",
   "metadata": {},
   "outputs": [],
   "source": []
  }
 ],
 "metadata": {
  "kernelspec": {
   "display_name": "Python 3 (ipykernel)",
   "language": "python",
   "name": "python3"
  },
  "language_info": {
   "codemirror_mode": {
    "name": "ipython",
    "version": 3
   },
   "file_extension": ".py",
   "mimetype": "text/x-python",
   "name": "python",
   "nbconvert_exporter": "python",
   "pygments_lexer": "ipython3",
   "version": "3.11.7"
  }
 },
 "nbformat": 4,
 "nbformat_minor": 5
}

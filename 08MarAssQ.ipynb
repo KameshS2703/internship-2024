{
 "cells": [
  {
   "cell_type": "markdown",
   "id": "ce8006f1-ffdb-402b-8a90-cebce1df5f69",
   "metadata": {},
   "source": [
    "### QUESTION 1:"
   ]
  },
  {
   "cell_type": "markdown",
   "id": "1205069a-a6c0-4ea8-b923-880691ce1ee4",
   "metadata": {},
   "source": [
    "#### What is the Probability density function"
   ]
  },
  {
   "cell_type": "markdown",
   "id": "9e125fc0-16c5-4378-accc-cb9da79a49e6",
   "metadata": {},
   "source": [
    "#### Probability Density Function(PDF) - This Shows The Distribution of Continouous Data. Ex: Height of Students."
   ]
  },
  {
   "cell_type": "markdown",
   "id": "18bd8360-8b54-4891-886e-fff915fd3f27",
   "metadata": {},
   "source": [
    "### QUESTION 2:"
   ]
  },
  {
   "cell_type": "markdown",
   "id": "c19617e9-6843-43d4-9898-e2244642a2be",
   "metadata": {},
   "source": [
    "#### What are the types of Probability distribution?"
   ]
  },
  {
   "cell_type": "markdown",
   "id": "db19ec2a-ee78-491c-8602-4a86c72e13e4",
   "metadata": {},
   "source": [
    "#### Types of Probability Distibution Includes:\n",
    "#### 1. Normal/Gaussian Distribution \n",
    "#### 2. Bernouli Distribution\n",
    "#### 3. Uniform Distribution\n",
    "#### 4. log Normal Distribution\n",
    "#### 5. Poisson Distribution\n",
    "#### 6. Power Law Distribution\n",
    "#### 7. Binomial Distribution"
   ]
  },
  {
   "cell_type": "markdown",
   "id": "fac92234-d092-4826-8e2b-6fc54127912d",
   "metadata": {},
   "source": [
    "### QUESTION 3:"
   ]
  },
  {
   "cell_type": "markdown",
   "id": "55c38344-f8c1-4b98-8a06-55a14b359b69",
   "metadata": {},
   "source": [
    "#### Write a Python function to calculate the probability density function of a normal distribution with \n",
    "#### given mean and standard deviation at a given point."
   ]
  },
  {
   "cell_type": "markdown",
   "id": "d9563f72-c8de-46b4-ad92-eb2026ba7de8",
   "metadata": {},
   "source": [
    "#### Formula of Pdf- (x | μ, σ) = (1/σ√(2π)) * exp(-((x-μ)^2)/(2σ^2))"
   ]
  },
  {
   "cell_type": "code",
   "execution_count": 1,
   "id": "8ab0d4f5-d7cd-494c-b70d-8a0c9f994f67",
   "metadata": {},
   "outputs": [
    {
     "data": {
      "text/plain": [
       "0.24197072451914337"
      ]
     },
     "execution_count": 1,
     "metadata": {},
     "output_type": "execute_result"
    }
   ],
   "source": [
    "import math\n",
    "\n",
    "def normal_pdf(x, mean, std_dev):\n",
    "    exponent = math.exp(-((x - mean) ** 2) / (2 * std_dev ** 2))\n",
    "    denominator = std_dev * math.sqrt(2 * math.pi)\n",
    "    return exponent / denominator\n",
    "normal_pdf(1,0,1)"
   ]
  },
  {
   "cell_type": "markdown",
   "id": "93b0037d-7ab9-4a72-9078-d0d3d572d4e0",
   "metadata": {},
   "source": [
    "### QUESTION 4:"
   ]
  },
  {
   "cell_type": "markdown",
   "id": "8ca439d8-040b-4622-999e-f79e1d2215d4",
   "metadata": {},
   "source": [
    "#### What are the properties of Binomial distribution? Give two examples of events where binomial distribution can be applied"
   ]
  },
  {
   "cell_type": "markdown",
   "id": "d3983962-1db9-43ad-8483-c1e32435c488",
   "metadata": {},
   "source": [
    "#### The properties of the binomial distribution are:\n",
    "\n",
    "##### 1. Number of trials: Fixed and finite (denoted by n)\n",
    "##### 2. Probability of success: Constant and identical for each trial (denoted by p)\n",
    "##### 3. Independence: Trials are independent and do not influence each other\n",
    "##### 4. Discrete outcomes: Only two possible outcomes: success (yes) or failure (no)\n"
   ]
  },
  {
   "cell_type": "markdown",
   "id": "5cf73f66-c8be-4949-b263-0cc0f9df667e",
   "metadata": {},
   "source": [
    "### QUESTION 5:"
   ]
  },
  {
   "cell_type": "markdown",
   "id": "9d4c8b64-6dbe-483a-8771-6caaef17f3be",
   "metadata": {},
   "source": [
    "#### Generate a random sample of size 1000 from a binomial distribution with probability of success 0.4 and plot a histogram of the results using matplotlib"
   ]
  },
  {
   "cell_type": "code",
   "execution_count": 3,
   "id": "28e61bd9-4419-44db-88fd-d95318c02860",
   "metadata": {},
   "outputs": [
    {
     "data": {
      "image/png": "[encoded data removed]",
      "text/plain": [
       "<Figure size 640x480 with 1 Axes>"
      ]
     },
     "metadata": {},
     "output_type": "display_data"
    }
   ],
   "source": [
    "import matplotlib.pyplot as plt\n",
    "import numpy as np\n",
    "p = 0.4\n",
    "n = 10\n",
    "sample = np.random.binomial(n, p, size=1000)\n",
    "\n",
    "# Plot the histogram\n",
    "plt.hist(sample, bins=10, edgecolor='black')\n",
    "plt.title('Binomial Distribution Histogram')\n",
    "plt.xlabel('Number of Successes')\n",
    "plt.ylabel('Frequency')\n",
    "plt.show()\n"
   ]
  },
  {
   "cell_type": "markdown",
   "id": "b56eff0a-1fa9-4628-ba94-15ce58b43add",
   "metadata": {},
   "source": [
    "### QUESTION 6:"
   ]
  },
  {
   "cell_type": "markdown",
   "id": "528302aa-86da-44e5-86ac-474f14b97502",
   "metadata": {},
   "source": [
    "#### Write a Python function to calculate the cumulative distribution function of a Poisson distribution with given mean at a given point"
   ]
  },
  {
   "cell_type": "code",
   "execution_count": 4,
   "id": "8e693001-2960-4f65-a7ed-e5e1c8b57239",
   "metadata": {},
   "outputs": [
    {
     "name": "stdout",
     "output_type": "stream",
     "text": [
      "0.9160820579686966\n"
     ]
    }
   ],
   "source": [
    "import math\n",
    "\n",
    "def poisson_cdf(x, mean):\n",
    "    return sum(math.exp(-mean) * (mean ** i) / math.factorial(i) for i in range(x + 1))\n",
    "\n",
    "mean = 3\n",
    "x = 5\n",
    "print(poisson_cdf(x, mean))\n",
    "\n"
   ]
  },
  {
   "cell_type": "markdown",
   "id": "50930b43-7e89-43f4-aa88-346253c3b055",
   "metadata": {},
   "source": [
    "### QUESTION 7:"
   ]
  },
  {
   "cell_type": "markdown",
   "id": "5ea4faf3-7474-4e37-ab72-5e2602b32daa",
   "metadata": {},
   "source": [
    "#### How Binomial distribution different from Poisson distribution?"
   ]
  },
  {
   "cell_type": "markdown",
   "id": "f0b1ad6f-4651-4e8c-99b4-62957e1d26fd",
   "metadata": {},
   "source": [
    "#### The binomial distribution models the number of successes in a fixed number of independent trials with a constant probability of success, whereas the Poisson distribution models the number of occurrences of an event in a fixed interval with a constant mean rate, without a fixed number of trials."
   ]
  },
  {
   "cell_type": "markdown",
   "id": "4f527d8b-4095-4212-8c3c-e8dcada0798e",
   "metadata": {},
   "source": [
    "### QUESTION 8:"
   ]
  },
  {
   "cell_type": "markdown",
   "id": "e431f232-36d4-48ef-8013-98b10d706597",
   "metadata": {},
   "source": [
    "#### Generate a random sample of size 1000 from a Poisson distribution with mean 5 and calculate the sample mean and variance."
   ]
  },
  {
   "cell_type": "code",
   "execution_count": 5,
   "id": "4c1af214-57f7-4dfc-bb2c-46cdb27023dc",
   "metadata": {},
   "outputs": [
    {
     "name": "stdout",
     "output_type": "stream",
     "text": [
      "Mean: 5\n",
      "Variance: 5\n",
      "Sample Mean: 5.077\n",
      "Sample Variance: 5.1950709999999996\n"
     ]
    }
   ],
   "source": [
    "import numpy as np\n",
    "lambda_ = 5\n",
    "t = 1\n",
    "mean = lambda_ * t\n",
    "print(\"Mean:\", mean)\n",
    "variance = lambda_ * t\n",
    "print(\"Variance:\", variance)\n",
    "sample = np.random.poisson(lambda_, size=1000)\n",
    "sample_mean = np.mean(sample)\n",
    "print(\"Sample Mean:\", sample_mean)\n",
    "sample_variance = np.var(sample)\n",
    "print(\"Sample Variance:\", sample_variance)\n",
    "\n"
   ]
  },
  {
   "cell_type": "markdown",
   "id": "78facad8-1ba3-4162-8289-0540c5d58ca9",
   "metadata": {},
   "source": [
    "### QUESTION 9:"
   ]
  },
  {
   "cell_type": "markdown",
   "id": "39b87670-c412-4af7-b7df-0f6943936953",
   "metadata": {},
   "source": [
    "### How mean and variance are related in Binomial distribution and Poisson distribution?"
   ]
  },
  {
   "cell_type": "markdown",
   "id": "c9737c6e-4900-48f9-8723-cf20e391265e",
   "metadata": {},
   "source": [
    "#### The mean and variance of a Binomial distribution are related as σ² = np(1-p), whereas in a Poisson distribution, the mean and variance are equal, μ = σ² = λt."
   ]
  },
  {
   "cell_type": "markdown",
   "id": "9a17832f-99c2-4775-a56d-41bea708088d",
   "metadata": {},
   "source": [
    "### QUESTION 10:"
   ]
  },
  {
   "cell_type": "markdown",
   "id": "6b90a610-96bf-425a-a439-d44515247cfd",
   "metadata": {},
   "source": [
    "### In normal distribution with respect to mean position, where does the least frequent data appear?"
   ]
  },
  {
   "cell_type": "markdown",
   "id": "71559833-2f90-498e-ac32-f169d42825d6",
   "metadata": {},
   "source": [
    "#### In a normal distribution, the least frequent data appears at the tails, which are the areas farthest away from the mean. Specifically, the data points that are extremely high or extremely low compared to the mean are the least frequent.\n"
   ]
  },
  {
   "cell_type": "code",
   "execution_count": null,
   "id": "2bc8687a-0ced-4da3-af37-5b69be72e2dc",
   "metadata": {},
   "outputs": [],
   "source": []
  }
 ],
 "metadata": {
  "kernelspec": {
   "display_name": "Python 3 (ipykernel)",
   "language": "python",
   "name": "python3"
  },
  "language_info": {
   "codemirror_mode": {
    "name": "ipython",
    "version": 3
   },
   "file_extension": ".py",
   "mimetype": "text/x-python",
   "name": "python",
   "nbconvert_exporter": "python",
   "pygments_lexer": "ipython3",
   "version": "3.11.7"
  }
 },
 "nbformat": 4,
 "nbformat_minor": 5
}

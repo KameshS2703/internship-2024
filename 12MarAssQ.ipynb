{
 "cells": [
  {
   "cell_type": "markdown",
   "id": "aae4c0f8-8db6-4a42-b8a6-d7b191e9be97",
   "metadata": {},
   "source": [
    "### QUESTION 1:"
   ]
  },
  {
   "cell_type": "markdown",
   "id": "0aabc99f-2628-44d9-a212-0535937a9aca",
   "metadata": {},
   "source": [
    "#### Calculate the 95% confidence interval for a sample of data with a mean of 50 and a standard deviation of 5 using Python. Interpret the results"
   ]
  },
  {
   "cell_type": "code",
   "execution_count": 1,
   "id": "59658eaa-bd31-4639-a7b0-e3c35ad4c1f9",
   "metadata": {},
   "outputs": [
    {
     "name": "stdout",
     "output_type": "stream",
     "text": [
      "95% Confidence Interval: (48.30824339312471, 51.69175660687529)\n"
     ]
    }
   ],
   "source": [
    "import numpy as np\n",
    "from scipy import stats\n",
    "\n",
    "# Sample statistics\n",
    "x_bar = 50\n",
    "s = 5\n",
    "n = 36  # Assuming a sample size of 36\n",
    "\n",
    "# Calculate standard error\n",
    "SE = s / np.sqrt(n)\n",
    "\n",
    "# Calculate margin of error\n",
    "ME = stats.t.ppf(0.975, df=n-1) * SE\n",
    "\n",
    "# Calculate confidence interval\n",
    "CI_lower = x_bar - ME\n",
    "CI_upper = x_bar + ME\n",
    "\n",
    "print(\"95% Confidence Interval: ({}, {})\".format(CI_lower, CI_upper))\n"
   ]
  },
  {
   "cell_type": "markdown",
   "id": "babc67bc-c551-4c91-bfd1-f96d2b1b8a48",
   "metadata": {},
   "source": [
    "### QUESTION 2:"
   ]
  },
  {
   "cell_type": "markdown",
   "id": "32c04acd-3210-4d9a-846b-44cdaad76183",
   "metadata": {},
   "source": [
    "#### Conduct a chi-square goodness of fit test to determine if the distribution of colors of M&Ms in a bag \n",
    "#### matches the expected distribution of 20% blue, 20% orange, 20% green, 10% yellow, 10% red, and 20% \n",
    "#### brown. Use Python to perform the test with a significance level of 0.05."
   ]
  },
  {
   "cell_type": "code",
   "execution_count": 4,
   "id": "20cfe23f-353c-467e-abb9-1a391ba857e4",
   "metadata": {},
   "outputs": [
    {
     "name": "stdout",
     "output_type": "stream",
     "text": [
      "Chi-square statistic:  1.55\n",
      "p-value:  0.9072287038000654\n",
      "Fail to reject the null hypothesis. The observed distribution matches the expected distribution.\n"
     ]
    }
   ],
   "source": [
    "import numpy as np\n",
    "from scipy import stats\n",
    "\n",
    "# Observed frequencies\n",
    "observed = np.array([45, 40, 38, 22, 20, 35])\n",
    "\n",
    "# Expected frequencies\n",
    "expected = np.array([40, 40, 40, 20, 20, 40])\n",
    "\n",
    "# Chi-square statistic and p-value\n",
    "chi2, p = stats.chisquare(observed, expected)\n",
    "\n",
    "print(\"Chi-square statistic: \", chi2)\n",
    "print(\"p-value: \", p)\n",
    "\n",
    "# Significance level\n",
    "alpha = 0.05\n",
    "\n",
    "# Interpret results\n",
    "if p < alpha:\n",
    "    print(\"Reject the null hypothesis. The observed distribution does not match the expected distribution.\")\n",
    "else:\n",
    "    print(\"Fail to reject the null hypothesis. The observed distribution matches the expected distribution.\")\n"
   ]
  },
  {
   "cell_type": "markdown",
   "id": "75d3eede-2d1f-4131-939b-ab8c634b1e6d",
   "metadata": {},
   "source": [
    "### QUESTION 3:"
   ]
  },
  {
   "cell_type": "markdown",
   "id": "24ad4705-18e7-4a66-87e3-862ec91729da",
   "metadata": {},
   "source": [
    "#### Use Python to calculate the chi-square statistic and p-value for a contingency table with the following data:"
   ]
  },
  {
   "cell_type": "code",
   "execution_count": 1,
   "id": "c3d11a75-3dac-4b3f-9b40-fbaef88a3c71",
   "metadata": {},
   "outputs": [
    {
     "name": "stdout",
     "output_type": "stream",
     "text": [
      "Chi-square statistic:  5.833333333333334\n",
      "p-value:  0.05411376622282158\n"
     ]
    }
   ],
   "source": [
    "import numpy as np\n",
    "from scipy import stats\n",
    "\n",
    "table = np.array([\n",
    "    [20, 15],\n",
    "    [10, 25],\n",
    "    [15, 20]\n",
    "])\n",
    "\n",
    "chi2, p, dof, expected = stats.chi2_contingency(table)\n",
    "\n",
    "print(\"Chi-square statistic: \", chi2)\n",
    "print(\"p-value: \", p)\n"
   ]
  },
  {
   "cell_type": "markdown",
   "id": "268e4642-d8cf-4c95-bc6f-c0930e9998be",
   "metadata": {},
   "source": [
    "### QUESTION 4:"
   ]
  },
  {
   "cell_type": "markdown",
   "id": "f841ce2e-3e78-464b-b0a5-3493ff0ea89c",
   "metadata": {},
   "source": [
    "####  A study of the prevalence of smoking in a population of 500 individuals found that 60 individuals smoked. Use Python to calculate the 95% confidence interval for the true proportion of individuals in the population who smoke."
   ]
  },
  {
   "cell_type": "code",
   "execution_count": 2,
   "id": "a8e06b99-f799-48e1-a09b-f5d4d3ec1e9e",
   "metadata": {},
   "outputs": [
    {
     "name": "stdout",
     "output_type": "stream",
     "text": [
      "95% Confidence Interval: (0.09151638887130707, 0.1484836111286929)\n"
     ]
    }
   ],
   "source": [
    "import numpy as np\n",
    "from scipy import stats\n",
    "\n",
    "# Sample size\n",
    "n = 500\n",
    "\n",
    "# Number of smokers\n",
    "x = 60\n",
    "\n",
    "# Proportion of smokers\n",
    "p_hat = x / n\n",
    "\n",
    "# Standard error\n",
    "SE = np.sqrt(p_hat * (1 - p_hat) / n)\n",
    "\n",
    "# Margin of error\n",
    "ME = stats.norm.ppf(0.975) * SE\n",
    "\n",
    "# Confidence interval\n",
    "CI_lower = p_hat - ME\n",
    "CI_upper = p_hat + ME\n",
    "\n",
    "print(\"95% Confidence Interval: ({}, {})\".format(CI_lower, CI_upper))\n"
   ]
  },
  {
   "cell_type": "markdown",
   "id": "c5d6622b-6e41-4cb5-85da-aebe151304a3",
   "metadata": {},
   "source": [
    "### QUESTION 5:"
   ]
  },
  {
   "cell_type": "markdown",
   "id": "b2e4052c-eb20-4de2-b951-1969c6c85ac1",
   "metadata": {},
   "source": [
    "#### Calculate the 90% confidence interval for a sample of data with a mean of 75 and a standard deviation of 12 using Python. Interpret the results."
   ]
  },
  {
   "cell_type": "code",
   "execution_count": 4,
   "id": "fc86a360-eeff-4854-9027-8b01fb8354b1",
   "metadata": {},
   "outputs": [
    {
     "name": "stdout",
     "output_type": "stream",
     "text": [
      "90% Confidence Interval: (71.62085509207246, 78.37914490792754)\n"
     ]
    }
   ],
   "source": [
    "import numpy as np\n",
    "from scipy import stats\n",
    "\n",
    "# Sample statistics\n",
    "x_bar = 75\n",
    "s = 12\n",
    "n = 36  # Assuming a sample size of 36\n",
    "\n",
    "# Calculate standard error\n",
    "SE = s / np.sqrt(n)\n",
    "\n",
    "# Calculate margin of error\n",
    "ME = stats.t.ppf(0.95, df=n-1) * SE\n",
    "\n",
    "# Calculate confidence interval\n",
    "CI_lower = x_bar - ME\n",
    "CI_upper = x_bar + ME\n",
    "\n",
    "print(\"90% Confidence Interval: ({}, {})\".format(CI_lower, CI_upper))"
   ]
  },
  {
   "cell_type": "markdown",
   "id": "1c589324-3783-4519-9dbb-ea2abc51292b",
   "metadata": {},
   "source": [
    "### QUESTION 6:"
   ]
  },
  {
   "cell_type": "markdown",
   "id": "0d573515-adad-4f66-b8a1-05b7be6ccafd",
   "metadata": {},
   "source": [
    "#### Use Python to plot the chi-square distribution with 10 degrees of freedom. Label the axes and shade the area corresponding to a chi-square statistic of 15."
   ]
  },
  {
   "cell_type": "code",
   "execution_count": 5,
   "id": "b5277310-defc-4f68-86c9-730ee4f8b71d",
   "metadata": {},
   "outputs": [
    {
     "data": {
      "image/png": "[encoded data removed]",
      "text/plain": [
       "<Figure size 640x480 with 1 Axes>"
      ]
     },
     "metadata": {},
     "output_type": "display_data"
    }
   ],
   "source": [
    "import numpy as np\n",
    "import matplotlib.pyplot as plt\n",
    "from scipy.stats import chi2\n",
    "\n",
    "# Degrees of freedom\n",
    "df = 10\n",
    "\n",
    "# Chi-square statistic\n",
    "x = np.linspace(0, 30, 1000)\n",
    "y = chi2.pdf(x, df)\n",
    "\n",
    "# Plot the chi-square distribution\n",
    "plt.plot(x, y)\n",
    "\n",
    "# Shade the area corresponding to a chi-square statistic of 15\n",
    "plt.fill_between(x, y, where=(x >= 15), color='lightblue')\n",
    "\n",
    "# Label the axes\n",
    "plt.xlabel('Chi-square statistic')\n",
    "plt.ylabel('Probability density')\n",
    "\n",
    "# Show the plot\n",
    "plt.show()\n"
   ]
  },
  {
   "cell_type": "markdown",
   "id": "66a0cd56-57a5-4518-b2ab-af676e86b0b2",
   "metadata": {},
   "source": [
    "### QUESTION 7:"
   ]
  },
  {
   "cell_type": "markdown",
   "id": "9aae6828-a1c3-43b5-8cc8-41a27d018c98",
   "metadata": {},
   "source": [
    "####  A random sample of 1000 people was asked if they preferred Coke or Pepsi. Of the sample, 520 preferred Coke. Calculate a 99% confidence interval for the true proportion of people in the population who prefer Coke"
   ]
  },
  {
   "cell_type": "code",
   "execution_count": 6,
   "id": "f8acf6ac-6b22-47a7-a8ce-778d863fac33",
   "metadata": {},
   "outputs": [
    {
     "name": "stdout",
     "output_type": "stream",
     "text": [
      "99% Confidence Interval: (0.4793051576779699, 0.5606948423220302)\n"
     ]
    }
   ],
   "source": [
    "import numpy as np\n",
    "from scipy import stats\n",
    "\n",
    "# Sample size\n",
    "n = 1000\n",
    "\n",
    "# Number of people who prefer Coke\n",
    "x = 520\n",
    "\n",
    "# Proportion of people who prefer Coke\n",
    "p_hat = x / n\n",
    "\n",
    "# Standard error\n",
    "SE = np.sqrt(p_hat * (1 - p_hat) / n)\n",
    "\n",
    "# Margin of error\n",
    "ME = stats.norm.ppf(0.995) * SE\n",
    "\n",
    "# Confidence interval\n",
    "CI_lower = p_hat - ME\n",
    "CI_upper = p_hat + ME\n",
    "\n",
    "print(\"99% Confidence Interval: ({}, {})\".format(CI_lower, CI_upper))\n",
    "\n"
   ]
  },
  {
   "cell_type": "markdown",
   "id": "64dd1837-ef3a-432f-9883-4f8bc5254110",
   "metadata": {},
   "source": [
    "### QUESTION 8:"
   ]
  },
  {
   "cell_type": "markdown",
   "id": "ac659281-6528-44fa-a411-7b1c15138083",
   "metadata": {},
   "source": [
    "#### A researcher hypothesizes that a coin is biased towards tails. They flip the coin 100 times and observe 45 tails. Conduct a chi-square goodness of fit test to determine if the observed frequencies match the expected frequencies of a fair coin. Use a significance level of 0.05."
   ]
  },
  {
   "cell_type": "code",
   "execution_count": 7,
   "id": "baf4cab0-8fe2-4f32-93ed-4a78b90778ed",
   "metadata": {},
   "outputs": [
    {
     "name": "stdout",
     "output_type": "stream",
     "text": [
      "Chi-square statistic:  1.0\n",
      "p-value:  0.31731050786291115\n",
      "Fail to reject the null hypothesis. The observed frequencies match the expected frequencies of a fair coin.\n"
     ]
    }
   ],
   "source": [
    "import numpy as np\n",
    "from scipy import stats\n",
    "\n",
    "# Observed frequencies\n",
    "observed = np.array([55, 45])  # Heads, Tails\n",
    "\n",
    "# Expected frequencies (fair coin)\n",
    "expected = np.array([50, 50])  # Heads, Tails\n",
    "\n",
    "# Chi-square statistic and p-value\n",
    "chi2, p = stats.chisquare(observed, expected)\n",
    "\n",
    "print(\"Chi-square statistic: \", chi2)\n",
    "print(\"p-value: \", p)\n",
    "\n",
    "# Significance level\n",
    "alpha = 0.05\n",
    "\n",
    "# Interpret results\n",
    "if p < alpha:\n",
    "    print(\"Reject the null hypothesis. The observed frequencies do not match the expected frequencies of a fair coin.\")\n",
    "else:\n",
    "    print(\"Fail to reject the null hypothesis. The observed frequencies match the expected frequencies of a fair coin.\")\n"
   ]
  },
  {
   "cell_type": "markdown",
   "id": "d83ce6ed-7add-4588-841e-34c8ab4ebcc2",
   "metadata": {},
   "source": [
    "### QUESTION 9:"
   ]
  },
  {
   "cell_type": "markdown",
   "id": "7349e9c0-318e-45a4-b671-8f9b0995270a",
   "metadata": {},
   "source": [
    "#### A study was conducted to determine if there is an association between smoking status (smoker or non-smoker) and lung cancer diagnosis (yes or no). The results are shown in the contingency table below. Conduct a chi-square test for independence to determine if there is a significant association between smoking status and lung cancer diagnosis.Use a significance level of 0.05"
   ]
  },
  {
   "cell_type": "code",
   "execution_count": 8,
   "id": "a2b49d8d-890e-44ec-af2e-7dab7e194f27",
   "metadata": {},
   "outputs": [
    {
     "name": "stdout",
     "output_type": "stream",
     "text": [
      "Chi-square statistic:  12.057347670250895\n",
      "p-value:  0.0005158863863703744\n",
      "Reject the null hypothesis. There is a significant association between smoking status and lung cancer diagnosis.\n"
     ]
    }
   ],
   "source": [
    "import numpy as np\n",
    "from scipy import stats\n",
    "\n",
    "# Contingency table\n",
    "table = np.array([\n",
    "    [60, 140],  # Smoker\n",
    "    [30, 170]   # Non-smoker\n",
    "])\n",
    "\n",
    "# Chi-square statistic and p-value\n",
    "chi2, p, dof, expected = stats.chi2_contingency(table)\n",
    "\n",
    "print(\"Chi-square statistic: \", chi2)\n",
    "print(\"p-value: \", p)\n",
    "\n",
    "# Significance level\n",
    "alpha = 0.05\n",
    "\n",
    "# Interpret results\n",
    "if p < alpha:\n",
    "    print(\"Reject the null hypothesis. There is a significant association between smoking status and lung cancer diagnosis.\")\n",
    "else:\n",
    "    print(\"Fail to reject the null hypothesis. There is no significant association between smoking status and lung cancer diagnosis.\")\n",
    "\n",
    "\n"
   ]
  },
  {
   "cell_type": "markdown",
   "id": "dd400549-e243-426f-ac13-227d4feb2a60",
   "metadata": {},
   "source": [
    "### QUESTION 10:"
   ]
  },
  {
   "cell_type": "markdown",
   "id": "2b5eef87-5a2a-4cee-8be7-80c9776aea2a",
   "metadata": {},
   "source": [
    "####  A study was conducted to determine if the proportion of people who prefer milk chocolate, dark chocolate, or white chocolate is different in the U.S. versus the U.K. A random sample of 500 people from the U.S. and a random sample of 500 people from the U.K. were surveyed. The results are shown in the contingency table below. Conduct a chi-square test for independence to determine if there is a significant association between chocolate preference and country of origin.Use a significance level of 0.01."
   ]
  },
  {
   "cell_type": "code",
   "execution_count": 9,
   "id": "053a8bf9-63ad-41ab-81b9-0c0cdb4b8b10",
   "metadata": {},
   "outputs": [
    {
     "name": "stdout",
     "output_type": "stream",
     "text": [
      "Chi-square statistic:  104.03146043771044\n",
      "p-value:  2.5695400653893373e-23\n",
      "Reject the null hypothesis. There is a significant association between chocolate preference and country of origin.\n"
     ]
    }
   ],
   "source": [
    "import numpy as np\n",
    "from scipy import stats\n",
    "\n",
    "# Contingency table\n",
    "table = np.array([\n",
    "    [200, 175],  # Milk Chocolate\n",
    "    [150, 225],  # Dark Chocolate\n",
    "    [10, 150]    # White Chocolate\n",
    "])\n",
    "\n",
    "# Chi-square statistic and p-value\n",
    "chi2, p, dof, expected = stats.chi2_contingency(table)\n",
    "\n",
    "print(\"Chi-square statistic: \", chi2)\n",
    "print(\"p-value: \", p)\n",
    "\n",
    "# Significance level\n",
    "alpha = 0.01\n",
    "\n",
    "# Interpret results\n",
    "if p < alpha:\n",
    "    print(\"Reject the null hypothesis. There is a significant association between chocolate preference and country of origin.\")\n",
    "else:\n",
    "    print(\"Fail to reject the null hypothesis. There is no significant association between chocolate preference and country of origin.\")\n",
    "\n"
   ]
  },
  {
   "cell_type": "markdown",
   "id": "a4b7cb96-53c3-4b6e-b35d-a92f333f3ad2",
   "metadata": {},
   "source": [
    "### QUESTION 11:"
   ]
  },
  {
   "cell_type": "markdown",
   "id": "d246e357-d541-457b-880b-9472be694a03",
   "metadata": {},
   "source": [
    "#### A random sample of 30 people was selected from a population with an unknown mean and standard deviation. The sample mean was found to be 72 and the sample standard deviation was found to be 10. Conduct a hypothesis test to determine if the population mean is significantly different from 70. Use a significance level of 0.05"
   ]
  },
  {
   "cell_type": "code",
   "execution_count": 10,
   "id": "fbaeb88f-f11f-46a6-b479-7e4ee398dd28",
   "metadata": {},
   "outputs": [
    {
     "name": "stdout",
     "output_type": "stream",
     "text": [
      "t-statistic:  inf\n",
      "p-value:  0.0\n",
      "Reject the null hypothesis. The population mean is significantly different from 70.\n"
     ]
    },
    {
     "name": "stderr",
     "output_type": "stream",
     "text": [
      "C:\\ProgramData\\anaconda3\\Lib\\site-packages\\scipy\\stats\\_axis_nan_policy.py:523: RuntimeWarning: Precision loss occurred in moment calculation due to catastrophic cancellation. This occurs when the data are nearly identical. Results may be unreliable.\n",
      "  res = hypotest_fun_out(*samples, **kwds)\n"
     ]
    }
   ],
   "source": [
    "import numpy as np\n",
    "from scipy import stats\n",
    "\n",
    "# Sample statistics\n",
    "x_bar = 72\n",
    "s = 10\n",
    "n = 30\n",
    "\n",
    "# Null hypothesis\n",
    "mu = 70\n",
    "\n",
    "# Test statistic and p-value\n",
    "t, p = stats.ttest_1samp(np.repeat(x_bar, n), mu)\n",
    "\n",
    "print(\"t-statistic: \", t)\n",
    "print(\"p-value: \", p)\n",
    "\n",
    "# Significance level\n",
    "alpha = 0.05\n",
    "\n",
    "# Interpret results\n",
    "if p < alpha:\n",
    "    print(\"Reject the null hypothesis. The population mean is significantly different from 70.\")\n",
    "else:\n",
    "    print(\"Fail to reject the null hypothesis. The population mean is not significantly different from 70.\")\n",
    "\n"
   ]
  },
  {
   "cell_type": "code",
   "execution_count": null,
   "id": "6f36d39b-cbf9-4e0f-8df4-339caf99496d",
   "metadata": {},
   "outputs": [],
   "source": []
  }
 ],
 "metadata": {
  "kernelspec": {
   "display_name": "Python 3 (ipykernel)",
   "language": "python",
   "name": "python3"
  },
  "language_info": {
   "codemirror_mode": {
    "name": "ipython",
    "version": 3
   },
   "file_extension": ".py",
   "mimetype": "text/x-python",
   "name": "python",
   "nbconvert_exporter": "python",
   "pygments_lexer": "ipython3",
   "version": "3.11.7"
  }
 },
 "nbformat": 4,
 "nbformat_minor": 5
}

{
 "cells": [
  {
   "cell_type": "markdown",
   "id": "c415333d-86a3-4b87-828d-106810629b7b",
   "metadata": {},
   "source": [
    "### ANSWER TO QUESTION 1:"
   ]
  },
  {
   "cell_type": "markdown",
   "id": "3775b5ef-e0b0-4887-bfad-e4721f1a3067",
   "metadata": {},
   "source": [
    "#### What is multithreading in python? Why is it used? Name the module used to handle threads in python."
   ]
  },
  {
   "cell_type": "markdown",
   "id": "fb8d7c07-0c97-4ad5-9f0f-ec52c2234210",
   "metadata": {},
   "source": [
    "#### consider we have a qaud core computer . where we have 4 processorrs. here we are executing program1 in processor1,program2 in processor2, similarly program 3&4 in processor 3&4. here,suppose we need to execute program1 in pprocessor1 for multiple times means there were thrrerading concept comes into play."
   ]
  },
  {
   "cell_type": "markdown",
   "id": "dc379420-506e-43a3-8431-5386bd59e01f",
   "metadata": {},
   "source": [
    "#### we use threading library to perform multi-threading concept."
   ]
  },
  {
   "cell_type": "markdown",
   "id": "9de4630a-d01c-4f87-8413-093b2bf0f39e",
   "metadata": {},
   "source": [
    "### ANSWER TO QUESTION 2:"
   ]
  },
  {
   "cell_type": "markdown",
   "id": "f8743ee6-2cac-4814-991f-81ff0aa451e6",
   "metadata": {},
   "source": [
    "### Why threading module used? Write the use of the following functions\n",
    "#### 1.activeCount()\n",
    "#### 2.currentThread()\n",
    "#### 3.enumerate()"
   ]
  },
  {
   "cell_type": "markdown",
   "id": "23b1aa5c-e4c0-4d2c-b350-8bb4fc65e6c2",
   "metadata": {},
   "source": [
    "#### The threading module in Python is used to create and manage multiple threads within a program. Threads are lightweight processes that can run concurrently, improving the overall performance and responsiveness of the program.\n"
   ]
  },
  {
   "cell_type": "markdown",
   "id": "322c1a41-6e31-4cc7-8784-0440d932120a",
   "metadata": {},
   "source": [
    "#### 1.activecount() - Returns the number of active threads. This function is useful for monitoring the number of threads currently executing.\n",
    "#### 2.currentthread() - Returns the current thread object. This function is useful for getting the current thread's identity, name, or other attributes.\n",
    "#### 3.enumerate(): Returns a list of all active threads. This function is useful for iterating over all threads and performing some action on each thread.\n"
   ]
  },
  {
   "cell_type": "markdown",
   "id": "21c95cd9-72eb-4271-80f7-ca018024cbec",
   "metadata": {},
   "source": [
    "### ANSWER TO QUESTION 3:"
   ]
  },
  {
   "cell_type": "markdown",
   "id": "6f4f7d05-ed4c-4a3d-b288-557b9b355f66",
   "metadata": {},
   "source": [
    "#### Explain the following functions\n",
    "#### 1.run()\n",
    "#### 2.start()\n",
    "#### 3.join()\n",
    "#### 4.isAlive()"
   ]
  },
  {
   "cell_type": "markdown",
   "id": "30074fa9-bf80-4adc-8cec-facf03f29a03",
   "metadata": {},
   "source": [
    "#### - run(): This method is called when a thread is started. It contains the code that the thread will execute. You can override this method in a subclass of Thread to define the thread's behavior.\n",
    "#### - start(): This method starts the thread's activity. It calls the run() method and makes the thread eligible to run.\n",
    "#### - join():This method waits until the thread terminates. It blocks the calling thread until the thread whose join() method is called terminates.\n",
    "#### - isAlive(): This method returns whether the thread is still executing. It returns True if the thread is still running and False otherwise.\n",
    "\n",
    "\n"
   ]
  },
  {
   "cell_type": "markdown",
   "id": "9def829a-eb33-416f-95c3-7663291706cd",
   "metadata": {},
   "source": [
    "### ANSWER TO QUESTION 4:"
   ]
  },
  {
   "cell_type": "markdown",
   "id": "73d565d4-764b-454a-9a41-454407c905f5",
   "metadata": {},
   "source": [
    "#### Write a python program to create two threads. Thread one must print the list of squares and thread \n",
    "#### two must print the list of cubes"
   ]
  },
  {
   "cell_type": "code",
   "execution_count": 8,
   "id": "497ff3ae-1738-4c1b-bc41-9d44b0abd778",
   "metadata": {},
   "outputs": [
    {
     "name": "stdout",
     "output_type": "stream",
     "text": [
      "The square value of 0 is: 0\n",
      "The square value of 1 is: 1\n",
      "The square value of 2 is: 4\n",
      "The square value of 3 is: 9\n",
      "The square value of 4 is: 16\n",
      "The square value of 5 is: 25\n",
      "The square value of 6 is: 36\n",
      "The square value of 7 is: 49\n",
      "The square value of 8 is: 64\n",
      "The square value of 9 is: 81\n",
      "The square value of 10 is: 100\n",
      "The square value of 11 is: 121\n",
      "The square value of 12 is: 144\n",
      "The square value of 13 is: 169\n",
      "The square value of 14 is: 196\n",
      "The square value of 15 is: 225\n",
      "The square value of 16 is: 256\n",
      "The square value of 17 is: 289\n",
      "The square value of 18 is: 324\n",
      "The square value of 19 is: 361\n",
      "The square value of 20 is: 400\n",
      "The square value of 21 is: 441\n",
      "The square value of 22 is: 484\n",
      "The square value of 23 is: 529\n",
      "The square value of 24 is: 576\n",
      "The square value of 25 is: 625\n",
      "The square value of 26 is: 676\n",
      "The square value of 27 is: 729\n",
      "The square value of 28 is: 784\n",
      "The square value of 29 is: 841\n",
      "The square value of 30 is: 900\n",
      "The square value of 31 is: 961\n",
      "The square value of 32 is: 1024\n",
      "The square value of 33 is: 1089\n",
      "The square value of 34 is: 1156\n",
      "The square value of 35 is: 1225\n",
      "The square value of 36 is: 1296\n",
      "The square value of 37 is: 1369\n",
      "The square value of 38 is: 1444\n",
      "The square value of 39 is: 1521\n",
      "The square value of 40 is: 1600\n",
      "The square value of 41 is: 1681\n",
      "The square value of 42 is: 1764\n",
      "The square value of 43 is: 1849\n",
      "The square value of 44 is: 1936\n",
      "The square value of 45 is: 2025\n",
      "The square value of 46 is: 2116\n",
      "The square value of 47 is: 2209\n",
      "The square value of 48 is: 2304\n",
      "The square value of 49 is: 2401\n",
      "The square value of 50 is: 2500\n",
      "The square value of 51 is: 2601\n",
      "The square value of 52 is: 2704\n",
      "The square value of 53 is: 2809\n",
      "The square value of 54 is: 2916\n",
      "The square value of 55 is: 3025\n",
      "The square value of 56 is: 3136\n",
      "The square value of 57 is: 3249\n",
      "The square value of 58 is: 3364\n",
      "The square value of 59 is: 3481\n",
      "The square value of 60 is: 3600\n",
      "The square value of 61 is: 3721\n",
      "The square value of 62 is: 3844\n",
      "The square value of 63 is: 3969\n",
      "The square value of 64 is: 4096\n",
      "The square value of 65 is: 4225\n",
      "The square value of 66 is: 4356\n",
      "The square value of 67 is: 4489\n",
      "The square value of 68 is: 4624\n",
      "The square value of 69 is: 4761\n",
      "The square value of 70 is: 4900\n",
      "The square value of 71 is: 5041\n",
      "The square value of 72 is: 5184\n",
      "The square value of 73 is: 5329\n",
      "The square value of 74 is: 5476\n",
      "The square value of 75 is: 5625\n",
      "The square value of 76 is: 5776\n",
      "The square value of 77 is: 5929\n",
      "The square value of 78 is: 6084\n",
      "The square value of 79 is: 6241\n",
      "The square value of 80 is: 6400\n",
      "The square value of 81 is: 6561\n",
      "The square value of 82 is: 6724\n",
      "The square value of 83 is: 6889\n",
      "The square value of 84 is: 7056\n",
      "The square value of 85 is: 7225\n",
      "The square value of 86 is: 7396\n",
      "The square value of 87 is: 7569\n",
      "The square value of 88 is: 7744\n",
      "The square value of 89 is: 7921\n",
      "The square value of 90 is: 8100\n",
      "The square value of 91 is: 8281\n",
      "The square value of 92 is: 8464\n",
      "The square value of 93 is: 8649\n",
      "The square value of 94 is: 8836\n",
      "The square value of 95 is: 9025\n",
      "The square value of 96 is: 9216\n",
      "The square value of 97 is: 9409\n",
      "The square value of 98 is: 9604\n",
      "The square value of 99 is: 9801\n",
      "The cube value of 0 is: 0\n",
      "The cube value of 1 is: 1\n",
      "The cube value of 2 is: 8\n",
      "The cube value of 3 is: 27\n",
      "The cube value of 4 is: 64\n",
      "The cube value of 5 is: 125\n",
      "The cube value of 6 is: 216\n",
      "The cube value of 7 is: 343\n",
      "The cube value of 8 is: 512\n",
      "The cube value of 9 is: 729\n",
      "The cube value of 10 is: 1000\n",
      "The cube value of 11 is: 1331\n",
      "The cube value of 12 is: 1728\n",
      "The cube value of 13 is: 2197\n",
      "The cube value of 14 is: 2744\n",
      "The cube value of 15 is: 3375\n",
      "The cube value of 16 is: 4096\n",
      "The cube value of 17 is: 4913\n",
      "The cube value of 18 is: 5832\n",
      "The cube value of 19 is: 6859\n",
      "The cube value of 20 is: 8000\n",
      "The cube value of 21 is: 9261\n",
      "The cube value of 22 is: 10648\n",
      "The cube value of 23 is: 12167\n",
      "The cube value of 24 is: 13824\n",
      "The cube value of 25 is: 15625\n",
      "The cube value of 26 is: 17576\n",
      "The cube value of 27 is: 19683\n",
      "The cube value of 28 is: 21952\n",
      "The cube value of 29 is: 24389\n",
      "The cube value of 30 is: 27000\n",
      "The cube value of 31 is: 29791\n",
      "The cube value of 32 is: 32768\n",
      "The cube value of 33 is: 35937\n",
      "The cube value of 34 is: 39304\n",
      "The cube value of 35 is: 42875\n",
      "The cube value of 36 is: 46656\n",
      "The cube value of 37 is: 50653\n",
      "The cube value of 38 is: 54872\n",
      "The cube value of 39 is: 59319\n",
      "The cube value of 40 is: 64000\n",
      "The cube value of 41 is: 68921\n",
      "The cube value of 42 is: 74088\n",
      "The cube value of 43 is: 79507\n",
      "The cube value of 44 is: 85184\n",
      "The cube value of 45 is: 91125\n",
      "The cube value of 46 is: 97336\n",
      "The cube value of 47 is: 103823\n",
      "The cube value of 48 is: 110592\n",
      "The cube value of 49 is: 117649\n",
      "The cube value of 50 is: 125000\n",
      "The cube value of 51 is: 132651\n",
      "The cube value of 52 is: 140608\n",
      "The cube value of 53 is: 148877\n",
      "The cube value of 54 is: 157464\n",
      "The cube value of 55 is: 166375\n",
      "The cube value of 56 is: 175616\n",
      "The cube value of 57 is: 185193\n",
      "The cube value of 58 is: 195112\n",
      "The cube value of 59 is: 205379\n",
      "The cube value of 60 is: 216000\n",
      "The cube value of 61 is: 226981\n",
      "The cube value of 62 is: 238328\n",
      "The cube value of 63 is: 250047\n",
      "The cube value of 64 is: 262144\n",
      "The cube value of 65 is: 274625\n",
      "The cube value of 66 is: 287496\n",
      "The cube value of 67 is: 300763\n",
      "The cube value of 68 is: 314432\n",
      "The cube value of 69 is: 328509\n",
      "The cube value of 70 is: 343000\n",
      "The cube value of 71 is: 357911\n",
      "The cube value of 72 is: 373248\n",
      "The cube value of 73 is: 389017\n",
      "The cube value of 74 is: 405224\n",
      "The cube value of 75 is: 421875\n",
      "The cube value of 76 is: 438976\n",
      "The cube value of 77 is: 456533\n",
      "The cube value of 78 is: 474552\n",
      "The cube value of 79 is: 493039\n",
      "The cube value of 80 is: 512000\n",
      "The cube value of 81 is: 531441\n",
      "The cube value of 82 is: 551368\n",
      "The cube value of 83 is: 571787\n",
      "The cube value of 84 is: 592704\n",
      "The cube value of 85 is: 614125\n",
      "The cube value of 86 is: 636056\n",
      "The cube value of 87 is: 658503\n",
      "The cube value of 88 is: 681472\n",
      "The cube value of 89 is: 704969\n",
      "The cube value of 90 is: 729000\n",
      "The cube value of 91 is: 753571\n",
      "The cube value of 92 is: 778688\n",
      "The cube value of 93 is: 804357\n",
      "The cube value of 94 is: 830584\n",
      "The cube value of 95 is: 857375\n",
      "The cube value of 96 is: 884736\n",
      "The cube value of 97 is: 912673\n",
      "The cube value of 98 is: 941192\n",
      "The cube value of 99 is: 970299\n"
     ]
    }
   ],
   "source": [
    "import threading\n",
    "\n",
    "def squares(n):\n",
    "    result = \"The square value of {} is: {}\".format(n, n**2)\n",
    "    print(result)\n",
    "\n",
    "def cubes(n):\n",
    "    result = \"The cube value of {} is: {}\".format(n, n**3)\n",
    "    print(result)\n",
    "\n",
    "thread1 = [threading.Thread(target=squares, args=(n,)) for n in range(0, 100)]\n",
    "thread2 = [threading.Thread(target=cubes, args=(i,)) for i in range(0, 100)]\n",
    "\n",
    "for t in thread1:\n",
    "    t.start()\n",
    "\n",
    "for t in thread1:\n",
    "    t.join()\n",
    "\n",
    "for t in thread2:\n",
    "    t.start()\n",
    "\n",
    "for t in thread2:\n",
    "    t.join()\n",
    "\n",
    "\n",
    "### if I am printing the result directly from the function call means I need to use print() statement whereas if I am using function call to get an value that is to be used for somewhere in the main program means I need to use return statement\n"
   ]
  },
  {
   "cell_type": "markdown",
   "id": "e4429116-537e-45e7-bc3b-a148c2659ab5",
   "metadata": {},
   "source": [
    "### ANSWER TO QUESTION 5:"
   ]
  },
  {
   "cell_type": "markdown",
   "id": "820b87c2-aae7-4bfc-97db-1511bd29fa0f",
   "metadata": {},
   "source": [
    "####  State advantages and disadvantages of multithreading"
   ]
  },
  {
   "cell_type": "markdown",
   "id": "1f7020ab-e0c0-4620-8ed0-2548f6adfe80",
   "metadata": {},
   "source": [
    "####  Advantages of Multithreading:\n",
    "\n",
    "#### 1. Improved responsiveness: Multithreading allows a program to respond quickly to user input, even if a task is taking a long time to complete.\n",
    "#### 2. Increased throughput: Multithreading can improve the overall processing power of a program by executing multiple tasks concurrently.\n",
    "#### 3. Better system resource utilization: Multithreading allows a program to make efficient use of system resources, such as CPU and memory.\n",
    "#### 4. Simplified program design: Multithreading can simplify program design by allowing tasks to be broken down into smaller, independent threads.\n",
    "#### 5. Improved user experience: Multithreading can improve the user experience by providing a more responsive and interactive program.\n",
    "\n",
    "#### Disadvantages of Multithreading:\n",
    "\n",
    "#### 1. Increased complexity: Multithreading can add complexity to a program, making it harder to design, debug, and maintain.\n",
    "#### 2. Synchronization issues: Multithreading requires synchronization mechanisms to prevent data corruption and other issues, which can be challenging to implement.\n",
    "#### 3. Communication overhead: Communication between threads can introduce overhead, which can impact performance.\n",
    "#### 4. Deadlocks and race conditions: Multithreading can lead to deadlocks and race conditions, which can be difficult to detect and resolve.\n",
    "#### 5. Debugging challenges: Debugging multithreaded programs can be more challenging than debugging single-threaded programs.\n"
   ]
  },
  {
   "cell_type": "markdown",
   "id": "2de46c0a-bcda-42a2-a2cd-3e6878d771ef",
   "metadata": {},
   "source": [
    "### ANSWER TO QUESTION 6:"
   ]
  },
  {
   "cell_type": "markdown",
   "id": "1a0caccd-4ac8-456c-b2df-cb7778a19b0a",
   "metadata": {},
   "source": [
    "### Explain deadlocks and race conditions"
   ]
  },
  {
   "cell_type": "markdown",
   "id": "16e6b3ea-d65d-4704-a818-e9d78f212e71",
   "metadata": {},
   "source": [
    "#### Deadlock:\n",
    "\n",
    "#### A deadlock is a situation where two or more threads are blocked indefinitely, each waiting for the other to release a resource. In other words, each thread is holding a resource and waiting for a resource held by another thread, creating a deadlock.\n"
   ]
  },
  {
   "cell_type": "markdown",
   "id": "792cd6ae-c9cf-446a-a23c-bb8802da178d",
   "metadata": {},
   "source": [
    "#### A race condition occurs when multiple threads access shared resources and try to change them simultaneously, leading to unpredictable behavior. The outcome depends on the order in which the threads execute, which can vary each time the program runs.\n"
   ]
  },
  {
   "cell_type": "code",
   "execution_count": null,
   "id": "257d3861-68cb-4465-9482-4b5007a7c672",
   "metadata": {},
   "outputs": [],
   "source": []
  }
 ],
 "metadata": {
  "kernelspec": {
   "display_name": "Python 3 (ipykernel)",
   "language": "python",
   "name": "python3"
  },
  "language_info": {
   "codemirror_mode": {
    "name": "ipython",
    "version": 3
   },
   "file_extension": ".py",
   "mimetype": "text/x-python",
   "name": "python",
   "nbconvert_exporter": "python",
   "pygments_lexer": "ipython3",
   "version": "3.11.7"
  }
 },
 "nbformat": 4,
 "nbformat_minor": 5
}

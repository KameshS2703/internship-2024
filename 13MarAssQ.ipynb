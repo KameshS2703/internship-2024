{
 "cells": [
  {
   "cell_type": "markdown",
   "id": "f2047b82-5767-4c9a-a25f-a09b11390ae7",
   "metadata": {},
   "source": [
    "### QUESTION 1:"
   ]
  },
  {
   "cell_type": "markdown",
   "id": "47df022a-daae-482e-92fa-c553991a5f22",
   "metadata": {},
   "source": [
    "####  Explain the assumptions required to use ANOVA and provide examples of violations that could impact the validity of the results"
   ]
  },
  {
   "cell_type": "markdown",
   "id": "14ee3476-cbcd-42c7-8e74-f050b431c19e",
   "metadata": {},
   "source": [
    "#### Assumptions in ANOVA:\n",
    "#### ASSUMPTION 1: Normality of Sampling Distirbution of Mean:\n",
    "#### The Distirbution Of Sample Mean is Normally Distirbuted [Gaussian Distribution]\n",
    "#### ASSUMPTION 2: Absence of Outliers:\n",
    "#### Outlying Score Need to be  Removed from dataset.\n",
    "#### ASSUMPTION 3: Homogenity of Variance:\n",
    "#### Population Variance in different levels in each indpendent variable are equal.\n",
    "#### ASSUMPTION 4: Samples are independent and random"
   ]
  },
  {
   "cell_type": "markdown",
   "id": "5291e0cf-578a-43eb-987e-b4b6326f5519",
   "metadata": {},
   "source": [
    "### QUESTION 2:"
   ]
  },
  {
   "cell_type": "markdown",
   "id": "15046ac7-82b0-47b3-a88b-988283c3602d",
   "metadata": {},
   "source": [
    "#### What are the three types of ANOVA, and in what situations would each be used?"
   ]
  },
  {
   "cell_type": "markdown",
   "id": "f791c9e7-f6c9-4368-8de2-69715c05e77b",
   "metadata": {},
   "source": [
    "#### One-Way Anova: One Factor with atleast two levels, where these levels are independent.\n",
    "#### Example: Doctor Wants to test a new medication to decrease headache.they split the participantsin 3 conditions[10mg,20mg,30mg].Doctor ask the participants to rae the headache[1-10]"
   ]
  },
  {
   "cell_type": "markdown",
   "id": "f6d9c669-59ab-495c-a82e-3312e3072d32",
   "metadata": {},
   "source": [
    "#### Repeated measures ANOVA: One Factor with atleast 2 levels,where levels are dependent.\n",
    "#### Example: Considering Running as a Factor, where each day is a level. so it is dependent"
   ]
  },
  {
   "cell_type": "markdown",
   "id": "1c9549f0-0bba-46c7-8c59-3e1b0e6d6cd8",
   "metadata": {},
   "source": [
    "#### Factorial ANOVA: Two or More factors Each of which with atleast 2 Lvels,where Levels are independent or dependent.\n",
    "#### Example: Running -> Factor 1\n",
    "#### Gender --> Factor 2"
   ]
  },
  {
   "cell_type": "markdown",
   "id": "7ca5990a-3081-4996-95d9-5d503bd2c6ac",
   "metadata": {},
   "source": [
    "### QUESTION 3:"
   ]
  },
  {
   "cell_type": "markdown",
   "id": "6b18d17d-0a26-47c3-8cad-58900b4213aa",
   "metadata": {},
   "source": [
    "### What is the partitioning of variance in ANOVA, and why is it important to understand this concept?"
   ]
  },
  {
   "cell_type": "markdown",
   "id": "452b6c8c-608b-4702-8d6c-748d332368fd",
   "metadata": {},
   "source": [
    "##### In ANOVA, the partitioning of variance refers to the process of dividing the total variability in the data into distinct components, each representing a source of variation. These components include:\n",
    "\n",
    "##### 1. Between-group variance (SSB): Variability due to differences between group means.\n",
    "##### 2. Within-group variance (SSW): Variability due to differences within each group.\n",
    "##### 3. Total variance (SST): The sum of SSB and SSW.\n",
    "\n",
    "##### Understanding the partitioning of variance is important:\n",
    "\n",
    "##### 1. Identify sources of variation: Determine whether differences are due to group differences or individual variability.\n",
    "##### 2. Assess effect size: Calculate the proportion of variance explained by each source (e.g., eta-squared).\n",
    "##### 3. Make informed conclusions: Determine whether observed differences are statistically significant and practically meaningful.\n",
    "##### 4. Choose appropriate analyses: Select tests that account for the correct sources of variation (e.g., ANOVA, regression, or non-parametric tests)."
   ]
  },
  {
   "cell_type": "markdown",
   "id": "8962b29a-bcd5-4ccc-9555-e5e70b2bfc7a",
   "metadata": {},
   "source": [
    "### QUESTION 4:"
   ]
  },
  {
   "cell_type": "markdown",
   "id": "923f6655-3609-4edb-95e3-392c1bb05aeb",
   "metadata": {},
   "source": [
    "#### How would you calculate the total sum of squares (SST), explained sum of squares (SSE), and residual sum of squares (SSR) in a one-way ANOVA using Python?"
   ]
  },
  {
   "cell_type": "code",
   "execution_count": 1,
   "id": "18685fab-e132-45af-b07a-08e1b0d1633c",
   "metadata": {},
   "outputs": [
    {
     "name": "stdout",
     "output_type": "stream",
     "text": [
      "SST: 280.0\n",
      "SSE: 250.0\n",
      "SSR: 30.0\n"
     ]
    }
   ],
   "source": [
    "import numpy as np\n",
    "\n",
    "# Sample data\n",
    "group1 = np.array([1, 2, 3, 4, 5])\n",
    "group2 = np.array([6, 7, 8, 9, 10])\n",
    "group3 = np.array([11, 12, 13, 14, 15])\n",
    "\n",
    "# Combine data into a single array\n",
    "data = np.concatenate((group1, group2, group3))\n",
    "\n",
    "# Calculate overall mean\n",
    "grand_mean = np.mean(data)\n",
    "\n",
    "# Calculate SST (Total Sum of Squares)\n",
    "SST = np.sum((data - grand_mean) ** 2)\n",
    "\n",
    "# Calculate SSE (Explained Sum of Squares)\n",
    "group_means = [np.mean(group1), np.mean(group2), np.mean(group3)]\n",
    "SSE = np.sum([len(group) * (group_mean - grand_mean) ** 2 for group, group_mean in zip([group1, group2, group3], group_means)])\n",
    "\n",
    "# Calculate SSR (Residual Sum of Squares)\n",
    "SSR = SST - SSE\n",
    "\n",
    "print(\"SST:\", SST)\n",
    "print(\"SSE:\", SSE)\n",
    "print(\"SSR:\", SSR)\n"
   ]
  },
  {
   "cell_type": "markdown",
   "id": "d62529aa-3716-4da9-8613-755c7964d4af",
   "metadata": {},
   "source": [
    "### QUESTION 5:"
   ]
  },
  {
   "cell_type": "markdown",
   "id": "b8c67957-2d06-466f-b35f-c43380c59252",
   "metadata": {},
   "source": [
    "###  In a two-way ANOVA, how would you calculate the main effects and interaction effects using Python?"
   ]
  },
  {
   "cell_type": "code",
   "execution_count": 2,
   "id": "24192a41-b90e-4b30-8cea-b0413045abfa",
   "metadata": {},
   "outputs": [
    {
     "name": "stdout",
     "output_type": "stream",
     "text": [
      "               sum_sq    df         F    PR(>F)\n",
      "C(A)         0.652077   1.0  0.625195  0.431072\n",
      "C(B)         0.184916   1.0  0.177293  0.674651\n",
      "C(A):C(B)    0.617895   1.0  0.592422  0.443374\n",
      "Residual   100.127775  96.0       NaN       NaN\n"
     ]
    }
   ],
   "source": [
    "import numpy as np\n",
    "import pandas as pd\n",
    "import statsmodels.api as sm\n",
    "from statsmodels.formula.api import ols\n",
    "\n",
    "# Sample data\n",
    "np.random.seed(0)\n",
    "data = pd.DataFrame({\n",
    "    'y': np.random.normal(0, 1, 100),\n",
    "    'A': np.repeat(['A1', 'A2'], 50),\n",
    "    'B': np.tile(['B1', 'B2'], 50)\n",
    "})\n",
    "\n",
    "# Fit the two-way ANOVA model\n",
    "model = ols('y ~ C(A) + C(B) + C(A):C(B)', data=data).fit()\n",
    "\n",
    "# Extract the results\n",
    "anova_table = sm.stats.anova_lm(model, typ=2)\n",
    "print(anova_table)\n"
   ]
  },
  {
   "cell_type": "markdown",
   "id": "aa7f2eaa-ce8b-4098-9743-a86ec7a17c6f",
   "metadata": {},
   "source": [
    "### QUESTION 6:"
   ]
  },
  {
   "cell_type": "markdown",
   "id": "d92da7ae-f5fb-4518-a5eb-f287eeabebcc",
   "metadata": {},
   "source": [
    "#### Suppose you conducted a one-way ANOVA and obtained an F-statistic of 5.23 and a p-value of 0.02. What can you conclude about the differences between the groups, and how would you interpret these results?"
   ]
  },
  {
   "cell_type": "markdown",
   "id": "76bff5f3-6fe8-4ef4-861f-3707f0884302",
   "metadata": {},
   "source": [
    "##### With an F-statistic of 5.23 and a p-value of 0.02, you can conclude that:\n",
    "\n",
    "##### 1. Reject the null hypothesis: The p-value (0.02) is less than the typical significance level (0.05), indicating that you reject the null hypothesis of equal means among groups.\n",
    "##### 2. Significant differences exist: The significant F-statistic (5.23) and p-value suggest that there are statistically significant differences between the means of at least one pair of groups.\n",
    "##### 3. Variability between groups is greater than within groups: The F-statistic measures the ratio of between-group variability to within-group variability. A significant F-statistic indicates that the between-group variability is greater than the within-group variability.\n",
    "\n"
   ]
  },
  {
   "cell_type": "markdown",
   "id": "f0406b97-2c93-4090-96ce-428f6c9a0f5e",
   "metadata": {},
   "source": [
    "### QUESTION 7:"
   ]
  },
  {
   "cell_type": "markdown",
   "id": "f08cf2d4-9c0a-47af-a8b4-d19ad6992edb",
   "metadata": {},
   "source": [
    "####  In a repeated measures ANOVA, how would you handle missing data, and what are the potential consequences of using different methods to handle missing data?"
   ]
  },
  {
   "cell_type": "markdown",
   "id": "94c0aa39-fd90-4c7b-9e03-435d6ab0ea74",
   "metadata": {},
   "source": [
    "##### In a repeated measures ANOVA, missing data can be handled using various methods, each with potential consequences:\n",
    "\n",
    "##### 1. Listwise deletion: Remove participants with missing data.\n",
    "#####     - Consequence: Reduced sample size, potential bias if missingness is systematic.\n",
    "##### 2. Pairwise deletion: Remove only the specific data points that are missing.\n",
    "#####     - Consequence: Unequal sample sizes across time points, potential bias.\n",
    "##### 3. Mean imputation: Replace missing values with the mean of the respective time point.\n",
    "#####     - Consequence: Underestimation of variance, potential bias.\n",
    "##### 4. Regression imputation: Use a regression model to predict missing values.\n",
    "#####     - Consequence: Dependence on the accuracy of the regression model.\n",
    "##### 5. Multiple imputation: Create multiple datasets with imputed values and analyze each dataset separately.\n",
    "#####     - Consequence: Increased complexity, potential for inconsistent results.\n",
    "##### 6. Maximum likelihood estimation: Use a likelihood-based approach to estimate model parameters.\n",
    "#####     - Consequence: Can be computationally intensive, requires specialized software.\n",
    "\n"
   ]
  },
  {
   "cell_type": "markdown",
   "id": "146b9c45-48a4-43c3-926d-090485d73f69",
   "metadata": {},
   "source": [
    "### QUESTION 8:"
   ]
  },
  {
   "cell_type": "markdown",
   "id": "5a528736-2998-425a-b4f4-021aeedfc3ca",
   "metadata": {},
   "source": [
    "#### What are some common post-hoc tests used after ANOVA, and when would you use each one? Provide an example of a situation where a post-hoc test might be necessary."
   ]
  },
  {
   "cell_type": "markdown",
   "id": "c57ad872-e647-4bde-b54d-9c277b3d434e",
   "metadata": {},
   "source": [
    "##### Common post-hoc tests used after ANOVA include:\n",
    "\n",
    "##### 1. Tukey's HSD (Honestly Significant Difference): Compare all possible pairs of means. Use when you want to conduct multiple comparisons without inflating the Type I error rate.\n",
    "##### 2. Scheffé's test: Compare all possible pairs of means, but more conservative than Tukey's. Use when you have a large number of groups or want a more cautious approach.\n",
    "##### 3. Bonferroni test: Compare specific pairs of means, adjusting the significance level for multiple comparisons. Use when you have a small number of planned comparisons.\n",
    "##### 4. Dunnett's test: Compare each group mean to a control group mean. Use when you have a control group and want to compare other groups to it.\n",
    "##### 5. Newman-Keuls test: Compare all possible pairs of means, similar to Tukey's but less conservative. Use when you want a balance between Type I and Type II errors.\n",
    "\n",
    "##### Example situation:\n",
    "\n",
    "##### Suppose you conducted a one-way ANOVA to compare the means of five different teaching methods on student test scores. The ANOVA result indicates a significant difference between the means (F(4, 100) = 6.23, p < 0.001). To determine which specific teaching methods differ, you would use a post-hoc test like Tukey's HSD or Scheffé's test to compare all possible pairs of means.\n",
    "\n",
    "##### For instance, Tukey's HSD might reveal that:\n",
    "\n",
    "##### - Method A differs from Method C (p < 0.01)\n",
    "##### - Method B differs from Method D (p < 0.05)\n",
    "##### - No other significant differences are found\n",
    "\n",
    "##### This post-hoc test helps you understand which specific teaching methods are significantly different from each other, providing more detailed insights than the initial ANOVA result."
   ]
  },
  {
   "cell_type": "markdown",
   "id": "481a5faa-18d5-4409-9ba1-00c3ab8e65ae",
   "metadata": {},
   "source": [
    "### QUESTION 9:"
   ]
  },
  {
   "cell_type": "markdown",
   "id": "a9e7bd99-1fea-4e1c-ac7c-3ac84e0a36fb",
   "metadata": {},
   "source": [
    "#### A researcher wants to compare the mean weight loss of three diets: A, B, and C. They collect data from 50 participants who were randomly assigned to one of the diets. Conduct a one-way ANOVA using Python to determine if there are any significant differences between the mean weight loss of the three diets. Report the F-statistic and p-value, and interpret the results"
   ]
  },
  {
   "cell_type": "code",
   "execution_count": 3,
   "id": "08333340-79d2-413c-a6ed-9706931d3af6",
   "metadata": {},
   "outputs": [
    {
     "name": "stdout",
     "output_type": "stream",
     "text": [
      "F-statistic: 30.63681865623571\n",
      "p-value: 7.554451406356969e-12\n",
      "Significant differences exist between the mean weight loss of the three diets.\n"
     ]
    }
   ],
   "source": [
    "import numpy as np\n",
    "from scipy import stats\n",
    "\n",
    "# Sample data (weight loss in kg)\n",
    "diet_A = np.random.normal(5, 2, 50)\n",
    "diet_B = np.random.normal(7, 2, 50)\n",
    "diet_C = np.random.normal(4, 2, 50)\n",
    "\n",
    "# Combine data into a single array\n",
    "data = np.concatenate((diet_A, diet_B, diet_C))\n",
    "\n",
    "# Create a factor array\n",
    "factor = np.repeat(['A', 'B', 'C'], 50)\n",
    "\n",
    "# Perform one-way ANOVA\n",
    "F, p = stats.f_oneway(diet_A, diet_B, diet_C)\n",
    "\n",
    "print(\"F-statistic:\", F)\n",
    "print(\"p-value:\", p)\n",
    "\n",
    "# Interpret results\n",
    "if p < 0.05:\n",
    "    print(\"Significant differences exist between the mean weight loss of the three diets.\")\n",
    "else:\n",
    "    print(\"No significant differences exist between the mean weight loss of the three diets.\")\n",
    "\n"
   ]
  },
  {
   "cell_type": "markdown",
   "id": "4c338f9c-8a0d-42df-bfcf-f2d0027dd8b5",
   "metadata": {},
   "source": [
    "### QUESTION 10:"
   ]
  },
  {
   "cell_type": "markdown",
   "id": "f0df631c-a14f-42ea-bf71-c489c1dc4bee",
   "metadata": {},
   "source": [
    "#### A company wants to know if there are any significant differences in the average time it takes to complete a task using three different software programs: Program A, Program B, and Program C. They randomly assign 30 employees to one of the programs and record the time it takes each employee to complete the task. Conduct a two-way ANOVA using Python to determine if there are any main effects or interaction effects between the software programs and employee experience level (novice vs. experienced). Report the F-statistics and p-values, and interpret the results."
   ]
  },
  {
   "cell_type": "code",
   "execution_count": 9,
   "id": "ec4283aa-79b6-4cde-9f68-7563e9c05277",
   "metadata": {},
   "outputs": [
    {
     "name": "stdout",
     "output_type": "stream",
     "text": [
      "                          sum_sq    df   F  PR(>F)\n",
      "C(Program)                   NaN   2.0 NaN     NaN\n",
      "C(Experience)                NaN   1.0 NaN     NaN\n",
      "C(Program):C(Experience)     NaN   2.0 NaN     NaN\n",
      "Residual                   882.5  27.0 NaN     NaN\n"
     ]
    },
    {
     "name": "stderr",
     "output_type": "stream",
     "text": [
      "C:\\ProgramData\\anaconda3\\Lib\\site-packages\\statsmodels\\base\\model.py:1888: ValueWarning: covariance of constraints does not have full rank. The number of constraints is 2, but rank is 0\n",
      "  warnings.warn('covariance of constraints does not have full '\n",
      "C:\\ProgramData\\anaconda3\\Lib\\site-packages\\statsmodels\\base\\model.py:1917: RuntimeWarning: invalid value encountered in divide\n",
      "  F /= J\n",
      "C:\\ProgramData\\anaconda3\\Lib\\site-packages\\statsmodels\\base\\model.py:1888: ValueWarning: covariance of constraints does not have full rank. The number of constraints is 1, but rank is 0\n",
      "  warnings.warn('covariance of constraints does not have full '\n",
      "C:\\ProgramData\\anaconda3\\Lib\\site-packages\\statsmodels\\base\\model.py:1888: ValueWarning: covariance of constraints does not have full rank. The number of constraints is 2, but rank is 0\n",
      "  warnings.warn('covariance of constraints does not have full '\n"
     ]
    }
   ],
   "source": [
    "import pandas as pd\n",
    "import statsmodels.api as sm\n",
    "from statsmodels.formula.api import ols\n",
    "\n",
    "\n",
    "data = pd.DataFrame({\n",
    "    'Time': [23, 19, 21, 28, 25, 22, 20, 26, 24, 27, 18, 29, 17, 16, 15, 14, 13, 12, 11, 10, 9, 8, 7, 6, 5, 4, 3, 2, 1, 30],\n",
    "    'Program': ['A', 'A', 'A', 'A', 'A', 'A', 'A', 'A', 'A', 'A', 'A', 'A', 'A', 'A', 'A', 'B', 'B', 'B', 'B', 'B', 'B', 'B', 'B', 'B', 'B', 'B', 'B', 'B', 'C', 'C'],\n",
    "    'Experience': ['Novice', 'Novice', 'Novice', 'Novice', 'Novice', 'Novice', 'Novice', 'Novice', 'Novice', 'Novice', 'Novice', 'Novice', 'Novice', 'Novice', 'Novice', 'Experienced', 'Experienced', 'Experienced', 'Experienced', 'Experienced', 'Experienced', 'Experienced', 'Experienced', 'Experienced', 'Experienced', 'Experienced', 'Experienced', 'Experienced', 'Experienced', 'Experienced']\n",
    "})\n",
    "\n",
    "data.loc[29, 'Experience'] = 'Experienced'\n",
    "\n",
    "\n",
    "data.loc[29, 'Program'] = 'C'\n",
    "\n",
    "\n",
    "\n",
    "model = ols('Time ~ C(Program) + C(Experience) + C(Program):C(Experience)', data=data).fit()\n",
    "anova_table = sm.stats.anova_lm(model, typ=2)\n",
    "\n",
    "print(anova_table)\n"
   ]
  },
  {
   "cell_type": "markdown",
   "id": "97e2bc0f-3631-4033-96a4-8174bc353915",
   "metadata": {},
   "source": [
    "### QUESTION 11:"
   ]
  },
  {
   "cell_type": "markdown",
   "id": "e69f54a5-2a07-4058-8399-fab5616fcfc7",
   "metadata": {},
   "source": [
    "#### An educational researcher is interested in whether a new teaching method improves student test scores. They randomly assign 100 students to either the control group (traditional teaching method) or the experimental group (new teaching method) and administer a test at the end of the semester. Conduct a two-sample t-test using Python to determine if there are any significant differences in test scores between the two groups. If the results are significant, follow up with a post-hoc test to determine which group(s) differ significantly from each other"
   ]
  },
  {
   "cell_type": "code",
   "execution_count": 10,
   "id": "ed27a46a-b0ed-4c98-864e-81a295821652",
   "metadata": {},
   "outputs": [
    {
     "name": "stdout",
     "output_type": "stream",
     "text": [
      "t-statistic: -1.4993046365839777\n",
      "p-value: 0.1370092278565807\n",
      "No significant difference in test scores between the two groups.\n"
     ]
    }
   ],
   "source": [
    " import numpy as np\n",
    "from scipy import stats\n",
    "\n",
    "# Sample data (test scores)\n",
    "control_group = np.random.normal(80, 10, 50)\n",
    "experimental_group = np.random.normal(85, 10, 50)\n",
    "\n",
    "# Perform two-sample t-test\n",
    "t_stat, p_val = stats.ttest_ind(control_group, experimental_group)\n",
    "\n",
    "print(\"t-statistic:\", t_stat)\n",
    "print(\"p-value:\", p_val)\n",
    "\n",
    "# Interpret results\n",
    "if p_val < 0.05:\n",
    "    print(\"Significant difference in test scores between the two groups.\")\n",
    "else:\n",
    "    print(\"No significant difference in test scores between the two groups.\")\n",
    "\n",
    "# Post-hoc test (if significant difference is found)\n",
    "if p_val < 0.05:\n",
    "    print(\"Experimental group mean:\", np.mean(experimental_group))\n",
    "    print(\"Control group mean:\", np.mean(control_group))\n",
    "    if np.mean(experimental_group) > np.mean(control_group):\n",
    "        print(\"Experimental group scores are significantly higher than the control group.\")\n",
    "    else:\n",
    "        print(\"Control group scores are significantly higher than the experimental group.\")\n"
   ]
  },
  {
   "cell_type": "markdown",
   "id": "b9fea325-826c-4c0a-ba62-f8ad6304c133",
   "metadata": {},
   "source": [
    "### QUESTION 12:"
   ]
  },
  {
   "cell_type": "markdown",
   "id": "e9beb31d-6ba6-471f-b9c1-d5eaba3b2a00",
   "metadata": {},
   "source": [
    "#### A researcher wants to know if there are any significant differences in the average daily sales of three retail stores: Store A, Store B, and Store C. They randomly select 30 days and record the sales for each store on those days. Conduct a repeated measures ANOVA using Python to determine if there are any significant differences in sales between the three stores. If the results are significant, follow up with a posthoc test to determine which store(s) differ significantly from each other."
   ]
  },
  {
   "cell_type": "code",
   "execution_count": 11,
   "id": "82bfc2f9-6b42-4a65-8406-e723f8c73da4",
   "metadata": {},
   "outputs": [
    {
     "name": "stdout",
     "output_type": "stream",
     "text": [
      "F-statistic: 7.530852170946736\n",
      "p-value: 0.0009628418875783969\n",
      "Significant difference in sales between the three stores.\n",
      "Store A mean: 96.95076779276638\n",
      "Store B mean: 115.10910917179336\n",
      "Store C mean: 111.80068743944476\n",
      "  Multiple Comparison of Means - Tukey HSD, FWER=0.05  \n",
      "=======================================================\n",
      " group1  group2 meandiff p-adj   lower    upper  reject\n",
      "-------------------------------------------------------\n",
      "Store A Store B  18.1583 0.0013   6.2742 30.0424   True\n",
      "Store A Store C  14.8499 0.0104   2.9658  26.734   True\n",
      "Store B Store C  -3.3084  0.785 -15.1925  8.5757  False\n",
      "-------------------------------------------------------\n"
     ]
    }
   ],
   "source": [
    "import numpy as np\n",
    "from scipy import stats\n",
    "import pandas as pd\n",
    "\n",
    "# Sample data (daily sales)\n",
    "store_a = np.random.normal(100, 20, 30)\n",
    "store_b = np.random.normal(120, 20, 30)\n",
    "store_c = np.random.normal(110, 20, 30)\n",
    "\n",
    "# Combine data into a single array\n",
    "data = np.array([store_a, store_b, store_c]).T\n",
    "\n",
    "# Perform repeated measures ANOVA\n",
    "F, p = stats.f_oneway(store_a, store_b, store_c)\n",
    "\n",
    "print(\"F-statistic:\", F)\n",
    "print(\"p-value:\", p)\n",
    "\n",
    "# Interpret results\n",
    "if p < 0.05:\n",
    "    print(\"Significant difference in sales between the three stores.\")\n",
    "else:\n",
    "    print(\"No significant difference in sales between the three stores.\")\n",
    "\n",
    "# Post-hoc test (if significant difference is found)\n",
    "if p < 0.05:\n",
    "    print(\"Store A mean:\", np.mean(store_a))\n",
    "    print(\"Store B mean:\", np.mean(store_b))\n",
    "    print(\"Store C mean:\", np.mean(store_c))\n",
    "    \n",
    "    # Tukey's HSD post-hoc test\n",
    "    from statsmodels.stats.multicomp import pairwise_tukeyhsd\n",
    "    df = pd.DataFrame(data, columns=['Store A', 'Store B', 'Store C'])\n",
    "    tukey_result = pairwise_tukeyhsd(endog=df.melt().value, groups=df.melt().variable, alpha=0.05)\n",
    "    print(tukey_result)\n"
   ]
  },
  {
   "cell_type": "code",
   "execution_count": null,
   "id": "4ca73bb5-c369-481b-9dc5-c9cd88b1f95c",
   "metadata": {},
   "outputs": [],
   "source": []
  }
 ],
 "metadata": {
  "kernelspec": {
   "display_name": "Python 3 (ipykernel)",
   "language": "python",
   "name": "python3"
  },
  "language_info": {
   "codemirror_mode": {
    "name": "ipython",
    "version": 3
   },
   "file_extension": ".py",
   "mimetype": "text/x-python",
   "name": "python",
   "nbconvert_exporter": "python",
   "pygments_lexer": "ipython3",
   "version": "3.11.7"
  }
 },
 "nbformat": 4,
 "nbformat_minor": 5
}

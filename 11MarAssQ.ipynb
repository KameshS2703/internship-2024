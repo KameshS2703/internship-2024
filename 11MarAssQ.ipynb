{
 "cells": [
  {
   "cell_type": "markdown",
   "id": "2eba12a6-3261-48bf-916a-ee08f5cd93b7",
   "metadata": {},
   "source": [
    "### QUESTION 1:"
   ]
  },
  {
   "cell_type": "markdown",
   "id": "3014500c-0dee-4564-b691-fa0c63714d13",
   "metadata": {},
   "source": [
    "#### What is the difference between a t-test and a z-test? Provide an example scenario where you would \n",
    "#### use each type of test."
   ]
  },
  {
   "cell_type": "markdown",
   "id": "1427829c-61e6-44c6-96b2-dea1b6e5b569",
   "metadata": {},
   "source": [
    "#### - t-test:\n",
    "#### - Used when the population standard deviation (σ) is unknown.\n",
    "#### - Uses the sample standard deviation (s) instead.\n",
    "#### - Assumes a normal distribution or a large enough sample size (n ≥ 30).\n",
    "#### - Has a slightly different formula and critical values compared to z-test.\n",
    "#### - z-test:\n",
    "#### - Used when the population standard deviation (σ) is known.\n",
    "#### - Uses the known population standard deviation (σ).\n",
    "#### - Assumes a normal distribution.\n",
    "\n",
    "#### Example scenarios:\n",
    "\n",
    "#### - t-test:\n",
    "#### - A researcher wants to compare the average scores of two classes on a new exam. The population standard deviation is unknown, but they have a random sample of scores from each class.\n",
    "#### - z-test:\n",
    "#### - A quality control engineer wants to check if the average weight of products from a production line has changed. They know the population standard deviation from historical data and have a random sample of weights.\n"
   ]
  },
  {
   "cell_type": "markdown",
   "id": "30dc9b78-440d-4814-afd5-120ead8eb25d",
   "metadata": {},
   "source": [
    "### QUESTION 2:"
   ]
  },
  {
   "cell_type": "markdown",
   "id": "f92a5296-a25b-4519-80d7-a4f96ce9f575",
   "metadata": {},
   "source": [
    "#### Differentiate between one-tailed and two-tailed tests."
   ]
  },
  {
   "cell_type": "markdown",
   "id": "2d0f1b7d-db9a-4b4d-81c1-01fd9d82adcb",
   "metadata": {},
   "source": [
    "#### One-tailed test:\n",
    "\n",
    "#### - Tests a directional hypothesis (e.g., μ > 0 or μ < 0)\n",
    "#### - Looks for an effect in only one direction\n",
    "#### - Rejection region is on one side of the distribution\n",
    "#### - P-value is calculated for the specified tail only\n",
    "\n",
    "#### Two-tailed test:\n",
    "\n",
    "#### - Tests a non-directional hypothesis (e.g., μ ≠ 0)\n",
    "#### - Looks for an effect in both directions\n",
    "#### - Rejection region is on both sides of the distribution\n",
    "#### - P-value is calculated for both tails\n"
   ]
  },
  {
   "cell_type": "markdown",
   "id": "456ef382-1207-47ab-ab12-dde30717450c",
   "metadata": {},
   "source": [
    "### QUESTION 3:"
   ]
  },
  {
   "cell_type": "markdown",
   "id": "cc6e1b62-f51f-4815-bd2c-88056b885e28",
   "metadata": {},
   "source": [
    "#### Explain the concept of Type 1 and Type 2 errors in hypothesis testing. Provide an example scenario for each type of error."
   ]
  },
  {
   "cell_type": "markdown",
   "id": "12842566-4768-4aaa-8187-e67f333404a5",
   "metadata": {},
   "source": [
    "#### Reality: Null Hypothesis is True or Null Hypothesis is False.\n",
    "#### Decision: Null Hypothesis is True  or Null Hypothesis is False.\n",
    "#### OUTCOME1: We Reject The NUll hypothesis When in Reality it is False(Good)\n",
    "#### OUTCOME2: We Reject The Null Hypothesis When in Reality it is True(Type1 Error)\n",
    "#### OUTCOME3: We Retai The Null Hypothesis When in Reality it is False(Type 2 Error)\n",
    "#### OUTOCME4: We Retai the Null Hypothesis When in Reality it is True(Good)"
   ]
  },
  {
   "cell_type": "markdown",
   "id": "e5052193-d278-4569-ab62-97c1109fc49f",
   "metadata": {},
   "source": [
    "### QUESTION 4:"
   ]
  },
  {
   "cell_type": "markdown",
   "id": "d8b100ec-d58a-497a-af5e-764c5ff05c3f",
   "metadata": {},
   "source": [
    "### Explain Bayes's theorem with an example"
   ]
  },
  {
   "cell_type": "markdown",
   "id": "1ef90f28-416f-4436-87c4-b9333aea4926",
   "metadata": {},
   "source": [
    "#### Bayes's theorem is a mathematical formula for updating the probability of a hypothesis based on new evidence. It's commonly used in statistics, machine learning, and data science.\n",
    "\n",
    "#### The formula is:\n",
    "\n",
    "#### P(H|E) = P(E|H) × P(H) / P(E)\n",
    "\n",
    "#### Where:\n",
    "\n",
    "#### - P(H|E) is the posterior probability of the hypothesis (H) given the evidence (E)\n",
    "#### - P(E|H) is the likelihood of the evidence (E) given the hypothesis (H)\n",
    "#### - P(H) is the prior probability of the hypothesis (H)\n",
    "#### - P(E) is the marginal likelihood of the evidence (E)\n",
    "\n",
    "#### Example:\n",
    "\n",
    "#### Suppose we want to determine the probability that a person has a disease (H) given that they test positive (E) for it. We know:\n",
    "\n",
    "#### - P(H) = 0.01 (1% of the population has the disease, prior probability)\n",
    "#### - P(E|H) = 0.9 (90% of people with the disease test positive, likelihood)\n",
    "#### - P(E) = 0.05 (5% of the population tests positive, marginal likelihood)\n",
    "\n",
    "#### Using Bayes's theorem:\n",
    "\n",
    "#### P(H|E) = P(E|H) × P(H) / P(E)\n",
    "#### = 0.9 × 0.01 / 0.05\n",
    "#### = 0.18\n",
    "\n",
    "\n",
    "\n"
   ]
  },
  {
   "cell_type": "markdown",
   "id": "33892cd8-661b-4bf7-9563-025fb7631ac2",
   "metadata": {},
   "source": [
    "### QUESTION 5:"
   ]
  },
  {
   "cell_type": "markdown",
   "id": "d48edc7f-12d2-4744-a799-ccc578ec6bf2",
   "metadata": {},
   "source": [
    "####  What is a confidence interval? How to calculate the confidence interval, explain with an example."
   ]
  },
  {
   "cell_type": "markdown",
   "id": "f8f4e205-7563-4f1e-ba0f-2e0d8db1f9de",
   "metadata": {},
   "source": [
    "#### A confidence interval (CI) is a range of values that estimates a population parameter with a certain level of confidence. It provides a margin of error around a sample statistic, indicating the reliability of the estimate.\n",
    "\n",
    "#### Suppose we want to estimate the average height of adults in a population with 95% confidence. We take a random sample of 36 adults with a mean height of 175.2 cm and a standard deviation of 5.1 cm.\n",
    "\n",
    "#### 1. Confidence level: 95%\n",
    "#### 2. Sample statistic: x̄ = 175.2 cm\n",
    "#### 3. Standard error (SE): SE = s / √n = 5.1 / √36 ≈ 0.85\n",
    "#### 4. Critical value (z-score): z = 1.96 (for 95% confidence)\n",
    "#### 5. Margin of error (ME): ME = z × SE = 1.96 × 0.85 ≈ 1.67\n",
    "#### 6. Confidence interval: [175.2 - 1.67, 175.2 + 1.67] = [173.53, 176.87]\n"
   ]
  },
  {
   "cell_type": "markdown",
   "id": "fcc097e7-2c72-45b4-996f-7817aa96200c",
   "metadata": {},
   "source": [
    "### QUESTION 6:"
   ]
  },
  {
   "cell_type": "markdown",
   "id": "58a25606-070e-4db1-85b8-6c8f7398b02f",
   "metadata": {},
   "source": [
    "#### Use Bayes' Theorem to calculate the probability of an event occurring given prior knowledge of the \n",
    "#### event's probability and new evidence. Provide a sample problem and solution"
   ]
  },
  {
   "cell_type": "markdown",
   "id": "aaf61637-904f-4ac3-bc82-f1e3f18b3611",
   "metadata": {},
   "source": [
    "#### Sample Problem:\n",
    "\n",
    "#### A doctor wants to determine the probability that a patient has a rare disease (D) given that they test positive (T) for it. Prior knowledge indicates that:\n",
    "\n",
    "#### - P(D) = 0.01 (1% of the population has the disease)\n",
    "#### - P(T|D) = 0.9 (90% of people with the disease test positive)\n",
    "#### - P(T|¬D) = 0.05 (5% of people without the disease test positive)\n",
    "\n",
    "#### New evidence: The patient tests positive (T). Update the probability of the patient having the disease (D).\n",
    "\n",
    "#### Solution:\n",
    "\n",
    "#### Using Bayes' Theorem:\n",
    "\n",
    "#### P(D|T) = P(T|D) × P(D) / P(T)\n",
    "\n",
    "#### First, calculate P(T):\n",
    "\n",
    "#### P(T) = P(T|D) × P(D) + P(T|¬D) × P(¬D)\n",
    "#### = 0.9 × 0.01 + 0.05 × 0.99\n",
    "#### = 0.009 + 0.0495\n",
    "#### = 0.0585\n",
    "\n",
    "#### Now, apply Bayes' Theorem:\n",
    "\n",
    "#### P(D|T) = P(T|D) × P(D) / P(T)\n",
    "#### = 0.9 × 0.01 / 0.0585\n",
    "#### = 0.1538\n",
    "\n"
   ]
  },
  {
   "cell_type": "markdown",
   "id": "e9c41678-13d2-46e9-bb93-ca9af95aa234",
   "metadata": {},
   "source": [
    "### QUESTION 7:"
   ]
  },
  {
   "cell_type": "markdown",
   "id": "2b332335-8ab9-41c1-a60d-f45dae27315a",
   "metadata": {},
   "source": [
    "#### Calculate the 95% confidence interval for a sample of data with a mean of 50 and a standard deviation \n",
    "#### of 5. Interpret the results"
   ]
  },
  {
   "cell_type": "markdown",
   "id": "f67900e3-1b04-4601-b226-a71d8985aa9f",
   "metadata": {},
   "source": [
    "#### Calculate the standard error (SE):\n",
    "#### SE = s / √n = 5 / √36 ≈ 0.83\n",
    "\n",
    "#### 2. Determine the critical value (z-score) for 95% confidence:\n",
    "#### z = 1.96 (from standard normal distribution table)\n",
    "\n",
    "#### 3. Calculate the margin of error (ME):\n",
    "#### ME = z × SE = 1.96 × 0.83 ≈ 1.63\n",
    "\n",
    "#### 4. Construct the 95% confidence interval:\n",
    "#### CI = [x̄ - ME, x̄ + ME] = [50 - 1.63, 50 + 1.63] = [48.37, 51.63]\n",
    "\n",
    "#### Interpretation:\n",
    "\n",
    "#### We are 95% confident that the true population mean lies between 48.37 and 51.63. This interval provides a range of values within which the true mean is likely to fall"
   ]
  },
  {
   "cell_type": "markdown",
   "id": "bbc3f38d-198a-47a4-b646-86d88b270a63",
   "metadata": {},
   "source": [
    "### QUESTION 8:"
   ]
  },
  {
   "cell_type": "markdown",
   "id": "c85c4c8f-a1db-4571-961f-a84bd9354fdb",
   "metadata": {},
   "source": [
    "#### What is the margin of error in a confidence interval? How does sample size affect the margin of error? \n",
    "#### Provide an example of a scenario where a larger sample size would result in a smaller margin of error"
   ]
  },
  {
   "cell_type": "markdown",
   "id": "19b3dcaa-51f2-40f0-a1c9-cd5079416333",
   "metadata": {},
   "source": [
    "#### The margin of error (ME) in a confidence interval is the maximum amount by which the sample statistic may differ from the true population parameter. It's half the width of the confidence interval.\n",
    "\n",
    "#### ME = z × (σ / √n)\n",
    "\n",
    "#### where:\n",
    "#### - z = critical value (z-score)\n",
    "#### - σ = population standard deviation\n",
    "#### - n = sample size\n",
    "\n",
    "#### Sample size (n) affects the margin of error:\n",
    "\n",
    "#### - As n increases, ME decreases\n",
    "#### - As n decreases, ME increases\n",
    "\n",
    "#### Example:\n",
    "\n",
    "#### Suppose we want to estimate the average height of adults with 95% confidence. We take two samples:\n",
    "\n",
    "#### Sample 1: n = 36, x̄ = 175.2 cm, s = 5.1 cm\n",
    "#### Sample 2: n = 100, x̄ = 175.5 cm, s = 5.1 cm\n",
    "\n",
    "#### Assuming σ = 5.1 cm and z = 1.96 (for 95% confidence):\n",
    "\n",
    "#### Sample 1: ME = 1.96 × (5.1 / √36) ≈ 1.67 cm\n",
    "#### Sample 2: ME = 1.96 × (5.1 / √100) ≈ 0.99 cm\n",
    "\n",
    "#### With a larger sample size (n = 100), the margin of error decreases from 1.67 cm to 0.99 cm, providing a more precise estimate of the population mean.\n"
   ]
  },
  {
   "cell_type": "markdown",
   "id": "603b8c37-886b-4dd6-a13e-fe40465034e2",
   "metadata": {},
   "source": [
    "### QUESTION 9:"
   ]
  },
  {
   "cell_type": "markdown",
   "id": "b32d2f0c-41fb-410b-9d41-1b2e6bb613dd",
   "metadata": {},
   "source": [
    "#### Calculate the z-score for a data point with a value of 75, a population mean of 70, and a population \n",
    "#### standard deviation of 5. Interpret the results"
   ]
  },
  {
   "cell_type": "markdown",
   "id": "a8abc596-43af-4bee-9daa-12fa6e29a5c6",
   "metadata": {},
   "source": [
    "#### z = (X - μ) / σ\n",
    "\n",
    "#### where:\n",
    "#### - X = data point value = 75\n",
    "#### - μ = population mean = 70\n",
    "#### - σ = population standard deviation = 5\n",
    "\n",
    "#### z = (75 - 70) / 5\n",
    "#### = 5 / 5\n",
    "#### = 1\n",
    "\n",
    "#### Interpretation:\n",
    "\n",
    "#### The z-score of 1 indicates that the data point (75) is:\n",
    "\n",
    "#### - 1 standard deviation above the population mean (70)\n",
    "#### - Above the population mean (since z is positive)\n",
    "#### - At the 84th percentile of the population (since z = 1 corresponds to an area of approximately 0.8413 under the standard normal curve)\n",
    "\n"
   ]
  },
  {
   "cell_type": "markdown",
   "id": "71002076-b783-44bc-a12a-1cc031bf8a5a",
   "metadata": {},
   "source": [
    "### QUESTION 10:"
   ]
  },
  {
   "cell_type": "markdown",
   "id": "ce963931-aeeb-4fd8-a06c-51e91a219875",
   "metadata": {},
   "source": [
    "#### In a study of the effectiveness of a new weight loss drug, a sample of 50 participants lost an average \n",
    "#### of 6 pounds with a standard deviation of 2.5 pounds. Conduct a hypothesis test to determine if the drug is \n",
    "#### significantly effective at a 95% confidence level using a t-test"
   ]
  },
  {
   "cell_type": "markdown",
   "id": "cdc4d895-5c51-4412-aff6-030f0716b09b",
   "metadata": {},
   "source": [
    "#### STEP1:\n",
    "#### Null Hypothesis (H0): μ = 0 (the drug has no effect)\n",
    "#### Alternative Hypothesis (H1): μ > 0 (the drug is effective)\n",
    "\n",
    "#### Given:\n",
    "#### - Sample size (n) = 50\n",
    "#### - Sample mean (x̄) = 6 pounds\n",
    "#### - Sample standard deviation (s) = 2.5 pounds\n",
    "#### - Confidence level = 95%\n",
    "#### - Degrees of freedom (df) = n - 1 = 49\n",
    "\n",
    "#### Step 2: Determine the critical t-value for df = 49 and 95% confidence\n",
    "\n",
    "#### Using a t-distribution table or calculator, we find:\n",
    "#### t critical = 1.677\n",
    "\n",
    "#### Step 3: Compare the calculated t-statistic to the critical t-value\n",
    "\n",
    "#### Since |t| = 17.00 > 1.677, we reject the null hypothesis (H0).\n",
    "\n",
    "#### Conclusion:\n",
    "#### At a 95% confidence level, the weight loss drug is significantly effective (p < 0.05).\n"
   ]
  },
  {
   "cell_type": "markdown",
   "id": "12f36997-e29d-4b8d-ab61-4f8820a0ffcf",
   "metadata": {},
   "source": [
    "### QUESTION 11:"
   ]
  },
  {
   "cell_type": "markdown",
   "id": "8c20ec7f-2150-4011-b836-80aaad7c73e1",
   "metadata": {},
   "source": [
    "####  In a survey of 500 people, 65% reported being satisfied with their current job. Calculate the 95% .confidence interval for the true proportion of people who are satisfied with their job."
   ]
  },
  {
   "cell_type": "markdown",
   "id": "2fbe600b-9fc4-4b4e-b678-484c1d06c977",
   "metadata": {},
   "source": [
    "#### To calculate the 95% confidence interval for the true proportion (p) of people satisfied with their job, we can use the following formula:\n",
    "\n",
    "#### p̂ ± z × √(p̂(1-p̂)/n)\n",
    "\n",
    "#### where:\n",
    "#### - p̂ = sample proportion = 0.65\n",
    "#### - z = critical value for 95% confidence = 1.96\n",
    "#### - n = sample size = 500\n",
    "\n",
    "#### First, calculate the standard error (SE):\n",
    "\n",
    "#### SE = √(p̂(1-p̂)/n) = √(0.65(1-0.65)/500) ≈ 0.021\n",
    "\n",
    "#### Now, calculate the margin of error (ME):\n",
    "\n",
    "#### ME = z × SE = 1.96 × 0.021 ≈ 0.041\n",
    "\n",
    "#### Finally, construct the 95% confidence interval:\n",
    "\n",
    "#### p̂ - ME ≤ p ≤ p̂ + ME\n",
    "#### 0.65 - 0.041 ≤ p ≤ 0.65 + 0.041\n",
    "#### 0.609 ≤ p ≤ 0.691\n",
    "\n",
    "#### Therefore, we are 95% confident that the true proportion of people satisfied with their job lies between 60.9% and 69.1%.\n"
   ]
  },
  {
   "cell_type": "markdown",
   "id": "11db4d0d-bf24-4f30-8276-1b0024f6cecd",
   "metadata": {},
   "source": [
    "### QUESTION 12:"
   ]
  },
  {
   "cell_type": "markdown",
   "id": "b4fb9b03-6ee3-43de-9514-758ab7bead1d",
   "metadata": {},
   "source": [
    "#### A researcher is testing the effectiveness of two different teaching methods on student performance. \n",
    "#### Sample A has a mean score of 85 with a standard deviation of 6, while sample B has a mean score of 82 \n",
    "#### with a standard deviation of 5. Conduct a hypothesis test to determine if the two teaching methods have a \n",
    "#### significant difference in student performance using a t-test with a significance level of 0.01."
   ]
  },
  {
   "cell_type": "markdown",
   "id": "c5c51a3f-d433-4414-b427-2eb0ca369afe",
   "metadata": {},
   "source": [
    "#### Null Hypothesis (H0): μ1 = μ2 (no significant difference between teaching methods)\n",
    "#### Alternative Hypothesis (H1): μ1 ≠ μ2 (significant difference between teaching methods)\n",
    "\n",
    "#### Given:\n",
    "#### - Sample A: x̄1 = 85, s1 = 6, n1 = ?\n",
    "#### - Sample B: x̄2 = 82, s2 = 5, n2 = ?\n",
    "#### - Significance level (α) = 0.01\n",
    "#### - Degrees of freedom (df) = n1 + n2 - 2 (assuming equal sample sizes)\n",
    "\n",
    "#### Assuming equal sample sizes (n1 = n2), let's use a conservative estimate of df = 100.\n",
    "\n",
    "#### Step 1: Calculate the t-statistic\n",
    "\n",
    "#### t = (x̄1 - x̄2) / √((s1^2/n1) + (s2^2/n2))\n",
    "#### = (85 - 82) / √((6^2/50) + (5^2/50))\n",
    "#### = 3 / √(0.72 + 0.5)\n",
    "#### = 3 / √1.22\n",
    "#### = 2.68\n",
    "\n",
    "#### Step 2: Determine the critical t-value for df = 100 and α = 0.01\n",
    "\n",
    "#### Using a t-distribution table or calculator, we find:\n",
    "#### t critical = 2.626\n",
    "\n",
    "#### Step 3: Compare the calculated t-statistic to the critical t-value\n",
    "\n",
    "#### Since |t| = 2.68 > 2.626, we reject the null hypothesis (H0).\n",
    "\n",
    "#### Conclusion:\n",
    "#### At a significance level of 0.01, there is a statistically significant difference in student performance between the two teaching methods (p < 0.01).\n"
   ]
  },
  {
   "cell_type": "markdown",
   "id": "18028bcc-fb69-4c7e-a261-e721d45e151b",
   "metadata": {},
   "source": [
    "### QUESTION 13:"
   ]
  },
  {
   "cell_type": "markdown",
   "id": "e9dbc2cb-c1da-4570-809d-230c60d91c88",
   "metadata": {},
   "source": [
    "#### A population has a mean of 60 and a standard deviation of 8. A sample of 50 observations has a mean of 65. Calculate the 90% confidence interval for the true population mean."
   ]
  },
  {
   "cell_type": "markdown",
   "id": "f0d43b94-4083-4452-ba3b-53649e6c577c",
   "metadata": {},
   "source": [
    "#### x̄ ± z × (σ / √n)\n",
    "\n",
    "#### where:\n",
    "#### - x̄ = sample mean = 65\n",
    "#### - z = critical value for 90% confidence = 1.645\n",
    "#### - σ = population standard deviation = 8\n",
    "#### - n = sample size = 50\n",
    "\n",
    "#### SE = σ / √n = 8 / √50 ≈ 1.13\n",
    "\n",
    "#### ME = z × SE = 1.645 × 1.13 ≈ 1.86\n",
    "\n",
    "#### x̄ - ME ≤ μ ≤ x̄ + ME\n",
    "#### 65 - 1.86 ≤ μ ≤ 65 + 1.86\n",
    "#### 63.14 ≤ μ ≤ 66.86\n",
    "\n",
    "#### Therefore, we are 90% confident that the true population mean lies between 63.14 and 66.86.\n"
   ]
  },
  {
   "cell_type": "markdown",
   "id": "a4ceadd3-986a-4f7c-b60e-75ccdc1b5663",
   "metadata": {},
   "source": [
    "### QUESTION 14:"
   ]
  },
  {
   "cell_type": "markdown",
   "id": "485c2bd2-0a30-403c-840f-53955b2b2248",
   "metadata": {},
   "source": [
    "####  In a study of the effects of caffeine on reaction time, a sample of 30 participants had an average reaction time of 0.25 seconds with a standard deviation of 0.05 seconds. Conduct a hypothesis test to determine if the caffeine has a significant effect on reaction time at a 90% confidence level using a t-test."
   ]
  },
  {
   "cell_type": "markdown",
   "id": "e0077346-5bfc-4cdd-b4f7-3ecaa31feda8",
   "metadata": {},
   "source": [
    "#### Null Hypothesis (H0): μ = 0.25 (caffeine has no effect on reaction time)\n",
    "#### Alternative Hypothesis (H1): μ ≠ 0.25 (caffeine has an effect on reaction time)\n",
    "\n",
    "#### Given:\n",
    "#### - Sample size (n) = 30\n",
    "#### - Sample mean (x̄) = 0.25 seconds\n",
    "#### - Sample standard deviation (s) = 0.05 seconds\n",
    "#### - Confidence level = 90%\n",
    "#### - Degrees of freedom (df) = n - 1 = 29\n",
    "\n",
    "#### Step 1: Calculate the t-statistic\n",
    "\n",
    "\n",
    "#### t = (x̄ - μ0) / (s / √n)\n",
    "#### = (0.25 - 0.25) / (0.05 / √30)\n",
    "#### = 0 / 0.0091\n",
    "#### = 0\n",
    "\n",
    "#### Step 2: Determine the critical t-value for df = 29 and 90% confidence\n",
    "\n",
    "#### Using a t-distribution table or calculator, we find:\n",
    "#### t critical = 1.701\n",
    "\n",
    "#### Step 3: Compare the calculated t-statistic to the critical t-value\n",
    "\n",
    "#### Since |t| = 0 < 1.701, we fail to reject the null hypothesis (H0).\n",
    "\n",
    "#### Conclusion:\n",
    "#### At a 90% confidence level, there is no statistically significant effect of caffeine on reaction time (p > 0.10).\n"
   ]
  },
  {
   "cell_type": "code",
   "execution_count": null,
   "id": "5ad37de1-0b6e-4421-a4ec-6c54559fb421",
   "metadata": {},
   "outputs": [],
   "source": []
  }
 ],
 "metadata": {
  "kernelspec": {
   "display_name": "Python 3 (ipykernel)",
   "language": "python",
   "name": "python3"
  },
  "language_info": {
   "codemirror_mode": {
    "name": "ipython",
    "version": 3
   },
   "file_extension": ".py",
   "mimetype": "text/x-python",
   "name": "python",
   "nbconvert_exporter": "python",
   "pygments_lexer": "ipython3",
   "version": "3.11.7"
  }
 },
 "nbformat": 4,
 "nbformat_minor": 5
}

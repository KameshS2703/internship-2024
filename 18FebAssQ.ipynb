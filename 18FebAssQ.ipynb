{
 "cells": [
  {
   "cell_type": "markdown",
   "id": "e2428567-eedc-4aa0-9fa8-f678194e8f3b",
   "metadata": {},
   "source": [
    "### ANSWER TO QUESTION 1:"
   ]
  },
  {
   "cell_type": "markdown",
   "id": "874b2636-4e8a-4474-9307-01105b3d5c90",
   "metadata": {},
   "source": [
    "#### What is an API? Give an example, where an API is used in real life"
   ]
  },
  {
   "cell_type": "markdown",
   "id": "1aa51232-712d-457d-8ff1-1209bd69ad52",
   "metadata": {},
   "source": [
    "##### API is expanded as Application Program Interface. when a client need to fetch data from server the client can't directly communicate the server as that might lead to security issues or other sort of issues. so these apis are used to facilitate communication between client and server. \n",
    "##### Simply these api are neutral ground where java code can be executed n python, or vice-versa\n",
    "##### Example of API is Google search engine."
   ]
  },
  {
   "cell_type": "markdown",
   "id": "d63f8e75-3b2d-4c18-a154-ca3c470e2473",
   "metadata": {},
   "source": [
    "### ANSWER TO QUESTION 2:"
   ]
  },
  {
   "cell_type": "markdown",
   "id": "1f36baaa-0caf-4a67-9856-3e2b67a18950",
   "metadata": {},
   "source": [
    "#### . Give advantages and disadvantages of using API. "
   ]
  },
  {
   "cell_type": "markdown",
   "id": "657f3bdc-40ae-4e28-949e-be78c037b211",
   "metadata": {},
   "source": [
    "##### Advantages:\n",
    "\n",
    "##### 1. Connects different systems together\n",
    "##### 2. Saves development time\n",
    "##### 3. Reuses code\n",
    "##### 4. Scalable\n",
    "##### 5. Improves user experience\n",
    "\n",
    "##### Disadvantages:\n",
    "\n",
    "##### 1. Security risks\n",
    "##### 2. Depends on external services\n",
    "##### 3. Steep learning curve\n",
    "##### 4. Versioning issues\n",
    "##### 5. Usage limits"
   ]
  },
  {
   "cell_type": "markdown",
   "id": "6d0ca251-4176-4d99-adb8-f05ac415d66a",
   "metadata": {},
   "source": [
    "### ANSWER TO QUESTION 3:"
   ]
  },
  {
   "cell_type": "markdown",
   "id": "2603d815-dc55-436f-b80d-eb7451f386d8",
   "metadata": {},
   "source": [
    "#### What is a Web API? Differentiate between API and Web API."
   ]
  },
  {
   "cell_type": "markdown",
   "id": "503b2622-5b76-4a73-b70e-8059c216c321",
   "metadata": {},
   "source": [
    "##### An API (Application Programming Interface) is a set of rules that allows different applications or systems to communicate with each other.\n",
    "\n",
    "##### A Web API, on the other hand, is a specific type of API that is accessed via the web and uses protocols such as HTTP (Hypertext Transfer Protocol) to send and receive data.\n",
    "\n",
    "##### The main difference between API and Web API is:\n",
    "\n",
    "##### API:\n",
    "\n",
    "##### - Can be used for both local and remote interactions\n",
    "##### - Can use various protocols (e.g., TCP, UDP, HTTP)\n",
    "##### - Can be used for desktop, mobile, or web applications\n",
    "\n",
    "##### Web API:\n",
    "\n",
    "##### - Specifically designed for web interactions\n",
    "##### - Uses HTTP protocol\n",
    "##### - Typically used for web applications and web services\n"
   ]
  },
  {
   "cell_type": "markdown",
   "id": "fc26e737-8057-433f-88b7-3ef28bfc8400",
   "metadata": {},
   "source": [
    "### ANSWER TO QUESTION 4:"
   ]
  },
  {
   "cell_type": "markdown",
   "id": "b9e64273-0ff9-447d-87cb-2076387c3c0e",
   "metadata": {},
   "source": [
    "#### Explain REST and SOAP Architecture. Mention shortcomings of SOAP."
   ]
  },
  {
   "cell_type": "markdown",
   "id": "d30ed760-3fdc-4514-bfdd-998f2a351f50",
   "metadata": {},
   "source": [
    "##### REST (Representational State of Resource) Architecture:\n",
    "\n",
    "##### REST is an architectural style for designing networked applications. It's based on the following principles:\n",
    "\n",
    "##### 1. Resource-based: Everything is a resource (e.g., users, products, orders).\n",
    "##### 2. Client-server: Separation of concerns between client and server.\n",
    "##### 3. Stateless: Each request contains all the information needed to complete the request.\n",
    "##### 4. Cacheable: Responses can be cached to reduce latency.\n",
    "##### 5. Uniform interface: Uses HTTP methods (GET, POST, PUT, DELETE) to interact with resources.\n",
    "##### 6. Layered system: Can be composed of multiple layers (e.g., load balancers, proxies).\n",
    "\n",
    "##### SOAP (Simple Object Access Protocol) Architecture:\n",
    "\n",
    "##### SOAP is a protocol for exchanging structured information in the implementation of web services. It uses XML (Extensible Markup Language) to define the format of the data and relies on other protocols (such as HTTP or SMTP) for message negotiation and transmission.\n",
    "\n",
    "##### Shortcomings of SOAP:\n",
    "\n",
    "##### 1. Complexity: SOAP has a steep learning curve due to its complex syntax and rigid structure.\n",
    "##### 2. Verbose: SOAP messages are often large and verbose, leading to increased bandwidth usage.\n",
    "##### 3. Slow: SOAP's overhead and processing requirements can result in slower performance.\n",
    "##### 4. Limited scalability: SOAP can become cumbersome as the number of services and requests increases.\n",
    "##### 5. Tight coupling: SOAP services are tightly coupled, making it difficult to evolve or change services independently.\n",
    "##### 6. Not suitable for mobile devices: SOAP's overhead and complexity make it less suitable for mobile devices with limited resources.\n"
   ]
  },
  {
   "cell_type": "markdown",
   "id": "fc5c3066-e670-45c0-87ca-67104573fdae",
   "metadata": {},
   "source": [
    "### ANSWER TO QUESTION 5:"
   ]
  },
  {
   "cell_type": "markdown",
   "id": "472a15f9-eb45-4458-873f-be59489bf736",
   "metadata": {},
   "source": [
    "#### Differentiate between REST and SOAP"
   ]
  },
  {
   "cell_type": "markdown",
   "id": "2fc6f674-2ebe-4e7d-9c74-496015307838",
   "metadata": {},
   "source": [
    "##### REST is an architecture style, while SOAP is a protocol.\n",
    "##### REST uses HTTP methods, while SOAP uses XML and relies on other protocols.\n",
    "##### REST is stateless, while SOAP is stateful.\n",
    "##### REST is more flexible and widely used, while SOAP is more rigid and typically used in enterprise environments.\n"
   ]
  },
  {
   "cell_type": "code",
   "execution_count": null,
   "id": "b5e8a503-8298-43bc-8d96-c4d76302adf6",
   "metadata": {},
   "outputs": [],
   "source": []
  }
 ],
 "metadata": {
  "kernelspec": {
   "display_name": "Python 3 (ipykernel)",
   "language": "python",
   "name": "python3"
  },
  "language_info": {
   "codemirror_mode": {
    "name": "ipython",
    "version": 3
   },
   "file_extension": ".py",
   "mimetype": "text/x-python",
   "name": "python",
   "nbconvert_exporter": "python",
   "pygments_lexer": "ipython3",
   "version": "3.11.7"
  }
 },
 "nbformat": 4,
 "nbformat_minor": 5
}
